{
 "cells": [
  {
   "cell_type": "code",
   "execution_count": 16,
   "outputs": [],
   "source": [
    "import pandas as pd\n",
    "from IPython.core.display_functions import display\n",
    "import numpy as np\n",
    "import random\n",
    "import pandas as pd\n",
    "from sklearn.preprocessing import OneHotEncoder\n",
    "from collections import Counter\n",
    "from scipy import stats\n",
    "from scipy.stats import boxcox, yeojohnson\n",
    "from sklearn.preprocessing import LabelEncoder\n",
    "from sklearn.preprocessing import RobustScaler\n",
    "from sklearn.preprocessing import StandardScaler\n",
    "from sklearn.feature_selection import SelectKBest,f_classif\n",
    "from sklearn.tree import DecisionTreeClassifier\n",
    "from sklearn.linear_model import LogisticRegression\n",
    "from sklearn.model_selection import cross_val_score\n",
    "from sklearn.model_selection import train_test_split\n",
    "from sklearn.model_selection import StratifiedKFold\n",
    "from sklearn.metrics import accuracy_score\n",
    "import optuna\n",
    "from optuna.samplers import CmaEsSampler\n",
    "from optuna.samplers import RandomSampler\n",
    "from sklearn.ensemble import RandomForestClassifier\n",
    "from sklearn.metrics import classification_report\n",
    "from sklearn.feature_selection import SelectFromModel\n",
    "from optuna.samplers import TPESampler\n",
    "from sklearn.metrics import f1_score, roc_auc_score\n",
    "import pandas as pd\n",
    "from imblearn.over_sampling import RandomOverSampler\n",
    "from sklearn.ensemble import AdaBoostClassifier\n",
    "from sklearn.utils import resample\n",
    "from sklearn.decomposition import PCA\n",
    "from sklearn.metrics import roc_auc_score\n",
    "from sklearn.metrics import roc_curve\n",
    "from joblib import Parallel, delayed\n",
    "from sklearn.metrics import roc_curve\n",
    "import optuna\n",
    "import time\n"
   ],
   "metadata": {
    "collapsed": false,
    "pycharm": {
     "name": "#%%\n"
    }
   }
  },
  {
   "cell_type": "code",
   "execution_count": 2,
   "outputs": [],
   "source": [
    "from main import read_xlsb\n",
    "\n",
    "# download data\n",
    "train_data_path = \"./data/Training.xlsb\"\n",
    "train_sheet_name = 'Training'  # Укажите имя листа, который хотите прочитать\n",
    "train_data = read_xlsb(train_data_path, train_sheet_name)\n",
    "\n",
    "test_data_path = \"./data/Test.xlsb\"\n",
    "test_sheet_name = 'Test'  # Укажите имя листа, который хотите прочитать\n",
    "test_data = read_xlsb(test_data_path, test_sheet_name)\n",
    "\n",
    "# создание train test dataframe\n",
    "train_data_copy = train_data.copy()\n",
    "test_data_copy = test_data.copy()\n",
    "X = train_data_copy.drop([\"MARKER\",\"ID\"],axis = 1)\n",
    "X_test = test_data_copy.drop([\"MARKER\",\"ID\"],axis = 1)\n",
    "y = train_data_copy['MARKER']\n",
    "y_test = test_data_copy['MARKER']\n",
    "\n",
    "#создание копий\n",
    "X_copy = X.copy()\n",
    "y_copy= y.copy()"
   ],
   "metadata": {
    "collapsed": false,
    "pycharm": {
     "name": "#%%\n"
    }
   }
  },
  {
   "cell_type": "code",
   "execution_count": 3,
   "outputs": [
    {
     "name": "stdout",
     "output_type": "stream",
     "text": [
      "            ID         A         B       C       D         E         F     G  \\\n",
      "0          1.0  0.198778  0.099389    0.00  799.90  1.777556  0.888778  13.0   \n",
      "1          2.0  0.043000  0.021264   49.97  173.03  0.384511  0.190143  13.0   \n",
      "2          3.0  0.067073  0.067073    0.00  329.90  0.599818  0.599818  13.0   \n",
      "3          4.0  0.052700  0.052700    0.00  235.65  0.471300  0.471300  13.0   \n",
      "4          5.0  0.141880  0.141880    0.00  634.45  1.268900  1.268900  13.0   \n",
      "...        ...       ...       ...     ...     ...       ...       ...   ...   \n",
      "89729  89730.0  0.027941  0.014844   25.00  474.00  0.557647  0.296250  20.0   \n",
      "89730  89731.0  0.120017  0.068581  179.96  720.03  1.200050  0.685743  10.0   \n",
      "89731  89732.0  0.153033  0.122427   29.01  550.99  0.459158  0.367327   3.0   \n",
      "89732  89733.0  0.107575  0.043030   53.82  215.18  0.537950  0.215180   5.0   \n",
      "89733  89734.0  0.095750  0.095750   57.48  172.42  0.287367  0.287367   3.0   \n",
      "\n",
      "          H      I  ...       P          Q    R          S    T    U    V  \\\n",
      "0      3.49  Woman  ...   2 Two   property   No      Works  Yes  Yes   No   \n",
      "1      3.49  Woman  ...   2 Two  otherwise   No      Works  Yes  Yes  Yes   \n",
      "2      3.49  Woman  ...   1 One   property   No  No couple   No  Yes   No   \n",
      "3      3.49  Woman  ...  0 Zero   property   No  No couple  Yes  Yes  Few   \n",
      "4      3.49  Woman  ...  0 Zero   property   No  No couple  Yes   No   No   \n",
      "...     ...    ...  ...     ...        ...  ...        ...  ...  ...  ...   \n",
      "89729  0.01    Man  ...  0 Zero   property   No      Works  Yes  Yes   No   \n",
      "89730  0.00  Woman  ...   2 Two   property   No      Works  Yes  Yes   No   \n",
      "89731  0.00    Man  ...  0 Zero  otherwise   No      Works  Yes  Yes   No   \n",
      "89732  0.00  Woman  ...   1 One   property  Yes      Works   No  Yes   No   \n",
      "89733  0.00    Man  ...  0 Zero  otherwise   No  No couple   No  Yes   No   \n",
      "\n",
      "         W    X MARKER  \n",
      "0      Yes   No    0.0  \n",
      "1      Yes   No    0.0  \n",
      "2      Yes   No    0.0  \n",
      "3      Yes   No    0.0  \n",
      "4       No   No    0.0  \n",
      "...    ...  ...    ...  \n",
      "89729   No  Yes    0.0  \n",
      "89730   No  Yes    0.0  \n",
      "89731  Yes  Yes    0.0  \n",
      "89732   No  Yes    0.0  \n",
      "89733   No  Yes    0.0  \n",
      "\n",
      "[89734 rows x 26 columns]\n"
     ]
    }
   ],
   "source": [
    "# удаление дублирующих строк\n",
    "train_data_copy = train_data_copy.drop_duplicates()\n",
    "print(train_data_copy)\n"
   ],
   "metadata": {
    "collapsed": false,
    "pycharm": {
     "name": "#%%\n"
    }
   }
  },
  {
   "cell_type": "code",
   "execution_count": 4,
   "outputs": [
    {
     "name": "stdout",
     "output_type": "stream",
     "text": [
      "            ID         A         B       C       D         E         F     G  \\\n",
      "0          1.0  0.198778  0.099389    0.00  799.90  1.777556  0.888778  13.0   \n",
      "1          2.0  0.043000  0.021264   49.97  173.03  0.384511  0.190143  13.0   \n",
      "2          3.0  0.067073  0.067073    0.00  329.90  0.599818  0.599818  13.0   \n",
      "3          4.0  0.052700  0.052700    0.00  235.65  0.471300  0.471300  13.0   \n",
      "4          5.0  0.141880  0.141880    0.00  634.45  1.268900  1.268900  13.0   \n",
      "...        ...       ...       ...     ...     ...       ...       ...   ...   \n",
      "89729  89730.0  0.027941  0.014844   25.00  474.00  0.557647  0.296250  20.0   \n",
      "89730  89731.0  0.120017  0.068581  179.96  720.03  1.200050  0.685743  10.0   \n",
      "89731  89732.0  0.153033  0.122427   29.01  550.99  0.459158  0.367327   3.0   \n",
      "89732  89733.0  0.107575  0.043030   53.82  215.18  0.537950  0.215180   5.0   \n",
      "89733  89734.0  0.095750  0.095750   57.48  172.42  0.287367  0.287367   3.0   \n",
      "\n",
      "          H  I  ...  P      Q  R      S  T  U      V  W  X  MARKER  \n",
      "0      3.49  1  ...  2  81457  0  47413  1  1  78462  1  0     0.0  \n",
      "1      3.49  1  ...  2   6679  0  47413  1  1  10561  1  0     0.0  \n",
      "2      3.49  1  ...  1  81457  0  26457  0  1  78462  1  0     0.0  \n",
      "3      3.49  1  ...  0  81457  0  26457  1  1    711  1  0     0.0  \n",
      "4      3.49  1  ...  0  81457  0  26457  1  0  78462  0  0     0.0  \n",
      "...     ... ..  ... ..    ... ..    ... .. ..    ... .. ..     ...  \n",
      "89729  0.01  0  ...  0  81457  0  47413  1  1  78462  0  1     0.0  \n",
      "89730  0.00  1  ...  2  81457  0  47413  1  1  78462  0  1     0.0  \n",
      "89731  0.00  0  ...  0   6679  0  47413  1  1  78462  1  1     0.0  \n",
      "89732  0.00  1  ...  1  81457  1  47413  0  1  78462  0  1     0.0  \n",
      "89733  0.00  0  ...  0   6679  0  26457  0  1  78462  0  1     0.0  \n",
      "\n",
      "[89734 rows x 26 columns]\n",
      "            ID         A         B       C        D         E         F     G  \\\n",
      "0          1.0  0.085400  0.085400   29.72   267.28  0.763657  0.763657  13.0   \n",
      "1          2.0  0.223218  0.111609    0.00  1097.90  1.996182  0.998091  13.0   \n",
      "2          3.0  0.048400  0.048400    0.00   399.90  0.499875  0.499875  13.0   \n",
      "3          4.0  0.039560  0.039560   19.59   176.93  0.353860  0.353860  13.0   \n",
      "4          5.0  0.231017  0.173263    0.00  1239.56  2.065933  1.549450  13.0   \n",
      "...        ...       ...       ...     ...      ...       ...       ...   ...   \n",
      "38400  38401.0  0.569320  0.237217   44.95   854.05  1.708100  0.711708   3.0   \n",
      "38401  38402.0  0.072727  0.072727   45.86   413.14  0.751164  0.751164  13.0   \n",
      "38402  38403.0  0.095750  0.095750   57.48   172.42  0.287367  0.287367   3.0   \n",
      "38403  38404.0  0.042287  0.042287  422.00  1266.00  0.844000  0.844000  20.0   \n",
      "38404  38405.0  0.169175  0.169175   17.82   338.38  0.845950  0.845950   5.0   \n",
      "\n",
      "          H  I  ...  P      Q  R      S  T  U      V  W  X  MARKER  \n",
      "0      3.49  1  ...  1  34820  0  11285  1  1  33661  0  0     0.0  \n",
      "1      3.49  1  ...  3  34820  0  20266  1  1  33661  0  0     1.0  \n",
      "2      1.99  0  ...  0  34820  0   4834  1  1  33661  0  0     0.0  \n",
      "3      3.49  0  ...  1  34820  0   4834  1  1   4446  1  0     0.0  \n",
      "4      3.49  1  ...  1  34820  0  20266  1  1  33661  0  0     0.0  \n",
      "...     ... ..  ... ..    ... ..    ... .. ..    ... .. ..     ...  \n",
      "38400  0.00  0  ...  0  34820  0  20266  1  0  33661  0  1     0.0  \n",
      "38401  1.99  1  ...  0  34820  0  11285  1  1  33661  0  1     0.0  \n",
      "38402  0.00  1  ...  0    745  1  11285  0  1  33661  1  1     0.0  \n",
      "38403  0.01  1  ...  1  34820  1  11285  1  1  33661  0  1     0.0  \n",
      "38404  0.00  0  ...  0  34820  0   4834  1  1  33661  0  1     0.0  \n",
      "\n",
      "[38405 rows x 26 columns]\n"
     ]
    }
   ],
   "source": [
    "# кодирование категориальных признаков\n",
    "def encode_categorical_features(df):\n",
    "    encoded_df = df.copy()\n",
    "\n",
    "    # Шаг 1: Выбор категориальных признаков\n",
    "    categorical_columns = df.select_dtypes(include=['object']).columns\n",
    "\n",
    "    # Шаг 2: Закодировать категориальные признаки\n",
    "    for column in categorical_columns:\n",
    "        unique_values = df[column].nunique()\n",
    "        if column == 'P':\n",
    "            # Отдельный метод для столбца 'P'\n",
    "            encoded_values = {\n",
    "                '0 Zero': 0,\n",
    "                '1 One': 1,\n",
    "                '2 Two': 2,\n",
    "                '3 Three': 3,\n",
    "                'More than 3': 4\n",
    "            }\n",
    "            encoded_df[column] = df[column].map(encoded_values)\n",
    "        elif unique_values <= 2:\n",
    "            # One-hot encoding для признаков с <= 2 уникальными значениями\n",
    "            encoder = LabelEncoder()\n",
    "            encoded_df[column] = encoder.fit_transform(df[column])\n",
    "        else:\n",
    "            # Count encoding для признаков с > 2 уникальными значениями\n",
    "            counter = df[column].value_counts().to_dict()\n",
    "            encoded_df[column] = df[column].map(counter)\n",
    "\n",
    "    return encoded_df\n",
    "\n",
    "\n",
    "train_data_copy[X.columns] = encode_categorical_features(train_data_copy[X.columns])\n",
    "print(train_data_copy)\n",
    "train_data_copy.to_csv('./data_proc/encoded_train_data.csv')\n",
    "\n",
    "test_data_copy[X_test.columns] = encode_categorical_features(test_data_copy[X_test.columns])\n",
    "print(test_data_copy)\n",
    "test_data_copy.to_csv('./data_proc/encoded_test_data.csv')"
   ],
   "metadata": {
    "collapsed": false,
    "pycharm": {
     "name": "#%%\n"
    }
   }
  },
  {
   "cell_type": "code",
   "execution_count": 5,
   "outputs": [
    {
     "name": "stdout",
     "output_type": "stream",
     "text": [
      "len train_data input 89734\n",
      "len train_data_cleaned 87350\n",
      "Deleted rows from class 0: 2366\n",
      "Deleted rows from class 1: 18\n",
      "            ID         A         B       C       D         E         F     G  \\\n",
      "0          1.0  0.198778  0.099389    0.00  799.90  1.777556  0.888778  13.0   \n",
      "1          2.0  0.043000  0.021264   49.97  173.03  0.384511  0.190143  13.0   \n",
      "2          3.0  0.067073  0.067073    0.00  329.90  0.599818  0.599818  13.0   \n",
      "3          4.0  0.052700  0.052700    0.00  235.65  0.471300  0.471300  13.0   \n",
      "4          5.0  0.141880  0.141880    0.00  634.45  1.268900  1.268900  13.0   \n",
      "...        ...       ...       ...     ...     ...       ...       ...   ...   \n",
      "89729  89730.0  0.027941  0.014844   25.00  474.00  0.557647  0.296250  20.0   \n",
      "89730  89731.0  0.120017  0.068581  179.96  720.03  1.200050  0.685743  10.0   \n",
      "89731  89732.0  0.153033  0.122427   29.01  550.99  0.459158  0.367327   3.0   \n",
      "89732  89733.0  0.107575  0.043030   53.82  215.18  0.537950  0.215180   5.0   \n",
      "89733  89734.0  0.095750  0.095750   57.48  172.42  0.287367  0.287367   3.0   \n",
      "\n",
      "          H  I  ...  P      Q  R      S  T  U      V  W  X  MARKER  \n",
      "0      3.49  1  ...  2  81457  0  47413  1  1  78462  1  0     0.0  \n",
      "1      3.49  1  ...  2   6679  0  47413  1  1  10561  1  0     0.0  \n",
      "2      3.49  1  ...  1  81457  0  26457  0  1  78462  1  0     0.0  \n",
      "3      3.49  1  ...  0  81457  0  26457  1  1    711  1  0     0.0  \n",
      "4      3.49  1  ...  0  81457  0  26457  1  0  78462  0  0     0.0  \n",
      "...     ... ..  ... ..    ... ..    ... .. ..    ... .. ..     ...  \n",
      "89729  0.01  0  ...  0  81457  0  47413  1  1  78462  0  1     0.0  \n",
      "89730  0.00  1  ...  2  81457  0  47413  1  1  78462  0  1     0.0  \n",
      "89731  0.00  0  ...  0   6679  0  47413  1  1  78462  1  1     0.0  \n",
      "89732  0.00  1  ...  1  81457  1  47413  0  1  78462  0  1     0.0  \n",
      "89733  0.00  0  ...  0   6679  0  26457  0  1  78462  0  1     0.0  \n",
      "\n",
      "[87350 rows x 26 columns]\n"
     ]
    }
   ],
   "source": [
    "def remove_outliers(train_data, num_columns_threshold=5, ignore_columns=[], remove_class_1_outliers=True):\n",
    "    print(\"len train_data input\", len(train_data))\n",
    "    # Выбираем только столбцы, которые не находятся в списке ignore_columns\n",
    "    columns_to_analyze = [col for col in train_data.columns if col not in ignore_columns]\n",
    "    df = train_data[columns_to_analyze]\n",
    "\n",
    "    # Подсчитываем Q1 и Q3 для каждого столбца\n",
    "    q1 = df.quantile(0.25)\n",
    "    q3 = df.quantile(0.75)\n",
    "\n",
    "    # Рассчитываем межквартильный размах (IQR)\n",
    "    iqr = q3 - q1\n",
    "\n",
    "    # Определяем границы интервала для удаления выбросов\n",
    "    lower_bound = q1 - 1.5 * iqr\n",
    "    upper_bound = q3 + 1.5 * iqr\n",
    "\n",
    "    # Создаем маску для определения строк с выбросами в каждом столбце\n",
    "    outliers_mask = ((df < lower_bound) | (df > upper_bound))\n",
    "\n",
    "    # Подсчитываем количество столбцов с выбросами в каждой строке\n",
    "    num_outliers = outliers_mask.sum(axis=1)\n",
    "\n",
    "    # Создаем маску для определения строк с выбросами в 5 и более столбцах\n",
    "    mask = (num_outliers >= num_columns_threshold)\n",
    "\n",
    "    # Удаляем строки с выбросами из train_data\n",
    "    if remove_class_1_outliers:\n",
    "        mask_to_remove = mask\n",
    "    else:\n",
    "        mask_to_remove = mask & (train_data['MARKER'] != 1)\n",
    "    train_data_cleaned = train_data[~mask_to_remove]\n",
    "\n",
    "    print(\"len train_data_cleaned\", len(train_data_cleaned))\n",
    "    # Подсчитываем количество удаленных строк для каждого класса\n",
    "    num_deleted_class_0 = len(train_data[train_data['MARKER'] == 0]) - len(train_data_cleaned[train_data_cleaned['MARKER'] == 0])\n",
    "    num_deleted_class_1 = len(train_data[train_data['MARKER'] == 1]) - len(train_data_cleaned[train_data_cleaned['MARKER'] == 1])\n",
    "    print(\"Deleted rows from class 0:\", num_deleted_class_0)\n",
    "    print(\"Deleted rows from class 1:\", num_deleted_class_1)\n",
    "\n",
    "    return train_data_cleaned\n",
    "\n",
    "# Пример использования функции с удалением строк из класса MARKER = 1\n",
    "train_data_copy = remove_outliers(train_data_copy, num_columns_threshold=5, ignore_columns=['ID', 'MARKER'], remove_class_1_outliers=True)\n",
    "print(train_data_copy)\n",
    "train_data_copy.to_csv('./data_proc/remove_outliers_train_data.csv')\n"
   ],
   "metadata": {
    "collapsed": false,
    "pycharm": {
     "name": "#%%\n"
    }
   }
  },
  {
   "cell_type": "code",
   "execution_count": 6,
   "outputs": [
    {
     "name": "stdout",
     "output_type": "stream",
     "text": [
      "            ID         A         B         C         D         E         F  \\\n",
      "0          1.0  0.260126 -0.096338 -0.851553  0.650218  1.024437  0.448462   \n",
      "1          2.0 -0.829576 -0.893296 -0.330364 -0.843031 -0.719023 -0.837314   \n",
      "2          3.0 -0.661182 -0.425997 -0.851553 -0.469356 -0.449556 -0.083343   \n",
      "3          4.0 -0.761722 -0.572614 -0.851553 -0.693866 -0.610402 -0.319869   \n",
      "4          5.0 -0.137887  0.337116 -0.851553  0.256104  0.387831  1.148043   \n",
      "...        ...       ...       ...       ...       ...       ...       ...   \n",
      "89729  89730.0 -0.934916 -0.958787 -0.590802 -0.126099 -0.502335 -0.642033   \n",
      "89730  89731.0 -0.290827 -0.410611  1.025437  0.459962  0.301662  0.074794   \n",
      "89731  89732.0 -0.059867  0.138671 -0.548978  0.057296 -0.625598 -0.511223   \n",
      "89732  89733.0 -0.377859 -0.671258 -0.290208 -0.742627 -0.526987 -0.791235   \n",
      "89733  89734.0 -0.460577 -0.133459 -0.252035 -0.844484 -0.840603 -0.658382   \n",
      "\n",
      "              G         H         I  ...         P         Q         R  \\\n",
      "0      1.099090  3.209027  0.913155  ...  1.390837  0.311910 -0.447115   \n",
      "1      1.099090  3.209027  0.913155  ...  1.390837 -3.158734 -0.447115   \n",
      "2      1.099090  3.209027  0.913155  ...  0.262842  0.311910 -0.447115   \n",
      "3      1.099090  3.209027  0.913155  ... -0.865154  0.311910 -0.447115   \n",
      "4      1.099090  3.209027  0.913155  ... -0.865154  0.311910 -0.447115   \n",
      "...         ...       ...       ...  ...       ...       ...       ...   \n",
      "89729  2.579008 -0.539453 -1.095105  ... -0.865154  0.311910 -0.447115   \n",
      "89730  0.464839 -0.550224  0.913155  ...  1.390837  0.311910 -0.447115   \n",
      "89731 -1.015080 -0.550224 -1.095105  ... -0.865154 -3.158734 -0.447115   \n",
      "89732 -0.592246 -0.550224  0.913155  ...  0.262842  0.311910  2.236560   \n",
      "89733 -1.015080 -0.550224 -1.095105  ... -0.865154 -3.158734 -0.447115   \n",
      "\n",
      "              S         T         U         V         W         X  MARKER  \n",
      "0      0.862514  0.427892  0.407722  0.372731  1.161248 -0.790758     0.0  \n",
      "1      0.862514  0.427892  0.407722 -2.651729  1.161248 -0.790758     0.0  \n",
      "2     -0.546098 -2.337040  0.407722  0.372731  1.161248 -0.790758     0.0  \n",
      "3     -0.546098  0.427892  0.407722 -3.090469  1.161248 -0.790758     0.0  \n",
      "4     -0.546098  0.427892 -2.452652  0.372731 -0.861142 -0.790758     0.0  \n",
      "...         ...       ...       ...       ...       ...       ...     ...  \n",
      "89729  0.862514  0.427892  0.407722  0.372731 -0.861142  1.264610     0.0  \n",
      "89730  0.862514  0.427892  0.407722  0.372731 -0.861142  1.264610     0.0  \n",
      "89731  0.862514  0.427892  0.407722  0.372731  1.161248  1.264610     0.0  \n",
      "89732  0.862514 -2.337040  0.407722  0.372731 -0.861142  1.264610     0.0  \n",
      "89733 -0.546098 -2.337040  0.407722  0.372731 -0.861142  1.264610     0.0  \n",
      "\n",
      "[87350 rows x 26 columns]\n",
      "            ID         A         B         C         D         E         F  \\\n",
      "0          1.0 -0.537304 -0.258903 -0.528232 -0.623304 -0.267175  0.131267   \n",
      "1          2.0  0.387210 -0.007078 -0.809791  1.204640  1.082230  0.507430   \n",
      "2          3.0 -0.785508 -0.614411 -0.809791 -0.331448 -0.555972 -0.291988   \n",
      "3          4.0 -0.844809 -0.699348 -0.624201 -0.822137 -0.715833 -0.526278   \n",
      "4          5.0  0.439524  0.585306 -0.809791  1.516391  1.158596  1.392120   \n",
      "...        ...       ...       ...       ...       ...       ...       ...   \n",
      "38400  38401.0  2.708937  1.199797 -0.383947  0.668000  0.766830  0.047912   \n",
      "38401  38402.0 -0.622316 -0.380667 -0.375326 -0.302310 -0.280853  0.111220   \n",
      "38402  38403.0 -0.467874 -0.159457 -0.265241 -0.832063 -0.788632 -0.632970   \n",
      "38403  38404.0 -0.826518 -0.673149  3.188120  1.574578 -0.179213  0.260182   \n",
      "38404  38405.0  0.024677  0.546032 -0.640969 -0.466835 -0.177078  0.263311   \n",
      "\n",
      "              G         H         I  ...         P         Q         R  \\\n",
      "0      1.058852  3.182894  0.924783  ...  0.259791  0.320749 -0.456454   \n",
      "1      1.058852  3.182894  0.924783  ...  2.509711  0.320749 -0.456454   \n",
      "2      1.058852  1.577155 -1.081334  ... -0.865169  0.320749 -0.456454   \n",
      "3      1.058852  3.182894 -1.081334  ...  0.259791  0.320749 -0.456454   \n",
      "4      1.058852  3.182894  0.924783  ...  0.259791  0.320749 -0.456454   \n",
      "...         ...       ...       ...  ...       ...       ...       ...   \n",
      "38400 -1.023521 -0.553125 -1.081334  ... -0.865169  0.320749 -0.456454   \n",
      "38401  1.058852  1.577155  0.924783  ... -0.865169  0.320749 -0.456454   \n",
      "38402 -1.023521 -0.553125  0.924783  ... -0.865169 -3.291263  2.190801   \n",
      "38403  2.516513 -0.542420  0.924783  ...  0.259791  0.320749  2.190801   \n",
      "38404 -0.607047 -0.553125 -1.081334  ... -0.865169  0.320749 -0.456454   \n",
      "\n",
      "              S         T         U         V         W         X  MARKER  \n",
      "0     -0.539709  0.440791  0.413165  0.375163 -0.863712 -0.789346     0.0  \n",
      "1      0.870528  0.440791  0.413165  0.375163 -0.863712 -0.789346     1.0  \n",
      "2     -1.552675  0.440791  0.413165  0.375163 -0.863712 -0.789346     0.0  \n",
      "3     -1.552675  0.440791  0.413165 -2.635118  1.157793 -0.789346     0.0  \n",
      "4      0.870528  0.440791  0.413165  0.375163 -0.863712 -0.789346     0.0  \n",
      "...         ...       ...       ...       ...       ...       ...     ...  \n",
      "38400  0.870528  0.440791 -2.420338  0.375163 -0.863712  1.266872     0.0  \n",
      "38401 -0.539709  0.440791  0.413165  0.375163 -0.863712  1.266872     0.0  \n",
      "38402 -0.539709 -2.268649  0.413165  0.375163  1.157793  1.266872     0.0  \n",
      "38403 -0.539709  0.440791  0.413165  0.375163 -0.863712  1.266872     0.0  \n",
      "38404 -1.552675  0.440791  0.413165  0.375163 -0.863712  1.266872     0.0  \n",
      "\n",
      "[38405 rows x 26 columns]\n"
     ]
    }
   ],
   "source": [
    "# масштабирование с выбором способа\n",
    "def scale_dataframe(df, ignore_columns=[], scaler_type='robust'):\n",
    "    columns_to_scale = [col for col in df.columns if col not in ignore_columns]\n",
    "\n",
    "    if scaler_type == 'standard':\n",
    "        scaler = StandardScaler()\n",
    "    elif scaler_type == 'robust':\n",
    "        scaler = RobustScaler()\n",
    "    else:\n",
    "        raise ValueError(\"Invalid scaler_type. Use 'standard' or 'robust'.\")\n",
    "\n",
    "    scaled_data = scaler.fit_transform(df[columns_to_scale])\n",
    "\n",
    "    # Обновляем значения в столбцах, которые нужно масштабировать\n",
    "    df.loc[:, columns_to_scale] = scaled_data\n",
    "    return df\n",
    "\n",
    "# Пример использования с разными способами масштабирования\n",
    "train_data_copy = scale_dataframe(train_data_copy,ignore_columns=['ID', 'MARKER'],scaler_type= \"standard\")\n",
    "print(train_data_copy)\n",
    "train_data_copy.to_csv('./data_proc/prepar_train_data.csv')\n",
    "\n",
    "test_data_copy = scale_dataframe(test_data_copy,ignore_columns=['ID', 'MARKER'],scaler_type= \"standard\")\n",
    "print(test_data_copy)\n",
    "test_data_copy.to_csv('./data_proc/prepar_test_data.csv')\n"
   ],
   "metadata": {
    "collapsed": false,
    "pycharm": {
     "name": "#%%\n"
    }
   }
  },
  {
   "cell_type": "code",
   "execution_count": 7,
   "outputs": [
    {
     "name": "stdout",
     "output_type": "stream",
     "text": [
      "            ID         A         B         C         D         E         F  \\\n",
      "0          1.0  0.260126 -0.096338 -0.851553  0.650218  1.024437  0.448462   \n",
      "1          2.0 -0.829576 -0.893296 -0.330364 -0.843031 -0.719023 -0.837314   \n",
      "2          3.0 -0.661182 -0.425997 -0.851553 -0.469356 -0.449556 -0.083343   \n",
      "3          4.0 -0.761722 -0.572614 -0.851553 -0.693866 -0.610402 -0.319869   \n",
      "4          5.0 -0.137887  0.337116 -0.851553  0.256104  0.387831  1.148043   \n",
      "...        ...       ...       ...       ...       ...       ...       ...   \n",
      "89729  89730.0 -0.934916 -0.958787 -0.590802 -0.126099 -0.502335 -0.642033   \n",
      "89730  89731.0 -0.290827 -0.410611  1.025437  0.459962  0.301662  0.074794   \n",
      "89731  89732.0 -0.059867  0.138671 -0.548978  0.057296 -0.625598 -0.511223   \n",
      "89732  89733.0 -0.377859 -0.671258 -0.290208 -0.742627 -0.526987 -0.791235   \n",
      "89733  89734.0 -0.460577 -0.133459 -0.252035 -0.844484 -0.840603 -0.658382   \n",
      "\n",
      "              G         H         I  ...         M         N         O  \\\n",
      "0      1.099090  3.209027  0.913155  ...  0.474695  0.710451  0.642038   \n",
      "1      1.099090  3.209027  0.913155  ...  0.474695  0.710451  0.642038   \n",
      "2      1.099090  3.209027  0.913155  ...  0.474695  0.710451 -1.551003   \n",
      "3      1.099090  3.209027  0.913155  ... -2.072290  0.710451 -1.551003   \n",
      "4      1.099090  3.209027  0.913155  ...  0.474695  0.710451 -1.551003   \n",
      "...         ...       ...       ...  ...       ...       ...       ...   \n",
      "89729  2.579008 -0.539453 -1.095105  ... -2.058774  0.710451  0.642038   \n",
      "89730  0.464839 -0.550224  0.913155  ...  0.474695 -1.247629  0.642038   \n",
      "89731 -1.015080 -0.550224 -1.095105  ...  0.474695 -1.247629  0.642038   \n",
      "89732 -0.592246 -0.550224  0.913155  ...  0.474695 -1.247629  0.642038   \n",
      "89733 -1.015080 -0.550224 -1.095105  ...  0.474695 -1.247629 -1.486774   \n",
      "\n",
      "              P         R         S         T         W         X  MARKER  \n",
      "0      1.390837 -0.447115  0.862514  0.427892  1.161248 -0.790758     0.0  \n",
      "1      1.390837 -0.447115  0.862514  0.427892  1.161248 -0.790758     0.0  \n",
      "2      0.262842 -0.447115 -0.546098 -2.337040  1.161248 -0.790758     0.0  \n",
      "3     -0.865154 -0.447115 -0.546098  0.427892  1.161248 -0.790758     0.0  \n",
      "4     -0.865154 -0.447115 -0.546098  0.427892 -0.861142 -0.790758     0.0  \n",
      "...         ...       ...       ...       ...       ...       ...     ...  \n",
      "89729 -0.865154 -0.447115  0.862514  0.427892 -0.861142  1.264610     0.0  \n",
      "89730  1.390837 -0.447115  0.862514  0.427892 -0.861142  1.264610     0.0  \n",
      "89731 -0.865154 -0.447115  0.862514  0.427892  1.161248  1.264610     0.0  \n",
      "89732  0.262842  2.236560  0.862514 -2.337040 -0.861142  1.264610     0.0  \n",
      "89733 -0.865154 -0.447115 -0.546098 -2.337040 -0.861142  1.264610     0.0  \n",
      "\n",
      "[87350 rows x 23 columns]\n",
      "            ID         A         C         D         E         G         H  \\\n",
      "0          1.0  0.260126 -0.851553  0.650218  1.024437  1.099090  3.209027   \n",
      "1          2.0 -0.829576 -0.330364 -0.843031 -0.719023  1.099090  3.209027   \n",
      "2          3.0 -0.661182 -0.851553 -0.469356 -0.449556  1.099090  3.209027   \n",
      "3          4.0 -0.761722 -0.851553 -0.693866 -0.610402  1.099090  3.209027   \n",
      "4          5.0 -0.137887 -0.851553  0.256104  0.387831  1.099090  3.209027   \n",
      "...        ...       ...       ...       ...       ...       ...       ...   \n",
      "89729  89730.0 -0.934916 -0.590802 -0.126099 -0.502335  2.579008 -0.539453   \n",
      "89730  89731.0 -0.290827  1.025437  0.459962  0.301662  0.464839 -0.550224   \n",
      "89731  89732.0 -0.059867 -0.548978  0.057296 -0.625598 -1.015080 -0.550224   \n",
      "89732  89733.0 -0.377859 -0.290208 -0.742627 -0.526987 -0.592246 -0.550224   \n",
      "89733  89734.0 -0.460577 -0.252035 -0.844484 -0.840603 -1.015080 -0.550224   \n",
      "\n",
      "              I         J         K  ...         M         N         O  \\\n",
      "0      0.913155 -0.660309 -2.499166  ...  0.474695  0.710451  0.642038   \n",
      "1      0.913155 -0.705387  1.283535  ...  0.474695  0.710451  0.642038   \n",
      "2      0.913155 -0.224555 -0.323077  ...  0.474695  0.710451 -1.551003   \n",
      "3      0.913155  1.818981  1.283535  ... -2.072290  0.710451 -1.551003   \n",
      "4      0.913155  0.677005  0.468389  ...  0.474695  0.710451 -1.551003   \n",
      "...         ...       ...       ...  ...       ...       ...       ...   \n",
      "89729 -1.095105 -1.283888  1.283535  ... -2.058774  0.710451  0.642038   \n",
      "89730  0.913155  0.316381  0.536466  ...  0.474695 -1.247629  0.642038   \n",
      "89731 -1.095105  1.818981  0.536466  ...  0.474695 -1.247629  0.642038   \n",
      "89732  0.913155 -1.103576  0.536466  ...  0.474695 -1.247629  0.642038   \n",
      "89733 -1.095105 -0.953316  0.536466  ...  0.474695 -1.247629 -1.486774   \n",
      "\n",
      "              P         R         S         T         W         X  MARKER  \n",
      "0      1.390837 -0.447115  0.862514  0.427892  1.161248 -0.790758     0.0  \n",
      "1      1.390837 -0.447115  0.862514  0.427892  1.161248 -0.790758     0.0  \n",
      "2      0.262842 -0.447115 -0.546098 -2.337040  1.161248 -0.790758     0.0  \n",
      "3     -0.865154 -0.447115 -0.546098  0.427892  1.161248 -0.790758     0.0  \n",
      "4     -0.865154 -0.447115 -0.546098  0.427892 -0.861142 -0.790758     0.0  \n",
      "...         ...       ...       ...       ...       ...       ...     ...  \n",
      "89729 -0.865154 -0.447115  0.862514  0.427892 -0.861142  1.264610     0.0  \n",
      "89730  1.390837 -0.447115  0.862514  0.427892 -0.861142  1.264610     0.0  \n",
      "89731 -0.865154 -0.447115  0.862514  0.427892  1.161248  1.264610     0.0  \n",
      "89732  0.262842  2.236560  0.862514 -2.337040 -0.861142  1.264610     0.0  \n",
      "89733 -0.865154 -0.447115 -0.546098 -2.337040 -0.861142  1.264610     0.0  \n",
      "\n",
      "[87350 rows x 21 columns]\n",
      "            ID         C         D         E         G         H         I  \\\n",
      "0          1.0 -0.851553  0.650218  1.024437  1.099090  3.209027  0.913155   \n",
      "1          2.0 -0.330364 -0.843031 -0.719023  1.099090  3.209027  0.913155   \n",
      "2          3.0 -0.851553 -0.469356 -0.449556  1.099090  3.209027  0.913155   \n",
      "3          4.0 -0.851553 -0.693866 -0.610402  1.099090  3.209027  0.913155   \n",
      "4          5.0 -0.851553  0.256104  0.387831  1.099090  3.209027  0.913155   \n",
      "...        ...       ...       ...       ...       ...       ...       ...   \n",
      "89729  89730.0 -0.590802 -0.126099 -0.502335  2.579008 -0.539453 -1.095105   \n",
      "89730  89731.0  1.025437  0.459962  0.301662  0.464839 -0.550224  0.913155   \n",
      "89731  89732.0 -0.548978  0.057296 -0.625598 -1.015080 -0.550224 -1.095105   \n",
      "89732  89733.0 -0.290208 -0.742627 -0.526987 -0.592246 -0.550224  0.913155   \n",
      "89733  89734.0 -0.252035 -0.844484 -0.840603 -1.015080 -0.550224 -1.095105   \n",
      "\n",
      "              J         L         M         N         O         R         S  \\\n",
      "0     -0.660309  0.282637  0.474695  0.710451  0.642038 -0.447115  0.862514   \n",
      "1     -0.705387 -0.975775  0.474695  0.710451  0.642038 -0.447115  0.862514   \n",
      "2     -0.224555 -0.326594  0.474695  0.710451 -1.551003 -0.447115 -0.546098   \n",
      "3      1.818981 -0.556304 -2.072290  0.710451 -1.551003 -0.447115 -0.546098   \n",
      "4      0.677005 -0.556304  0.474695  0.710451 -1.551003 -0.447115 -0.546098   \n",
      "...         ...       ...       ...       ...       ...       ...       ...   \n",
      "89729 -1.283888 -0.895876 -2.058774  0.710451  0.642038 -0.447115  0.862514   \n",
      "89730  0.316381 -0.556304  0.474695 -1.247629  0.642038 -0.447115  0.862514   \n",
      "89731  1.818981  1.840671  0.474695 -1.247629  0.642038 -0.447115  0.862514   \n",
      "89732 -1.103576 -0.736077  0.474695 -1.247629  0.642038  2.236560  0.862514   \n",
      "89733 -0.953316 -0.676153  0.474695 -1.247629 -1.486774 -0.447115 -0.546098   \n",
      "\n",
      "              W         X  MARKER  \n",
      "0      1.161248 -0.790758     0.0  \n",
      "1      1.161248 -0.790758     0.0  \n",
      "2      1.161248 -0.790758     0.0  \n",
      "3      1.161248 -0.790758     0.0  \n",
      "4     -0.861142 -0.790758     0.0  \n",
      "...         ...       ...     ...  \n",
      "89729 -0.861142  1.264610     0.0  \n",
      "89730 -0.861142  1.264610     0.0  \n",
      "89731  1.161248  1.264610     0.0  \n",
      "89732 -0.861142  1.264610     0.0  \n",
      "89733 -0.861142  1.264610     0.0  \n",
      "\n",
      "[87350 rows x 17 columns]\n"
     ]
    },
    {
     "name": "stderr",
     "output_type": "stream",
     "text": [
      "D:\\PycharmProjects\\innowise\\venv\\lib\\site-packages\\sklearn\\feature_selection\\_univariate_selection.py:113: RuntimeWarning: divide by zero encountered in divide\n",
      "  f = msb / msw\n"
     ]
    }
   ],
   "source": [
    "# общий отбор признаков\n",
    "# Функция для удаления признаков с малым разнообразием значений\n",
    "def remove_low_variance_features(df, threshold=0.95, ignore_columns=[]):\n",
    "    num_rows = len(df)\n",
    "    columns_to_check = [col for col in df.columns if col not in ignore_columns]\n",
    "    low_variance_columns = [col for col in columns_to_check if (df[col].value_counts() / num_rows).max() > threshold]\n",
    "    df_filtered = df.drop(columns=low_variance_columns)\n",
    "    return df_filtered\n",
    "\n",
    "# Функция для удаления признаков с высокой корреляцией между собой\n",
    "def remove_high_correlation_features(df, y_df, threshold=0.8, ignore_columns=['ID', 'MARKER']):\n",
    "    corr_matrix = df.corr()  # Вычисляет матрицу корреляции для всех столбцов в df\n",
    "    to_drop = []  # Создает пустой список, в который будут добавляться столбцы для удаления\n",
    "\n",
    "    for column in corr_matrix.columns:  # Проходит по каждому столбцу матрицы корреляции\n",
    "        if column in ignore_columns:\n",
    "            continue  # Пропускает столбцы, указанные в ignore_columns\n",
    "\n",
    "        correlated_columns = corr_matrix.index[corr_matrix[column] > threshold].tolist()  # Находит список столбцов, которые сильно коррелируют с текущим столбцом\n",
    "        if correlated_columns:  # Если список сильно коррелирующих столбцов не пустой\n",
    "            max_corr_with_target = max(correlated_columns, key=lambda col: abs(df[column].corr(y_df)))\n",
    "            # Находит столбец с максимальной абсолютной корреляцией с целевым признаком y_df\n",
    "\n",
    "            if column != max_corr_with_target and max_corr_with_target not in ignore_columns:  # Добавляем проверку, чтобы игнорировать столбцы из ignore_columns\n",
    "                to_drop.append(column)  # Добавляет текущий столбец в список для удаления\n",
    "\n",
    "    df_filtered = df.drop(columns=to_drop)  # Удаляет столбцы из списка to_drop из исходного dataframe df\n",
    "    return df_filtered  # Возвращает новый dataframe с удаленными столбцами\n",
    "\n",
    "\n",
    "#Univariate feature selection\n",
    "\n",
    "def select_features_roc_auc(X, y, k=10, ignore_columns=['ID', 'MARKER']):\n",
    "    selector = SelectKBest(score_func=f_classif, k=k)\n",
    "    X_new = selector.fit_transform(X, y)\n",
    "    selected_features = X.columns[selector.get_support()]\n",
    "\n",
    "    X_new_df = pd.DataFrame(X_new, columns=selected_features, index=X.index)\n",
    "\n",
    "    for col in ignore_columns:\n",
    "        X_new_df[col] = X[col]\n",
    "\n",
    "    return X_new_df, selected_features\n",
    "\n",
    "\n",
    "\n",
    "train_data_copy = remove_low_variance_features(train_data_copy,threshold=0.85, ignore_columns=['ID', 'MARKER'])\n",
    "print(train_data_copy)\n",
    "\n",
    "train_data_copy = remove_high_correlation_features(train_data_copy,y_copy,threshold=0.75,ignore_columns=['ID', 'MARKER'])\n",
    "print(train_data_copy)\n",
    "\n",
    "train_data_copy,important_columns = select_features_roc_auc(train_data_copy, train_data_copy[\"MARKER\"], k=17)\n",
    "print(train_data_copy)\n",
    "\n"
   ],
   "metadata": {
    "collapsed": false,
    "pycharm": {
     "name": "#%%\n"
    }
   }
  },
  {
   "cell_type": "code",
   "execution_count": 8,
   "outputs": [
    {
     "data": {
      "text/plain": "'\\n# Примените функцию для создания новой таблицы с балансированными классами\\ntrain_data_copy = perform_random_oversampling(train_data_copy, target_column_name=\"MARKER\")\\nprint(train_data_copy)\\ntrain_data_copy.to_csv(\"random_oversampling.csv\")\\n'"
     },
     "execution_count": 8,
     "metadata": {},
     "output_type": "execute_result"
    }
   ],
   "source": [
    "# Oversampling\n",
    "\n",
    "def perform_random_oversampling(df, target_column_name):\n",
    "    # Выделите признаки и целевую переменную\n",
    "    \"\"\"\n",
    "    X = df.drop(columns=[target_column_name])\n",
    "    y = df[target_column_name]\n",
    "    \"\"\"\n",
    "    # Разделим данные по значениям целевой переменной\n",
    "    df_majority = df[df[target_column_name] == 0]\n",
    "    df_minority = df[df[target_column_name] == 1]\n",
    "\n",
    "    # Применим Random Over-sampling к классу с меньшим количеством записей\n",
    "    df_minority_upsampled = resample(df_minority, replace=True, n_samples=len(df_majority), random_state=42)\n",
    "\n",
    "    # Объединим балансированные классы\n",
    "    balanced_df = pd.concat([df_majority, df_minority_upsampled])\n",
    "\n",
    "    return balanced_df\n",
    "\n",
    "\"\"\"\n",
    "# Примените функцию для создания новой таблицы с балансированными классами\n",
    "train_data_copy = perform_random_oversampling(train_data_copy, target_column_name=\"MARKER\")\n",
    "print(train_data_copy)\n",
    "train_data_copy.to_csv(\"random_oversampling.csv\")\n",
    "\"\"\""
   ],
   "metadata": {
    "collapsed": false,
    "pycharm": {
     "name": "#%%\n"
    }
   }
  },
  {
   "cell_type": "code",
   "execution_count": 9,
   "outputs": [
    {
     "name": "stdout",
     "output_type": "stream",
     "text": [
      "Best Parameters: {'C': 0.008531678524172805, 'penalty': 'l1'}\n",
      "Best F1 Score: 0.026844778613515898\n",
      "Test F1 Score: 0.031982942430703626\n",
      "Selected Features:    Feature  Coefficient\n",
      "4        H     0.965259\n",
      "1        D     0.701302\n",
      "7        L    -0.626044\n",
      "9        N     0.554523\n",
      "11       R    -0.446009\n",
      "10       O    -0.441225\n",
      "13       W    -0.282629\n",
      "14       X    -0.211366\n",
      "8        M    -0.205839\n",
      "3        G    -0.197778\n",
      "Test Predictions: [0 1 0 ... 0 0 0]\n",
      "Test F1 Score (Threshold=0.965): 0.1111111111111111\n",
      "Test ROC AUC Score (Threshold=0.965): 0.8689360225743283\n"
     ]
    }
   ],
   "source": [
    "# логистическая регрессия 3\n",
    "import numpy as np\n",
    "import pandas as pd\n",
    "from sklearn.model_selection import train_test_split, GridSearchCV\n",
    "from sklearn.linear_model import LogisticRegression\n",
    "from sklearn.metrics import f1_score\n",
    "\n",
    "def build_logistic_regression_model(df, target_column_name):\n",
    "    # Выделите признаки и целевую переменную\n",
    "    X = df.drop(columns=['ID', target_column_name])\n",
    "    y = df[target_column_name]\n",
    "\n",
    "    # Разделите данные на обучающий и тестовый наборы\n",
    "    X_train, X_test, y_train, y_test = train_test_split(X, y, test_size=0.2, random_state=42)\n",
    "\n",
    "    # Определите параметры для перебора\n",
    "    param_grid = {\n",
    "        'penalty': ['l1', 'l2'],  # Перебор L1 и L2 регуляризации\n",
    "        'C': np.logspace(-4, 4, 30)  # Перебор параметра регуляризации C\n",
    "    }\n",
    "\n",
    "    # Создайте модель логистической регрессии\n",
    "    logreg = LogisticRegression(solver='liblinear', class_weight='balanced')\n",
    "\n",
    "    # Создайте объект GridSearchCV для перебора параметров\n",
    "    grid_search = GridSearchCV(logreg, param_grid, cv=5, scoring='f1')\n",
    "\n",
    "    # Выполните поиск по сетке на обучающем наборе\n",
    "    grid_search.fit(X_train, y_train)\n",
    "\n",
    "    # Получите наилучшие параметры и значение метрики F1-score\n",
    "    best_params = grid_search.best_params_\n",
    "    best_score = grid_search.best_score_\n",
    "    print(\"Best Parameters:\", best_params)\n",
    "    print(\"Best F1 Score:\", best_score)\n",
    "\n",
    "    # Получите наилучшую модель\n",
    "    best_model = grid_search.best_estimator_\n",
    "\n",
    "    # Обучите модель на выбранных наиболее важных признаках\n",
    "    coefficients = best_model.coef_[0]\n",
    "    feature_names = X.columns\n",
    "    coefficients_df = pd.DataFrame({'Feature': feature_names, 'Coefficient': coefficients})\n",
    "\n",
    "    # Отберите 10 наиболее важных признаков\n",
    "    top_features = coefficients_df.iloc[np.abs(coefficients_df['Coefficient']).nlargest(10).index]\n",
    "    selected_features = top_features['Feature'].tolist()\n",
    "    X_train_selected = X_train[selected_features]\n",
    "    X_test_selected = X_test[selected_features]\n",
    "\n",
    "    # Обучение модели на выбранных признаках\n",
    "    best_model.fit(X_train_selected, y_train)\n",
    "\n",
    "    # Предсказания для тестового набора\n",
    "    y_pred = best_model.predict(X_test_selected)\n",
    "\n",
    "    # Вычислите метрику F1-score на тестовом наборе\n",
    "    test_f1_score = f1_score(y_test, y_pred)\n",
    "    print(\"Test F1 Score:\", test_f1_score)\n",
    "\n",
    "    return best_model, top_features\n",
    "\n",
    "\n",
    "def evaluate_with_threshold(model, test_data, target_column_name, selected_features, threshold=0.5):\n",
    "    # Выделите признаки из test данных\n",
    "    test_X = test_data[selected_features]\n",
    "\n",
    "    # Получите вероятности для класса 1\n",
    "    test_probabilities = model.predict_proba(test_X)[:, 1]\n",
    "\n",
    "    # Примените порог вероятности для получения предсказаний (0 или 1)\n",
    "    test_predictions = (test_probabilities > threshold).astype(int)\n",
    "\n",
    "    # Создайте DataFrame с предсказанными значениями\n",
    "    predictions_df = pd.DataFrame({'Prediction': test_predictions})\n",
    "\n",
    "    # Запишите DataFrame в CSV-файл\n",
    "    predictions_df.to_csv(\"predictions.csv\", index=False)\n",
    "\n",
    "    target_data = test_data[target_column_name]\n",
    "\n",
    "    # Вычислим метрику F1-score на test данных\n",
    "    test_f1 = f1_score(target_data, test_predictions)\n",
    "\n",
    "    # Вычислим метрику ROC AUC на test данных\n",
    "    test_roc_auc = roc_auc_score(target_data, test_probabilities)\n",
    "\n",
    "    return test_predictions, test_f1, test_roc_auc\n",
    "\n",
    "\n",
    "\n",
    "final_model, coefficients = build_logistic_regression_model(train_data_copy, target_column_name=\"MARKER\")\n",
    "print(\"Selected Features:\", coefficients)\n",
    "\n",
    "# Получите список выбранных признаков\n",
    "selected_features = coefficients['Feature'].tolist()\n",
    "\n",
    "# Используйте разные значения порога вероятности и смотрите, как изменяются метрики\n",
    "threshold = 0.965  # Пример значения порога\n",
    "test_predictions, test_f1_score, test_roc_auc = evaluate_with_threshold(final_model, test_data_copy, target_column_name=\"MARKER\", selected_features=selected_features, threshold=threshold)\n",
    "print(\"Test Predictions:\", test_predictions)\n",
    "print(\"Test F1 Score (Threshold={}):\".format(threshold), test_f1_score)\n",
    "print(\"Test ROC AUC Score (Threshold={}):\".format(threshold), test_roc_auc)\n",
    "\n",
    "\n",
    "\n"
   ],
   "metadata": {
    "collapsed": false,
    "pycharm": {
     "name": "#%%\n"
    }
   }
  },
  {
   "cell_type": "code",
   "execution_count": 10,
   "outputs": [],
   "source": [
    "# случайный лес 2\n",
    "def objective(trial, X, y):\n",
    "    n_estimators = trial.suggest_int('n_estimators', 50, 750, step=100)\n",
    "    max_depth = trial.suggest_int('max_depth', 3, 25)\n",
    "    min_samples_split = trial.suggest_float('min_samples_split', 0.05, 1.0)\n",
    "    min_samples_leaf = trial.suggest_float('min_samples_leaf', 0.05, 0.5)\n",
    "\n",
    "    model = RandomForestClassifier(\n",
    "        n_estimators=n_estimators,\n",
    "        max_depth=max_depth,\n",
    "        min_samples_split=min_samples_split,\n",
    "        min_samples_leaf=min_samples_leaf,\n",
    "        class_weight='balanced',\n",
    "        random_state=42\n",
    "    )\n",
    "\n",
    "    skf = StratifiedKFold(n_splits=5, shuffle=True, random_state=42)\n",
    "    scores = cross_val_score(model, X, y, cv=skf, scoring='roc_auc')\n",
    "    average_score = scores.mean()\n",
    "\n",
    "    return average_score\n",
    "\n",
    "def build_and_predict_random_forest(train_data, test_data, target_column_name, selected_features):\n",
    "    # Выделите признаки и целевую переменную\n",
    "    X_train = train_data[selected_features]\n",
    "    y_train = train_data[target_column_name]\n",
    "    X_test = test_data[selected_features]\n",
    "    y_test = test_data[target_column_name]\n",
    "\n",
    "    # Подбор гиперпараметров\n",
    "    study = optuna.create_study(direction='maximize')\n",
    "    study.optimize(lambda trial: objective(trial, X_train, y_train), n_trials=40)\n",
    "\n",
    "    best_params = study.best_params\n",
    "    best_n_estimators = best_params['n_estimators']\n",
    "    best_max_depth = best_params['max_depth']\n",
    "    best_min_samples_split = best_params['min_samples_split']\n",
    "    best_min_samples_leaf = best_params['min_samples_leaf']\n",
    "\n",
    "    # Создайте и обучите модель случайного леса с наилучшими гиперпараметрами\n",
    "    model = RandomForestClassifier(\n",
    "        n_estimators=best_n_estimators,\n",
    "        max_depth=best_max_depth,\n",
    "        min_samples_split=best_min_samples_split,\n",
    "        min_samples_leaf=best_min_samples_leaf,\n",
    "        class_weight='balanced',\n",
    "        random_state=42\n",
    "    )\n",
    "    model.fit(X_train, y_train)\n",
    "\n",
    "    # Прогнозирование на тестовых данных\n",
    "    test_predictions = model.predict(X_test)\n",
    "\n",
    "    # Вычисление метрик\n",
    "    roc_auc = roc_auc_score(y_test, test_predictions)\n",
    "    classification_rep = classification_report(y_test, test_predictions)\n",
    "\n",
    "    print(\"ROC AUC:\", roc_auc)\n",
    "    print(\"Classification Report:\\n\", classification_rep)\n",
    "\n",
    "    return model\n"
   ],
   "metadata": {
    "collapsed": false,
    "pycharm": {
     "name": "#%%\n"
    }
   }
  },
  {
   "cell_type": "code",
   "execution_count": 11,
   "outputs": [
    {
     "data": {
      "text/plain": "'\\n# Используем генетический отбор для выбора наилучших признаков\\nselected_features_genetic = genetic_feature_selection(train_data_copy[selected_features], train_data_copy[\"MARKER\"], num_generations=50, population_size=20, mutation_rate=0.1)\\nprint(\"Selected Features:\", selected_features_genetic)\\n'"
     },
     "execution_count": 11,
     "metadata": {},
     "output_type": "execute_result"
    }
   ],
   "source": [
    "\n",
    "def fitness_function(X, y, selected_features):\n",
    "    # Здесь вы можете использовать вашу функцию objective из предыдущего кода\n",
    "    # для вычисления приспособленности особи (например, AUC ROC)\n",
    "    return objective(X, y, selected_features)\n",
    "\n",
    "def generate_random_individual(features):\n",
    "    # Случайно генерируем особь (вектор признаков)\n",
    "    individual = [random.choice([0, 1]) for _ in range(len(features))]\n",
    "    return individual\n",
    "\n",
    "def crossover(parent1, parent2):\n",
    "    # Одноточечное кроссовер\n",
    "    crossover_point = random.randint(1, len(parent1) - 1)\n",
    "    child1 = parent1[:crossover_point] + parent2[crossover_point:]\n",
    "    child2 = parent2[:crossover_point] + parent1[crossover_point:]\n",
    "    return child1, child2\n",
    "\n",
    "def mutate(individual, mutation_rate):\n",
    "    # Мутация одного случайного гена в особи с вероятностью mutation_rate\n",
    "    mutated_individual = individual.copy()\n",
    "    for i in range(len(mutated_individual)):\n",
    "        if random.random() < mutation_rate:\n",
    "            mutated_individual[i] = 1 - mutated_individual[i]\n",
    "    return mutated_individual\n",
    "\n",
    "def genetic_feature_selection(X, y, num_generations, population_size, mutation_rate):\n",
    "    features = X.columns\n",
    "    population = [generate_random_individual(features) for _ in range(population_size)]\n",
    "\n",
    "    for generation in range(num_generations):\n",
    "        fitness_scores = [fitness_function(X, y, [features[i] for i in range(len(features)) if individual[i] == 1]) for individual in population]\n",
    "        sorted_indices = np.argsort(fitness_scores)[::-1]\n",
    "        selected_parents_indices = sorted_indices[:population_size // 2]\n",
    "\n",
    "        new_population = []\n",
    "        for i in range(population_size // 2):\n",
    "            parent1 = population[selected_parents_indices[random.randint(0, len(selected_parents_indices) - 1)]]\n",
    "            parent2 = population[selected_parents_indices[random.randint(0, len(selected_parents_indices) - 1)]]\n",
    "            child1, child2 = crossover(parent1, parent2)\n",
    "            child1 = mutate(child1, mutation_rate)\n",
    "            child2 = mutate(child2, mutation_rate)\n",
    "            new_population.append(child1)\n",
    "            new_population.append(child2)\n",
    "\n",
    "        population = new_population\n",
    "\n",
    "    best_individual = population[0]\n",
    "    selected_features = [features[i] for i in range(len(features)) if best_individual[i] == 1]\n",
    "\n",
    "    return selected_features\n",
    "\"\"\"\n",
    "# Используем генетический отбор для выбора наилучших признаков\n",
    "selected_features_genetic = genetic_feature_selection(train_data_copy[selected_features], train_data_copy[\"MARKER\"], num_generations=50, population_size=20, mutation_rate=0.1)\n",
    "print(\"Selected Features:\", selected_features_genetic)\n",
    "\"\"\""
   ],
   "metadata": {
    "collapsed": false,
    "pycharm": {
     "name": "#%%\n"
    }
   }
  },
  {
   "cell_type": "code",
   "execution_count": 12,
   "outputs": [],
   "source": [
    "# Построение и оценка модели случайного леса\n",
    "#model = build_and_predict_random_forest(train_data_copy, test_data_copy, \"MARKER\", selected_features)"
   ],
   "metadata": {
    "collapsed": false,
    "pycharm": {
     "name": "#%%\n"
    }
   }
  },
  {
   "cell_type": "code",
   "execution_count": 14,
   "outputs": [
    {
     "data": {
      "text/plain": "'\\n\\n# Загрузка данных и оптимизация гиперпараметров\\nX_train = train_data_copy[selected_features]\\ny_train = train_data_copy[\\'MARKER\\']\\n\\nX_test = test_data_copy[selected_features]\\ny_test = test_data_copy[\\'MARKER\\']\\n\\nbest_params = optimize_adaboost_hyperparameters(X_train, y_train, n_trials=20)\\n\\n# Обучение модели с оптимальными гиперпараметрами и прогнозирование на тестовом наборе данных\\ny_pred = train_and_predict_with_optimal_model(X_train, y_train, X_test, selected_features, best_params[\\'n_estimators\\'], best_params[\\'learning_rate\\'])\\n\\n# Вычисление метрик\\nroc_auc = roc_auc_score(y_test, y_pred)\\nf1 = f1_score(y_test, y_pred)\\n\\n# Вывод результатов оптимизации и оценки модели\\nprint(\"Optimal Hyperparameters:\", best_params)\\nprint(\"Predictions on Test Data:\", y_pred)\\nnp.savetxt(\\'./data_proc/y_pred_boosting.csv\\', y_pred)\\nprint(\"Test ROC AUC:\", roc_auc)\\nprint(\"Test F1 Score:\", f1)\\n'"
     },
     "execution_count": 14,
     "metadata": {},
     "output_type": "execute_result"
    }
   ],
   "source": [
    "# ADABoosting\n",
    "# Функция для оптимизации гиперпараметров\n",
    "def optimize_adaboost_hyperparameters(X_train, y_train, n_trials=10):\n",
    "    def objective(trial):\n",
    "        n_estimators = trial.suggest_int('n_estimators', 50, 300, step=50)\n",
    "        learning_rate = trial.suggest_float('learning_rate', 0.001, 1.0, log=True)\n",
    "\n",
    "        estimator = DecisionTreeClassifier(class_weight='balanced')\n",
    "        model = AdaBoostClassifier(n_estimators=n_estimators, learning_rate=learning_rate, estimator=estimator, random_state=42)\n",
    "        skf = StratifiedKFold(n_splits=5, shuffle=True, random_state=42)\n",
    "        scores = cross_val_score(model, X_train, y_train, cv=skf, scoring='roc_auc')\n",
    "        return np.mean(scores)\n",
    "\n",
    "    study = optuna.create_study(direction='maximize')\n",
    "    study.optimize(objective, n_trials=n_trials)\n",
    "\n",
    "    best_params = study.best_params\n",
    "    return best_params\n",
    "\n",
    "# Функция для обучения и предсказания с оптимальной моделью\n",
    "def train_and_predict_with_optimal_model(X_train, y_train, X_test, selected_features, n_estimators, learning_rate, threshold=0.5):\n",
    "    X_train_selected = X_train[selected_features]\n",
    "    X_test_selected = X_test[selected_features]\n",
    "\n",
    "    optimal_model = AdaBoostClassifier(n_estimators=n_estimators, learning_rate=learning_rate, random_state=42)\n",
    "    optimal_model.fit(X_train_selected, y_train)\n",
    "\n",
    "    y_pred_prob = optimal_model.predict_proba(X_test_selected)[:, 1]\n",
    "\n",
    "    # Выбор оптимального порога на основе ROC AUC\n",
    "    fpr, tpr, thresholds = roc_curve(y_test, y_pred_prob)\n",
    "    optimal_threshold_index = np.argmax(tpr - fpr)\n",
    "    optimal_threshold = thresholds[optimal_threshold_index]\n",
    "\n",
    "    y_pred = (y_pred_prob > optimal_threshold).astype(int)\n",
    "\n",
    "    return y_pred\n",
    "\n",
    "\"\"\"\n",
    "\n",
    "# Загрузка данных и оптимизация гиперпараметров\n",
    "X_train = train_data_copy[selected_features]\n",
    "y_train = train_data_copy['MARKER']\n",
    "\n",
    "X_test = test_data_copy[selected_features]\n",
    "y_test = test_data_copy['MARKER']\n",
    "\n",
    "best_params = optimize_adaboost_hyperparameters(X_train, y_train, n_trials=20)\n",
    "\n",
    "# Обучение модели с оптимальными гиперпараметрами и прогнозирование на тестовом наборе данных\n",
    "y_pred = train_and_predict_with_optimal_model(X_train, y_train, X_test, selected_features, best_params['n_estimators'], best_params['learning_rate'])\n",
    "\n",
    "# Вычисление метрик\n",
    "roc_auc = roc_auc_score(y_test, y_pred)\n",
    "f1 = f1_score(y_test, y_pred)\n",
    "\n",
    "# Вывод результатов оптимизации и оценки модели\n",
    "print(\"Optimal Hyperparameters:\", best_params)\n",
    "print(\"Predictions on Test Data:\", y_pred)\n",
    "np.savetxt('./data_proc/y_pred_boosting.csv', y_pred)\n",
    "print(\"Test ROC AUC:\", roc_auc)\n",
    "print(\"Test F1 Score:\", f1)\n",
    "\"\"\""
   ],
   "metadata": {
    "collapsed": false,
    "pycharm": {
     "name": "#%%\n"
    }
   }
  },
  {
   "cell_type": "code",
   "execution_count": 15,
   "outputs": [
    {
     "name": "stderr",
     "output_type": "stream",
     "text": [
      "[I 2023-08-24 14:01:42,361] A new study created in memory with name: no-name-3aa03aae-e092-4df1-b23c-254c51ad99b2\n",
      "[I 2023-08-24 14:07:15,972] Trial 1 finished with value: 0.6836066321204207 and parameters: {'n_estimators': 450, 'learning_rate': 0.016760884546162667}. Best is trial 1 with value: 0.6836066321204207.\n",
      "[I 2023-08-24 14:07:28,381] Trial 0 finished with value: 0.7431447840763808 and parameters: {'n_estimators': 650, 'learning_rate': 0.19042539709515172}. Best is trial 0 with value: 0.7431447840763808.\n",
      "[I 2023-08-24 14:07:53,457] Trial 2 finished with value: 0.6860612267027868 and parameters: {'n_estimators': 50, 'learning_rate': 0.1174861844532075}. Best is trial 0 with value: 0.7431447840763808.\n",
      "[I 2023-08-24 14:11:54,116] Trial 4 finished with value: 0.752356760217084 and parameters: {'n_estimators': 450, 'learning_rate': 0.15359617796598563}. Best is trial 4 with value: 0.752356760217084.\n",
      "[I 2023-08-24 14:12:59,552] Trial 3 finished with value: 0.6988070767982321 and parameters: {'n_estimators': 450, 'learning_rate': 0.008677964453839474}. Best is trial 4 with value: 0.752356760217084.\n",
      "[I 2023-08-24 14:13:31,901] Trial 6 finished with value: 0.722691850582826 and parameters: {'n_estimators': 50, 'learning_rate': 0.9575216911107676}. Best is trial 4 with value: 0.752356760217084.\n",
      "[I 2023-08-24 14:16:38,574] Trial 7 finished with value: 0.6966066462234208 and parameters: {'n_estimators': 250, 'learning_rate': 0.026814870089084463}. Best is trial 4 with value: 0.752356760217084.\n",
      "[I 2023-08-24 14:17:43,178] Trial 5 finished with value: 0.5711007866468035 and parameters: {'n_estimators': 450, 'learning_rate': 0.0013936292560755867}. Best is trial 4 with value: 0.752356760217084.\n",
      "[I 2023-08-24 14:20:44,553] Trial 8 finished with value: 0.7504868309742976 and parameters: {'n_estimators': 450, 'learning_rate': 0.08797340430340737}. Best is trial 4 with value: 0.752356760217084.\n",
      "[I 2023-08-24 14:22:09,370] Trial 10 finished with value: 0.7396093578293035 and parameters: {'n_estimators': 150, 'learning_rate': 0.2268764204847116}. Best is trial 4 with value: 0.752356760217084.\n",
      "[I 2023-08-24 14:24:21,215] Trial 9 finished with value: 0.7382145990863821 and parameters: {'n_estimators': 650, 'learning_rate': 0.032015088849577655}. Best is trial 4 with value: 0.752356760217084.\n",
      "[I 2023-08-24 14:27:40,065] Trial 12 finished with value: 0.7519509858239138 and parameters: {'n_estimators': 350, 'learning_rate': 0.08232196114556167}. Best is trial 4 with value: 0.752356760217084.\n",
      "[I 2023-08-24 14:29:07,030] Trial 11 finished with value: 0.752199305998918 and parameters: {'n_estimators': 650, 'learning_rate': 0.9404804134204999}. Best is trial 4 with value: 0.752356760217084.\n",
      "[I 2023-08-24 14:30:42,710] Trial 13 finished with value: 0.7462278672305371 and parameters: {'n_estimators': 350, 'learning_rate': 0.5695768372223826}. Best is trial 4 with value: 0.752356760217084.\n",
      "[I 2023-08-24 14:34:32,373] Trial 14 finished with value: 0.7507536254975375 and parameters: {'n_estimators': 550, 'learning_rate': 0.7910846769248886}. Best is trial 4 with value: 0.752356760217084.\n",
      "[I 2023-08-24 14:35:48,267] Trial 15 finished with value: 0.7459496189862241 and parameters: {'n_estimators': 550, 'learning_rate': 0.46529660595653216}. Best is trial 4 with value: 0.752356760217084.\n",
      "[I 2023-08-24 14:39:19,633] Trial 16 finished with value: 0.7500752208208438 and parameters: {'n_estimators': 550, 'learning_rate': 0.28074748966393254}. Best is trial 4 with value: 0.752356760217084.\n",
      "[I 2023-08-24 14:40:31,812] Trial 17 finished with value: 0.751731993872287 and parameters: {'n_estimators': 550, 'learning_rate': 0.312336571544842}. Best is trial 4 with value: 0.752356760217084.\n",
      "[I 2023-08-24 14:46:17,570] Trial 18 finished with value: 0.7481985818139072 and parameters: {'n_estimators': 650, 'learning_rate': 0.9750939221368976}. Best is trial 4 with value: 0.752356760217084.\n",
      "[I 2023-08-24 14:47:26,742] Trial 19 finished with value: 0.7442884030353353 and parameters: {'n_estimators': 650, 'learning_rate': 0.9595287204782706}. Best is trial 4 with value: 0.752356760217084.\n"
     ]
    },
    {
     "name": "stdout",
     "output_type": "stream",
     "text": [
      "Optimal Hyperparameters: {'n_estimators': 450, 'learning_rate': 0.15359617796598563}\n",
      "Predictions on Test Data: [1 1 0 ... 0 0 0]\n",
      "Test ROC AUC: 0.793308996683384\n",
      "Test F1 Score: 0.03042951393564023\n",
      "время выполнения 2764.9363462924957\n"
     ]
    }
   ],
   "source": [
    "start = time.time()\n",
    "# Функция для оптимизации гиперпараметров\n",
    "def optimize_adaboost_hyperparameters(trial):\n",
    "    n_estimators = trial.suggest_int('n_estimators', 50, 650, step=100)\n",
    "    learning_rate = trial.suggest_float('learning_rate', 0.001, 1.0, log=True)\n",
    "\n",
    "    estimator = DecisionTreeClassifier(class_weight='balanced')\n",
    "    model = AdaBoostClassifier(n_estimators=n_estimators, learning_rate=learning_rate, estimator=estimator, random_state=42)\n",
    "    skf = StratifiedKFold(n_splits=5, shuffle=True, random_state=42)\n",
    "    scores = cross_val_score(model, X_train, y_train, cv=skf, scoring='roc_auc')\n",
    "    return np.mean(scores)\n",
    "\n",
    "# Создание Study объекта для оптимизации\n",
    "study = optuna.create_study(direction='maximize')\n",
    "\n",
    "# Загрузка данных\n",
    "X_train = train_data_copy[selected_features]\n",
    "y_train = train_data_copy['MARKER']\n",
    "\n",
    "# Запуск оптимизации гиперпараметров\n",
    "study.optimize(optimize_adaboost_hyperparameters, n_trials=20, n_jobs=2)\n",
    "\n",
    "# Получение лучших гиперпараметров\n",
    "best_params = study.best_params\n",
    "\n",
    "# Функция для обучения и предсказания с оптимальной моделью\n",
    "def train_and_predict_with_optimal_model(X_test, y_test, selected_features, best_params):\n",
    "    X_test_selected = X_test[selected_features]\n",
    "\n",
    "    optimal_model = AdaBoostClassifier(n_estimators=best_params['n_estimators'], learning_rate=best_params['learning_rate'], random_state=42)\n",
    "    optimal_model.fit(X_train, y_train)\n",
    "\n",
    "    y_pred_prob = optimal_model.predict_proba(X_test_selected)[:, 1]\n",
    "\n",
    "    fpr, tpr, thresholds = roc_curve(y_test, y_pred_prob)\n",
    "    optimal_threshold_index = np.argmax(tpr - fpr)\n",
    "    optimal_threshold = thresholds[optimal_threshold_index]\n",
    "\n",
    "    y_pred = (y_pred_prob > optimal_threshold).astype(int)\n",
    "\n",
    "    return y_pred\n",
    "\n",
    "# Загрузка данных для тестирования\n",
    "X_test = test_data_copy[selected_features]\n",
    "y_test = test_data_copy['MARKER']\n",
    "\n",
    "# Обучение модели с оптимальными гиперпараметрами и прогнозирование на тестовом наборе данных\n",
    "y_pred = train_and_predict_with_optimal_model(X_test, y_test, selected_features, best_params)\n",
    "\n",
    "# Вычисление метрик\n",
    "roc_auc = roc_auc_score(y_test, y_pred)\n",
    "f1 = f1_score(y_test, y_pred)\n",
    "\n",
    "# Вывод результатов оптимизации и оценки модели\n",
    "print(\"Optimal Hyperparameters:\", best_params)\n",
    "print(\"Predictions on Test Data:\", y_pred)\n",
    "np.savetxt('./data_proc/y_pred_boosting.csv', y_pred)\n",
    "print(\"Test ROC AUC:\", roc_auc)\n",
    "print(\"Test F1 Score:\", f1)\n",
    "\n",
    "finish = time.time()\n",
    "print(\"время выполнения\", finish - start)"
   ],
   "metadata": {
    "collapsed": false,
    "pycharm": {
     "name": "#%%\n"
    }
   }
  },
  {
   "cell_type": "code",
   "execution_count": 15,
   "outputs": [],
   "source": [],
   "metadata": {
    "collapsed": false,
    "pycharm": {
     "name": "#%%\n"
    }
   }
  },
  {
   "cell_type": "code",
   "execution_count": 15,
   "outputs": [],
   "source": [],
   "metadata": {
    "collapsed": false,
    "pycharm": {
     "name": "#%%\n"
    }
   }
  },
  {
   "cell_type": "code",
   "execution_count": 15,
   "outputs": [],
   "source": [],
   "metadata": {
    "collapsed": false,
    "pycharm": {
     "name": "#%%\n"
    }
   }
  },
  {
   "cell_type": "code",
   "execution_count": 15,
   "outputs": [],
   "source": [],
   "metadata": {
    "collapsed": false,
    "pycharm": {
     "name": "#%%\n"
    }
   }
  },
  {
   "cell_type": "code",
   "execution_count": 15,
   "outputs": [],
   "source": [],
   "metadata": {
    "collapsed": false,
    "pycharm": {
     "name": "#%%\n"
    }
   }
  },
  {
   "cell_type": "code",
   "execution_count": 15,
   "outputs": [],
   "source": [],
   "metadata": {
    "collapsed": false,
    "pycharm": {
     "name": "#%%\n"
    }
   }
  },
  {
   "cell_type": "code",
   "execution_count": 15,
   "outputs": [],
   "source": [],
   "metadata": {
    "collapsed": false,
    "pycharm": {
     "name": "#%%\n"
    }
   }
  },
  {
   "cell_type": "code",
   "execution_count": 15,
   "outputs": [],
   "source": [],
   "metadata": {
    "collapsed": false,
    "pycharm": {
     "name": "#%%\n"
    }
   }
  },
  {
   "cell_type": "code",
   "execution_count": 15,
   "outputs": [],
   "source": [],
   "metadata": {
    "collapsed": false,
    "pycharm": {
     "name": "#%%\n"
    }
   }
  },
  {
   "cell_type": "code",
   "execution_count": 15,
   "outputs": [],
   "source": [],
   "metadata": {
    "collapsed": false,
    "pycharm": {
     "name": "#%%\n"
    }
   }
  },
  {
   "cell_type": "code",
   "execution_count": 15,
   "outputs": [],
   "source": [],
   "metadata": {
    "collapsed": false,
    "pycharm": {
     "name": "#%%\n"
    }
   }
  },
  {
   "cell_type": "code",
   "execution_count": 15,
   "outputs": [],
   "source": [],
   "metadata": {
    "collapsed": false,
    "pycharm": {
     "name": "#%%\n"
    }
   }
  },
  {
   "cell_type": "code",
   "execution_count": 15,
   "outputs": [],
   "source": [],
   "metadata": {
    "collapsed": false,
    "pycharm": {
     "name": "#%%\n"
    }
   }
  },
  {
   "cell_type": "code",
   "execution_count": 15,
   "outputs": [],
   "source": [],
   "metadata": {
    "collapsed": false,
    "pycharm": {
     "name": "#%%\n"
    }
   }
  },
  {
   "cell_type": "code",
   "execution_count": 15,
   "outputs": [],
   "source": [],
   "metadata": {
    "collapsed": false,
    "pycharm": {
     "name": "#%%\n"
    }
   }
  },
  {
   "cell_type": "code",
   "execution_count": 15,
   "outputs": [],
   "source": [],
   "metadata": {
    "collapsed": false,
    "pycharm": {
     "name": "#%%\n"
    }
   }
  },
  {
   "cell_type": "code",
   "execution_count": 15,
   "outputs": [],
   "source": [],
   "metadata": {
    "collapsed": false,
    "pycharm": {
     "name": "#%%\n"
    }
   }
  },
  {
   "cell_type": "code",
   "execution_count": 15,
   "outputs": [],
   "source": [],
   "metadata": {
    "collapsed": false,
    "pycharm": {
     "name": "#%%\n"
    }
   }
  },
  {
   "cell_type": "code",
   "execution_count": 15,
   "outputs": [],
   "source": [],
   "metadata": {
    "collapsed": false,
    "pycharm": {
     "name": "#%%\n"
    }
   }
  },
  {
   "cell_type": "code",
   "execution_count": 15,
   "outputs": [],
   "source": [],
   "metadata": {
    "collapsed": false,
    "pycharm": {
     "name": "#%%\n"
    }
   }
  },
  {
   "cell_type": "code",
   "execution_count": 15,
   "outputs": [],
   "source": [],
   "metadata": {
    "collapsed": false,
    "pycharm": {
     "name": "#%%\n"
    }
   }
  },
  {
   "cell_type": "code",
   "execution_count": 15,
   "outputs": [],
   "source": [],
   "metadata": {
    "collapsed": false,
    "pycharm": {
     "name": "#%%\n"
    }
   }
  },
  {
   "cell_type": "code",
   "execution_count": 15,
   "outputs": [],
   "source": [],
   "metadata": {
    "collapsed": false,
    "pycharm": {
     "name": "#%%\n"
    }
   }
  },
  {
   "cell_type": "code",
   "execution_count": 15,
   "outputs": [],
   "source": [],
   "metadata": {
    "collapsed": false,
    "pycharm": {
     "name": "#%%\n"
    }
   }
  },
  {
   "cell_type": "code",
   "execution_count": 15,
   "outputs": [],
   "source": [],
   "metadata": {
    "collapsed": false,
    "pycharm": {
     "name": "#%%\n"
    }
   }
  },
  {
   "cell_type": "code",
   "execution_count": 15,
   "outputs": [],
   "source": [],
   "metadata": {
    "collapsed": false,
    "pycharm": {
     "name": "#%%\n"
    }
   }
  },
  {
   "cell_type": "code",
   "execution_count": 15,
   "outputs": [],
   "source": [],
   "metadata": {
    "collapsed": false,
    "pycharm": {
     "name": "#%%\n"
    }
   }
  },
  {
   "cell_type": "code",
   "execution_count": 15,
   "outputs": [],
   "source": [],
   "metadata": {
    "collapsed": false,
    "pycharm": {
     "name": "#%%\n"
    }
   }
  },
  {
   "cell_type": "code",
   "execution_count": 15,
   "outputs": [],
   "source": [],
   "metadata": {
    "collapsed": false,
    "pycharm": {
     "name": "#%%\n"
    }
   }
  },
  {
   "cell_type": "code",
   "execution_count": 15,
   "outputs": [],
   "source": [],
   "metadata": {
    "collapsed": false,
    "pycharm": {
     "name": "#%%\n"
    }
   }
  },
  {
   "cell_type": "code",
   "execution_count": 15,
   "outputs": [],
   "source": [],
   "metadata": {
    "collapsed": false,
    "pycharm": {
     "name": "#%%\n"
    }
   }
  },
  {
   "cell_type": "code",
   "execution_count": 15,
   "outputs": [],
   "source": [],
   "metadata": {
    "collapsed": false,
    "pycharm": {
     "name": "#%%\n"
    }
   }
  },
  {
   "cell_type": "code",
   "execution_count": 15,
   "outputs": [],
   "source": [],
   "metadata": {
    "collapsed": false,
    "pycharm": {
     "name": "#%%\n"
    }
   }
  },
  {
   "cell_type": "code",
   "execution_count": 15,
   "outputs": [],
   "source": [],
   "metadata": {
    "collapsed": false,
    "pycharm": {
     "name": "#%%\n"
    }
   }
  },
  {
   "cell_type": "code",
   "execution_count": 15,
   "outputs": [],
   "source": [],
   "metadata": {
    "collapsed": false,
    "pycharm": {
     "name": "#%%\n"
    }
   }
  },
  {
   "cell_type": "code",
   "execution_count": 15,
   "outputs": [],
   "source": [],
   "metadata": {
    "collapsed": false,
    "pycharm": {
     "name": "#%%\n"
    }
   }
  },
  {
   "cell_type": "code",
   "execution_count": 15,
   "outputs": [],
   "source": [],
   "metadata": {
    "collapsed": false,
    "pycharm": {
     "name": "#%%\n"
    }
   }
  },
  {
   "cell_type": "code",
   "execution_count": 15,
   "outputs": [],
   "source": [],
   "metadata": {
    "collapsed": false,
    "pycharm": {
     "name": "#%%\n"
    }
   }
  },
  {
   "cell_type": "code",
   "execution_count": 15,
   "outputs": [],
   "source": [],
   "metadata": {
    "collapsed": false,
    "pycharm": {
     "name": "#%%\n"
    }
   }
  },
  {
   "cell_type": "code",
   "execution_count": 15,
   "outputs": [],
   "source": [],
   "metadata": {
    "collapsed": false,
    "pycharm": {
     "name": "#%%\n"
    }
   }
  },
  {
   "cell_type": "code",
   "execution_count": 15,
   "outputs": [],
   "source": [],
   "metadata": {
    "collapsed": false,
    "pycharm": {
     "name": "#%%\n"
    }
   }
  },
  {
   "cell_type": "code",
   "execution_count": 15,
   "outputs": [],
   "source": [],
   "metadata": {
    "collapsed": false,
    "pycharm": {
     "name": "#%%\n"
    }
   }
  },
  {
   "cell_type": "code",
   "execution_count": 15,
   "outputs": [],
   "source": [],
   "metadata": {
    "collapsed": false,
    "pycharm": {
     "name": "#%%\n"
    }
   }
  },
  {
   "cell_type": "code",
   "execution_count": 15,
   "outputs": [],
   "source": [],
   "metadata": {
    "collapsed": false,
    "pycharm": {
     "name": "#%%\n"
    }
   }
  },
  {
   "cell_type": "code",
   "execution_count": 15,
   "outputs": [],
   "source": [],
   "metadata": {
    "collapsed": false,
    "pycharm": {
     "name": "#%%\n"
    }
   }
  },
  {
   "cell_type": "code",
   "execution_count": 15,
   "outputs": [],
   "source": [],
   "metadata": {
    "collapsed": false,
    "pycharm": {
     "name": "#%%\n"
    }
   }
  },
  {
   "cell_type": "code",
   "execution_count": 15,
   "outputs": [],
   "source": [],
   "metadata": {
    "collapsed": false,
    "pycharm": {
     "name": "#%%\n"
    }
   }
  },
  {
   "cell_type": "code",
   "execution_count": 15,
   "outputs": [],
   "source": [],
   "metadata": {
    "collapsed": false,
    "pycharm": {
     "name": "#%%\n"
    }
   }
  },
  {
   "cell_type": "code",
   "execution_count": 15,
   "outputs": [],
   "source": [],
   "metadata": {
    "collapsed": false,
    "pycharm": {
     "name": "#%%\n"
    }
   }
  },
  {
   "cell_type": "code",
   "execution_count": 15,
   "outputs": [],
   "source": [],
   "metadata": {
    "collapsed": false,
    "pycharm": {
     "name": "#%%\n"
    }
   }
  },
  {
   "cell_type": "code",
   "execution_count": 15,
   "outputs": [],
   "source": [],
   "metadata": {
    "collapsed": false,
    "pycharm": {
     "name": "#%%\n"
    }
   }
  },
  {
   "cell_type": "code",
   "execution_count": 15,
   "outputs": [],
   "source": [],
   "metadata": {
    "collapsed": false,
    "pycharm": {
     "name": "#%%\n"
    }
   }
  },
  {
   "cell_type": "code",
   "execution_count": 15,
   "outputs": [],
   "source": [],
   "metadata": {
    "collapsed": false,
    "pycharm": {
     "name": "#%%\n"
    }
   }
  },
  {
   "cell_type": "code",
   "execution_count": 15,
   "outputs": [],
   "source": [],
   "metadata": {
    "collapsed": false,
    "pycharm": {
     "name": "#%%\n"
    }
   }
  },
  {
   "cell_type": "code",
   "execution_count": 15,
   "outputs": [],
   "source": [],
   "metadata": {
    "collapsed": false,
    "pycharm": {
     "name": "#%%\n"
    }
   }
  },
  {
   "cell_type": "code",
   "execution_count": 15,
   "outputs": [],
   "source": [],
   "metadata": {
    "collapsed": false,
    "pycharm": {
     "name": "#%%\n"
    }
   }
  },
  {
   "cell_type": "code",
   "execution_count": 15,
   "outputs": [],
   "source": [],
   "metadata": {
    "collapsed": false,
    "pycharm": {
     "name": "#%%\n"
    }
   }
  },
  {
   "cell_type": "code",
   "execution_count": 15,
   "outputs": [],
   "source": [],
   "metadata": {
    "collapsed": false,
    "pycharm": {
     "name": "#%%\n"
    }
   }
  },
  {
   "cell_type": "code",
   "execution_count": 15,
   "outputs": [],
   "source": [],
   "metadata": {
    "collapsed": false,
    "pycharm": {
     "name": "#%%\n"
    }
   }
  },
  {
   "cell_type": "code",
   "execution_count": 15,
   "outputs": [],
   "source": [],
   "metadata": {
    "collapsed": false,
    "pycharm": {
     "name": "#%%\n"
    }
   }
  },
  {
   "cell_type": "code",
   "execution_count": 15,
   "outputs": [],
   "source": [],
   "metadata": {
    "collapsed": false,
    "pycharm": {
     "name": "#%%\n"
    }
   }
  },
  {
   "cell_type": "code",
   "execution_count": 15,
   "outputs": [],
   "source": [],
   "metadata": {
    "collapsed": false,
    "pycharm": {
     "name": "#%%\n"
    }
   }
  },
  {
   "cell_type": "code",
   "execution_count": 15,
   "outputs": [],
   "source": [],
   "metadata": {
    "collapsed": false,
    "pycharm": {
     "name": "#%%\n"
    }
   }
  },
  {
   "cell_type": "code",
   "execution_count": 15,
   "outputs": [],
   "source": [],
   "metadata": {
    "collapsed": false,
    "pycharm": {
     "name": "#%%\n"
    }
   }
  },
  {
   "cell_type": "code",
   "execution_count": 15,
   "outputs": [],
   "source": [],
   "metadata": {
    "collapsed": false,
    "pycharm": {
     "name": "#%%\n"
    }
   }
  },
  {
   "cell_type": "code",
   "execution_count": 15,
   "outputs": [],
   "source": [],
   "metadata": {
    "collapsed": false,
    "pycharm": {
     "name": "#%%\n"
    }
   }
  },
  {
   "cell_type": "code",
   "execution_count": 15,
   "outputs": [],
   "source": [],
   "metadata": {
    "collapsed": false,
    "pycharm": {
     "name": "#%%\n"
    }
   }
  },
  {
   "cell_type": "code",
   "execution_count": 15,
   "outputs": [],
   "source": [],
   "metadata": {
    "collapsed": false,
    "pycharm": {
     "name": "#%%\n"
    }
   }
  },
  {
   "cell_type": "code",
   "execution_count": 15,
   "outputs": [],
   "source": [],
   "metadata": {
    "collapsed": false,
    "pycharm": {
     "name": "#%%\n"
    }
   }
  },
  {
   "cell_type": "code",
   "execution_count": 15,
   "outputs": [],
   "source": [],
   "metadata": {
    "collapsed": false,
    "pycharm": {
     "name": "#%%\n"
    }
   }
  },
  {
   "cell_type": "code",
   "execution_count": 15,
   "outputs": [],
   "source": [],
   "metadata": {
    "collapsed": false,
    "pycharm": {
     "name": "#%%\n"
    }
   }
  },
  {
   "cell_type": "code",
   "execution_count": 15,
   "outputs": [],
   "source": [],
   "metadata": {
    "collapsed": false,
    "pycharm": {
     "name": "#%%\n"
    }
   }
  },
  {
   "cell_type": "code",
   "execution_count": 15,
   "outputs": [],
   "source": [],
   "metadata": {
    "collapsed": false,
    "pycharm": {
     "name": "#%%\n"
    }
   }
  },
  {
   "cell_type": "code",
   "execution_count": 15,
   "outputs": [],
   "source": [],
   "metadata": {
    "collapsed": false,
    "pycharm": {
     "name": "#%%\n"
    }
   }
  },
  {
   "cell_type": "code",
   "execution_count": 15,
   "outputs": [],
   "source": [],
   "metadata": {
    "collapsed": false,
    "pycharm": {
     "name": "#%%\n"
    }
   }
  },
  {
   "cell_type": "code",
   "execution_count": 15,
   "outputs": [],
   "source": [],
   "metadata": {
    "collapsed": false,
    "pycharm": {
     "name": "#%%\n"
    }
   }
  },
  {
   "cell_type": "code",
   "execution_count": 15,
   "outputs": [],
   "source": [],
   "metadata": {
    "collapsed": false,
    "pycharm": {
     "name": "#%%\n"
    }
   }
  },
  {
   "cell_type": "code",
   "execution_count": 15,
   "outputs": [],
   "source": [],
   "metadata": {
    "collapsed": false,
    "pycharm": {
     "name": "#%%\n"
    }
   }
  },
  {
   "cell_type": "code",
   "execution_count": 15,
   "outputs": [],
   "source": [],
   "metadata": {
    "collapsed": false,
    "pycharm": {
     "name": "#%%\n"
    }
   }
  },
  {
   "cell_type": "code",
   "execution_count": 15,
   "outputs": [],
   "source": [],
   "metadata": {
    "collapsed": false,
    "pycharm": {
     "name": "#%%\n"
    }
   }
  },
  {
   "cell_type": "code",
   "execution_count": 15,
   "outputs": [],
   "source": [],
   "metadata": {
    "collapsed": false,
    "pycharm": {
     "name": "#%%\n"
    }
   }
  },
  {
   "cell_type": "code",
   "execution_count": 15,
   "outputs": [],
   "source": [],
   "metadata": {
    "collapsed": false,
    "pycharm": {
     "name": "#%%\n"
    }
   }
  },
  {
   "cell_type": "code",
   "execution_count": 15,
   "outputs": [],
   "source": [],
   "metadata": {
    "collapsed": false,
    "pycharm": {
     "name": "#%%\n"
    }
   }
  },
  {
   "cell_type": "code",
   "execution_count": 15,
   "outputs": [],
   "source": [],
   "metadata": {
    "collapsed": false,
    "pycharm": {
     "name": "#%%\n"
    }
   }
  },
  {
   "cell_type": "code",
   "execution_count": 15,
   "outputs": [],
   "source": [],
   "metadata": {
    "collapsed": false,
    "pycharm": {
     "name": "#%%\n"
    }
   }
  },
  {
   "cell_type": "code",
   "execution_count": 15,
   "outputs": [],
   "source": [],
   "metadata": {
    "collapsed": false,
    "pycharm": {
     "name": "#%%\n"
    }
   }
  },
  {
   "cell_type": "code",
   "execution_count": 15,
   "outputs": [],
   "source": [],
   "metadata": {
    "collapsed": false,
    "pycharm": {
     "name": "#%%\n"
    }
   }
  },
  {
   "cell_type": "code",
   "execution_count": 15,
   "outputs": [],
   "source": [],
   "metadata": {
    "collapsed": false,
    "pycharm": {
     "name": "#%%\n"
    }
   }
  },
  {
   "cell_type": "code",
   "execution_count": 15,
   "outputs": [],
   "source": [],
   "metadata": {
    "collapsed": false,
    "pycharm": {
     "name": "#%%\n"
    }
   }
  },
  {
   "cell_type": "code",
   "execution_count": 15,
   "outputs": [],
   "source": [],
   "metadata": {
    "collapsed": false,
    "pycharm": {
     "name": "#%%\n"
    }
   }
  },
  {
   "cell_type": "code",
   "execution_count": 15,
   "outputs": [],
   "source": [],
   "metadata": {
    "collapsed": false,
    "pycharm": {
     "name": "#%%\n"
    }
   }
  },
  {
   "cell_type": "code",
   "execution_count": 15,
   "outputs": [],
   "source": [],
   "metadata": {
    "collapsed": false,
    "pycharm": {
     "name": "#%%\n"
    }
   }
  },
  {
   "cell_type": "code",
   "execution_count": 15,
   "outputs": [],
   "source": [],
   "metadata": {
    "collapsed": false,
    "pycharm": {
     "name": "#%%\n"
    }
   }
  },
  {
   "cell_type": "code",
   "execution_count": 15,
   "outputs": [],
   "source": [],
   "metadata": {
    "collapsed": false,
    "pycharm": {
     "name": "#%%\n"
    }
   }
  },
  {
   "cell_type": "code",
   "execution_count": 15,
   "outputs": [],
   "source": [],
   "metadata": {
    "collapsed": false,
    "pycharm": {
     "name": "#%%\n"
    }
   }
  },
  {
   "cell_type": "code",
   "execution_count": 15,
   "outputs": [],
   "source": [],
   "metadata": {
    "collapsed": false,
    "pycharm": {
     "name": "#%%\n"
    }
   }
  },
  {
   "cell_type": "code",
   "execution_count": 15,
   "outputs": [],
   "source": [],
   "metadata": {
    "collapsed": false,
    "pycharm": {
     "name": "#%%\n"
    }
   }
  },
  {
   "cell_type": "code",
   "execution_count": 15,
   "outputs": [],
   "source": [],
   "metadata": {
    "collapsed": false,
    "pycharm": {
     "name": "#%%\n"
    }
   }
  },
  {
   "cell_type": "code",
   "execution_count": 15,
   "outputs": [],
   "source": [],
   "metadata": {
    "collapsed": false,
    "pycharm": {
     "name": "#%%\n"
    }
   }
  },
  {
   "cell_type": "code",
   "execution_count": 15,
   "outputs": [],
   "source": [],
   "metadata": {
    "collapsed": false,
    "pycharm": {
     "name": "#%%\n"
    }
   }
  },
  {
   "cell_type": "code",
   "execution_count": 15,
   "outputs": [],
   "source": [],
   "metadata": {
    "collapsed": false,
    "pycharm": {
     "name": "#%%\n"
    }
   }
  },
  {
   "cell_type": "code",
   "execution_count": 15,
   "outputs": [],
   "source": [],
   "metadata": {
    "collapsed": false,
    "pycharm": {
     "name": "#%%\n"
    }
   }
  },
  {
   "cell_type": "code",
   "execution_count": 15,
   "outputs": [],
   "source": [],
   "metadata": {
    "collapsed": false,
    "pycharm": {
     "name": "#%%\n"
    }
   }
  },
  {
   "cell_type": "code",
   "execution_count": 15,
   "outputs": [],
   "source": [],
   "metadata": {
    "collapsed": false,
    "pycharm": {
     "name": "#%%\n"
    }
   }
  },
  {
   "cell_type": "code",
   "execution_count": 15,
   "outputs": [],
   "source": [],
   "metadata": {
    "collapsed": false,
    "pycharm": {
     "name": "#%%\n"
    }
   }
  },
  {
   "cell_type": "code",
   "execution_count": 15,
   "outputs": [],
   "source": [],
   "metadata": {
    "collapsed": false,
    "pycharm": {
     "name": "#%%\n"
    }
   }
  },
  {
   "cell_type": "code",
   "execution_count": 15,
   "outputs": [],
   "source": [],
   "metadata": {
    "collapsed": false,
    "pycharm": {
     "name": "#%%\n"
    }
   }
  },
  {
   "cell_type": "code",
   "execution_count": 15,
   "outputs": [],
   "source": [],
   "metadata": {
    "collapsed": false,
    "pycharm": {
     "name": "#%%\n"
    }
   }
  },
  {
   "cell_type": "code",
   "execution_count": 15,
   "outputs": [],
   "source": [],
   "metadata": {
    "collapsed": false,
    "pycharm": {
     "name": "#%%\n"
    }
   }
  },
  {
   "cell_type": "code",
   "execution_count": 15,
   "outputs": [],
   "source": [],
   "metadata": {
    "collapsed": false,
    "pycharm": {
     "name": "#%%\n"
    }
   }
  },
  {
   "cell_type": "code",
   "execution_count": 15,
   "outputs": [],
   "source": [],
   "metadata": {
    "collapsed": false,
    "pycharm": {
     "name": "#%%\n"
    }
   }
  },
  {
   "cell_type": "code",
   "execution_count": 15,
   "outputs": [],
   "source": [],
   "metadata": {
    "collapsed": false,
    "pycharm": {
     "name": "#%%\n"
    }
   }
  },
  {
   "cell_type": "code",
   "execution_count": 15,
   "outputs": [],
   "source": [],
   "metadata": {
    "collapsed": false,
    "pycharm": {
     "name": "#%%\n"
    }
   }
  },
  {
   "cell_type": "code",
   "execution_count": 15,
   "outputs": [],
   "source": [],
   "metadata": {
    "collapsed": false,
    "pycharm": {
     "name": "#%%\n"
    }
   }
  },
  {
   "cell_type": "code",
   "execution_count": 15,
   "outputs": [],
   "source": [],
   "metadata": {
    "collapsed": false,
    "pycharm": {
     "name": "#%%\n"
    }
   }
  },
  {
   "cell_type": "code",
   "execution_count": 15,
   "outputs": [],
   "source": [],
   "metadata": {
    "collapsed": false,
    "pycharm": {
     "name": "#%%\n"
    }
   }
  },
  {
   "cell_type": "code",
   "execution_count": 15,
   "outputs": [],
   "source": [],
   "metadata": {
    "collapsed": false,
    "pycharm": {
     "name": "#%%\n"
    }
   }
  },
  {
   "cell_type": "code",
   "execution_count": 15,
   "outputs": [],
   "source": [],
   "metadata": {
    "collapsed": false,
    "pycharm": {
     "name": "#%%\n"
    }
   }
  },
  {
   "cell_type": "code",
   "execution_count": 15,
   "outputs": [],
   "source": [],
   "metadata": {
    "collapsed": false,
    "pycharm": {
     "name": "#%%\n"
    }
   }
  },
  {
   "cell_type": "code",
   "execution_count": 15,
   "outputs": [],
   "source": [],
   "metadata": {
    "collapsed": false,
    "pycharm": {
     "name": "#%%\n"
    }
   }
  },
  {
   "cell_type": "code",
   "execution_count": 15,
   "outputs": [],
   "source": [],
   "metadata": {
    "collapsed": false,
    "pycharm": {
     "name": "#%%\n"
    }
   }
  },
  {
   "cell_type": "code",
   "execution_count": 15,
   "outputs": [],
   "source": [],
   "metadata": {
    "collapsed": false,
    "pycharm": {
     "name": "#%%\n"
    }
   }
  },
  {
   "cell_type": "code",
   "execution_count": 15,
   "outputs": [],
   "source": [],
   "metadata": {
    "collapsed": false,
    "pycharm": {
     "name": "#%%\n"
    }
   }
  },
  {
   "cell_type": "code",
   "execution_count": 15,
   "outputs": [],
   "source": [],
   "metadata": {
    "collapsed": false,
    "pycharm": {
     "name": "#%%\n"
    }
   }
  },
  {
   "cell_type": "code",
   "execution_count": 15,
   "outputs": [],
   "source": [],
   "metadata": {
    "collapsed": false,
    "pycharm": {
     "name": "#%%\n"
    }
   }
  },
  {
   "cell_type": "code",
   "execution_count": 15,
   "outputs": [],
   "source": [],
   "metadata": {
    "collapsed": false,
    "pycharm": {
     "name": "#%%\n"
    }
   }
  },
  {
   "cell_type": "code",
   "execution_count": 15,
   "outputs": [],
   "source": [],
   "metadata": {
    "collapsed": false,
    "pycharm": {
     "name": "#%%\n"
    }
   }
  },
  {
   "cell_type": "code",
   "execution_count": 15,
   "outputs": [],
   "source": [],
   "metadata": {
    "collapsed": false,
    "pycharm": {
     "name": "#%%\n"
    }
   }
  },
  {
   "cell_type": "code",
   "execution_count": 15,
   "outputs": [],
   "source": [],
   "metadata": {
    "collapsed": false,
    "pycharm": {
     "name": "#%%\n"
    }
   }
  },
  {
   "cell_type": "code",
   "execution_count": 15,
   "outputs": [],
   "source": [],
   "metadata": {
    "collapsed": false,
    "pycharm": {
     "name": "#%%\n"
    }
   }
  },
  {
   "cell_type": "code",
   "execution_count": 15,
   "outputs": [],
   "source": [],
   "metadata": {
    "collapsed": false,
    "pycharm": {
     "name": "#%%\n"
    }
   }
  },
  {
   "cell_type": "code",
   "execution_count": null,
   "outputs": [],
   "source": [],
   "metadata": {
    "collapsed": false,
    "pycharm": {
     "name": "#%%\n"
    }
   }
  }
 ],
 "metadata": {
  "kernelspec": {
   "display_name": "Python 3",
   "language": "python",
   "name": "python3"
  },
  "language_info": {
   "codemirror_mode": {
    "name": "ipython",
    "version": 2
   },
   "file_extension": ".py",
   "mimetype": "text/x-python",
   "name": "python",
   "nbconvert_exporter": "python",
   "pygments_lexer": "ipython2",
   "version": "2.7.6"
  }
 },
 "nbformat": 4,
 "nbformat_minor": 0
}