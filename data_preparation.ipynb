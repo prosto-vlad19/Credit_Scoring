{
 "cells": [
  {
   "cell_type": "code",
   "execution_count": 22,
   "outputs": [],
   "source": [
    "import random\n",
    "import numpy as np\n",
    "import pandas as pd\n",
    "import time\n",
    "import optuna\n",
    "from sklearn.preprocessing import LabelEncoder,RobustScaler,StandardScaler\n",
    "from sklearn.feature_selection import SelectKBest,f_classif\n",
    "from sklearn.tree import DecisionTreeClassifier\n",
    "from sklearn.model_selection import cross_val_score,StratifiedKFold\n",
    "from sklearn.ensemble import RandomForestClassifier,AdaBoostClassifier\n",
    "from sklearn.utils import resample\n",
    "from sklearn.metrics import roc_auc_score,roc_curve,f1_score,classification_report\n",
    "from sklearn.model_selection import train_test_split, GridSearchCV\n",
    "from sklearn.linear_model import LogisticRegression\n",
    "from pyxlsb import open_workbook as open_xlsb\n",
    "from imblearn.under_sampling import RepeatedEditedNearestNeighbours\n",
    "from imblearn.over_sampling import SMOTE"
   ],
   "metadata": {
    "collapsed": false,
    "pycharm": {
     "name": "#%%\n"
    }
   }
  },
  {
   "cell_type": "markdown",
   "source": [
    "# function for reading format file .xlsb"
   ],
   "metadata": {
    "collapsed": false,
    "pycharm": {
     "name": "#%% md\n"
    }
   }
  },
  {
   "cell_type": "code",
   "execution_count": 23,
   "outputs": [],
   "source": [
    "def read_xlsb(file_path, sheet_name):\n",
    "    df_list = []\n",
    "    with open_xlsb(file_path) as wb:\n",
    "        with wb.get_sheet(sheet_name) as sheet:\n",
    "            for row in sheet.rows():\n",
    "                df_list.append([item.v for item in row])\n",
    "\n",
    "    df = pd.DataFrame(df_list[1:], columns=df_list[0])\n",
    "    df.dropna(how='all', inplace=True)  # Remove rows with all missing valuesx\n",
    "    return df"
   ],
   "metadata": {
    "collapsed": false,
    "pycharm": {
     "name": "#%%\n"
    }
   }
  },
  {
   "cell_type": "markdown",
   "source": [
    "# download data"
   ],
   "metadata": {
    "collapsed": false,
    "pycharm": {
     "name": "#%% md\n"
    }
   }
  },
  {
   "cell_type": "code",
   "execution_count": 24,
   "outputs": [],
   "source": [
    "train_data_path = \"./data/Training.xlsb\"\n",
    "train_sheet_name = 'Training'\n",
    "train_data = read_xlsb(train_data_path, train_sheet_name)\n",
    "\n",
    "test_data_path = \"./data/Test.xlsb\"\n",
    "test_sheet_name = 'Test'\n",
    "test_data = read_xlsb(test_data_path, test_sheet_name)\n",
    "\n",
    "# create train test dataframe\n",
    "train_data_copy = train_data.copy()\n",
    "test_data_copy = test_data.copy()\n",
    "X = train_data_copy.drop([\"MARKER\",\"ID\"],axis = 1)\n",
    "X_test = test_data_copy.drop([\"MARKER\",\"ID\"],axis = 1)\n",
    "y = train_data_copy['MARKER']\n",
    "y_test = test_data_copy['MARKER']\n",
    "\n",
    "# making copies\n",
    "X_copy = X.copy()\n",
    "y_copy= y.copy()"
   ],
   "metadata": {
    "collapsed": false,
    "pycharm": {
     "name": "#%%\n"
    }
   }
  },
  {
   "cell_type": "markdown",
   "source": [
    "# Coding of categorical features"
   ],
   "metadata": {
    "collapsed": false,
    "pycharm": {
     "name": "#%% md\n"
    }
   }
  },
  {
   "cell_type": "code",
   "execution_count": 25,
   "outputs": [],
   "source": [
    "def encode_categorical_features(df):\n",
    "    encoded_df = df.copy()\n",
    "\n",
    "    categorical_columns = df.select_dtypes(include=['object']).columns\n",
    "\n",
    "    for column in categorical_columns:\n",
    "        unique_values = df[column].nunique()\n",
    "        if column == 'P':\n",
    "            encoded_values = {\n",
    "                '0 Zero': 0,\n",
    "                '1 One': 1,\n",
    "                '2 Two': 2,\n",
    "                '3 Three': 3,\n",
    "                'More than 3': 4\n",
    "            }\n",
    "            encoded_df[column] = df[column].map(encoded_values)\n",
    "        elif unique_values <= 2:\n",
    "            encoder = LabelEncoder()\n",
    "            encoded_df[column] = encoder.fit_transform(df[column])\n",
    "        else:\n",
    "            counter = df[column].value_counts().to_dict()\n",
    "            encoded_df[column] = df[column].map(counter)\n",
    "\n",
    "    return encoded_df\n",
    "\n",
    "# Применение кодирования к обучающим данным и сохранение их в CSV файл\n",
    "train_data_copy[X.columns] = encode_categorical_features(train_data_copy[X.columns])\n",
    "train_data_copy.to_csv('./data_proc/encoded_train_data.csv')\n",
    "\n",
    "# Применение кодирования к тестовым данным и сохранение их в CSV файл\n",
    "test_data_copy[X_test.columns] = encode_categorical_features(test_data_copy[X_test.columns])\n",
    "test_data_copy.to_csv('./data_proc/encoded_test_data.csv')\n"
   ],
   "metadata": {
    "collapsed": false,
    "pycharm": {
     "name": "#%%\n"
    }
   }
  },
  {
   "cell_type": "markdown",
   "source": [
    "# Removing outliers"
   ],
   "metadata": {
    "collapsed": false,
    "pycharm": {
     "name": "#%% md\n"
    }
   }
  },
  {
   "cell_type": "code",
   "execution_count": 26,
   "outputs": [
    {
     "name": "stdout",
     "output_type": "stream",
     "text": [
      "len train_data input 89734\n",
      "len train_data_cleaned 87350\n",
      "Deleted rows from class 0: 2366\n",
      "Deleted rows from class 1: 18\n"
     ]
    }
   ],
   "source": [
    "def remove_outliers(train_data, num_columns_threshold=5, ignore_columns=[], remove_class_1_outliers=True):\n",
    "    print(\"len train_data input\", len(train_data))\n",
    "    columns_to_analyze = [col for col in train_data.columns if col not in ignore_columns]\n",
    "    df = train_data[columns_to_analyze]\n",
    "\n",
    "    # We count Q1 and Q3 for each column\n",
    "    q1 = df.quantile(0.25)\n",
    "    q3 = df.quantile(0.75)\n",
    "\n",
    "    # Calculating the interquartile range (IQR)\n",
    "    iqr = q3 - q1\n",
    "\n",
    "    # Determining the boundaries of the interval for removing outliers\n",
    "    lower_bound = q1 - 1.5 * iqr\n",
    "    upper_bound = q3 + 1.5 * iqr\n",
    "\n",
    "    # Create a mask to define rows with outliers in each column\n",
    "    outliers_mask = ((df < lower_bound) | (df > upper_bound))\n",
    "\n",
    "    # Count the number of columns with outliers in each row\n",
    "    num_outliers = outliers_mask.sum(axis=1)\n",
    "\n",
    "    # Create a mask to identify rows with outliers in 5 or more columns\n",
    "    mask = (num_outliers >= num_columns_threshold)\n",
    "\n",
    "    # Removing rows with outliers from train_data\n",
    "    if remove_class_1_outliers:\n",
    "        mask_to_remove = mask\n",
    "    else:\n",
    "        mask_to_remove = mask & (train_data['MARKER'] != 1)\n",
    "    train_data_cleaned = train_data[~mask_to_remove]\n",
    "\n",
    "    print(\"len train_data_cleaned\", len(train_data_cleaned))\n",
    "    # Count the number of deleted rows for each class\n",
    "    num_deleted_class_0 = len(train_data[train_data['MARKER'] == 0]) - len(train_data_cleaned[train_data_cleaned['MARKER'] == 0])\n",
    "    num_deleted_class_1 = len(train_data[train_data['MARKER'] == 1]) - len(train_data_cleaned[train_data_cleaned['MARKER'] == 1])\n",
    "    print(\"Deleted rows from class 0:\", num_deleted_class_0)\n",
    "    print(\"Deleted rows from class 1:\", num_deleted_class_1)\n",
    "\n",
    "    return train_data_cleaned\n",
    "\n",
    "# An example of using the function to remove rows from the class MARKER = 1\n",
    "train_data_copy = remove_outliers(train_data_copy, num_columns_threshold=5, ignore_columns=['ID', 'MARKER'], remove_class_1_outliers=True)\n",
    "#print(train_data_copy)\n",
    "train_data_copy.to_csv('./data_proc/remove_outliers_train_data.csv')\n"
   ],
   "metadata": {
    "collapsed": false,
    "pycharm": {
     "name": "#%%\n"
    }
   }
  },
  {
   "cell_type": "markdown",
   "source": [
    "# scaling with choice of method"
   ],
   "metadata": {
    "collapsed": false,
    "pycharm": {
     "name": "#%% md\n"
    }
   }
  },
  {
   "cell_type": "code",
   "execution_count": 27,
   "outputs": [],
   "source": [
    "def scale_dataframe(df, ignore_columns=[], scaler_type='robust'):\n",
    "    columns_to_scale = [col for col in df.columns if col not in ignore_columns]\n",
    "\n",
    "    if scaler_type == 'standard':\n",
    "        scaler = StandardScaler()\n",
    "    elif scaler_type == 'robust':\n",
    "        scaler = RobustScaler()\n",
    "    else:\n",
    "        raise ValueError(\"Invalid scaler_type. Use 'standard' or 'robust'.\")\n",
    "\n",
    "    scaled_data = scaler.fit_transform(df[columns_to_scale])\n",
    "\n",
    "    # Обновляем значения в столбцах, которые нужно масштабировать\n",
    "    df.loc[:, columns_to_scale] = scaled_data\n",
    "    return df\n",
    "\n",
    "# Пример использования с разными способами масштабирования\n",
    "train_data_copy = scale_dataframe(train_data_copy,ignore_columns=['ID', 'MARKER'],scaler_type= \"standard\")\n",
    "#print(train_data_copy)\n",
    "train_data_copy.to_csv('./data_proc/prepar_train_data.csv')\n",
    "\n",
    "test_data_copy = scale_dataframe(test_data_copy,ignore_columns=['ID', 'MARKER'],scaler_type= \"standard\")\n",
    "#print(test_data_copy)\n",
    "test_data_copy.to_csv('./data_proc/prepar_test_data.csv')\n"
   ],
   "metadata": {
    "collapsed": false,
    "pycharm": {
     "name": "#%%\n"
    }
   }
  },
  {
   "cell_type": "markdown",
   "source": [
    "# general feature selection"
   ],
   "metadata": {
    "collapsed": false,
    "pycharm": {
     "name": "#%% md\n"
    }
   }
  },
  {
   "cell_type": "code",
   "execution_count": 28,
   "outputs": [
    {
     "name": "stdout",
     "output_type": "stream",
     "text": [
      "size train_data_copy after remove low variance: (87350, 23)\n",
      "size train_data_copy after remove high correlation_features: (87350, 21)\n",
      "size train_data_copy after KBest: (87350, 17)\n"
     ]
    },
    {
     "name": "stderr",
     "output_type": "stream",
     "text": [
      "D:\\PycharmProjects\\innowise\\venv\\lib\\site-packages\\sklearn\\feature_selection\\_univariate_selection.py:113: RuntimeWarning: divide by zero encountered in divide\n",
      "  f = msb / msw\n"
     ]
    }
   ],
   "source": [
    "# Function for removing features with low diversity of values\n",
    "def remove_low_variance_features(df, threshold=0.95, ignore_columns=[]):\n",
    "    num_rows = len(df)\n",
    "    columns_to_check = [col for col in df.columns if col not in ignore_columns]\n",
    "    low_variance_columns = [col for col in columns_to_check if (df[col].value_counts() / num_rows).max() > threshold]\n",
    "    df_filtered = df.drop(columns=low_variance_columns)\n",
    "    return df_filtered\n",
    "\n",
    "# Function for removing features with high correlation with each other\n",
    "def remove_high_correlation_features(df, y_df, threshold=0.8, ignore_columns=['ID', 'MARKER']):\n",
    "    corr_matrix = df.corr()\n",
    "    to_drop = []\n",
    "\n",
    "    for column in corr_matrix.columns:\n",
    "        if column in ignore_columns:\n",
    "            continue\n",
    "\n",
    "        correlated_columns = corr_matrix.index[corr_matrix[column] > threshold].tolist()  # Finds a list of columns that are highly correlated with the current column\n",
    "        if correlated_columns:\n",
    "            max_corr_with_target = max(correlated_columns, key=lambda col: abs(df[column].corr(y_df)))\n",
    "            # Finds the column with the maximum absolute correlation with the target feature y_df\n",
    "\n",
    "            if column != max_corr_with_target and max_corr_with_target not in ignore_columns:\n",
    "                to_drop.append(column)\n",
    "\n",
    "    df_filtered = df.drop(columns=to_drop)\n",
    "    return df_filtered\n",
    "\n",
    "# Feature selection using the KBEST method\n",
    "def select_KBest(X, y, k=17, ignore_columns=['ID', 'MARKER']):\n",
    "    selector = SelectKBest(score_func=f_classif, k=k)\n",
    "    X_new = selector.fit_transform(X, y)\n",
    "    selected_features = X.columns[selector.get_support()]\n",
    "\n",
    "    X_new_df = pd.DataFrame(X_new, columns=selected_features, index=X.index)\n",
    "\n",
    "    for col in ignore_columns:\n",
    "        X_new_df[col] = X[col]\n",
    "    return X_new_df, selected_features\n",
    "\n",
    "\n",
    "\n",
    "train_data_copy = remove_low_variance_features(train_data_copy,threshold=0.85, ignore_columns=['ID', 'MARKER'])\n",
    "print(\"size train_data_copy after remove low variance:\",train_data_copy.shape)\n",
    "\n",
    "train_data_copy = remove_high_correlation_features(train_data_copy,y_copy,threshold=0.75,ignore_columns=['ID', 'MARKER'])\n",
    "print(\"size train_data_copy after remove high correlation_features:\",train_data_copy.shape)\n",
    "\n",
    "train_data_copy,important_columns = select_KBest(train_data_copy, train_data_copy[\"MARKER\"], k=17)\n",
    "print(\"size train_data_copy after KBest:\",train_data_copy.shape)\n"
   ],
   "metadata": {
    "collapsed": false,
    "pycharm": {
     "name": "#%%\n"
    }
   }
  },
  {
   "cell_type": "markdown",
   "source": [
    "# Undersampling (RepeatedEditedNearestNeighbours)"
   ],
   "metadata": {
    "collapsed": false,
    "pycharm": {
     "name": "#%% md\n"
    }
   }
  },
  {
   "cell_type": "code",
   "execution_count": 29,
   "outputs": [
    {
     "name": "stdout",
     "output_type": "stream",
     "text": [
      "(87350, 17)\n",
      "(86011, 17)\n"
     ]
    }
   ],
   "source": [
    "def apply_renn_undersampling(dataframe, target_column_name):\n",
    "    # Divide the data into features (X) and target variable (y)\n",
    "    X = dataframe.drop(columns=[target_column_name])\n",
    "    y = dataframe[target_column_name]\n",
    "\n",
    "    # Initialize RENN\n",
    "    renn = RepeatedEditedNearestNeighbours(sampling_strategy='auto', n_neighbors=3, max_iter=100,n_jobs = 2)\n",
    "\n",
    "    # Use RENN for undersampling\n",
    "    X_resampled, y_resampled = renn.fit_resample(X, y)\n",
    "\n",
    "    # Create a new DataFrame with reduced selection\n",
    "    resampled_dataframe = pd.DataFrame(data=X_resampled, columns=X.columns)\n",
    "    resampled_dataframe[target_column_name] = y_resampled\n",
    "\n",
    "    return resampled_dataframe\n",
    "\n",
    "# Apply the function to DataFrame\n",
    "print(train_data_copy.shape)\n",
    "train_data_copy = apply_renn_undersampling(train_data_copy, 'MARKER')\n",
    "print(train_data_copy.shape)\n"
   ],
   "metadata": {
    "collapsed": false,
    "pycharm": {
     "name": "#%%\n"
    }
   }
  },
  {
   "cell_type": "markdown",
   "source": [
    "# Ovesampling with SMOTE"
   ],
   "metadata": {
    "collapsed": false,
    "pycharm": {
     "name": "#%% md\n"
    }
   }
  },
  {
   "cell_type": "code",
   "execution_count": 30,
   "outputs": [
    {
     "name": "stdout",
     "output_type": "stream",
     "text": [
      "(86011, 17)\n",
      "(171374, 17)\n"
     ]
    },
    {
     "name": "stderr",
     "output_type": "stream",
     "text": [
      "D:\\PycharmProjects\\innowise\\venv\\lib\\site-packages\\imblearn\\over_sampling\\_smote\\base.py:345: FutureWarning: The parameter `n_jobs` has been deprecated in 0.10 and will be removed in 0.12. You can pass an nearest neighbors estimator where `n_jobs` is already set instead.\n",
      "  warnings.warn(\n"
     ]
    }
   ],
   "source": [
    "def apply_smote_oversampling(dataframe, target_column_name, random_state=42):\n",
    "    # Divide the data into features (X) and target variable (y)\n",
    "    X = dataframe.drop(columns=[target_column_name])\n",
    "    y = dataframe[target_column_name]\n",
    "\n",
    "    # Initialize SMOTE\n",
    "    smote = SMOTE(sampling_strategy='auto', random_state=random_state,n_jobs = 2)\n",
    "\n",
    "    # Apply SMOTE for oversampling\n",
    "    X_resampled, y_resampled = smote.fit_resample(X, y)\n",
    "\n",
    "    # Create a new DataFrame with a larger sample\n",
    "    resampled_dataframe = pd.DataFrame(data=X_resampled, columns=X.columns)\n",
    "    resampled_dataframe[target_column_name] = y_resampled\n",
    "\n",
    "    return resampled_dataframe\n",
    "\n",
    "# Apply the function to DataFrame\n",
    "print(train_data_copy.shape)\n",
    "train_data_copy = apply_smote_oversampling(train_data_copy, 'MARKER')\n",
    "print(train_data_copy.shape)\n"
   ],
   "metadata": {
    "collapsed": false,
    "pycharm": {
     "name": "#%%\n"
    }
   }
  },
  {
   "cell_type": "markdown",
   "source": [
    "# Logistic regression 3"
   ],
   "metadata": {
    "collapsed": false,
    "pycharm": {
     "name": "#%% md\n"
    }
   }
  },
  {
   "cell_type": "code",
   "execution_count": 31,
   "outputs": [
    {
     "name": "stdout",
     "output_type": "stream",
     "text": [
      "Best Parameters: {'C': 0.38566204211634725, 'penalty': 'l2'}\n",
      "Best F1 Score: 0.8967226035112631\n",
      "Test F1 Score: 0.8160787247511078\n",
      "Selected Features:    Feature  Coefficient\n",
      "4        H     1.074952\n",
      "7        L    -0.824463\n",
      "1        D     0.820600\n",
      "9        N     0.718309\n",
      "10       O    -0.585401\n",
      "11       R    -0.470017\n",
      "13       W    -0.326202\n",
      "6        J    -0.262980\n",
      "8        M    -0.217708\n",
      "14       X    -0.193170\n",
      "Test Predictions: [1 1 0 ... 0 0 0]\n",
      "Test F1 Score (Threshold=0.965): 0.11180124223602483\n",
      "Test ROC AUC Score (Threshold=0.965): 0.8744854375745416\n"
     ]
    }
   ],
   "source": [
    "def build_logistic_regression_model(df, target_column_name):\n",
    "    # Select features and target variable\n",
    "    X = df.drop(columns=['ID', target_column_name])\n",
    "    y = df[target_column_name]\n",
    "\n",
    "    # Divide the data into training and test sets\n",
    "    X_train, X_test, y_train, y_test = train_test_split(X, y, test_size=0.2, random_state=42)\n",
    "\n",
    "    # Define parameters to iterate over\n",
    "    param_grid = {\n",
    "        'penalty': ['l1', 'l2'],  # Enumerate L1 and L2 regularization\n",
    "        'C': np.logspace(-4, 4, 30)  # Iterate through the regularization parameter C\n",
    "    }\n",
    "\n",
    "    # Create a logistic regression model\n",
    "    logreg = LogisticRegression(solver='liblinear', class_weight='balanced')\n",
    "\n",
    "    # Create a GridSearchCV object to iterate through parameters\n",
    "    grid_search = GridSearchCV(logreg, param_grid, cv=5, scoring='roc_auc')\n",
    "\n",
    "    # Perform a grid search on the training set\n",
    "    grid_search.fit(X_train, y_train)\n",
    "\n",
    "    # Get the best parameters and F1-score metric value\n",
    "    best_params = grid_search.best_params_\n",
    "    best_score = grid_search.best_score_\n",
    "    print(\"Best Parameters:\", best_params)\n",
    "    print(\"Best F1 Score:\", best_score)\n",
    "\n",
    "    # Get the best model\n",
    "    best_model = grid_search.best_estimator_\n",
    "\n",
    "    # Train the model on selected most important features\n",
    "    coefficients = best_model.coef_[0]\n",
    "    feature_names = X.columns\n",
    "    coefficients_df = pd.DataFrame({'Feature': feature_names, 'Coefficient': coefficients})\n",
    "\n",
    "    # Select the 10 most important features\n",
    "    top_features = coefficients_df.iloc[np.abs(coefficients_df['Coefficient']).nlargest(10).index]\n",
    "    selected_features = top_features['Feature'].tolist()\n",
    "    X_train_selected = X_train[selected_features]\n",
    "    X_test_selected = X_test[selected_features]\n",
    "\n",
    "    # Training the model using selected features\n",
    "    best_model.fit(X_train_selected, y_train)\n",
    "\n",
    "    # Predictions for the test set\n",
    "    y_pred = best_model.predict(X_test_selected)\n",
    "\n",
    "    # Calculate the F1-score metric on the test set\n",
    "    test_f1_score = f1_score(y_test, y_pred)\n",
    "    print(\"Test F1 Score:\", test_f1_score)\n",
    "\n",
    "    return best_model, top_features\n",
    "\n",
    "\n",
    "def evaluate_with_threshold(model, test_data, target_column_name, selected_features, threshold=0.5):\n",
    "    # Extract features from test data\n",
    "    test_X = test_data[selected_features]\n",
    "\n",
    "    # Get probabilities for class 1\n",
    "    test_probabilities = model.predict_proba(test_X)[:, 1]\n",
    "\n",
    "    # Apply a probability threshold to get predictions (0 or 1)\n",
    "    test_predictions = (test_probabilities > threshold).astype(int)\n",
    "\n",
    "    # Create a DataFrame with predicted values\n",
    "    predictions_df = pd.DataFrame({'Prediction': test_predictions})\n",
    "\n",
    "    # Write the DataFrame to a CSV file\n",
    "    predictions_df.to_csv(\"predictions.csv\", index=False)\n",
    "\n",
    "    target_data = test_data[target_column_name]\n",
    "\n",
    "    # Calculate the F1-score metric on test data\n",
    "    test_f1 = f1_score(target_data, test_predictions)\n",
    "\n",
    "    # Calculate the ROC AUC metric on test data\n",
    "    test_roc_auc = roc_auc_score(target_data, test_probabilities)\n",
    "\n",
    "    return test_predictions, test_f1, test_roc_auc\n",
    "\n",
    "\n",
    "final_model, coefficients = build_logistic_regression_model(train_data_copy, target_column_name=\"MARKER\")\n",
    "print(\"Selected Features:\", coefficients)\n",
    "\n",
    "# Get a list of selected features\n",
    "selected_features = coefficients['Feature'].tolist()\n",
    "\n",
    "# Use different probability thresholds and see how the metrics change\n",
    "threshold = 0.965\n",
    "test_predictions, test_f1_score, test_roc_auc = evaluate_with_threshold(final_model, test_data_copy, target_column_name=\"MARKER\", selected_features=selected_features, threshold=threshold)\n",
    "print(\"Test Predictions:\", test_predictions)\n",
    "print(\"Test F1 Score (Threshold={}):\".format(threshold), test_f1_score)\n",
    "print(\"Test ROC AUC Score (Threshold={}):\".format(threshold), test_roc_auc)\n"
   ],
   "metadata": {
    "collapsed": false,
    "pycharm": {
     "name": "#%%\n"
    }
   }
  },
  {
   "cell_type": "markdown",
   "source": [
    "# Random forest 2"
   ],
   "metadata": {
    "collapsed": false,
    "pycharm": {
     "name": "#%% md\n"
    }
   }
  },
  {
   "cell_type": "code",
   "execution_count": 32,
   "outputs": [
    {
     "name": "stderr",
     "output_type": "stream",
     "text": [
      "[I 2023-10-04 12:30:12,987] A new study created in memory with name: no-name-9569832d-f24f-43ef-8a62-2a3c326913da\n",
      "[I 2023-10-04 12:30:16,181] Trial 0 finished with value: 0.9171892411935445 and parameters: {'n_estimators': 20, 'max_depth': 13, 'min_samples_split': 0.5126978564368746, 'min_samples_leaf': 0.18084626261099118}. Best is trial 0 with value: 0.9171892411935445.\n",
      "[I 2023-10-04 12:30:16,990] Trial 1 finished with value: 0.5 and parameters: {'n_estimators': 10, 'max_depth': 10, 'min_samples_split': 0.42193155612978106, 'min_samples_leaf': 0.46947792269091987}. Best is trial 0 with value: 0.9171892411935445.\n",
      "[I 2023-10-04 12:30:24,367] Trial 2 finished with value: 0.9274500515607841 and parameters: {'n_estimators': 35, 'max_depth': 9, 'min_samples_split': 0.3068058877633395, 'min_samples_leaf': 0.1608423872816147}. Best is trial 2 with value: 0.9274500515607841.\n",
      "[I 2023-10-04 12:30:26,017] Trial 3 finished with value: 0.5 and parameters: {'n_estimators': 25, 'max_depth': 5, 'min_samples_split': 0.9677600944375713, 'min_samples_leaf': 0.3554356741236424}. Best is trial 2 with value: 0.9274500515607841.\n",
      "[I 2023-10-04 12:30:28,825] Trial 4 finished with value: 0.9075731055229206 and parameters: {'n_estimators': 15, 'max_depth': 9, 'min_samples_split': 0.3555682919318129, 'min_samples_leaf': 0.19402618678993122}. Best is trial 2 with value: 0.9274500515607841.\n",
      "[I 2023-10-04 12:30:30,448] Trial 5 finished with value: 0.5 and parameters: {'n_estimators': 25, 'max_depth': 15, 'min_samples_split': 0.8675497606471853, 'min_samples_leaf': 0.33767284232709527}. Best is trial 2 with value: 0.9274500515607841.\n",
      "[I 2023-10-04 12:30:32,382] Trial 6 finished with value: 0.9090004154190373 and parameters: {'n_estimators': 10, 'max_depth': 15, 'min_samples_split': 0.36670010493244426, 'min_samples_leaf': 0.202605077021714}. Best is trial 2 with value: 0.9274500515607841.\n",
      "[I 2023-10-04 12:30:33,739] Trial 7 finished with value: 0.5 and parameters: {'n_estimators': 20, 'max_depth': 6, 'min_samples_split': 0.9898002567964301, 'min_samples_leaf': 0.28449184989556603}. Best is trial 2 with value: 0.9274500515607841.\n",
      "[I 2023-10-04 12:30:35,647] Trial 8 finished with value: 0.5 and parameters: {'n_estimators': 30, 'max_depth': 10, 'min_samples_split': 0.7108238047180115, 'min_samples_leaf': 0.4792239409287923}. Best is trial 2 with value: 0.9274500515607841.\n",
      "[I 2023-10-04 12:30:37,267] Trial 9 finished with value: 0.5 and parameters: {'n_estimators': 25, 'max_depth': 11, 'min_samples_split': 0.5950922433906126, 'min_samples_leaf': 0.3213716225120599}. Best is trial 2 with value: 0.9274500515607841.\n",
      "[I 2023-10-04 12:30:48,491] Trial 10 finished with value: 0.9571418399947367 and parameters: {'n_estimators': 35, 'max_depth': 3, 'min_samples_split': 0.060619245640985364, 'min_samples_leaf': 0.056440881981274504}. Best is trial 10 with value: 0.9571418399947367.\n",
      "[I 2023-10-04 12:30:59,465] Trial 11 finished with value: 0.9539522313314173 and parameters: {'n_estimators': 35, 'max_depth': 3, 'min_samples_split': 0.07578389628543772, 'min_samples_leaf': 0.06422447970662752}. Best is trial 10 with value: 0.9571418399947367.\n",
      "[I 2023-10-04 12:31:10,388] Trial 12 finished with value: 0.9538043343308192 and parameters: {'n_estimators': 35, 'max_depth': 3, 'min_samples_split': 0.06339858324271039, 'min_samples_leaf': 0.06637719953039531}. Best is trial 10 with value: 0.9571418399947367.\n",
      "[I 2023-10-04 12:31:21,281] Trial 13 finished with value: 0.952944513027466 and parameters: {'n_estimators': 35, 'max_depth': 3, 'min_samples_split': 0.050817130017076786, 'min_samples_leaf': 0.06820067753684267}. Best is trial 10 with value: 0.9571418399947367.\n",
      "[I 2023-10-04 12:31:31,934] Trial 14 finished with value: 0.9577872809794752 and parameters: {'n_estimators': 30, 'max_depth': 6, 'min_samples_split': 0.17078358244695108, 'min_samples_leaf': 0.060888872875207375}. Best is trial 14 with value: 0.9577872809794752.\n",
      "[I 2023-10-04 12:31:39,580] Trial 15 finished with value: 0.9399288947400761 and parameters: {'n_estimators': 30, 'max_depth': 6, 'min_samples_split': 0.17853105320312382, 'min_samples_leaf': 0.12565094065845675}. Best is trial 14 with value: 0.9577872809794752.\n",
      "[I 2023-10-04 12:31:48,144] Trial 16 finished with value: 0.9452301562050864 and parameters: {'n_estimators': 30, 'max_depth': 7, 'min_samples_split': 0.21022891267567992, 'min_samples_leaf': 0.1061112441509715}. Best is trial 14 with value: 0.9577872809794752.\n",
      "[I 2023-10-04 12:31:49,669] Trial 17 finished with value: 0.9389716972525634 and parameters: {'n_estimators': 5, 'max_depth': 5, 'min_samples_split': 0.20947545629704686, 'min_samples_leaf': 0.12078363699281702}. Best is trial 14 with value: 0.9577872809794752.\n",
      "[I 2023-10-04 12:32:00,154] Trial 18 finished with value: 0.9553722829782503 and parameters: {'n_estimators': 30, 'max_depth': 7, 'min_samples_split': 0.17067831505390507, 'min_samples_leaf': 0.06523106226549197}. Best is trial 14 with value: 0.9577872809794752.\n",
      "[I 2023-10-04 12:32:04,023] Trial 19 finished with value: 0.9181136196230879 and parameters: {'n_estimators': 25, 'max_depth': 4, 'min_samples_split': 0.2699379747039439, 'min_samples_leaf': 0.22737151521822804}. Best is trial 14 with value: 0.9577872809794752.\n",
      "[I 2023-10-04 12:32:11,711] Trial 20 finished with value: 0.9401219301157561 and parameters: {'n_estimators': 30, 'max_depth': 7, 'min_samples_split': 0.1319514759288833, 'min_samples_leaf': 0.12336042885443432}. Best is trial 14 with value: 0.9577872809794752.\n",
      "[I 2023-10-04 12:32:23,355] Trial 21 finished with value: 0.9601910726589311 and parameters: {'n_estimators': 30, 'max_depth': 7, 'min_samples_split': 0.13870217945727797, 'min_samples_leaf': 0.0521691169259919}. Best is trial 21 with value: 0.9601910726589311.\n",
      "[I 2023-10-04 12:32:34,006] Trial 22 finished with value: 0.9541506000207953 and parameters: {'n_estimators': 35, 'max_depth': 5, 'min_samples_split': 0.26286749125272835, 'min_samples_leaf': 0.05694770045727519}. Best is trial 21 with value: 0.9601910726589311.\n",
      "[I 2023-10-04 12:32:42,744] Trial 23 finished with value: 0.9457808817908256 and parameters: {'n_estimators': 30, 'max_depth': 8, 'min_samples_split': 0.1290142021420475, 'min_samples_leaf': 0.10271810697479693}. Best is trial 21 with value: 0.9601910726589311.\n",
      "[I 2023-10-04 12:32:48,906] Trial 24 finished with value: 0.92977657531959 and parameters: {'n_estimators': 25, 'max_depth': 4, 'min_samples_split': 0.12372061608076579, 'min_samples_leaf': 0.1449614427466577}. Best is trial 21 with value: 0.9601910726589311.\n",
      "[I 2023-10-04 12:32:59,929] Trial 25 finished with value: 0.9473880795306657 and parameters: {'n_estimators': 35, 'max_depth': 6, 'min_samples_split': 0.05124635777829829, 'min_samples_leaf': 0.09525561843115818}. Best is trial 21 with value: 0.9601910726589311.\n",
      "[I 2023-10-04 12:33:05,481] Trial 26 finished with value: 0.9384404304132239 and parameters: {'n_estimators': 20, 'max_depth': 8, 'min_samples_split': 0.2512316629257964, 'min_samples_leaf': 0.09296395424474219}. Best is trial 21 with value: 0.9601910726589311.\n",
      "[I 2023-10-04 12:33:15,973] Trial 27 finished with value: 0.9587452406479248 and parameters: {'n_estimators': 30, 'max_depth': 4, 'min_samples_split': 0.1813024164291915, 'min_samples_leaf': 0.05004445142592614}. Best is trial 21 with value: 0.9601910726589311.\n",
      "[I 2023-10-04 12:33:19,317] Trial 28 finished with value: 0.9186619138398502 and parameters: {'n_estimators': 15, 'max_depth': 4, 'min_samples_split': 0.3170183553062532, 'min_samples_leaf': 0.1477209327440669}. Best is trial 21 with value: 0.9601910726589311.\n",
      "[I 2023-10-04 12:33:22,984] Trial 29 finished with value: 0.9176531763744027 and parameters: {'n_estimators': 20, 'max_depth': 13, 'min_samples_split': 0.4307750854237825, 'min_samples_leaf': 0.17351767779458904}. Best is trial 21 with value: 0.9601910726589311.\n",
      "[I 2023-10-04 12:33:29,048] Trial 30 finished with value: 0.9303528311681756 and parameters: {'n_estimators': 25, 'max_depth': 8, 'min_samples_split': 0.21365333441602433, 'min_samples_leaf': 0.14274831642811778}. Best is trial 21 with value: 0.9601910726589311.\n",
      "[I 2023-10-04 12:33:38,307] Trial 31 finished with value: 0.9500949734376885 and parameters: {'n_estimators': 30, 'max_depth': 4, 'min_samples_split': 0.1291745228407512, 'min_samples_leaf': 0.08826045769227087}. Best is trial 21 with value: 0.9601910726589311.\n",
      "[I 2023-10-04 12:33:51,211] Trial 32 finished with value: 0.9580765781043817 and parameters: {'n_estimators': 35, 'max_depth': 5, 'min_samples_split': 0.1617175142638025, 'min_samples_leaf': 0.05266266294065173}. Best is trial 21 with value: 0.9601910726589311.\n",
      "[I 2023-10-04 12:34:02,428] Trial 33 finished with value: 0.9597192670628194 and parameters: {'n_estimators': 30, 'max_depth': 6, 'min_samples_split': 0.1733083419927031, 'min_samples_leaf': 0.05094370737270483}. Best is trial 21 with value: 0.9601910726589311.\n",
      "[I 2023-10-04 12:34:11,821] Trial 34 finished with value: 0.9481459463965993 and parameters: {'n_estimators': 35, 'max_depth': 5, 'min_samples_split': 0.2889817319067571, 'min_samples_leaf': 0.08226283339616214}. Best is trial 21 with value: 0.9601910726589311.\n",
      "[I 2023-10-04 12:34:21,353] Trial 35 finished with value: 0.9572624770305925 and parameters: {'n_estimators': 30, 'max_depth': 7, 'min_samples_split': 0.2404356821589662, 'min_samples_leaf': 0.05368653276120719}. Best is trial 21 with value: 0.9601910726589311.\n",
      "[I 2023-10-04 12:34:27,256] Trial 36 finished with value: 0.9351291220370375 and parameters: {'n_estimators': 25, 'max_depth': 5, 'min_samples_split': 0.3295469331084042, 'min_samples_leaf': 0.11179271682537595}. Best is trial 21 with value: 0.9601910726589311.\n",
      "[I 2023-10-04 12:34:34,519] Trial 37 finished with value: 0.9362002525377477 and parameters: {'n_estimators': 35, 'max_depth': 6, 'min_samples_split': 0.37187189998254644, 'min_samples_leaf': 0.08481838122780068}. Best is trial 21 with value: 0.9601910726589311.\n",
      "[I 2023-10-04 12:34:38,723] Trial 38 finished with value: 0.9198256527462576 and parameters: {'n_estimators': 20, 'max_depth': 10, 'min_samples_split': 0.293326249190576, 'min_samples_leaf': 0.16184997506130144}. Best is trial 21 with value: 0.9601910726589311.\n",
      "[I 2023-10-04 12:34:48,611] Trial 39 finished with value: 0.9616838477389014 and parameters: {'n_estimators': 25, 'max_depth': 5, 'min_samples_split': 0.1071503195691316, 'min_samples_leaf': 0.05132531076999376}. Best is trial 39 with value: 0.9616838477389014.\n"
     ]
    },
    {
     "name": "stdout",
     "output_type": "stream",
     "text": [
      "ROC AUC: 0.8225390247509138\n",
      "Predictions on Test Data: [1. 1. 1. ... 0. 1. 0.]\n"
     ]
    }
   ],
   "source": [
    "def objective(trial, X, y):\n",
    "    n_estimators = trial.suggest_int('n_estimators', 5, 35, step=5)\n",
    "    max_depth = trial.suggest_int('max_depth', 3, 15)\n",
    "    min_samples_split = trial.suggest_float('min_samples_split', 0.05, 1.0)\n",
    "    min_samples_leaf = trial.suggest_float('min_samples_leaf', 0.05, 0.5)\n",
    "\n",
    "    model = RandomForestClassifier(\n",
    "        n_estimators=n_estimators,\n",
    "        max_depth=max_depth,\n",
    "        min_samples_split=min_samples_split,\n",
    "        min_samples_leaf=min_samples_leaf,\n",
    "        class_weight='balanced',\n",
    "        random_state=42\n",
    "    )\n",
    "\n",
    "    skf = StratifiedKFold(n_splits=5, shuffle=True, random_state=42)\n",
    "    scores = cross_val_score(model, X, y, cv=skf, scoring='roc_auc')\n",
    "    average_score = scores.mean()\n",
    "\n",
    "    return average_score\n",
    "\n",
    "def build_and_predict_random_forest(train_data, test_data, target_column_name, selected_features):\n",
    "    # Выделите признаки и целевую переменную\n",
    "    X_train = train_data[selected_features]\n",
    "    y_train = train_data[target_column_name]\n",
    "    X_test = test_data[selected_features]\n",
    "    y_test = test_data[target_column_name]\n",
    "\n",
    "    # Подбор гиперпараметров\n",
    "    study = optuna.create_study(direction='maximize')\n",
    "    study.optimize(lambda trial: objective(trial, X_train, y_train), n_trials=40)\n",
    "\n",
    "    best_params = study.best_params\n",
    "    best_n_estimators = best_params['n_estimators']\n",
    "    best_max_depth = best_params['max_depth']\n",
    "    best_min_samples_split = best_params['min_samples_split']\n",
    "    best_min_samples_leaf = best_params['min_samples_leaf']\n",
    "\n",
    "    # Создайте и обучите модель случайного леса с наилучшими гиперпараметрами\n",
    "    model = RandomForestClassifier(\n",
    "        n_estimators=best_n_estimators,\n",
    "        max_depth=best_max_depth,\n",
    "        min_samples_split=best_min_samples_split,\n",
    "        min_samples_leaf=best_min_samples_leaf,\n",
    "        class_weight='balanced',\n",
    "        random_state=42\n",
    "    )\n",
    "    model.fit(X_train, y_train)\n",
    "\n",
    "    # Прогнозирование на тестовых данных\n",
    "    y_pred_prob = model.predict_proba(X_test)[:, 1]\n",
    "\n",
    "    # Вычисление ROC AUC\n",
    "    roc_auc = roc_auc_score(y_test, y_pred_prob)\n",
    "\n",
    "    # Вывод ROC AUC\n",
    "    print(\"ROC AUC:\", roc_auc)\n",
    "\n",
    "    return model\n",
    "\n",
    "# Построение и оценка модели случайного леса\n",
    "model = build_and_predict_random_forest(train_data_copy, test_data_copy, \"MARKER\", selected_features)\n",
    "print(\"Predictions on Test Data:\",model.predict(test_data_copy[selected_features]))"
   ],
   "metadata": {
    "collapsed": false,
    "pycharm": {
     "name": "#%%\n"
    }
   }
  },
  {
   "cell_type": "markdown",
   "source": [
    "# Adaboosting"
   ],
   "metadata": {
    "collapsed": false,
    "pycharm": {
     "name": "#%% md\n"
    }
   }
  },
  {
   "cell_type": "code",
   "execution_count": 33,
   "outputs": [
    {
     "name": "stderr",
     "output_type": "stream",
     "text": [
      "[I 2023-10-04 12:34:51,115] A new study created in memory with name: no-name-8974d838-c756-431a-bff3-8692c6ec4de6\n",
      "[I 2023-10-04 12:34:55,944] Trial 1 finished with value: 0.9921925233954292 and parameters: {'n_estimators': 3, 'learning_rate': 0.053524549836694}. Best is trial 1 with value: 0.9921925233954292.\n",
      "[I 2023-10-04 12:34:55,950] Trial 0 finished with value: 0.9921925233954292 and parameters: {'n_estimators': 1, 'learning_rate': 0.19205369164288089}. Best is trial 1 with value: 0.9921925233954292.\n",
      "[I 2023-10-04 12:35:00,828] Trial 3 finished with value: 0.9921925233954292 and parameters: {'n_estimators': 1, 'learning_rate': 0.10972713926492762}. Best is trial 1 with value: 0.9921925233954292.\n",
      "[I 2023-10-04 12:35:00,864] Trial 2 finished with value: 0.9921925233954292 and parameters: {'n_estimators': 9, 'learning_rate': 0.001289520739869213}. Best is trial 1 with value: 0.9921925233954292.\n",
      "[I 2023-10-04 12:35:05,693] Trial 4 finished with value: 0.9921925233954292 and parameters: {'n_estimators': 3, 'learning_rate': 0.007158238580821946}. Best is trial 1 with value: 0.9921925233954292.\n",
      "[I 2023-10-04 12:35:05,757] Trial 5 finished with value: 0.9921925233954292 and parameters: {'n_estimators': 11, 'learning_rate': 0.3661553130578276}. Best is trial 1 with value: 0.9921925233954292.\n",
      "[I 2023-10-04 12:35:10,577] Trial 6 finished with value: 0.9921925233954292 and parameters: {'n_estimators': 7, 'learning_rate': 0.005758341545651935}. Best is trial 1 with value: 0.9921925233954292.\n",
      "[I 2023-10-04 12:35:10,673] Trial 7 finished with value: 0.9921925233954292 and parameters: {'n_estimators': 3, 'learning_rate': 0.001223042136807406}. Best is trial 1 with value: 0.9921925233954292.\n",
      "[I 2023-10-04 12:35:15,475] Trial 8 finished with value: 0.9921925233954292 and parameters: {'n_estimators': 1, 'learning_rate': 0.004144720416080543}. Best is trial 1 with value: 0.9921925233954292.\n",
      "[I 2023-10-04 12:35:15,551] Trial 9 finished with value: 0.9921925233954292 and parameters: {'n_estimators': 3, 'learning_rate': 0.019948269515146343}. Best is trial 1 with value: 0.9921925233954292.\n",
      "[I 2023-10-04 12:35:20,198] Trial 10 finished with value: 0.9921925233954292 and parameters: {'n_estimators': 3, 'learning_rate': 0.0018024796292105203}. Best is trial 1 with value: 0.9921925233954292.\n",
      "[I 2023-10-04 12:35:20,270] Trial 11 finished with value: 0.9921925233954292 and parameters: {'n_estimators': 15, 'learning_rate': 0.873776303719947}. Best is trial 1 with value: 0.9921925233954292.\n",
      "[I 2023-10-04 12:35:25,007] Trial 12 finished with value: 0.9921925233954292 and parameters: {'n_estimators': 15, 'learning_rate': 0.12249669724740662}. Best is trial 1 with value: 0.9921925233954292.\n",
      "[I 2023-10-04 12:35:25,084] Trial 13 finished with value: 0.9921925233954292 and parameters: {'n_estimators': 7, 'learning_rate': 0.07213811091797763}. Best is trial 1 with value: 0.9921925233954292.\n",
      "[I 2023-10-04 12:35:29,768] Trial 14 finished with value: 0.9921925233954292 and parameters: {'n_estimators': 7, 'learning_rate': 0.05974519021192926}. Best is trial 1 with value: 0.9921925233954292.\n",
      "[I 2023-10-04 12:35:29,838] Trial 15 finished with value: 0.9921925233954292 and parameters: {'n_estimators': 5, 'learning_rate': 0.03502993456273521}. Best is trial 1 with value: 0.9921925233954292.\n",
      "[I 2023-10-04 12:35:34,538] Trial 16 finished with value: 0.9921925233954292 and parameters: {'n_estimators': 5, 'learning_rate': 0.02536212633338613}. Best is trial 1 with value: 0.9921925233954292.\n",
      "[I 2023-10-04 12:35:34,609] Trial 17 finished with value: 0.9921925233954292 and parameters: {'n_estimators': 1, 'learning_rate': 0.25034866979283227}. Best is trial 1 with value: 0.9921925233954292.\n",
      "[I 2023-10-04 12:35:39,431] Trial 18 finished with value: 0.9921925233954292 and parameters: {'n_estimators': 1, 'learning_rate': 0.22398141231121557}. Best is trial 1 with value: 0.9921925233954292.\n",
      "[I 2023-10-04 12:35:39,525] Trial 19 finished with value: 0.9921925233954292 and parameters: {'n_estimators': 11, 'learning_rate': 0.23288055748715594}. Best is trial 1 with value: 0.9921925233954292.\n",
      "[I 2023-10-04 12:35:44,288] Trial 20 finished with value: 0.9921925233954292 and parameters: {'n_estimators': 11, 'learning_rate': 0.6986724043126036}. Best is trial 1 with value: 0.9921925233954292.\n",
      "[I 2023-10-04 12:35:44,354] Trial 21 finished with value: 0.9921925233954292 and parameters: {'n_estimators': 5, 'learning_rate': 0.7849997466109925}. Best is trial 1 with value: 0.9921925233954292.\n",
      "[I 2023-10-04 12:35:49,140] Trial 22 finished with value: 0.9921925233954292 and parameters: {'n_estimators': 9, 'learning_rate': 0.023455970676260752}. Best is trial 1 with value: 0.9921925233954292.\n",
      "[I 2023-10-04 12:35:49,347] Trial 23 finished with value: 0.9921925233954292 and parameters: {'n_estimators': 9, 'learning_rate': 0.014306217997689266}. Best is trial 1 with value: 0.9921925233954292.\n",
      "[I 2023-10-04 12:35:53,945] Trial 24 finished with value: 0.9921925233954292 and parameters: {'n_estimators': 9, 'learning_rate': 0.011849365453705251}. Best is trial 1 with value: 0.9921925233954292.\n",
      "[I 2023-10-04 12:35:54,298] Trial 25 finished with value: 0.9921925233954292 and parameters: {'n_estimators': 13, 'learning_rate': 0.044021195436753285}. Best is trial 1 with value: 0.9921925233954292.\n",
      "[I 2023-10-04 12:35:58,712] Trial 26 finished with value: 0.9921925233954292 and parameters: {'n_estimators': 13, 'learning_rate': 0.002671455454259286}. Best is trial 1 with value: 0.9921925233954292.\n",
      "[I 2023-10-04 12:35:59,067] Trial 27 finished with value: 0.9921925233954292 and parameters: {'n_estimators': 5, 'learning_rate': 0.0029041047879943714}. Best is trial 1 with value: 0.9921925233954292.\n",
      "[I 2023-10-04 12:36:03,460] Trial 28 finished with value: 0.9921925233954292 and parameters: {'n_estimators': 5, 'learning_rate': 0.03733945932441179}. Best is trial 1 with value: 0.9921925233954292.\n",
      "[I 2023-10-04 12:36:03,832] Trial 29 finished with value: 0.9921925233954292 and parameters: {'n_estimators': 3, 'learning_rate': 0.010095747153640188}. Best is trial 1 with value: 0.9921925233954292.\n"
     ]
    },
    {
     "name": "stdout",
     "output_type": "stream",
     "text": [
      "Optimal Hyperparameters: {'n_estimators': 3, 'learning_rate': 0.053524549836694}\n",
      "Predictions on Test Data: [1 1 1 ... 0 0 0]\n",
      "Test ROC AUC: 0.8225390247509138\n",
      "Test F1 Score: 0.022508038585209\n",
      "время выполнения 73.39300417900085\n"
     ]
    }
   ],
   "source": [
    "# Function for optimizing hyperparameters\n",
    "def optimize_adaboost_hyperparameters(trial, X_train, y_train):\n",
    "    n_estimators = trial.suggest_int('n_estimators', 1, 15, step=2)\n",
    "    learning_rate = trial.suggest_float('learning_rate', 0.001, 1.0, log=True)\n",
    "\n",
    "    estimator = DecisionTreeClassifier(class_weight='balanced')\n",
    "    model = AdaBoostClassifier(n_estimators=n_estimators, learning_rate=learning_rate, estimator=estimator, random_state=42)\n",
    "    skf = StratifiedKFold(n_splits=5, shuffle=True, random_state=42)\n",
    "    scores = cross_val_score(model, X_train, y_train, cv=skf, scoring='roc_auc')\n",
    "    return np.mean(scores)\n",
    "\n",
    "# Function for training and prediction with optimal model\n",
    "def train_and_predict_with_optimal_model(X_train, y_train, X_test, y_test, selected_features, best_params):\n",
    "    X_train_selected = X_train[selected_features]\n",
    "    X_test_selected = X_test[selected_features]\n",
    "\n",
    "    optimal_model = AdaBoostClassifier(n_estimators=best_params['n_estimators'], learning_rate=best_params['learning_rate'], random_state=42)\n",
    "    optimal_model.fit(X_train_selected, y_train)\n",
    "\n",
    "    y_pred_prob = optimal_model.predict_proba(X_test_selected)[:, 1]\n",
    "\n",
    "    fpr, tpr, thresholds = roc_curve(y_test, y_pred_prob)\n",
    "    optimal_threshold_index = np.argmax(tpr - fpr)\n",
    "    optimal_threshold = thresholds[optimal_threshold_index]\n",
    "\n",
    "    y_pred = (y_pred_prob > optimal_threshold).astype(int)\n",
    "\n",
    "    return y_pred\n",
    "\n",
    "def run_ada_boosting():\n",
    "    start = time.time()\n",
    "\n",
    "    # Loading data\n",
    "    X_train = train_data_copy[selected_features]\n",
    "    y_train = train_data_copy['MARKER']\n",
    "\n",
    "    X_test = test_data_copy[selected_features]\n",
    "    y_test = test_data_copy['MARKER']\n",
    "\n",
    "    # Create a Study object for optimization\n",
    "    study = optuna.create_study(direction='maximize')\n",
    "\n",
    "    # Run hyperparameter optimization\n",
    "    study.optimize(lambda trial: optimize_adaboost_hyperparameters(trial, X_train, y_train), n_trials=30, n_jobs=2)\n",
    "\n",
    "    # Getting the best hyperparameters\n",
    "    best_params = study.best_params\n",
    "\n",
    "    # Train a model with optimal hyperparameters and make predictions on a test data set\n",
    "    y_pred = train_and_predict_with_optimal_model(X_train, y_train, X_test, y_test, selected_features, best_params)\n",
    "    y_pred_prob = model.predict_proba(X_test)[:, 1]\n",
    "\n",
    "    # Calculate metrics\n",
    "    roc_auc = roc_auc_score(y_test, y_pred_prob)\n",
    "    f1 = f1_score(y_test, y_pred)\n",
    "\n",
    "    # Output the results of optimization and model evaluation\n",
    "    print(\"Optimal Hyperparameters:\", best_params)\n",
    "    print(\"Predictions on Test Data:\", y_pred)\n",
    "    np.savetxt('./data_proc/y_pred_boosting.csv', y_pred)\n",
    "    print(\"Test ROC AUC:\", roc_auc)\n",
    "    print(\"Test F1 Score:\", f1)\n",
    "\n",
    "    finish = time.time()\n",
    "    print(\"время выполнения\", finish - start)\n",
    "\n",
    "run_ada_boosting()"
   ],
   "metadata": {
    "collapsed": false,
    "pycharm": {
     "name": "#%%\n"
    }
   }
  },
  {
   "cell_type": "markdown",
   "source": [
    "# Universal algorithm 2"
   ],
   "metadata": {
    "collapsed": false,
    "pycharm": {
     "name": "#%% md\n"
    }
   }
  },
  {
   "cell_type": "code",
   "execution_count": 34,
   "outputs": [
    {
     "name": "stdout",
     "output_type": "stream",
     "text": [
      "column to input: Index(['ID', 'C', 'D', 'E', 'G', 'H', 'I', 'J', 'L', 'M', 'N', 'O', 'R', 'S',\n",
      "       'W', 'X', 'MARKER'],\n",
      "      dtype='object')\n",
      "built-in algorithm selected\n"
     ]
    },
    {
     "name": "stderr",
     "output_type": "stream",
     "text": [
      "[I 2023-10-04 12:36:31,344] A new study created in memory with name: no-name-0e8e66bc-c519-49fb-b6d3-12fd92070de3\n"
     ]
    },
    {
     "name": "stdout",
     "output_type": "stream",
     "text": [
      "Selected Features: Index(['H', 'O', 'G', 'S', 'W', 'I', 'N', 'D', 'E', 'L'], dtype='object')\n"
     ]
    },
    {
     "name": "stderr",
     "output_type": "stream",
     "text": [
      "[I 2023-10-04 12:36:36,749] Trial 0 finished with value: 0.5 and parameters: {'n_estimators': 50, 'max_depth': 7, 'min_samples_split': 0.6922815966115609, 'min_samples_leaf': 0.16690911026017619}. Best is trial 0 with value: 0.5.\n",
      "[I 2023-10-04 12:36:36,768] Trial 3 finished with value: 0.5 and parameters: {'n_estimators': 50, 'max_depth': 9, 'min_samples_split': 0.3651584836584837, 'min_samples_leaf': 0.40027706997887186}. Best is trial 0 with value: 0.5.\n",
      "[I 2023-10-04 12:36:54,143] Trial 2 finished with value: 0.5 and parameters: {'n_estimators': 250, 'max_depth': 7, 'min_samples_split': 0.7019229235032746, 'min_samples_leaf': 0.3561949112116444}. Best is trial 0 with value: 0.5.\n",
      "[I 2023-10-04 12:37:02,702] Trial 1 finished with value: 0.5 and parameters: {'n_estimators': 350, 'max_depth': 7, 'min_samples_split': 0.7508839030892498, 'min_samples_leaf': 0.4085657148066053}. Best is trial 0 with value: 0.5.\n",
      "[I 2023-10-04 12:37:02,999] Trial 6 finished with value: 0.5 and parameters: {'n_estimators': 100, 'max_depth': 13, 'min_samples_split': 0.9267734041026484, 'min_samples_leaf': 0.20143580566680624}. Best is trial 0 with value: 0.5.\n",
      "[I 2023-10-04 12:37:30,167] Trial 4 finished with value: 0.8959536552933572 and parameters: {'n_estimators': 250, 'max_depth': 4, 'min_samples_split': 0.3190442481959475, 'min_samples_leaf': 0.2657668388479981}. Best is trial 4 with value: 0.8959536552933572.\n",
      "[I 2023-10-04 12:37:30,699] Trial 7 finished with value: 0.5 and parameters: {'n_estimators': 350, 'max_depth': 11, 'min_samples_split': 0.8821111637251026, 'min_samples_leaf': 0.3444986493795802}. Best is trial 4 with value: 0.8959536552933572.\n",
      "[I 2023-10-04 12:37:39,733] Trial 10 finished with value: 0.5 and parameters: {'n_estimators': 100, 'max_depth': 5, 'min_samples_split': 0.8395211495942867, 'min_samples_leaf': 0.38555395313512125}. Best is trial 4 with value: 0.8959536552933572.\n",
      "[I 2023-10-04 12:37:41,710] Trial 5 finished with value: 0.8994105321955936 and parameters: {'n_estimators': 300, 'max_depth': 6, 'min_samples_split': 0.4142496485758233, 'min_samples_leaf': 0.24812444422327834}. Best is trial 5 with value: 0.8994105321955936.\n",
      "[I 2023-10-04 12:37:58,233] Trial 9 finished with value: 0.5 and parameters: {'n_estimators': 300, 'max_depth': 15, 'min_samples_split': 0.47177076466803747, 'min_samples_leaf': 0.3900425671136575}. Best is trial 5 with value: 0.8994105321955936.\n",
      "[I 2023-10-04 12:38:11,279] Trial 11 finished with value: 0.5 and parameters: {'n_estimators': 350, 'max_depth': 11, 'min_samples_split': 0.5645423625272193, 'min_samples_leaf': 0.3782799554257681}. Best is trial 5 with value: 0.8994105321955936.\n",
      "[I 2023-10-04 12:38:13,161] Trial 12 finished with value: 0.5 and parameters: {'n_estimators': 350, 'max_depth': 7, 'min_samples_split': 0.8015154243214857, 'min_samples_leaf': 0.12733892492198606}. Best is trial 5 with value: 0.8994105321955936.\n",
      "[I 2023-10-04 12:38:23,571] Trial 8 finished with value: 0.9142672272524722 and parameters: {'n_estimators': 350, 'max_depth': 5, 'min_samples_split': 0.5581940460143187, 'min_samples_leaf': 0.1737615035933729}. Best is trial 8 with value: 0.9142672272524722.\n",
      "[I 2023-10-04 12:38:48,597] Trial 14 finished with value: 0.8956715524724486 and parameters: {'n_estimators': 200, 'max_depth': 3, 'min_samples_split': 0.15945471507984926, 'min_samples_leaf': 0.26924635826185256}. Best is trial 8 with value: 0.9142672272524722.\n",
      "[I 2023-10-04 12:38:51,267] Trial 15 finished with value: 0.8980034635772485 and parameters: {'n_estimators': 200, 'max_depth': 4, 'min_samples_split': 0.16245261094129204, 'min_samples_leaf': 0.2454141812619696}. Best is trial 8 with value: 0.9142672272524722.\n",
      "[I 2023-10-04 12:39:33,338] Trial 13 finished with value: 0.9505575414432414 and parameters: {'n_estimators': 200, 'max_depth': 3, 'min_samples_split': 0.0888314242428434, 'min_samples_leaf': 0.0549603574329971}. Best is trial 13 with value: 0.9505575414432414.\n",
      "[I 2023-10-04 12:39:42,490] Trial 17 finished with value: 0.9190176354231891 and parameters: {'n_estimators': 250, 'max_depth': 5, 'min_samples_split': 0.5405967726284895, 'min_samples_leaf': 0.06066344472432539}. Best is trial 13 with value: 0.9505575414432414.\n",
      "[I 2023-10-04 12:39:52,046] Trial 16 finished with value: 0.9486568382988466 and parameters: {'n_estimators': 200, 'max_depth': 3, 'min_samples_split': 0.10550984867660512, 'min_samples_leaf': 0.06138779822459525}. Best is trial 13 with value: 0.9505575414432414.\n",
      "[I 2023-10-04 12:39:53,724] Trial 18 finished with value: 0.9180576941358318 and parameters: {'n_estimators': 300, 'max_depth': 5, 'min_samples_split': 0.5646127087792544, 'min_samples_leaf': 0.05682606625033032}. Best is trial 13 with value: 0.9505575414432414.\n",
      "[I 2023-10-04 12:40:27,379] Trial 19 finished with value: 0.9467142248961974 and parameters: {'n_estimators': 150, 'max_depth': 3, 'min_samples_split': 0.061135981293780506, 'min_samples_leaf': 0.07187863046035896}. Best is trial 13 with value: 0.9505575414432414.\n"
     ]
    },
    {
     "name": "stdout",
     "output_type": "stream",
     "text": [
      "Best Hyperparameters: {'n_estimators': 200, 'max_depth': 3, 'min_samples_split': 0.0888314242428434, 'min_samples_leaf': 0.0549603574329971}\n",
      "Test Predictions:        0\n",
      "0      1\n",
      "1      1\n",
      "2      1\n",
      "3      1\n",
      "4      0\n",
      "...   ..\n",
      "38400  0\n",
      "38401  1\n",
      "38402  1\n",
      "38403  1\n",
      "38404  0\n",
      "\n",
      "[38405 rows x 1 columns]\n",
      "Test F1 Score: 0.014648220759044166\n",
      "Test ROC AUC Score: 0.727317182419608\n"
     ]
    }
   ],
   "source": [
    "# Hyperparameter Optimization\n",
    "def optimize_hyperparameters(X, y, model_type):\n",
    "    def objective(trial):\n",
    "        if model_type == 'logistic_regression':\n",
    "            param_grid = {\n",
    "                'penalty': trial.suggest_categorical('penalty', ['l1', 'l2']),\n",
    "                'C': trial.suggest_loguniform('C', 1e-6, 1e4)\n",
    "            }\n",
    "            model = LogisticRegression(solver='liblinear', class_weight='balanced', **param_grid)\n",
    "        elif model_type == 'random_forest':\n",
    "            param_grid = {\n",
    "                'n_estimators': trial.suggest_int('n_estimators', 50, 350, step=50),\n",
    "                'max_depth': trial.suggest_int('max_depth', 3, 15),\n",
    "                'min_samples_split': trial.suggest_float('min_samples_split', 0.05, 1.0),\n",
    "                'min_samples_leaf': trial.suggest_float('min_samples_leaf', 0.05, 0.5)\n",
    "            }\n",
    "            model = RandomForestClassifier(\n",
    "                n_estimators=param_grid['n_estimators'],\n",
    "                max_depth=param_grid['max_depth'],\n",
    "                min_samples_split=param_grid['min_samples_split'],\n",
    "                min_samples_leaf=param_grid['min_samples_leaf'],\n",
    "                class_weight='balanced',\n",
    "                random_state=42\n",
    "            )\n",
    "        elif model_type == 'adaboost':\n",
    "            n_estimators = trial.suggest_int('n_estimators', 5, 75, step=5)\n",
    "            learning_rate = trial.suggest_float('learning_rate', 0.001, 1.0, log=True)\n",
    "\n",
    "            estimator = DecisionTreeClassifier(class_weight='balanced')\n",
    "            model = AdaBoostClassifier(n_estimators=n_estimators, learning_rate=learning_rate, estimator=estimator, random_state=42)\n",
    "        # Add other models and hyperparameters as needed\n",
    "\n",
    "        skf = StratifiedKFold(n_splits=5, shuffle=True, random_state=42)\n",
    "        scores = cross_val_score(model, X, y, cv=skf, scoring='roc_auc' )\n",
    "        return np.mean(scores)\n",
    "\n",
    "    study = optuna.create_study(direction='maximize')\n",
    "    study.optimize(objective, n_trials=20,n_jobs= 4)\n",
    "    best_params = study.best_params\n",
    "    return best_params\n",
    "\n",
    "# Model training\n",
    "def train_model(X_train, y_train, model_type, hyperparameters=None):\n",
    "    if model_type == 'logistic_regression':\n",
    "        if hyperparameters is None:\n",
    "            model = LogisticRegression(solver='liblinear', class_weight='balanced')\n",
    "        else:\n",
    "            model = LogisticRegression(solver='liblinear', class_weight='balanced', **hyperparameters)\n",
    "    elif model_type == 'random_forest':\n",
    "        model = RandomForestClassifier(\n",
    "            #class_weight='balanced',\n",
    "            random_state=42\n",
    "        )\n",
    "    elif model_type == 'adaboost':\n",
    "        if hyperparameters is None:\n",
    "            model = AdaBoostClassifier(random_state=42)\n",
    "        else:\n",
    "            model = AdaBoostClassifier(n_estimators=hyperparameters['n_estimators'], learning_rate=hyperparameters['learning_rate'], random_state=42)\n",
    "    #Add other models and options as needed\n",
    "\n",
    "    model.fit(X_train, y_train)\n",
    "    return model\n",
    "\n",
    "# Model evaluation\n",
    "def evaluate_model(model, X_test, y_test):\n",
    "    y_pred_prob = model.predict_proba(X_test)[:, 1]\n",
    "    fpr, tpr, thresholds = roc_curve(y_test, y_pred_prob)\n",
    "    optimal_threshold_index = np.argmax(tpr - fpr)\n",
    "    optimal_threshold = thresholds[optimal_threshold_index]\n",
    "    y_pred = (y_pred_prob > optimal_threshold).astype(int)\n",
    "\n",
    "    f1 = f1_score(y_test, y_pred)\n",
    "    roc_auc = roc_auc_score(y_test, y_pred_prob)\n",
    "\n",
    "    return y_pred, f1, roc_auc\n",
    "\n",
    "def fitness_score(model_type, X_train, y_train, selected_features):\n",
    "    model = train_model(X_train[selected_features], y_train, model_type)\n",
    "    _, _, roc_auc_score = evaluate_model(model, X_train[selected_features], y_train)\n",
    "    return roc_auc_score\n",
    "\n",
    "def mutate(selected_features, mutation_rate):\n",
    "    mutated_features = selected_features.copy()\n",
    "    for i in range(len(mutated_features)):\n",
    "        if random.random() < mutation_rate:\n",
    "            mutated_features[i] = random.randint(0, 1)  # 1 or 0 with equal probability\n",
    "    return mutated_features\n",
    "\n",
    "# Genetic algorithm\n",
    "def genetic_algorithm(X_train, y_train, model_type, num_gener, popul_size, mutation_rate):\n",
    "    num_features = X_train.shape[1]\n",
    "    column_names = X_train.columns\n",
    "\n",
    "    population = [random.choices([0, 1], k=num_features) for _ in range(popul_size)]\n",
    "\n",
    "    for generation in range(num_gener):\n",
    "        scores = []\n",
    "        for selected_features in population:\n",
    "            selected_column_names = [column_names[i] for i, select in enumerate(selected_features) if select == 1]\n",
    "            score = fitness_score(model_type, X_train, y_train, selected_column_names)\n",
    "            scores.append((selected_features, score))\n",
    "\n",
    "        scores.sort(key=lambda x: x[1], reverse=True)\n",
    "        elite = scores[:num_features // 2]\n",
    "\n",
    "        new_population = [selected_features for selected_features, _ in elite]\n",
    "        while len(new_population) < num_features:\n",
    "            parent1, parent2 = elite[0][0], elite[1][0]  # Use the top 2 parents\n",
    "            child = [parent1[i] if random.random() < 0.5 else parent2[i] for i in range(num_features)]\n",
    "            child = mutate(child, mutation_rate)\n",
    "            new_population.append(child)\n",
    "\n",
    "        population = new_population\n",
    "\n",
    "    best_features = max(scores, key=lambda x: x[1])[0]\n",
    "    return best_features\n",
    "\n",
    "def select_features_random_forest(X_train, y_train, num_features):\n",
    "    model = RandomForestClassifier(n_estimators=100, random_state=42)\n",
    "    model.fit(X_train, y_train)\n",
    "\n",
    "    feature_importances = model.feature_importances_\n",
    "    feature_indices = np.argsort(feature_importances)[::-1]  # Sort in descending order\n",
    "\n",
    "    selected_features = X_train.columns[feature_indices[:num_features]]\n",
    "    return selected_features\n",
    "\n",
    "\n",
    "def select_features_adaboost(X_train, y_train, num_features):\n",
    "    model = AdaBoostClassifier(n_estimators=100, random_state=42)\n",
    "    model.fit(X_train, y_train)\n",
    "\n",
    "    feature_weights = model.feature_importances_\n",
    "    feature_indices = np.argsort(feature_weights)[::-1]  # Sort in descending order\n",
    "\n",
    "    selected_features = X_train.columns[feature_indices[:num_features]]\n",
    "    return selected_features\n",
    "\n",
    "\n",
    "# Run the experiment\n",
    "def run_experiment(train_data, test_data, target_column_name, model_type, use_gen_alg=False, num_gener=10, popul_size=20, num_features=False, mutat_rate=0.1, hyp_optimize=True):\n",
    "    X_train = train_data.drop(columns=['ID', target_column_name])\n",
    "    y_train = train_data[target_column_name]\n",
    "\n",
    "    if (use_gen_alg or num_features) is False:\n",
    "        best_features = list(X_train.columns)  # Use all features\n",
    "    else:\n",
    "        if use_gen_alg and not num_features:\n",
    "            print(\"genetic algorithm selected\")\n",
    "            best_feature_indices = genetic_algorithm(X_train, y_train, model_type, num_gener, popul_size, mutat_rate)\n",
    "            best_features = [X_train.columns[i] for i, select in enumerate(best_feature_indices) if select == 1]\n",
    "        else:\n",
    "            print(\"built-in algorithm selected\")\n",
    "            if model_type == 'logistic_regression' and num_features:\n",
    "                # Use top N features based on coefficients if not optimizing hyperparameters\n",
    "                model = train_model(X_train, y_train, model_type)\n",
    "                coef_abs = np.abs(model.coef_[0])\n",
    "                best_features_idx = np.argsort(coef_abs)[-num_features:]\n",
    "                best_features = list(X_train.columns[best_features_idx])\n",
    "\n",
    "            elif model_type == 'random_forest' and num_features:\n",
    "                best_features = select_features_random_forest(X_train, y_train, num_features)\n",
    "\n",
    "            elif model_type == 'adaboost' and num_features:\n",
    "                best_features = select_features_adaboost(X_train, y_train, num_features)\n",
    "\n",
    "    print(\"Selected Features:\", best_features)\n",
    "\n",
    "    X_train_selected = X_train[best_features]\n",
    "    X_test_selected = test_data.drop(columns=['ID', target_column_name])[best_features]\n",
    "\n",
    "    if hyp_optimize:\n",
    "        best_hyperparameters = optimize_hyperparameters(X_train_selected, y_train, model_type)\n",
    "        print(\"Best Hyperparameters:\", best_hyperparameters)\n",
    "    else:\n",
    "        best_hyperparameters = None\n",
    "\n",
    "    model = train_model(X_train_selected, y_train, model_type, best_hyperparameters)\n",
    "\n",
    "    y_pred, f1, roc_auc = evaluate_model(model, X_test_selected, test_data[target_column_name])\n",
    "\n",
    "    y_pred = pd.DataFrame(y_pred)\n",
    "    y_pred.to_csv('./data_proc/y_pred_universal.csv')\n",
    "\n",
    "    print(\"Test Predictions:\", y_pred)\n",
    "    print(\"Test F1 Score:\", f1)\n",
    "    print(\"Test ROC AUC Score:\", roc_auc)\n",
    "\n",
    "print(\"column to input:\",train_data_copy.columns)\n",
    "run_experiment(train_data_copy, test_data_copy, 'MARKER', \"random_forest\", use_gen_alg=False, num_gener=5, popul_size=4,num_features= 10, mutat_rate=0.999, hyp_optimize=True)"
   ],
   "metadata": {
    "collapsed": false,
    "pycharm": {
     "name": "#%%\n"
    }
   }
  },
  {
   "cell_type": "code",
   "execution_count": 34,
   "outputs": [],
   "source": [
    "\n"
   ],
   "metadata": {
    "collapsed": false,
    "pycharm": {
     "name": "#%%\n"
    }
   }
  },
  {
   "cell_type": "code",
   "execution_count": 34,
   "outputs": [],
   "source": [],
   "metadata": {
    "collapsed": false,
    "pycharm": {
     "name": "#%%\n"
    }
   }
  },
  {
   "cell_type": "code",
   "execution_count": 34,
   "outputs": [],
   "source": [],
   "metadata": {
    "collapsed": false,
    "pycharm": {
     "name": "#%%\n"
    }
   }
  },
  {
   "cell_type": "code",
   "execution_count": 34,
   "outputs": [],
   "source": [],
   "metadata": {
    "collapsed": false,
    "pycharm": {
     "name": "#%%\n"
    }
   }
  },
  {
   "cell_type": "code",
   "execution_count": 34,
   "outputs": [],
   "source": [],
   "metadata": {
    "collapsed": false,
    "pycharm": {
     "name": "#%%\n"
    }
   }
  },
  {
   "cell_type": "code",
   "execution_count": 34,
   "outputs": [],
   "source": [],
   "metadata": {
    "collapsed": false,
    "pycharm": {
     "name": "#%%\n"
    }
   }
  },
  {
   "cell_type": "code",
   "execution_count": 34,
   "outputs": [],
   "source": [],
   "metadata": {
    "collapsed": false,
    "pycharm": {
     "name": "#%%\n"
    }
   }
  },
  {
   "cell_type": "code",
   "execution_count": 34,
   "outputs": [],
   "source": [],
   "metadata": {
    "collapsed": false,
    "pycharm": {
     "name": "#%%\n"
    }
   }
  },
  {
   "cell_type": "code",
   "execution_count": 34,
   "outputs": [],
   "source": [],
   "metadata": {
    "collapsed": false,
    "pycharm": {
     "name": "#%%\n"
    }
   }
  },
  {
   "cell_type": "code",
   "execution_count": 34,
   "outputs": [],
   "source": [],
   "metadata": {
    "collapsed": false,
    "pycharm": {
     "name": "#%%\n"
    }
   }
  },
  {
   "cell_type": "code",
   "execution_count": 34,
   "outputs": [],
   "source": [],
   "metadata": {
    "collapsed": false,
    "pycharm": {
     "name": "#%%\n"
    }
   }
  },
  {
   "cell_type": "code",
   "execution_count": 34,
   "outputs": [],
   "source": [],
   "metadata": {
    "collapsed": false,
    "pycharm": {
     "name": "#%%\n"
    }
   }
  },
  {
   "cell_type": "code",
   "execution_count": 34,
   "outputs": [],
   "source": [],
   "metadata": {
    "collapsed": false,
    "pycharm": {
     "name": "#%%\n"
    }
   }
  },
  {
   "cell_type": "code",
   "execution_count": 34,
   "outputs": [],
   "source": [],
   "metadata": {
    "collapsed": false,
    "pycharm": {
     "name": "#%%\n"
    }
   }
  },
  {
   "cell_type": "code",
   "execution_count": 34,
   "outputs": [],
   "source": [],
   "metadata": {
    "collapsed": false,
    "pycharm": {
     "name": "#%%\n"
    }
   }
  },
  {
   "cell_type": "code",
   "execution_count": 34,
   "outputs": [],
   "source": [],
   "metadata": {
    "collapsed": false,
    "pycharm": {
     "name": "#%%\n"
    }
   }
  },
  {
   "cell_type": "code",
   "execution_count": 34,
   "outputs": [],
   "source": [],
   "metadata": {
    "collapsed": false,
    "pycharm": {
     "name": "#%%\n"
    }
   }
  },
  {
   "cell_type": "code",
   "execution_count": 34,
   "outputs": [],
   "source": [],
   "metadata": {
    "collapsed": false,
    "pycharm": {
     "name": "#%%\n"
    }
   }
  },
  {
   "cell_type": "code",
   "execution_count": 34,
   "outputs": [],
   "source": [],
   "metadata": {
    "collapsed": false,
    "pycharm": {
     "name": "#%%\n"
    }
   }
  },
  {
   "cell_type": "code",
   "execution_count": 34,
   "outputs": [],
   "source": [],
   "metadata": {
    "collapsed": false,
    "pycharm": {
     "name": "#%%\n"
    }
   }
  },
  {
   "cell_type": "code",
   "execution_count": 34,
   "outputs": [],
   "source": [],
   "metadata": {
    "collapsed": false,
    "pycharm": {
     "name": "#%%\n"
    }
   }
  },
  {
   "cell_type": "code",
   "execution_count": 34,
   "outputs": [],
   "source": [],
   "metadata": {
    "collapsed": false,
    "pycharm": {
     "name": "#%%\n"
    }
   }
  },
  {
   "cell_type": "code",
   "execution_count": 34,
   "outputs": [],
   "source": [],
   "metadata": {
    "collapsed": false,
    "pycharm": {
     "name": "#%%\n"
    }
   }
  },
  {
   "cell_type": "code",
   "execution_count": 34,
   "outputs": [],
   "source": [],
   "metadata": {
    "collapsed": false,
    "pycharm": {
     "name": "#%%\n"
    }
   }
  },
  {
   "cell_type": "code",
   "execution_count": 34,
   "outputs": [],
   "source": [],
   "metadata": {
    "collapsed": false,
    "pycharm": {
     "name": "#%%\n"
    }
   }
  },
  {
   "cell_type": "code",
   "execution_count": 34,
   "outputs": [],
   "source": [],
   "metadata": {
    "collapsed": false,
    "pycharm": {
     "name": "#%%\n"
    }
   }
  },
  {
   "cell_type": "code",
   "execution_count": 34,
   "outputs": [],
   "source": [],
   "metadata": {
    "collapsed": false,
    "pycharm": {
     "name": "#%%\n"
    }
   }
  },
  {
   "cell_type": "code",
   "execution_count": 34,
   "outputs": [],
   "source": [],
   "metadata": {
    "collapsed": false,
    "pycharm": {
     "name": "#%%\n"
    }
   }
  },
  {
   "cell_type": "code",
   "execution_count": 34,
   "outputs": [],
   "source": [],
   "metadata": {
    "collapsed": false,
    "pycharm": {
     "name": "#%%\n"
    }
   }
  },
  {
   "cell_type": "code",
   "execution_count": 34,
   "outputs": [],
   "source": [],
   "metadata": {
    "collapsed": false,
    "pycharm": {
     "name": "#%%\n"
    }
   }
  },
  {
   "cell_type": "code",
   "execution_count": 34,
   "outputs": [],
   "source": [],
   "metadata": {
    "collapsed": false,
    "pycharm": {
     "name": "#%%\n"
    }
   }
  },
  {
   "cell_type": "code",
   "execution_count": 34,
   "outputs": [],
   "source": [],
   "metadata": {
    "collapsed": false,
    "pycharm": {
     "name": "#%%\n"
    }
   }
  },
  {
   "cell_type": "code",
   "execution_count": 34,
   "outputs": [],
   "source": [],
   "metadata": {
    "collapsed": false,
    "pycharm": {
     "name": "#%%\n"
    }
   }
  },
  {
   "cell_type": "code",
   "execution_count": 34,
   "outputs": [],
   "source": [],
   "metadata": {
    "collapsed": false,
    "pycharm": {
     "name": "#%%\n"
    }
   }
  },
  {
   "cell_type": "code",
   "execution_count": 34,
   "outputs": [],
   "source": [],
   "metadata": {
    "collapsed": false,
    "pycharm": {
     "name": "#%%\n"
    }
   }
  },
  {
   "cell_type": "code",
   "execution_count": 34,
   "outputs": [],
   "source": [],
   "metadata": {
    "collapsed": false,
    "pycharm": {
     "name": "#%%\n"
    }
   }
  },
  {
   "cell_type": "code",
   "execution_count": 34,
   "outputs": [],
   "source": [],
   "metadata": {
    "collapsed": false,
    "pycharm": {
     "name": "#%%\n"
    }
   }
  },
  {
   "cell_type": "code",
   "execution_count": 34,
   "outputs": [],
   "source": [],
   "metadata": {
    "collapsed": false,
    "pycharm": {
     "name": "#%%\n"
    }
   }
  },
  {
   "cell_type": "code",
   "execution_count": 34,
   "outputs": [],
   "source": [],
   "metadata": {
    "collapsed": false,
    "pycharm": {
     "name": "#%%\n"
    }
   }
  },
  {
   "cell_type": "code",
   "execution_count": 34,
   "outputs": [],
   "source": [],
   "metadata": {
    "collapsed": false,
    "pycharm": {
     "name": "#%%\n"
    }
   }
  },
  {
   "cell_type": "code",
   "execution_count": 34,
   "outputs": [],
   "source": [],
   "metadata": {
    "collapsed": false,
    "pycharm": {
     "name": "#%%\n"
    }
   }
  },
  {
   "cell_type": "code",
   "execution_count": 34,
   "outputs": [],
   "source": [],
   "metadata": {
    "collapsed": false,
    "pycharm": {
     "name": "#%%\n"
    }
   }
  },
  {
   "cell_type": "code",
   "execution_count": 34,
   "outputs": [],
   "source": [],
   "metadata": {
    "collapsed": false,
    "pycharm": {
     "name": "#%%\n"
    }
   }
  },
  {
   "cell_type": "code",
   "execution_count": 34,
   "outputs": [],
   "source": [],
   "metadata": {
    "collapsed": false,
    "pycharm": {
     "name": "#%%\n"
    }
   }
  },
  {
   "cell_type": "code",
   "execution_count": 34,
   "outputs": [],
   "source": [],
   "metadata": {
    "collapsed": false,
    "pycharm": {
     "name": "#%%\n"
    }
   }
  },
  {
   "cell_type": "code",
   "execution_count": 34,
   "outputs": [],
   "source": [],
   "metadata": {
    "collapsed": false,
    "pycharm": {
     "name": "#%%\n"
    }
   }
  },
  {
   "cell_type": "code",
   "execution_count": 34,
   "outputs": [],
   "source": [],
   "metadata": {
    "collapsed": false,
    "pycharm": {
     "name": "#%%\n"
    }
   }
  },
  {
   "cell_type": "code",
   "execution_count": 34,
   "outputs": [],
   "source": [],
   "metadata": {
    "collapsed": false,
    "pycharm": {
     "name": "#%%\n"
    }
   }
  },
  {
   "cell_type": "code",
   "execution_count": 34,
   "outputs": [],
   "source": [],
   "metadata": {
    "collapsed": false,
    "pycharm": {
     "name": "#%%\n"
    }
   }
  },
  {
   "cell_type": "code",
   "execution_count": 34,
   "outputs": [],
   "source": [],
   "metadata": {
    "collapsed": false,
    "pycharm": {
     "name": "#%%\n"
    }
   }
  },
  {
   "cell_type": "code",
   "execution_count": 34,
   "outputs": [],
   "source": [],
   "metadata": {
    "collapsed": false,
    "pycharm": {
     "name": "#%%\n"
    }
   }
  },
  {
   "cell_type": "code",
   "execution_count": 34,
   "outputs": [],
   "source": [],
   "metadata": {
    "collapsed": false,
    "pycharm": {
     "name": "#%%\n"
    }
   }
  },
  {
   "cell_type": "code",
   "execution_count": 34,
   "outputs": [],
   "source": [],
   "metadata": {
    "collapsed": false,
    "pycharm": {
     "name": "#%%\n"
    }
   }
  },
  {
   "cell_type": "code",
   "execution_count": 34,
   "outputs": [],
   "source": [],
   "metadata": {
    "collapsed": false,
    "pycharm": {
     "name": "#%%\n"
    }
   }
  },
  {
   "cell_type": "code",
   "execution_count": 34,
   "outputs": [],
   "source": [],
   "metadata": {
    "collapsed": false,
    "pycharm": {
     "name": "#%%\n"
    }
   }
  },
  {
   "cell_type": "code",
   "execution_count": 34,
   "outputs": [],
   "source": [],
   "metadata": {
    "collapsed": false,
    "pycharm": {
     "name": "#%%\n"
    }
   }
  },
  {
   "cell_type": "code",
   "execution_count": 34,
   "outputs": [],
   "source": [],
   "metadata": {
    "collapsed": false,
    "pycharm": {
     "name": "#%%\n"
    }
   }
  },
  {
   "cell_type": "code",
   "execution_count": 34,
   "outputs": [],
   "source": [],
   "metadata": {
    "collapsed": false,
    "pycharm": {
     "name": "#%%\n"
    }
   }
  },
  {
   "cell_type": "code",
   "execution_count": 34,
   "outputs": [],
   "source": [],
   "metadata": {
    "collapsed": false,
    "pycharm": {
     "name": "#%%\n"
    }
   }
  },
  {
   "cell_type": "code",
   "execution_count": 34,
   "outputs": [],
   "source": [],
   "metadata": {
    "collapsed": false,
    "pycharm": {
     "name": "#%%\n"
    }
   }
  },
  {
   "cell_type": "code",
   "execution_count": 34,
   "outputs": [],
   "source": [],
   "metadata": {
    "collapsed": false,
    "pycharm": {
     "name": "#%%\n"
    }
   }
  },
  {
   "cell_type": "code",
   "execution_count": 34,
   "outputs": [],
   "source": [],
   "metadata": {
    "collapsed": false,
    "pycharm": {
     "name": "#%%\n"
    }
   }
  },
  {
   "cell_type": "code",
   "execution_count": 34,
   "outputs": [],
   "source": [],
   "metadata": {
    "collapsed": false,
    "pycharm": {
     "name": "#%%\n"
    }
   }
  },
  {
   "cell_type": "code",
   "execution_count": 34,
   "outputs": [],
   "source": [],
   "metadata": {
    "collapsed": false,
    "pycharm": {
     "name": "#%%\n"
    }
   }
  },
  {
   "cell_type": "code",
   "execution_count": 34,
   "outputs": [],
   "source": [],
   "metadata": {
    "collapsed": false,
    "pycharm": {
     "name": "#%%\n"
    }
   }
  },
  {
   "cell_type": "code",
   "execution_count": 34,
   "outputs": [],
   "source": [],
   "metadata": {
    "collapsed": false,
    "pycharm": {
     "name": "#%%\n"
    }
   }
  },
  {
   "cell_type": "code",
   "execution_count": 34,
   "outputs": [],
   "source": [],
   "metadata": {
    "collapsed": false,
    "pycharm": {
     "name": "#%%\n"
    }
   }
  },
  {
   "cell_type": "code",
   "execution_count": 34,
   "outputs": [],
   "source": [],
   "metadata": {
    "collapsed": false,
    "pycharm": {
     "name": "#%%\n"
    }
   }
  },
  {
   "cell_type": "code",
   "execution_count": 34,
   "outputs": [],
   "source": [],
   "metadata": {
    "collapsed": false,
    "pycharm": {
     "name": "#%%\n"
    }
   }
  },
  {
   "cell_type": "code",
   "execution_count": 34,
   "outputs": [],
   "source": [],
   "metadata": {
    "collapsed": false,
    "pycharm": {
     "name": "#%%\n"
    }
   }
  },
  {
   "cell_type": "code",
   "execution_count": 34,
   "outputs": [],
   "source": [],
   "metadata": {
    "collapsed": false,
    "pycharm": {
     "name": "#%%\n"
    }
   }
  },
  {
   "cell_type": "code",
   "execution_count": 34,
   "outputs": [],
   "source": [],
   "metadata": {
    "collapsed": false,
    "pycharm": {
     "name": "#%%\n"
    }
   }
  },
  {
   "cell_type": "code",
   "execution_count": 34,
   "outputs": [],
   "source": [],
   "metadata": {
    "collapsed": false,
    "pycharm": {
     "name": "#%%\n"
    }
   }
  },
  {
   "cell_type": "code",
   "execution_count": 34,
   "outputs": [],
   "source": [],
   "metadata": {
    "collapsed": false,
    "pycharm": {
     "name": "#%%\n"
    }
   }
  },
  {
   "cell_type": "code",
   "execution_count": 34,
   "outputs": [],
   "source": [],
   "metadata": {
    "collapsed": false,
    "pycharm": {
     "name": "#%%\n"
    }
   }
  },
  {
   "cell_type": "code",
   "execution_count": 34,
   "outputs": [],
   "source": [],
   "metadata": {
    "collapsed": false,
    "pycharm": {
     "name": "#%%\n"
    }
   }
  },
  {
   "cell_type": "code",
   "execution_count": 34,
   "outputs": [],
   "source": [],
   "metadata": {
    "collapsed": false,
    "pycharm": {
     "name": "#%%\n"
    }
   }
  },
  {
   "cell_type": "code",
   "execution_count": 34,
   "outputs": [],
   "source": [],
   "metadata": {
    "collapsed": false,
    "pycharm": {
     "name": "#%%\n"
    }
   }
  },
  {
   "cell_type": "code",
   "execution_count": 34,
   "outputs": [],
   "source": [],
   "metadata": {
    "collapsed": false,
    "pycharm": {
     "name": "#%%\n"
    }
   }
  },
  {
   "cell_type": "code",
   "execution_count": 34,
   "outputs": [],
   "source": [],
   "metadata": {
    "collapsed": false,
    "pycharm": {
     "name": "#%%\n"
    }
   }
  },
  {
   "cell_type": "code",
   "execution_count": 34,
   "outputs": [],
   "source": [],
   "metadata": {
    "collapsed": false,
    "pycharm": {
     "name": "#%%\n"
    }
   }
  },
  {
   "cell_type": "code",
   "execution_count": 34,
   "outputs": [],
   "source": [],
   "metadata": {
    "collapsed": false,
    "pycharm": {
     "name": "#%%\n"
    }
   }
  },
  {
   "cell_type": "code",
   "execution_count": 34,
   "outputs": [],
   "source": [],
   "metadata": {
    "collapsed": false,
    "pycharm": {
     "name": "#%%\n"
    }
   }
  },
  {
   "cell_type": "code",
   "execution_count": 34,
   "outputs": [],
   "source": [],
   "metadata": {
    "collapsed": false,
    "pycharm": {
     "name": "#%%\n"
    }
   }
  },
  {
   "cell_type": "code",
   "execution_count": 34,
   "outputs": [],
   "source": [],
   "metadata": {
    "collapsed": false,
    "pycharm": {
     "name": "#%%\n"
    }
   }
  },
  {
   "cell_type": "code",
   "execution_count": 34,
   "outputs": [],
   "source": [],
   "metadata": {
    "collapsed": false,
    "pycharm": {
     "name": "#%%\n"
    }
   }
  },
  {
   "cell_type": "code",
   "execution_count": 34,
   "outputs": [],
   "source": [],
   "metadata": {
    "collapsed": false,
    "pycharm": {
     "name": "#%%\n"
    }
   }
  },
  {
   "cell_type": "code",
   "execution_count": 34,
   "outputs": [],
   "source": [],
   "metadata": {
    "collapsed": false,
    "pycharm": {
     "name": "#%%\n"
    }
   }
  },
  {
   "cell_type": "code",
   "execution_count": 34,
   "outputs": [],
   "source": [],
   "metadata": {
    "collapsed": false,
    "pycharm": {
     "name": "#%%\n"
    }
   }
  },
  {
   "cell_type": "code",
   "execution_count": 34,
   "outputs": [],
   "source": [],
   "metadata": {
    "collapsed": false,
    "pycharm": {
     "name": "#%%\n"
    }
   }
  },
  {
   "cell_type": "code",
   "execution_count": 34,
   "outputs": [],
   "source": [],
   "metadata": {
    "collapsed": false,
    "pycharm": {
     "name": "#%%\n"
    }
   }
  },
  {
   "cell_type": "code",
   "execution_count": 34,
   "outputs": [],
   "source": [],
   "metadata": {
    "collapsed": false,
    "pycharm": {
     "name": "#%%\n"
    }
   }
  },
  {
   "cell_type": "code",
   "execution_count": 34,
   "outputs": [],
   "source": [],
   "metadata": {
    "collapsed": false,
    "pycharm": {
     "name": "#%%\n"
    }
   }
  },
  {
   "cell_type": "code",
   "execution_count": 34,
   "outputs": [],
   "source": [],
   "metadata": {
    "collapsed": false,
    "pycharm": {
     "name": "#%%\n"
    }
   }
  },
  {
   "cell_type": "code",
   "execution_count": 34,
   "outputs": [],
   "source": [],
   "metadata": {
    "collapsed": false,
    "pycharm": {
     "name": "#%%\n"
    }
   }
  },
  {
   "cell_type": "code",
   "execution_count": 34,
   "outputs": [],
   "source": [],
   "metadata": {
    "collapsed": false,
    "pycharm": {
     "name": "#%%\n"
    }
   }
  },
  {
   "cell_type": "code",
   "execution_count": 34,
   "outputs": [],
   "source": [],
   "metadata": {
    "collapsed": false,
    "pycharm": {
     "name": "#%%\n"
    }
   }
  },
  {
   "cell_type": "code",
   "execution_count": 34,
   "outputs": [],
   "source": [],
   "metadata": {
    "collapsed": false,
    "pycharm": {
     "name": "#%%\n"
    }
   }
  },
  {
   "cell_type": "code",
   "execution_count": 34,
   "outputs": [],
   "source": [],
   "metadata": {
    "collapsed": false,
    "pycharm": {
     "name": "#%%\n"
    }
   }
  },
  {
   "cell_type": "code",
   "execution_count": 34,
   "outputs": [],
   "source": [],
   "metadata": {
    "collapsed": false,
    "pycharm": {
     "name": "#%%\n"
    }
   }
  },
  {
   "cell_type": "code",
   "execution_count": 34,
   "outputs": [],
   "source": [],
   "metadata": {
    "collapsed": false,
    "pycharm": {
     "name": "#%%\n"
    }
   }
  },
  {
   "cell_type": "code",
   "execution_count": 34,
   "outputs": [],
   "source": [],
   "metadata": {
    "collapsed": false,
    "pycharm": {
     "name": "#%%\n"
    }
   }
  },
  {
   "cell_type": "code",
   "execution_count": 34,
   "outputs": [],
   "source": [],
   "metadata": {
    "collapsed": false,
    "pycharm": {
     "name": "#%%\n"
    }
   }
  },
  {
   "cell_type": "code",
   "execution_count": 34,
   "outputs": [],
   "source": [],
   "metadata": {
    "collapsed": false,
    "pycharm": {
     "name": "#%%\n"
    }
   }
  },
  {
   "cell_type": "code",
   "execution_count": 34,
   "outputs": [],
   "source": [],
   "metadata": {
    "collapsed": false,
    "pycharm": {
     "name": "#%%\n"
    }
   }
  },
  {
   "cell_type": "code",
   "execution_count": 34,
   "outputs": [],
   "source": [],
   "metadata": {
    "collapsed": false,
    "pycharm": {
     "name": "#%%\n"
    }
   }
  },
  {
   "cell_type": "code",
   "execution_count": 34,
   "outputs": [],
   "source": [],
   "metadata": {
    "collapsed": false,
    "pycharm": {
     "name": "#%%\n"
    }
   }
  },
  {
   "cell_type": "code",
   "execution_count": 34,
   "outputs": [],
   "source": [],
   "metadata": {
    "collapsed": false,
    "pycharm": {
     "name": "#%%\n"
    }
   }
  },
  {
   "cell_type": "code",
   "execution_count": 34,
   "outputs": [],
   "source": [],
   "metadata": {
    "collapsed": false,
    "pycharm": {
     "name": "#%%\n"
    }
   }
  },
  {
   "cell_type": "code",
   "execution_count": 34,
   "outputs": [],
   "source": [],
   "metadata": {
    "collapsed": false,
    "pycharm": {
     "name": "#%%\n"
    }
   }
  },
  {
   "cell_type": "code",
   "execution_count": 34,
   "outputs": [],
   "source": [],
   "metadata": {
    "collapsed": false,
    "pycharm": {
     "name": "#%%\n"
    }
   }
  },
  {
   "cell_type": "code",
   "execution_count": 34,
   "outputs": [],
   "source": [],
   "metadata": {
    "collapsed": false,
    "pycharm": {
     "name": "#%%\n"
    }
   }
  },
  {
   "cell_type": "code",
   "execution_count": 34,
   "outputs": [],
   "source": [],
   "metadata": {
    "collapsed": false,
    "pycharm": {
     "name": "#%%\n"
    }
   }
  },
  {
   "cell_type": "code",
   "execution_count": 34,
   "outputs": [],
   "source": [],
   "metadata": {
    "collapsed": false,
    "pycharm": {
     "name": "#%%\n"
    }
   }
  },
  {
   "cell_type": "code",
   "execution_count": 34,
   "outputs": [],
   "source": [],
   "metadata": {
    "collapsed": false,
    "pycharm": {
     "name": "#%%\n"
    }
   }
  },
  {
   "cell_type": "code",
   "execution_count": 34,
   "outputs": [],
   "source": [],
   "metadata": {
    "collapsed": false,
    "pycharm": {
     "name": "#%%\n"
    }
   }
  },
  {
   "cell_type": "code",
   "execution_count": 34,
   "outputs": [],
   "source": [],
   "metadata": {
    "collapsed": false,
    "pycharm": {
     "name": "#%%\n"
    }
   }
  },
  {
   "cell_type": "code",
   "execution_count": 34,
   "outputs": [],
   "source": [],
   "metadata": {
    "collapsed": false,
    "pycharm": {
     "name": "#%%\n"
    }
   }
  },
  {
   "cell_type": "code",
   "execution_count": 34,
   "outputs": [],
   "source": [],
   "metadata": {
    "collapsed": false,
    "pycharm": {
     "name": "#%%\n"
    }
   }
  },
  {
   "cell_type": "code",
   "execution_count": 34,
   "outputs": [],
   "source": [],
   "metadata": {
    "collapsed": false,
    "pycharm": {
     "name": "#%%\n"
    }
   }
  },
  {
   "cell_type": "code",
   "execution_count": 34,
   "outputs": [],
   "source": [],
   "metadata": {
    "collapsed": false,
    "pycharm": {
     "name": "#%%\n"
    }
   }
  },
  {
   "cell_type": "code",
   "execution_count": 34,
   "outputs": [],
   "source": [],
   "metadata": {
    "collapsed": false,
    "pycharm": {
     "name": "#%%\n"
    }
   }
  },
  {
   "cell_type": "code",
   "execution_count": 34,
   "outputs": [],
   "source": [],
   "metadata": {
    "collapsed": false,
    "pycharm": {
     "name": "#%%\n"
    }
   }
  },
  {
   "cell_type": "code",
   "execution_count": 34,
   "outputs": [],
   "source": [],
   "metadata": {
    "collapsed": false,
    "pycharm": {
     "name": "#%%\n"
    }
   }
  },
  {
   "cell_type": "code",
   "execution_count": 34,
   "outputs": [],
   "source": [],
   "metadata": {
    "collapsed": false,
    "pycharm": {
     "name": "#%%\n"
    }
   }
  },
  {
   "cell_type": "code",
   "execution_count": 34,
   "outputs": [],
   "source": [],
   "metadata": {
    "collapsed": false,
    "pycharm": {
     "name": "#%%\n"
    }
   }
  },
  {
   "cell_type": "code",
   "execution_count": 34,
   "outputs": [],
   "source": [],
   "metadata": {
    "collapsed": false,
    "pycharm": {
     "name": "#%%\n"
    }
   }
  },
  {
   "cell_type": "code",
   "execution_count": 34,
   "outputs": [],
   "source": [],
   "metadata": {
    "collapsed": false,
    "pycharm": {
     "name": "#%%\n"
    }
   }
  },
  {
   "cell_type": "code",
   "execution_count": 34,
   "outputs": [],
   "source": [],
   "metadata": {
    "collapsed": false,
    "pycharm": {
     "name": "#%%\n"
    }
   }
  },
  {
   "cell_type": "code",
   "execution_count": 34,
   "outputs": [],
   "source": [],
   "metadata": {
    "collapsed": false,
    "pycharm": {
     "name": "#%%\n"
    }
   }
  },
  {
   "cell_type": "code",
   "execution_count": 34,
   "outputs": [],
   "source": [],
   "metadata": {
    "collapsed": false,
    "pycharm": {
     "name": "#%%\n"
    }
   }
  },
  {
   "cell_type": "code",
   "execution_count": 34,
   "outputs": [],
   "source": [],
   "metadata": {
    "collapsed": false,
    "pycharm": {
     "name": "#%%\n"
    }
   }
  },
  {
   "cell_type": "code",
   "execution_count": 34,
   "outputs": [],
   "source": [],
   "metadata": {
    "collapsed": false,
    "pycharm": {
     "name": "#%%\n"
    }
   }
  },
  {
   "cell_type": "code",
   "execution_count": 34,
   "outputs": [],
   "source": [],
   "metadata": {
    "collapsed": false,
    "pycharm": {
     "name": "#%%\n"
    }
   }
  },
  {
   "cell_type": "code",
   "execution_count": 34,
   "outputs": [],
   "source": [],
   "metadata": {
    "collapsed": false,
    "pycharm": {
     "name": "#%%\n"
    }
   }
  },
  {
   "cell_type": "code",
   "execution_count": 34,
   "outputs": [],
   "source": [],
   "metadata": {
    "collapsed": false,
    "pycharm": {
     "name": "#%%\n"
    }
   }
  },
  {
   "cell_type": "code",
   "execution_count": 34,
   "outputs": [],
   "source": [],
   "metadata": {
    "collapsed": false,
    "pycharm": {
     "name": "#%%\n"
    }
   }
  },
  {
   "cell_type": "code",
   "execution_count": 34,
   "outputs": [],
   "source": [],
   "metadata": {
    "collapsed": false,
    "pycharm": {
     "name": "#%%\n"
    }
   }
  },
  {
   "cell_type": "code",
   "execution_count": 34,
   "outputs": [],
   "source": [],
   "metadata": {
    "collapsed": false,
    "pycharm": {
     "name": "#%%\n"
    }
   }
  },
  {
   "cell_type": "code",
   "execution_count": 34,
   "outputs": [],
   "source": [],
   "metadata": {
    "collapsed": false,
    "pycharm": {
     "name": "#%%\n"
    }
   }
  },
  {
   "cell_type": "code",
   "execution_count": 34,
   "outputs": [],
   "source": [],
   "metadata": {
    "collapsed": false,
    "pycharm": {
     "name": "#%%\n"
    }
   }
  },
  {
   "cell_type": "code",
   "execution_count": 34,
   "outputs": [],
   "source": [],
   "metadata": {
    "collapsed": false,
    "pycharm": {
     "name": "#%%\n"
    }
   }
  },
  {
   "cell_type": "code",
   "execution_count": 34,
   "outputs": [],
   "source": [],
   "metadata": {
    "collapsed": false,
    "pycharm": {
     "name": "#%%\n"
    }
   }
  },
  {
   "cell_type": "code",
   "execution_count": 34,
   "outputs": [],
   "source": [],
   "metadata": {
    "collapsed": false,
    "pycharm": {
     "name": "#%%\n"
    }
   }
  },
  {
   "cell_type": "code",
   "execution_count": 34,
   "outputs": [],
   "source": [],
   "metadata": {
    "collapsed": false,
    "pycharm": {
     "name": "#%%\n"
    }
   }
  },
  {
   "cell_type": "code",
   "execution_count": 34,
   "outputs": [],
   "source": [],
   "metadata": {
    "collapsed": false,
    "pycharm": {
     "name": "#%%\n"
    }
   }
  },
  {
   "cell_type": "code",
   "execution_count": 34,
   "outputs": [],
   "source": [],
   "metadata": {
    "collapsed": false,
    "pycharm": {
     "name": "#%%\n"
    }
   }
  },
  {
   "cell_type": "code",
   "execution_count": 34,
   "outputs": [],
   "source": [],
   "metadata": {
    "collapsed": false,
    "pycharm": {
     "name": "#%%\n"
    }
   }
  },
  {
   "cell_type": "code",
   "execution_count": 34,
   "outputs": [],
   "source": [],
   "metadata": {
    "collapsed": false,
    "pycharm": {
     "name": "#%%\n"
    }
   }
  },
  {
   "cell_type": "code",
   "execution_count": 34,
   "outputs": [],
   "source": [],
   "metadata": {
    "collapsed": false,
    "pycharm": {
     "name": "#%%\n"
    }
   }
  },
  {
   "cell_type": "code",
   "execution_count": 34,
   "outputs": [],
   "source": [],
   "metadata": {
    "collapsed": false,
    "pycharm": {
     "name": "#%%\n"
    }
   }
  },
  {
   "cell_type": "code",
   "execution_count": 34,
   "outputs": [],
   "source": [],
   "metadata": {
    "collapsed": false,
    "pycharm": {
     "name": "#%%\n"
    }
   }
  },
  {
   "cell_type": "code",
   "execution_count": 34,
   "outputs": [],
   "source": [],
   "metadata": {
    "collapsed": false,
    "pycharm": {
     "name": "#%%\n"
    }
   }
  },
  {
   "cell_type": "code",
   "execution_count": 34,
   "outputs": [],
   "source": [],
   "metadata": {
    "collapsed": false,
    "pycharm": {
     "name": "#%%\n"
    }
   }
  },
  {
   "cell_type": "code",
   "execution_count": 34,
   "outputs": [],
   "source": [],
   "metadata": {
    "collapsed": false,
    "pycharm": {
     "name": "#%%\n"
    }
   }
  },
  {
   "cell_type": "code",
   "execution_count": 34,
   "outputs": [],
   "source": [],
   "metadata": {
    "collapsed": false,
    "pycharm": {
     "name": "#%%\n"
    }
   }
  },
  {
   "cell_type": "code",
   "execution_count": 34,
   "outputs": [],
   "source": [],
   "metadata": {
    "collapsed": false,
    "pycharm": {
     "name": "#%%\n"
    }
   }
  },
  {
   "cell_type": "code",
   "execution_count": 34,
   "outputs": [],
   "source": [],
   "metadata": {
    "collapsed": false,
    "pycharm": {
     "name": "#%%\n"
    }
   }
  },
  {
   "cell_type": "code",
   "execution_count": 34,
   "outputs": [],
   "source": [],
   "metadata": {
    "collapsed": false,
    "pycharm": {
     "name": "#%%\n"
    }
   }
  },
  {
   "cell_type": "code",
   "execution_count": 34,
   "outputs": [],
   "source": [],
   "metadata": {
    "collapsed": false,
    "pycharm": {
     "name": "#%%\n"
    }
   }
  },
  {
   "cell_type": "code",
   "execution_count": 34,
   "outputs": [],
   "source": [],
   "metadata": {
    "collapsed": false,
    "pycharm": {
     "name": "#%%\n"
    }
   }
  },
  {
   "cell_type": "code",
   "execution_count": 34,
   "outputs": [],
   "source": [],
   "metadata": {
    "collapsed": false,
    "pycharm": {
     "name": "#%%\n"
    }
   }
  },
  {
   "cell_type": "code",
   "execution_count": 34,
   "outputs": [],
   "source": [],
   "metadata": {
    "collapsed": false,
    "pycharm": {
     "name": "#%%\n"
    }
   }
  },
  {
   "cell_type": "code",
   "execution_count": 34,
   "outputs": [],
   "source": [],
   "metadata": {
    "collapsed": false,
    "pycharm": {
     "name": "#%%\n"
    }
   }
  },
  {
   "cell_type": "code",
   "execution_count": 34,
   "outputs": [],
   "source": [],
   "metadata": {
    "collapsed": false,
    "pycharm": {
     "name": "#%%\n"
    }
   }
  },
  {
   "cell_type": "code",
   "execution_count": 34,
   "outputs": [],
   "source": [],
   "metadata": {
    "collapsed": false,
    "pycharm": {
     "name": "#%%\n"
    }
   }
  },
  {
   "cell_type": "code",
   "execution_count": 34,
   "outputs": [],
   "source": [],
   "metadata": {
    "collapsed": false,
    "pycharm": {
     "name": "#%%\n"
    }
   }
  },
  {
   "cell_type": "code",
   "execution_count": 34,
   "outputs": [],
   "source": [],
   "metadata": {
    "collapsed": false,
    "pycharm": {
     "name": "#%%\n"
    }
   }
  },
  {
   "cell_type": "code",
   "execution_count": 34,
   "outputs": [],
   "source": [],
   "metadata": {
    "collapsed": false,
    "pycharm": {
     "name": "#%%\n"
    }
   }
  },
  {
   "cell_type": "code",
   "execution_count": 34,
   "outputs": [],
   "source": [],
   "metadata": {
    "collapsed": false,
    "pycharm": {
     "name": "#%%\n"
    }
   }
  },
  {
   "cell_type": "code",
   "execution_count": 34,
   "outputs": [],
   "source": [],
   "metadata": {
    "collapsed": false,
    "pycharm": {
     "name": "#%%\n"
    }
   }
  },
  {
   "cell_type": "code",
   "execution_count": 34,
   "outputs": [],
   "source": [],
   "metadata": {
    "collapsed": false,
    "pycharm": {
     "name": "#%%\n"
    }
   }
  },
  {
   "cell_type": "code",
   "execution_count": 34,
   "outputs": [],
   "source": [],
   "metadata": {
    "collapsed": false,
    "pycharm": {
     "name": "#%%\n"
    }
   }
  },
  {
   "cell_type": "code",
   "execution_count": null,
   "outputs": [],
   "source": [],
   "metadata": {
    "collapsed": false,
    "pycharm": {
     "name": "#%%\n"
    }
   }
  }
 ],
 "metadata": {
  "kernelspec": {
   "display_name": "Python 3",
   "language": "python",
   "name": "python3"
  },
  "language_info": {
   "codemirror_mode": {
    "name": "ipython",
    "version": 2
   },
   "file_extension": ".py",
   "mimetype": "text/x-python",
   "name": "python",
   "nbconvert_exporter": "python",
   "pygments_lexer": "ipython2",
   "version": "2.7.6"
  }
 },
 "nbformat": 4,
 "nbformat_minor": 0
}