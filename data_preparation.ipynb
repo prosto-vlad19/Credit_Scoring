{
 "cells": [
  {
   "cell_type": "markdown",
   "source": [
    "# Import"
   ],
   "metadata": {
    "collapsed": false,
    "pycharm": {
     "name": "#%% md\n"
    }
   }
  },
  {
   "cell_type": "code",
   "execution_count": 35,
   "outputs": [],
   "source": [
    "import random\n",
    "import numpy as np\n",
    "import pandas as pd\n",
    "import time\n",
    "import optuna\n",
    "from sklearn.preprocessing import LabelEncoder,RobustScaler,StandardScaler\n",
    "from sklearn.feature_selection import SelectKBest,f_classif\n",
    "from sklearn.tree import DecisionTreeClassifier\n",
    "from sklearn.model_selection import cross_val_score,StratifiedKFold\n",
    "from sklearn.ensemble import RandomForestClassifier,AdaBoostClassifier\n",
    "from sklearn.utils import resample\n",
    "from sklearn.metrics import roc_auc_score,roc_curve,f1_score,classification_report\n",
    "from sklearn.model_selection import train_test_split, GridSearchCV\n",
    "from sklearn.linear_model import LogisticRegression\n",
    "from pyxlsb import open_workbook as open_xlsb\n",
    "from imblearn.under_sampling import RepeatedEditedNearestNeighbours\n",
    "from imblearn.over_sampling import SMOTE"
   ],
   "metadata": {
    "collapsed": false,
    "pycharm": {
     "name": "#%%\n"
    }
   }
  },
  {
   "cell_type": "markdown",
   "source": [
    "# function for reading format file .xlsb"
   ],
   "metadata": {
    "collapsed": false,
    "pycharm": {
     "name": "#%% md\n"
    }
   }
  },
  {
   "cell_type": "code",
   "execution_count": 36,
   "outputs": [],
   "source": [
    "def read_xlsb(file_path, sheet_name):\n",
    "    df_list = []\n",
    "    with open_xlsb(file_path) as wb:\n",
    "        with wb.get_sheet(sheet_name) as sheet:\n",
    "            for row in sheet.rows():\n",
    "                df_list.append([item.v for item in row])\n",
    "\n",
    "    df = pd.DataFrame(df_list[1:], columns=df_list[0])\n",
    "    df.dropna(how='all', inplace=True)  # Remove rows with all missing valuesx\n",
    "    return df"
   ],
   "metadata": {
    "collapsed": false,
    "pycharm": {
     "name": "#%%\n"
    }
   }
  },
  {
   "cell_type": "markdown",
   "source": [
    "# download data"
   ],
   "metadata": {
    "collapsed": false,
    "pycharm": {
     "name": "#%% md\n"
    }
   }
  },
  {
   "cell_type": "code",
   "execution_count": 37,
   "outputs": [],
   "source": [
    "train_data_path = \"./data/Training.xlsb\"\n",
    "train_sheet_name = 'Training'\n",
    "train_data = read_xlsb(train_data_path, train_sheet_name)\n",
    "\n",
    "test_data_path = \"./data/Test.xlsb\"\n",
    "test_sheet_name = 'Test'\n",
    "test_data = read_xlsb(test_data_path, test_sheet_name)\n",
    "\n",
    "# create train test dataframe\n",
    "train_data_copy = train_data.copy()\n",
    "test_data_copy = test_data.copy()\n",
    "X = train_data_copy.drop([\"MARKER\",\"ID\"],axis = 1)\n",
    "X_test = test_data_copy.drop([\"MARKER\",\"ID\"],axis = 1)\n",
    "y = train_data_copy['MARKER']\n",
    "y_test = test_data_copy['MARKER']\n",
    "\n",
    "# making copies\n",
    "X_copy = X.copy()\n",
    "y_copy= y.copy()"
   ],
   "metadata": {
    "collapsed": false,
    "pycharm": {
     "name": "#%%\n"
    }
   }
  },
  {
   "cell_type": "markdown",
   "source": [
    "# Coding of categorical features"
   ],
   "metadata": {
    "collapsed": false,
    "pycharm": {
     "name": "#%% md\n"
    }
   }
  },
  {
   "cell_type": "code",
   "execution_count": 38,
   "outputs": [],
   "source": [
    "def encode_categorical_features(df):\n",
    "    encoded_df = df.copy()\n",
    "\n",
    "    categorical_columns = df.select_dtypes(include=['object']).columns\n",
    "\n",
    "    for column in categorical_columns:\n",
    "        unique_values = df[column].nunique()\n",
    "        if column == 'P':\n",
    "            encoded_values = {\n",
    "                '0 Zero': 0,\n",
    "                '1 One': 1,\n",
    "                '2 Two': 2,\n",
    "                '3 Three': 3,\n",
    "                'More than 3': 4\n",
    "            }\n",
    "            encoded_df[column] = df[column].map(encoded_values)\n",
    "        elif unique_values <= 2:\n",
    "            encoder = LabelEncoder()\n",
    "            encoded_df[column] = encoder.fit_transform(df[column])\n",
    "        else:\n",
    "            counter = df[column].value_counts().to_dict()\n",
    "            encoded_df[column] = df[column].map(counter)\n",
    "\n",
    "    return encoded_df\n",
    "\n",
    "# Применение кодирования к обучающим данным и сохранение их в CSV файл\n",
    "train_data_copy[X.columns] = encode_categorical_features(train_data_copy[X.columns])\n",
    "train_data_copy.to_csv('./data_proc/encoded_train_data.csv')\n",
    "\n",
    "# Применение кодирования к тестовым данным и сохранение их в CSV файл\n",
    "test_data_copy[X_test.columns] = encode_categorical_features(test_data_copy[X_test.columns])\n",
    "test_data_copy.to_csv('./data_proc/encoded_test_data.csv')\n"
   ],
   "metadata": {
    "collapsed": false,
    "pycharm": {
     "name": "#%%\n"
    }
   }
  },
  {
   "cell_type": "markdown",
   "source": [
    "# Removing outliers"
   ],
   "metadata": {
    "collapsed": false,
    "pycharm": {
     "name": "#%% md\n"
    }
   }
  },
  {
   "cell_type": "code",
   "execution_count": 39,
   "outputs": [
    {
     "name": "stdout",
     "output_type": "stream",
     "text": [
      "len train_data input 89734\n",
      "len train_data_cleaned 87350\n",
      "Deleted rows from class 0: 2366\n",
      "Deleted rows from class 1: 18\n"
     ]
    }
   ],
   "source": [
    "def remove_outliers(train_data, num_columns_threshold=5, ignore_columns=[], remove_class_1_outliers=True):\n",
    "    print(\"len train_data input\", len(train_data))\n",
    "    columns_to_analyze = [col for col in train_data.columns if col not in ignore_columns]\n",
    "    df = train_data[columns_to_analyze]\n",
    "\n",
    "    # We count Q1 and Q3 for each column\n",
    "    q1 = df.quantile(0.25)\n",
    "    q3 = df.quantile(0.75)\n",
    "\n",
    "    # Calculating the interquartile range (IQR)\n",
    "    iqr = q3 - q1\n",
    "\n",
    "    # Determining the boundaries of the interval for removing outliers\n",
    "    lower_bound = q1 - 1.5 * iqr\n",
    "    upper_bound = q3 + 1.5 * iqr\n",
    "\n",
    "    # Create a mask to define rows with outliers in each column\n",
    "    outliers_mask = ((df < lower_bound) | (df > upper_bound))\n",
    "\n",
    "    # Count the number of columns with outliers in each row\n",
    "    num_outliers = outliers_mask.sum(axis=1)\n",
    "\n",
    "    # Create a mask to identify rows with outliers in 5 or more columns\n",
    "    mask = (num_outliers >= num_columns_threshold)\n",
    "\n",
    "    # Removing rows with outliers from train_data\n",
    "    if remove_class_1_outliers:\n",
    "        mask_to_remove = mask\n",
    "    else:\n",
    "        mask_to_remove = mask & (train_data['MARKER'] != 1)\n",
    "    train_data_cleaned = train_data[~mask_to_remove]\n",
    "\n",
    "    print(\"len train_data_cleaned\", len(train_data_cleaned))\n",
    "    # Count the number of deleted rows for each class\n",
    "    num_deleted_class_0 = len(train_data[train_data['MARKER'] == 0]) - len(train_data_cleaned[train_data_cleaned['MARKER'] == 0])\n",
    "    num_deleted_class_1 = len(train_data[train_data['MARKER'] == 1]) - len(train_data_cleaned[train_data_cleaned['MARKER'] == 1])\n",
    "    print(\"Deleted rows from class 0:\", num_deleted_class_0)\n",
    "    print(\"Deleted rows from class 1:\", num_deleted_class_1)\n",
    "\n",
    "    return train_data_cleaned\n",
    "\n",
    "# An example of using the function to remove rows from the class MARKER = 1\n",
    "train_data_copy = remove_outliers(train_data_copy, num_columns_threshold=5, ignore_columns=['ID', 'MARKER'], remove_class_1_outliers=True)\n",
    "#print(train_data_copy)\n",
    "train_data_copy.to_csv('./data_proc/remove_outliers_train_data.csv')\n"
   ],
   "metadata": {
    "collapsed": false,
    "pycharm": {
     "name": "#%%\n"
    }
   }
  },
  {
   "cell_type": "markdown",
   "source": [
    "# scaling with choice of method"
   ],
   "metadata": {
    "collapsed": false,
    "pycharm": {
     "name": "#%% md\n"
    }
   }
  },
  {
   "cell_type": "code",
   "execution_count": 40,
   "outputs": [],
   "source": [
    "def scale_dataframe(df, ignore_columns=[], scaler_type='robust'):\n",
    "    columns_to_scale = [col for col in df.columns if col not in ignore_columns]\n",
    "\n",
    "    if scaler_type == 'standard':\n",
    "        scaler = StandardScaler()\n",
    "    elif scaler_type == 'robust':\n",
    "        scaler = RobustScaler()\n",
    "    else:\n",
    "        raise ValueError(\"Invalid scaler_type. Use 'standard' or 'robust'.\")\n",
    "\n",
    "    scaled_data = scaler.fit_transform(df[columns_to_scale])\n",
    "\n",
    "    # Обновляем значения в столбцах, которые нужно масштабировать\n",
    "    df.loc[:, columns_to_scale] = scaled_data\n",
    "    return df\n",
    "\n",
    "# Пример использования с разными способами масштабирования\n",
    "train_data_copy = scale_dataframe(train_data_copy,ignore_columns=['ID', 'MARKER'],scaler_type= \"standard\")\n",
    "#print(train_data_copy)\n",
    "train_data_copy.to_csv('./data_proc/prepar_train_data.csv')\n",
    "\n",
    "test_data_copy = scale_dataframe(test_data_copy,ignore_columns=['ID', 'MARKER'],scaler_type= \"standard\")\n",
    "#print(test_data_copy)\n",
    "test_data_copy.to_csv('./data_proc/prepar_test_data.csv')\n"
   ],
   "metadata": {
    "collapsed": false,
    "pycharm": {
     "name": "#%%\n"
    }
   }
  },
  {
   "cell_type": "markdown",
   "source": [
    "# general feature selection"
   ],
   "metadata": {
    "collapsed": false,
    "pycharm": {
     "name": "#%% md\n"
    }
   }
  },
  {
   "cell_type": "code",
   "execution_count": 41,
   "outputs": [
    {
     "name": "stdout",
     "output_type": "stream",
     "text": [
      "size train_data_copy after remove low variance: (87350, 23)\n",
      "size train_data_copy after remove high correlation_features: (87350, 21)\n",
      "size train_data_copy after KBest: (87350, 17)\n"
     ]
    },
    {
     "name": "stderr",
     "output_type": "stream",
     "text": [
      "D:\\PycharmProjects\\innowise\\venv\\lib\\site-packages\\sklearn\\feature_selection\\_univariate_selection.py:113: RuntimeWarning: divide by zero encountered in divide\n",
      "  f = msb / msw\n"
     ]
    }
   ],
   "source": [
    "# Function for removing features with low diversity of values\n",
    "def remove_low_variance_features(df, threshold=0.95, ignore_columns=[]):\n",
    "    num_rows = len(df)\n",
    "    columns_to_check = [col for col in df.columns if col not in ignore_columns]\n",
    "    low_variance_columns = [col for col in columns_to_check if (df[col].value_counts() / num_rows).max() > threshold]\n",
    "    df_filtered = df.drop(columns=low_variance_columns)\n",
    "    return df_filtered\n",
    "\n",
    "# Function for removing features with high correlation with each other\n",
    "def remove_high_correlation_features(df, y_df, threshold=0.8, ignore_columns=['ID', 'MARKER']):\n",
    "    corr_matrix = df.corr()\n",
    "    to_drop = []\n",
    "\n",
    "    for column in corr_matrix.columns:\n",
    "        if column in ignore_columns:\n",
    "            continue\n",
    "\n",
    "        correlated_columns = corr_matrix.index[corr_matrix[column] > threshold].tolist()  # Finds a list of columns that are highly correlated with the current column\n",
    "        if correlated_columns:\n",
    "            max_corr_with_target = max(correlated_columns, key=lambda col: abs(df[column].corr(y_df)))\n",
    "            # Finds the column with the maximum absolute correlation with the target feature y_df\n",
    "\n",
    "            if column != max_corr_with_target and max_corr_with_target not in ignore_columns:\n",
    "                to_drop.append(column)\n",
    "\n",
    "    df_filtered = df.drop(columns=to_drop)\n",
    "    return df_filtered\n",
    "\n",
    "# Feature selection using the KBEST method\n",
    "def select_KBest(X, y, k=17, ignore_columns=['ID', 'MARKER']):\n",
    "    selector = SelectKBest(score_func=f_classif, k=k)\n",
    "    X_new = selector.fit_transform(X, y)\n",
    "    selected_features = X.columns[selector.get_support()]\n",
    "\n",
    "    X_new_df = pd.DataFrame(X_new, columns=selected_features, index=X.index)\n",
    "\n",
    "    for col in ignore_columns:\n",
    "        X_new_df[col] = X[col]\n",
    "    return X_new_df, selected_features\n",
    "\n",
    "\n",
    "\n",
    "train_data_copy = remove_low_variance_features(train_data_copy,threshold=0.85, ignore_columns=['ID', 'MARKER'])\n",
    "print(\"size train_data_copy after remove low variance:\",train_data_copy.shape)\n",
    "\n",
    "train_data_copy = remove_high_correlation_features(train_data_copy,y_copy,threshold=0.75,ignore_columns=['ID', 'MARKER'])\n",
    "print(\"size train_data_copy after remove high correlation_features:\",train_data_copy.shape)\n",
    "\n",
    "train_data_copy,important_columns = select_KBest(train_data_copy, train_data_copy[\"MARKER\"], k=17)\n",
    "print(\"size train_data_copy after KBest:\",train_data_copy.shape)\n"
   ],
   "metadata": {
    "collapsed": false,
    "pycharm": {
     "name": "#%%\n"
    }
   }
  },
  {
   "cell_type": "markdown",
   "source": [
    "# Undersampling (RepeatedEditedNearestNeighbours)"
   ],
   "metadata": {
    "collapsed": false,
    "pycharm": {
     "name": "#%% md\n"
    }
   }
  },
  {
   "cell_type": "code",
   "execution_count": 42,
   "outputs": [
    {
     "name": "stdout",
     "output_type": "stream",
     "text": [
      "(87350, 17)\n",
      "(86011, 17)\n"
     ]
    }
   ],
   "source": [
    "def apply_renn_undersampling(dataframe, target_column_name):\n",
    "    # Divide the data into features (X) and target variable (y)\n",
    "    X = dataframe.drop(columns=[target_column_name])\n",
    "    y = dataframe[target_column_name]\n",
    "\n",
    "    # Initialize RENN\n",
    "    renn = RepeatedEditedNearestNeighbours(sampling_strategy='auto', n_neighbors=3, max_iter=100,n_jobs = 2)\n",
    "\n",
    "    # Use RENN for undersampling\n",
    "    X_resampled, y_resampled = renn.fit_resample(X, y)\n",
    "\n",
    "    # Create a new DataFrame with reduced selection\n",
    "    resampled_dataframe = pd.DataFrame(data=X_resampled, columns=X.columns)\n",
    "    resampled_dataframe[target_column_name] = y_resampled\n",
    "\n",
    "    return resampled_dataframe\n",
    "\n",
    "# Apply the function to DataFrame\n",
    "print(train_data_copy.shape)\n",
    "train_data_copy = apply_renn_undersampling(train_data_copy, 'MARKER')\n",
    "print(train_data_copy.shape)\n"
   ],
   "metadata": {
    "collapsed": false,
    "pycharm": {
     "name": "#%%\n"
    }
   }
  },
  {
   "cell_type": "markdown",
   "source": [
    "# Ovesampling with SMOTE"
   ],
   "metadata": {
    "collapsed": false,
    "pycharm": {
     "name": "#%% md\n"
    }
   }
  },
  {
   "cell_type": "code",
   "execution_count": 43,
   "outputs": [
    {
     "name": "stdout",
     "output_type": "stream",
     "text": [
      "(86011, 17)\n",
      "(171374, 17)\n"
     ]
    },
    {
     "name": "stderr",
     "output_type": "stream",
     "text": [
      "D:\\PycharmProjects\\innowise\\venv\\lib\\site-packages\\imblearn\\over_sampling\\_smote\\base.py:345: FutureWarning: The parameter `n_jobs` has been deprecated in 0.10 and will be removed in 0.12. You can pass an nearest neighbors estimator where `n_jobs` is already set instead.\n",
      "  warnings.warn(\n"
     ]
    }
   ],
   "source": [
    "def apply_smote_oversampling(dataframe, target_column_name, random_state=42):\n",
    "    # Divide the data into features (X) and target variable (y)\n",
    "    X = dataframe.drop(columns=[target_column_name])\n",
    "    y = dataframe[target_column_name]\n",
    "\n",
    "    # Initialize SMOTE\n",
    "    smote = SMOTE(sampling_strategy='auto', random_state=random_state,n_jobs = 2)\n",
    "\n",
    "    # Apply SMOTE for oversampling\n",
    "    X_resampled, y_resampled = smote.fit_resample(X, y)\n",
    "\n",
    "    # Create a new DataFrame with a larger sample\n",
    "    resampled_dataframe = pd.DataFrame(data=X_resampled, columns=X.columns)\n",
    "    resampled_dataframe[target_column_name] = y_resampled\n",
    "\n",
    "    return resampled_dataframe\n",
    "\n",
    "# Apply the function to DataFrame\n",
    "print(train_data_copy.shape)\n",
    "train_data_copy = apply_smote_oversampling(train_data_copy, 'MARKER')\n",
    "print(train_data_copy.shape)\n"
   ],
   "metadata": {
    "collapsed": false,
    "pycharm": {
     "name": "#%%\n"
    }
   }
  },
  {
   "cell_type": "markdown",
   "source": [
    "# Logistic regression 3"
   ],
   "metadata": {
    "collapsed": false,
    "pycharm": {
     "name": "#%% md\n"
    }
   }
  },
  {
   "cell_type": "code",
   "execution_count": 44,
   "outputs": [
    {
     "name": "stdout",
     "output_type": "stream",
     "text": [
      "Best Parameters: {'C': 0.38566204211634725, 'penalty': 'l2'}\n",
      "Best F1 Score: 0.8967226035112631\n",
      "Test F1 Score: 0.8160787247511078\n",
      "Selected Features:    Feature  Coefficient\n",
      "4        H     1.074952\n",
      "7        L    -0.824463\n",
      "1        D     0.820600\n",
      "9        N     0.718309\n",
      "10       O    -0.585401\n",
      "11       R    -0.470017\n",
      "13       W    -0.326202\n",
      "6        J    -0.262980\n",
      "8        M    -0.217708\n",
      "14       X    -0.193170\n",
      "Test Predictions: [1 1 0 ... 0 0 0]\n",
      "Test F1 Score (Threshold=0.965): 0.11180124223602483\n",
      "Test ROC AUC Score (Threshold=0.965): 0.8744854375745416\n"
     ]
    }
   ],
   "source": [
    "def build_logistic_regression_model(df, target_column_name):\n",
    "    # Select features and target variable\n",
    "    X = df.drop(columns=['ID', target_column_name])\n",
    "    y = df[target_column_name]\n",
    "\n",
    "    # Divide the data into training and test sets\n",
    "    X_train, X_test, y_train, y_test = train_test_split(X, y, test_size=0.2, random_state=42)\n",
    "\n",
    "    # Define parameters to iterate over\n",
    "    param_grid = {\n",
    "        'penalty': ['l1', 'l2'],  # Enumerate L1 and L2 regularization\n",
    "        'C': np.logspace(-4, 4, 30)  # Iterate through the regularization parameter C\n",
    "    }\n",
    "\n",
    "    # Create a logistic regression model\n",
    "    logreg = LogisticRegression(solver='liblinear', class_weight='balanced')\n",
    "\n",
    "    # Create a GridSearchCV object to iterate through parameters\n",
    "    grid_search = GridSearchCV(logreg, param_grid, cv=5, scoring='roc_auc')\n",
    "\n",
    "    # Perform a grid search on the training set\n",
    "    grid_search.fit(X_train, y_train)\n",
    "\n",
    "    # Get the best parameters and F1-score metric value\n",
    "    best_params = grid_search.best_params_\n",
    "    best_score = grid_search.best_score_\n",
    "    print(\"Best Parameters:\", best_params)\n",
    "    print(\"Best F1 Score:\", best_score)\n",
    "\n",
    "    # Get the best model\n",
    "    best_model = grid_search.best_estimator_\n",
    "\n",
    "    # Train the model on selected most important features\n",
    "    coefficients = best_model.coef_[0]\n",
    "    feature_names = X.columns\n",
    "    coefficients_df = pd.DataFrame({'Feature': feature_names, 'Coefficient': coefficients})\n",
    "\n",
    "    # Select the 10 most important features\n",
    "    top_features = coefficients_df.iloc[np.abs(coefficients_df['Coefficient']).nlargest(10).index]\n",
    "    selected_features = top_features['Feature'].tolist()\n",
    "    X_train_selected = X_train[selected_features]\n",
    "    X_test_selected = X_test[selected_features]\n",
    "\n",
    "    # Training the model using selected features\n",
    "    best_model.fit(X_train_selected, y_train)\n",
    "\n",
    "    # Predictions for the test set\n",
    "    y_pred = best_model.predict(X_test_selected)\n",
    "\n",
    "    # Calculate the F1-score metric on the test set\n",
    "    test_f1_score = f1_score(y_test, y_pred)\n",
    "    print(\"Test F1 Score:\", test_f1_score)\n",
    "\n",
    "    return best_model, top_features\n",
    "\n",
    "\n",
    "def evaluate_with_threshold(model, test_data, target_column_name, selected_features, threshold=0.5):\n",
    "    # Extract features from test data\n",
    "    test_X = test_data[selected_features]\n",
    "\n",
    "    # Get probabilities for class 1\n",
    "    test_probabilities = model.predict_proba(test_X)[:, 1]\n",
    "\n",
    "    # Apply a probability threshold to get predictions (0 or 1)\n",
    "    test_predictions = (test_probabilities > threshold).astype(int)\n",
    "\n",
    "    # Create a DataFrame with predicted values\n",
    "    predictions_df = pd.DataFrame({'Prediction': test_predictions})\n",
    "\n",
    "    # Write the DataFrame to a CSV file\n",
    "    predictions_df.to_csv(\"predictions.csv\", index=False)\n",
    "\n",
    "    target_data = test_data[target_column_name]\n",
    "\n",
    "    # Calculate the F1-score metric on test data\n",
    "    test_f1 = f1_score(target_data, test_predictions)\n",
    "\n",
    "    # Calculate the ROC AUC metric on test data\n",
    "    test_roc_auc = roc_auc_score(target_data, test_probabilities)\n",
    "\n",
    "    return test_predictions, test_f1, test_roc_auc\n",
    "\n",
    "\n",
    "final_model, coefficients = build_logistic_regression_model(train_data_copy, target_column_name=\"MARKER\")\n",
    "print(\"Selected Features:\", coefficients)\n",
    "\n",
    "# Get a list of selected features\n",
    "selected_features = coefficients['Feature'].tolist()\n",
    "\n",
    "# Use different probability thresholds and see how the metrics change\n",
    "threshold = 0.965\n",
    "test_predictions, test_f1_score, test_roc_auc = evaluate_with_threshold(final_model, test_data_copy, target_column_name=\"MARKER\", selected_features=selected_features, threshold=threshold)\n",
    "print(\"Test Predictions:\", test_predictions)\n",
    "print(\"Test F1 Score (Threshold={}):\".format(threshold), test_f1_score)\n",
    "print(\"Test ROC AUC Score (Threshold={}):\".format(threshold), test_roc_auc)\n"
   ],
   "metadata": {
    "collapsed": false,
    "pycharm": {
     "name": "#%%\n"
    }
   }
  },
  {
   "cell_type": "markdown",
   "source": [
    "# Random forest 2"
   ],
   "metadata": {
    "collapsed": false,
    "pycharm": {
     "name": "#%% md\n"
    }
   }
  },
  {
   "cell_type": "code",
   "execution_count": 45,
   "outputs": [
    {
     "name": "stderr",
     "output_type": "stream",
     "text": [
      "[I 2023-10-05 16:20:21,336] A new study created in memory with name: no-name-76af1eb5-4b9a-4526-a520-7b136eb8ad1f\n",
      "[I 2023-10-05 16:20:23,271] Trial 0 finished with value: 0.5 and parameters: {'n_estimators': 30, 'max_depth': 13, 'min_samples_split': 0.8526759234382455, 'min_samples_leaf': 0.1716245722466027}. Best is trial 0 with value: 0.5.\n",
      "[I 2023-10-05 16:20:24,912] Trial 1 finished with value: 0.5 and parameters: {'n_estimators': 25, 'max_depth': 14, 'min_samples_split': 0.9207459982077155, 'min_samples_leaf': 0.15675295717410476}. Best is trial 0 with value: 0.5.\n",
      "[I 2023-10-05 16:20:26,065] Trial 2 finished with value: 0.5 and parameters: {'n_estimators': 15, 'max_depth': 10, 'min_samples_split': 0.8922468677033729, 'min_samples_leaf': 0.44773565542626337}. Best is trial 0 with value: 0.5.\n",
      "[I 2023-10-05 16:20:27,003] Trial 3 finished with value: 0.913149798865026 and parameters: {'n_estimators': 5, 'max_depth': 3, 'min_samples_split': 0.6146401881206447, 'min_samples_leaf': 0.2760368486491154}. Best is trial 3 with value: 0.913149798865026.\n",
      "[I 2023-10-05 16:20:28,748] Trial 4 finished with value: 0.9168844396927354 and parameters: {'n_estimators': 10, 'max_depth': 10, 'min_samples_split': 0.47937924521640096, 'min_samples_leaf': 0.18454202345245208}. Best is trial 4 with value: 0.9168844396927354.\n",
      "[I 2023-10-05 16:20:30,462] Trial 5 finished with value: 0.5 and parameters: {'n_estimators': 25, 'max_depth': 10, 'min_samples_split': 0.6023787268796978, 'min_samples_leaf': 0.49853523878022815}. Best is trial 4 with value: 0.9168844396927354.\n",
      "[I 2023-10-05 16:20:32,254] Trial 6 finished with value: 0.918808118039904 and parameters: {'n_estimators': 10, 'max_depth': 7, 'min_samples_split': 0.626761593459105, 'min_samples_leaf': 0.17198453245118958}. Best is trial 6 with value: 0.918808118039904.\n",
      "[I 2023-10-05 16:20:33,351] Trial 7 finished with value: 0.5 and parameters: {'n_estimators': 15, 'max_depth': 3, 'min_samples_split': 0.9152460284687651, 'min_samples_leaf': 0.17351394535887585}. Best is trial 6 with value: 0.918808118039904.\n",
      "[I 2023-10-05 16:20:38,586] Trial 8 finished with value: 0.9314283957026113 and parameters: {'n_estimators': 25, 'max_depth': 5, 'min_samples_split': 0.4506292471790781, 'min_samples_leaf': 0.07038156785095429}. Best is trial 8 with value: 0.9314283957026113.\n",
      "[I 2023-10-05 16:20:41,582] Trial 9 finished with value: 0.9109036696596517 and parameters: {'n_estimators': 20, 'max_depth': 15, 'min_samples_split': 0.596078050240844, 'min_samples_leaf': 0.2866888022518239}. Best is trial 8 with value: 0.9314283957026113.\n",
      "[I 2023-10-05 16:20:50,854] Trial 10 finished with value: 0.9408739654002144 and parameters: {'n_estimators': 35, 'max_depth': 6, 'min_samples_split': 0.1477888627529672, 'min_samples_leaf': 0.12101862840545324}. Best is trial 10 with value: 0.9408739654002144.\n",
      "[I 2023-10-05 16:21:04,319] Trial 11 finished with value: 0.9577195469809908 and parameters: {'n_estimators': 35, 'max_depth': 7, 'min_samples_split': 0.13030337717543278, 'min_samples_leaf': 0.06029194077751923}. Best is trial 11 with value: 0.9577195469809908.\n",
      "[I 2023-10-05 16:21:18,009] Trial 12 finished with value: 0.9594436401603981 and parameters: {'n_estimators': 35, 'max_depth': 7, 'min_samples_split': 0.09091211799568266, 'min_samples_leaf': 0.05748527751602957}. Best is trial 12 with value: 0.9594436401603981.\n",
      "[I 2023-10-05 16:21:31,517] Trial 13 finished with value: 0.9574625254470049 and parameters: {'n_estimators': 35, 'max_depth': 8, 'min_samples_split': 0.05271473432048365, 'min_samples_leaf': 0.06130399397478373}. Best is trial 12 with value: 0.9594436401603981.\n",
      "[I 2023-10-05 16:21:42,351] Trial 14 finished with value: 0.9516647196177915 and parameters: {'n_estimators': 35, 'max_depth': 5, 'min_samples_split': 0.20935062303158453, 'min_samples_leaf': 0.0743985505673266}. Best is trial 12 with value: 0.9594436401603981.\n",
      "[I 2023-10-05 16:21:50,245] Trial 15 finished with value: 0.9428913519283617 and parameters: {'n_estimators': 30, 'max_depth': 12, 'min_samples_split': 0.24897186364993557, 'min_samples_leaf': 0.10459736451857941}. Best is trial 12 with value: 0.9594436401603981.\n",
      "[I 2023-10-05 16:22:01,955] Trial 16 finished with value: 0.960697407165026 and parameters: {'n_estimators': 30, 'max_depth': 8, 'min_samples_split': 0.050413480114299254, 'min_samples_leaf': 0.05751392955687204}. Best is trial 16 with value: 0.960697407165026.\n",
      "[I 2023-10-05 16:22:06,615] Trial 17 finished with value: 0.9203201936197685 and parameters: {'n_estimators': 30, 'max_depth': 9, 'min_samples_split': 0.30904883688474183, 'min_samples_leaf': 0.21711029796596434}. Best is trial 16 with value: 0.960697407165026.\n",
      "[I 2023-10-05 16:22:19,123] Trial 18 finished with value: 0.9632417531240186 and parameters: {'n_estimators': 30, 'max_depth': 11, 'min_samples_split': 0.09095007182556175, 'min_samples_leaf': 0.05161935402694335}. Best is trial 18 with value: 0.9632417531240186.\n",
      "[I 2023-10-05 16:22:24,234] Trial 19 finished with value: 0.9308158936437356 and parameters: {'n_estimators': 20, 'max_depth': 12, 'min_samples_split': 0.052820437747458204, 'min_samples_leaf': 0.12994270187964788}. Best is trial 18 with value: 0.9632417531240186.\n",
      "[I 2023-10-05 16:22:31,602] Trial 20 finished with value: 0.9393968713014054 and parameters: {'n_estimators': 30, 'max_depth': 11, 'min_samples_split': 0.3281143454300134, 'min_samples_leaf': 0.11555618783891933}. Best is trial 18 with value: 0.9632417531240186.\n",
      "[I 2023-10-05 16:22:43,199] Trial 21 finished with value: 0.9590190424838163 and parameters: {'n_estimators': 30, 'max_depth': 8, 'min_samples_split': 0.1356296444958831, 'min_samples_leaf': 0.05595660758890192}. Best is trial 18 with value: 0.9632417531240186.\n",
      "[I 2023-10-05 16:22:50,409] Trial 22 finished with value: 0.9407575928525255 and parameters: {'n_estimators': 25, 'max_depth': 8, 'min_samples_split': 0.05002079672806984, 'min_samples_leaf': 0.10187285256532369}. Best is trial 18 with value: 0.9632417531240186.\n",
      "[I 2023-10-05 16:23:02,536] Trial 23 finished with value: 0.9565303683162597 and parameters: {'n_estimators': 35, 'max_depth': 5, 'min_samples_split': 0.20225913152859382, 'min_samples_leaf': 0.05205424276759595}. Best is trial 18 with value: 0.9632417531240186.\n",
      "[I 2023-10-05 16:23:10,573] Trial 24 finished with value: 0.9425102624115089 and parameters: {'n_estimators': 30, 'max_depth': 11, 'min_samples_split': 0.28688761454847933, 'min_samples_leaf': 0.09718753725444623}. Best is trial 18 with value: 0.9632417531240186.\n",
      "[I 2023-10-05 16:23:18,329] Trial 25 finished with value: 0.9452386794959416 and parameters: {'n_estimators': 25, 'max_depth': 9, 'min_samples_split': 0.14160245350118345, 'min_samples_leaf': 0.08960035738256404}. Best is trial 18 with value: 0.9632417531240186.\n",
      "[I 2023-10-05 16:23:25,185] Trial 26 finished with value: 0.9299978620324565 and parameters: {'n_estimators': 35, 'max_depth': 6, 'min_samples_split': 0.39548208363656995, 'min_samples_leaf': 0.13736220605444316}. Best is trial 18 with value: 0.9632417531240186.\n",
      "[I 2023-10-05 16:23:35,356] Trial 27 finished with value: 0.9570101483112575 and parameters: {'n_estimators': 30, 'max_depth': 7, 'min_samples_split': 0.21922055242254335, 'min_samples_leaf': 0.051992586170851465}. Best is trial 18 with value: 0.9632417531240186.\n",
      "[I 2023-10-05 16:23:41,644] Trial 28 finished with value: 0.9415949516179477 and parameters: {'n_estimators': 20, 'max_depth': 11, 'min_samples_split': 0.10911321736851592, 'min_samples_leaf': 0.08986243752042045}. Best is trial 18 with value: 0.9632417531240186.\n",
      "[I 2023-10-05 16:23:49,103] Trial 29 finished with value: 0.9346363131795339 and parameters: {'n_estimators': 30, 'max_depth': 13, 'min_samples_split': 0.1811555740814563, 'min_samples_leaf': 0.1434681486263017}. Best is trial 18 with value: 0.9632417531240186.\n",
      "[I 2023-10-05 16:23:58,827] Trial 30 finished with value: 0.9466594714552251 and parameters: {'n_estimators': 35, 'max_depth': 9, 'min_samples_split': 0.25995164851130637, 'min_samples_leaf': 0.09241152705314247}. Best is trial 18 with value: 0.9632417531240186.\n",
      "[I 2023-10-05 16:24:09,087] Trial 31 finished with value: 0.9525756787589555 and parameters: {'n_estimators': 30, 'max_depth': 8, 'min_samples_split': 0.11119892197395578, 'min_samples_leaf': 0.07804027493509877}. Best is trial 18 with value: 0.9632417531240186.\n",
      "[I 2023-10-05 16:24:18,840] Trial 32 finished with value: 0.9578201841336634 and parameters: {'n_estimators': 25, 'max_depth': 8, 'min_samples_split': 0.10209164028627034, 'min_samples_leaf': 0.05734143529798435}. Best is trial 18 with value: 0.9632417531240186.\n",
      "[I 2023-10-05 16:24:26,726] Trial 33 finished with value: 0.9403244783325139 and parameters: {'n_estimators': 30, 'max_depth': 6, 'min_samples_split': 0.1759980197325844, 'min_samples_leaf': 0.12200623833266121}. Best is trial 18 with value: 0.9632417531240186.\n",
      "[I 2023-10-05 16:24:32,184] Trial 34 finished with value: 0.9256749901355976 and parameters: {'n_estimators': 25, 'max_depth': 10, 'min_samples_split': 0.1069654791047674, 'min_samples_leaf': 0.1520355946046844}. Best is trial 18 with value: 0.9632417531240186.\n",
      "[I 2023-10-05 16:24:42,807] Trial 35 finished with value: 0.9579407385575347 and parameters: {'n_estimators': 30, 'max_depth': 7, 'min_samples_split': 0.18312037403567755, 'min_samples_leaf': 0.05364614965307398}. Best is trial 18 with value: 0.9632417531240186.\n",
      "[I 2023-10-05 16:24:54,039] Trial 36 finished with value: 0.950032552998271 and parameters: {'n_estimators': 35, 'max_depth': 4, 'min_samples_split': 0.05606473905630949, 'min_samples_leaf': 0.08416198746349851}. Best is trial 18 with value: 0.9632417531240186.\n",
      "[I 2023-10-05 16:24:56,850] Trial 37 finished with value: 0.9067740624631805 and parameters: {'n_estimators': 15, 'max_depth': 10, 'min_samples_split': 0.2465926092807885, 'min_samples_leaf': 0.20196639557314708}. Best is trial 18 with value: 0.9632417531240186.\n",
      "[I 2023-10-05 16:24:58,134] Trial 38 finished with value: 0.9160456581982036 and parameters: {'n_estimators': 5, 'max_depth': 9, 'min_samples_split': 0.1515446788300844, 'min_samples_leaf': 0.15179769557571537}. Best is trial 18 with value: 0.9632417531240186.\n",
      "[I 2023-10-05 16:25:03,327] Trial 39 finished with value: 0.9272605978325938 and parameters: {'n_estimators': 25, 'max_depth': 13, 'min_samples_split': 0.34574090615217856, 'min_samples_leaf': 0.1086442940587583}. Best is trial 18 with value: 0.9632417531240186.\n"
     ]
    },
    {
     "name": "stdout",
     "output_type": "stream",
     "text": [
      "ROC AUC: 0.8261607887409068\n",
      "Predictions on Test Data: [1. 1. 1. ... 0. 1. 0.]\n"
     ]
    }
   ],
   "source": [
    "def objective(trial, X, y):\n",
    "    n_estimators = trial.suggest_int('n_estimators', 5, 35, step=5)\n",
    "    max_depth = trial.suggest_int('max_depth', 3, 15)\n",
    "    min_samples_split = trial.suggest_float('min_samples_split', 0.05, 1.0)\n",
    "    min_samples_leaf = trial.suggest_float('min_samples_leaf', 0.05, 0.5)\n",
    "\n",
    "    model = RandomForestClassifier(\n",
    "        n_estimators=n_estimators,\n",
    "        max_depth=max_depth,\n",
    "        min_samples_split=min_samples_split,\n",
    "        min_samples_leaf=min_samples_leaf,\n",
    "        class_weight='balanced',\n",
    "        random_state=42\n",
    "    )\n",
    "\n",
    "    skf = StratifiedKFold(n_splits=5, shuffle=True, random_state=42)\n",
    "    scores = cross_val_score(model, X, y, cv=skf, scoring='roc_auc')\n",
    "    average_score = scores.mean()\n",
    "\n",
    "    return average_score\n",
    "\n",
    "def build_and_predict_random_forest(train_data, test_data, target_column_name, selected_features):\n",
    "    # Выделите признаки и целевую переменную\n",
    "    X_train = train_data[selected_features]\n",
    "    y_train = train_data[target_column_name]\n",
    "    X_test = test_data[selected_features]\n",
    "    y_test = test_data[target_column_name]\n",
    "\n",
    "    # Подбор гиперпараметров\n",
    "    study = optuna.create_study(direction='maximize')\n",
    "    study.optimize(lambda trial: objective(trial, X_train, y_train), n_trials=40)\n",
    "\n",
    "    best_params = study.best_params\n",
    "    best_n_estimators = best_params['n_estimators']\n",
    "    best_max_depth = best_params['max_depth']\n",
    "    best_min_samples_split = best_params['min_samples_split']\n",
    "    best_min_samples_leaf = best_params['min_samples_leaf']\n",
    "\n",
    "    # Создайте и обучите модель случайного леса с наилучшими гиперпараметрами\n",
    "    model = RandomForestClassifier(\n",
    "        n_estimators=best_n_estimators,\n",
    "        max_depth=best_max_depth,\n",
    "        min_samples_split=best_min_samples_split,\n",
    "        min_samples_leaf=best_min_samples_leaf,\n",
    "        class_weight='balanced',\n",
    "        random_state=42\n",
    "    )\n",
    "    model.fit(X_train, y_train)\n",
    "\n",
    "    # Прогнозирование на тестовых данных\n",
    "    y_pred_prob = model.predict_proba(X_test)[:, 1]\n",
    "\n",
    "    # Вычисление ROC AUC\n",
    "    roc_auc = roc_auc_score(y_test, y_pred_prob)\n",
    "\n",
    "    # Вывод ROC AUC\n",
    "    print(\"ROC AUC:\", roc_auc)\n",
    "\n",
    "    return model\n",
    "\n",
    "# Построение и оценка модели случайного леса\n",
    "model = build_and_predict_random_forest(train_data_copy, test_data_copy, \"MARKER\", selected_features)\n",
    "print(\"Predictions on Test Data:\",model.predict(test_data_copy[selected_features]))"
   ],
   "metadata": {
    "collapsed": false,
    "pycharm": {
     "name": "#%%\n"
    }
   }
  },
  {
   "cell_type": "markdown",
   "source": [
    "# Adaboosting"
   ],
   "metadata": {
    "collapsed": false,
    "pycharm": {
     "name": "#%% md\n"
    }
   }
  },
  {
   "cell_type": "code",
   "execution_count": 46,
   "outputs": [
    {
     "name": "stderr",
     "output_type": "stream",
     "text": [
      "[I 2023-10-05 16:25:06,505] A new study created in memory with name: no-name-4c611631-1343-4df0-a50b-3c8af50b7cb3\n",
      "[I 2023-10-05 16:25:12,585] Trial 0 finished with value: 0.9921925233954292 and parameters: {'n_estimators': 7, 'learning_rate': 0.08864122543263231}. Best is trial 0 with value: 0.9921925233954292.\n",
      "[I 2023-10-05 16:25:12,756] Trial 1 finished with value: 0.9921925233954292 and parameters: {'n_estimators': 9, 'learning_rate': 0.0034119576850596264}. Best is trial 0 with value: 0.9921925233954292.\n",
      "[I 2023-10-05 16:25:18,686] Trial 2 finished with value: 0.9921925233954292 and parameters: {'n_estimators': 5, 'learning_rate': 0.05055191219812622}. Best is trial 0 with value: 0.9921925233954292.\n",
      "[I 2023-10-05 16:25:18,734] Trial 3 finished with value: 0.9921925233954292 and parameters: {'n_estimators': 9, 'learning_rate': 0.0020948769099855703}. Best is trial 0 with value: 0.9921925233954292.\n",
      "[I 2023-10-05 16:25:24,642] Trial 4 finished with value: 0.9921925233954292 and parameters: {'n_estimators': 13, 'learning_rate': 0.019595460945673257}. Best is trial 0 with value: 0.9921925233954292.\n",
      "[I 2023-10-05 16:25:24,704] Trial 5 finished with value: 0.9921925233954292 and parameters: {'n_estimators': 11, 'learning_rate': 0.03992887889065111}. Best is trial 0 with value: 0.9921925233954292.\n",
      "[I 2023-10-05 16:25:30,027] Trial 6 finished with value: 0.9921925233954292 and parameters: {'n_estimators': 3, 'learning_rate': 0.662277624341173}. Best is trial 0 with value: 0.9921925233954292.\n",
      "[I 2023-10-05 16:25:30,112] Trial 7 finished with value: 0.9921925233954292 and parameters: {'n_estimators': 1, 'learning_rate': 0.04177902267868953}. Best is trial 0 with value: 0.9921925233954292.\n",
      "[I 2023-10-05 16:25:34,983] Trial 8 finished with value: 0.9921925233954292 and parameters: {'n_estimators': 5, 'learning_rate': 0.0012375520518723069}. Best is trial 0 with value: 0.9921925233954292.\n",
      "[I 2023-10-05 16:25:35,072] Trial 9 finished with value: 0.9921925233954292 and parameters: {'n_estimators': 5, 'learning_rate': 0.0016999349911185388}. Best is trial 0 with value: 0.9921925233954292.\n",
      "[I 2023-10-05 16:25:39,825] Trial 10 finished with value: 0.9921925233954292 and parameters: {'n_estimators': 7, 'learning_rate': 0.024651587747092436}. Best is trial 0 with value: 0.9921925233954292.\n",
      "[I 2023-10-05 16:25:39,908] Trial 11 finished with value: 0.9921925233954292 and parameters: {'n_estimators': 15, 'learning_rate': 0.4591101799171765}. Best is trial 0 with value: 0.9921925233954292.\n",
      "[I 2023-10-05 16:25:44,723] Trial 12 finished with value: 0.9921925233954292 and parameters: {'n_estimators': 9, 'learning_rate': 0.007347369314410974}. Best is trial 0 with value: 0.9921925233954292.\n",
      "[I 2023-10-05 16:25:44,822] Trial 13 finished with value: 0.9921925233954292 and parameters: {'n_estimators': 9, 'learning_rate': 0.007540108616907424}. Best is trial 0 with value: 0.9921925233954292.\n",
      "[I 2023-10-05 16:25:49,937] Trial 14 finished with value: 0.9921925233954292 and parameters: {'n_estimators': 11, 'learning_rate': 0.14980988558730143}. Best is trial 0 with value: 0.9921925233954292.\n",
      "[I 2023-10-05 16:25:50,042] Trial 15 finished with value: 0.9921925233954292 and parameters: {'n_estimators': 11, 'learning_rate': 0.1368447247313682}. Best is trial 0 with value: 0.9921925233954292.\n",
      "[I 2023-10-05 16:25:54,916] Trial 16 finished with value: 0.9921925233954292 and parameters: {'n_estimators': 7, 'learning_rate': 0.09499384685359533}. Best is trial 0 with value: 0.9921925233954292.\n",
      "[I 2023-10-05 16:25:54,989] Trial 17 finished with value: 0.9921925233954292 and parameters: {'n_estimators': 7, 'learning_rate': 0.0037795781240329337}. Best is trial 0 with value: 0.9921925233954292.\n",
      "[I 2023-10-05 16:25:59,787] Trial 18 finished with value: 0.9921925233954292 and parameters: {'n_estimators': 1, 'learning_rate': 0.008737509713797588}. Best is trial 0 with value: 0.9921925233954292.\n",
      "[I 2023-10-05 16:25:59,847] Trial 19 finished with value: 0.9921925233954292 and parameters: {'n_estimators': 1, 'learning_rate': 0.01309678984953882}. Best is trial 0 with value: 0.9921925233954292.\n",
      "[I 2023-10-05 16:26:04,614] Trial 20 finished with value: 0.9921925233954292 and parameters: {'n_estimators': 13, 'learning_rate': 0.015092307746991435}. Best is trial 0 with value: 0.9921925233954292.\n",
      "[I 2023-10-05 16:26:04,682] Trial 21 finished with value: 0.9921925233954292 and parameters: {'n_estimators': 13, 'learning_rate': 0.0036183918574828836}. Best is trial 0 with value: 0.9921925233954292.\n",
      "[I 2023-10-05 16:26:09,506] Trial 22 finished with value: 0.9921925233954292 and parameters: {'n_estimators': 5, 'learning_rate': 0.056053483419034704}. Best is trial 0 with value: 0.9921925233954292.\n",
      "[I 2023-10-05 16:26:09,606] Trial 23 finished with value: 0.9921925233954292 and parameters: {'n_estimators': 5, 'learning_rate': 0.06451993502907809}. Best is trial 0 with value: 0.9921925233954292.\n",
      "[I 2023-10-05 16:26:14,338] Trial 24 finished with value: 0.9921925233954292 and parameters: {'n_estimators': 5, 'learning_rate': 0.06875672121712559}. Best is trial 0 with value: 0.9921925233954292.\n",
      "[I 2023-10-05 16:26:14,425] Trial 25 finished with value: 0.9921925233954292 and parameters: {'n_estimators': 3, 'learning_rate': 0.025127091494550037}. Best is trial 0 with value: 0.9921925233954292.\n",
      "[I 2023-10-05 16:26:19,092] Trial 26 finished with value: 0.9921925233954292 and parameters: {'n_estimators': 3, 'learning_rate': 0.029666573303707398}. Best is trial 0 with value: 0.9921925233954292.\n",
      "[I 2023-10-05 16:26:19,176] Trial 27 finished with value: 0.9921925233954292 and parameters: {'n_estimators': 3, 'learning_rate': 0.232322987796222}. Best is trial 0 with value: 0.9921925233954292.\n",
      "[I 2023-10-05 16:26:23,869] Trial 28 finished with value: 0.9921925233954292 and parameters: {'n_estimators': 7, 'learning_rate': 0.2943088901398812}. Best is trial 0 with value: 0.9921925233954292.\n",
      "[I 2023-10-05 16:26:23,945] Trial 29 finished with value: 0.9921925233954292 and parameters: {'n_estimators': 7, 'learning_rate': 0.04143733417364608}. Best is trial 0 with value: 0.9921925233954292.\n"
     ]
    },
    {
     "name": "stdout",
     "output_type": "stream",
     "text": [
      "Optimal Hyperparameters: {'n_estimators': 7, 'learning_rate': 0.08864122543263231}\n",
      "Predictions on Test Data: [1 1 1 ... 0 0 0]\n",
      "Test ROC AUC: 0.8261607887409068\n",
      "Test F1 Score: 0.022508038585209\n",
      "время выполнения 78.83369278907776\n"
     ]
    }
   ],
   "source": [
    "# Function for optimizing hyperparameters\n",
    "def optimize_adaboost_hyperparameters(trial, X_train, y_train):\n",
    "    n_estimators = trial.suggest_int('n_estimators', 1, 15, step=2)\n",
    "    learning_rate = trial.suggest_float('learning_rate', 0.001, 1.0, log=True)\n",
    "\n",
    "    estimator = DecisionTreeClassifier(class_weight='balanced')\n",
    "    model = AdaBoostClassifier(n_estimators=n_estimators, learning_rate=learning_rate, estimator=estimator, random_state=42)\n",
    "    skf = StratifiedKFold(n_splits=5, shuffle=True, random_state=42)\n",
    "    scores = cross_val_score(model, X_train, y_train, cv=skf, scoring='roc_auc')\n",
    "    return np.mean(scores)\n",
    "\n",
    "# Function for training and prediction with optimal model\n",
    "def train_and_predict_with_optimal_model(X_train, y_train, X_test, y_test, selected_features, best_params):\n",
    "    X_train_selected = X_train[selected_features]\n",
    "    X_test_selected = X_test[selected_features]\n",
    "\n",
    "    optimal_model = AdaBoostClassifier(n_estimators=best_params['n_estimators'], learning_rate=best_params['learning_rate'], random_state=42)\n",
    "    optimal_model.fit(X_train_selected, y_train)\n",
    "\n",
    "    y_pred_prob = optimal_model.predict_proba(X_test_selected)[:, 1]\n",
    "\n",
    "    fpr, tpr, thresholds = roc_curve(y_test, y_pred_prob)\n",
    "    optimal_threshold_index = np.argmax(tpr - fpr)\n",
    "    optimal_threshold = thresholds[optimal_threshold_index]\n",
    "\n",
    "    y_pred = (y_pred_prob > optimal_threshold).astype(int)\n",
    "\n",
    "    return y_pred\n",
    "\n",
    "def run_ada_boosting():\n",
    "    start = time.time()\n",
    "\n",
    "    # Loading data\n",
    "    X_train = train_data_copy[selected_features]\n",
    "    y_train = train_data_copy['MARKER']\n",
    "\n",
    "    X_test = test_data_copy[selected_features]\n",
    "    y_test = test_data_copy['MARKER']\n",
    "\n",
    "    # Create a Study object for optimization\n",
    "    study = optuna.create_study(direction='maximize')\n",
    "\n",
    "    # Run hyperparameter optimization\n",
    "    study.optimize(lambda trial: optimize_adaboost_hyperparameters(trial, X_train, y_train), n_trials=30, n_jobs=2)\n",
    "\n",
    "    # Getting the best hyperparameters\n",
    "    best_params = study.best_params\n",
    "\n",
    "    # Train a model with optimal hyperparameters and make predictions on a test data set\n",
    "    y_pred = train_and_predict_with_optimal_model(X_train, y_train, X_test, y_test, selected_features, best_params)\n",
    "    y_pred_prob = model.predict_proba(X_test)[:, 1]\n",
    "\n",
    "    # Calculate metrics\n",
    "    roc_auc = roc_auc_score(y_test, y_pred_prob)\n",
    "    f1 = f1_score(y_test, y_pred)\n",
    "\n",
    "    # Output the results of optimization and model evaluation\n",
    "    print(\"Optimal Hyperparameters:\", best_params)\n",
    "    print(\"Predictions on Test Data:\", y_pred)\n",
    "    np.savetxt('./data_proc/y_pred_boosting.csv', y_pred)\n",
    "    print(\"Test ROC AUC:\", roc_auc)\n",
    "    print(\"Test F1 Score:\", f1)\n",
    "\n",
    "    finish = time.time()\n",
    "    print(\"время выполнения\", finish - start)\n",
    "\n",
    "run_ada_boosting()"
   ],
   "metadata": {
    "collapsed": false,
    "pycharm": {
     "name": "#%%\n"
    }
   }
  },
  {
   "cell_type": "markdown",
   "source": [
    "# Universal algorithm 2"
   ],
   "metadata": {
    "collapsed": false,
    "pycharm": {
     "name": "#%% md\n"
    }
   }
  },
  {
   "cell_type": "code",
   "execution_count": 47,
   "outputs": [
    {
     "name": "stdout",
     "output_type": "stream",
     "text": [
      "column to input: Index(['ID', 'C', 'D', 'E', 'G', 'H', 'I', 'J', 'L', 'M', 'N', 'O', 'R', 'S',\n",
      "       'W', 'X', 'MARKER'],\n",
      "      dtype='object')\n",
      "built-in algorithm selected\n"
     ]
    },
    {
     "name": "stderr",
     "output_type": "stream",
     "text": [
      "[I 2023-10-05 16:26:51,990] A new study created in memory with name: no-name-1d3eae99-a520-408f-b030-cefbdb8082fe\n"
     ]
    },
    {
     "name": "stdout",
     "output_type": "stream",
     "text": [
      "Selected Features: Index(['H', 'O', 'G', 'S', 'W', 'I', 'N', 'D', 'E', 'L'], dtype='object')\n"
     ]
    },
    {
     "name": "stderr",
     "output_type": "stream",
     "text": [
      "[I 2023-10-05 16:26:57,576] Trial 1 finished with value: 0.5 and parameters: {'n_estimators': 50, 'max_depth': 3, 'min_samples_split': 0.974464911598113, 'min_samples_leaf': 0.14677535810609324}. Best is trial 1 with value: 0.5.\n",
      "[I 2023-10-05 16:27:07,647] Trial 2 finished with value: 0.5 and parameters: {'n_estimators': 150, 'max_depth': 8, 'min_samples_split': 0.35997048219839556, 'min_samples_leaf': 0.4093697785973021}. Best is trial 1 with value: 0.5.\n",
      "[I 2023-10-05 16:27:12,394] Trial 0 finished with value: 0.5 and parameters: {'n_estimators': 200, 'max_depth': 4, 'min_samples_split': 0.4167393256833172, 'min_samples_leaf': 0.47966086094336136}. Best is trial 1 with value: 0.5.\n",
      "[I 2023-10-05 16:27:25,220] Trial 3 finished with value: 0.5 and parameters: {'n_estimators': 350, 'max_depth': 13, 'min_samples_split': 0.7397989432731723, 'min_samples_leaf': 0.29826042876490905}. Best is trial 1 with value: 0.5.\n",
      "[I 2023-10-05 16:27:30,263] Trial 4 finished with value: 0.5 and parameters: {'n_estimators': 350, 'max_depth': 15, 'min_samples_split': 0.7980120585009683, 'min_samples_leaf': 0.3407350868498736}. Best is trial 1 with value: 0.5.\n",
      "[I 2023-10-05 16:27:40,374] Trial 8 finished with value: 0.5 and parameters: {'n_estimators': 100, 'max_depth': 7, 'min_samples_split': 0.48952692958197125, 'min_samples_leaf': 0.46548083331183543}. Best is trial 1 with value: 0.5.\n",
      "[I 2023-10-05 16:27:48,499] Trial 7 finished with value: 0.5 and parameters: {'n_estimators': 250, 'max_depth': 7, 'min_samples_split': 0.6711542093730081, 'min_samples_leaf': 0.19293103423649238}. Best is trial 1 with value: 0.5.\n",
      "[I 2023-10-05 16:27:57,640] Trial 5 finished with value: 0.8623005521890068 and parameters: {'n_estimators': 250, 'max_depth': 5, 'min_samples_split': 0.5056286340058338, 'min_samples_leaf': 0.3142262262627463}. Best is trial 5 with value: 0.8623005521890068.\n",
      "[I 2023-10-05 16:28:13,251] Trial 10 finished with value: 0.9093845892170072 and parameters: {'n_estimators': 100, 'max_depth': 13, 'min_samples_split': 0.40460737584705125, 'min_samples_leaf': 0.1900054763153584}. Best is trial 10 with value: 0.9093845892170072.\n",
      "[I 2023-10-05 16:28:21,612] Trial 6 finished with value: 0.8852387421871167 and parameters: {'n_estimators': 350, 'max_depth': 13, 'min_samples_split': 0.22140851880928708, 'min_samples_leaf': 0.30162112479889536}. Best is trial 10 with value: 0.9093845892170072.\n",
      "[I 2023-10-05 16:28:32,097] Trial 12 finished with value: 0.5 and parameters: {'n_estimators': 250, 'max_depth': 12, 'min_samples_split': 0.9360360664136993, 'min_samples_leaf': 0.39890017193636423}. Best is trial 10 with value: 0.9093845892170072.\n",
      "[I 2023-10-05 16:28:45,899] Trial 13 finished with value: 0.9482063873772978 and parameters: {'n_estimators': 50, 'max_depth': 11, 'min_samples_split': 0.08660908229574243, 'min_samples_leaf': 0.07057525758254322}. Best is trial 13 with value: 0.9482063873772978.\n",
      "[I 2023-10-05 16:28:48,497] Trial 9 finished with value: 0.8987084524420688 and parameters: {'n_estimators': 350, 'max_depth': 5, 'min_samples_split': 0.2875890957103324, 'min_samples_leaf': 0.253871821217651}. Best is trial 13 with value: 0.9482063873772978.\n",
      "[I 2023-10-05 16:28:56,150] Trial 14 finished with value: 0.9505204466743283 and parameters: {'n_estimators': 50, 'max_depth': 11, 'min_samples_split': 0.15700697788148388, 'min_samples_leaf': 0.05697060054763545}. Best is trial 14 with value: 0.9505204466743283.\n",
      "[I 2023-10-05 16:29:09,145] Trial 15 finished with value: 0.9475956177894439 and parameters: {'n_estimators': 50, 'max_depth': 10, 'min_samples_split': 0.05899577324335459, 'min_samples_leaf': 0.07458652516817758}. Best is trial 14 with value: 0.9505204466743283.\n",
      "[I 2023-10-05 16:29:13,949] Trial 16 finished with value: 0.9514327414536078 and parameters: {'n_estimators': 50, 'max_depth': 10, 'min_samples_split': 0.08080048718625221, 'min_samples_leaf': 0.0603061314135907}. Best is trial 16 with value: 0.9514327414536078.\n",
      "[I 2023-10-05 16:29:23,495] Trial 17 finished with value: 0.956405207103012 and parameters: {'n_estimators': 50, 'max_depth': 10, 'min_samples_split': 0.07540658892595858, 'min_samples_leaf': 0.05108125338542559}. Best is trial 17 with value: 0.956405207103012.\n",
      "[I 2023-10-05 16:29:53,270] Trial 18 finished with value: 0.9499333718107342 and parameters: {'n_estimators': 100, 'max_depth': 10, 'min_samples_split': 0.06399275427525652, 'min_samples_leaf': 0.07214835186645471}. Best is trial 17 with value: 0.956405207103012.\n",
      "[I 2023-10-05 16:29:58,266] Trial 19 finished with value: 0.9526080103226328 and parameters: {'n_estimators': 100, 'max_depth': 9, 'min_samples_split': 0.18130179013185035, 'min_samples_leaf': 0.052502040308811684}. Best is trial 17 with value: 0.956405207103012.\n",
      "[I 2023-10-05 16:30:26,886] Trial 11 finished with value: 0.9495287394694761 and parameters: {'n_estimators': 350, 'max_depth': 4, 'min_samples_split': 0.17628690156555832, 'min_samples_leaf': 0.06772850499615458}. Best is trial 17 with value: 0.956405207103012.\n"
     ]
    },
    {
     "name": "stdout",
     "output_type": "stream",
     "text": [
      "Best Hyperparameters: {'n_estimators': 50, 'max_depth': 10, 'min_samples_split': 0.07540658892595858, 'min_samples_leaf': 0.05108125338542559}\n",
      "Test Predictions:        0\n",
      "0      1\n",
      "1      1\n",
      "2      1\n",
      "3      1\n",
      "4      0\n",
      "...   ..\n",
      "38400  0\n",
      "38401  1\n",
      "38402  1\n",
      "38403  1\n",
      "38404  0\n",
      "\n",
      "[38405 rows x 1 columns]\n",
      "Test F1 Score: 0.014648220759044166\n",
      "Test ROC AUC Score: 0.727317182419608\n"
     ]
    }
   ],
   "source": [
    "# Hyperparameter Optimization\n",
    "def optimize_hyperparameters(X, y, model_type):\n",
    "    def objective(trial):\n",
    "        if model_type == 'logistic_regression':\n",
    "            param_grid = {\n",
    "                'penalty': trial.suggest_categorical('penalty', ['l1', 'l2']),\n",
    "                'C': trial.suggest_loguniform('C', 1e-6, 1e4)\n",
    "            }\n",
    "            model = LogisticRegression(solver='liblinear', class_weight='balanced', **param_grid)\n",
    "        elif model_type == 'random_forest':\n",
    "            param_grid = {\n",
    "                'n_estimators': trial.suggest_int('n_estimators', 50, 350, step=50),\n",
    "                'max_depth': trial.suggest_int('max_depth', 3, 15),\n",
    "                'min_samples_split': trial.suggest_float('min_samples_split', 0.05, 1.0),\n",
    "                'min_samples_leaf': trial.suggest_float('min_samples_leaf', 0.05, 0.5)\n",
    "            }\n",
    "            model = RandomForestClassifier(\n",
    "                n_estimators=param_grid['n_estimators'],\n",
    "                max_depth=param_grid['max_depth'],\n",
    "                min_samples_split=param_grid['min_samples_split'],\n",
    "                min_samples_leaf=param_grid['min_samples_leaf'],\n",
    "                class_weight='balanced',\n",
    "                random_state=42\n",
    "            )\n",
    "        elif model_type == 'adaboost':\n",
    "            n_estimators = trial.suggest_int('n_estimators', 5, 75, step=5)\n",
    "            learning_rate = trial.suggest_float('learning_rate', 0.001, 1.0, log=True)\n",
    "\n",
    "            estimator = DecisionTreeClassifier(class_weight='balanced')\n",
    "            model = AdaBoostClassifier(n_estimators=n_estimators, learning_rate=learning_rate, estimator=estimator, random_state=42)\n",
    "        # Add other models and hyperparameters as needed\n",
    "\n",
    "        skf = StratifiedKFold(n_splits=5, shuffle=True, random_state=42)\n",
    "        scores = cross_val_score(model, X, y, cv=skf, scoring='roc_auc' )\n",
    "        return np.mean(scores)\n",
    "\n",
    "    study = optuna.create_study(direction='maximize')\n",
    "    study.optimize(objective, n_trials=20,n_jobs= 4)\n",
    "    best_params = study.best_params\n",
    "    return best_params\n",
    "\n",
    "# Model training\n",
    "def train_model(X_train, y_train, model_type, hyperparameters=None):\n",
    "    if model_type == 'logistic_regression':\n",
    "        if hyperparameters is None:\n",
    "            model = LogisticRegression(solver='liblinear', class_weight='balanced')\n",
    "        else:\n",
    "            model = LogisticRegression(solver='liblinear', class_weight='balanced', **hyperparameters)\n",
    "    elif model_type == 'random_forest':\n",
    "        model = RandomForestClassifier(\n",
    "            #class_weight='balanced',\n",
    "            random_state=42\n",
    "        )\n",
    "    elif model_type == 'adaboost':\n",
    "        if hyperparameters is None:\n",
    "            model = AdaBoostClassifier(random_state=42)\n",
    "        else:\n",
    "            model = AdaBoostClassifier(n_estimators=hyperparameters['n_estimators'], learning_rate=hyperparameters['learning_rate'], random_state=42)\n",
    "    #Add other models and options as needed\n",
    "\n",
    "    model.fit(X_train, y_train)\n",
    "    return model\n",
    "\n",
    "# Model evaluation\n",
    "def evaluate_model(model, X_test, y_test):\n",
    "    y_pred_prob = model.predict_proba(X_test)[:, 1]\n",
    "    fpr, tpr, thresholds = roc_curve(y_test, y_pred_prob)\n",
    "    optimal_threshold_index = np.argmax(tpr - fpr)\n",
    "    optimal_threshold = thresholds[optimal_threshold_index]\n",
    "    y_pred = (y_pred_prob > optimal_threshold).astype(int)\n",
    "\n",
    "    f1 = f1_score(y_test, y_pred)\n",
    "    roc_auc = roc_auc_score(y_test, y_pred_prob)\n",
    "\n",
    "    return y_pred, f1, roc_auc\n",
    "\n",
    "def fitness_score(model_type, X_train, y_train, selected_features):\n",
    "    model = train_model(X_train[selected_features], y_train, model_type)\n",
    "    _, _, roc_auc_score = evaluate_model(model, X_train[selected_features], y_train)\n",
    "    return roc_auc_score\n",
    "\n",
    "def mutate(selected_features, mutation_rate):\n",
    "    mutated_features = selected_features.copy()\n",
    "    for i in range(len(mutated_features)):\n",
    "        if random.random() < mutation_rate:\n",
    "            mutated_features[i] = random.randint(0, 1)  # 1 or 0 with equal probability\n",
    "    return mutated_features\n",
    "\n",
    "# Genetic algorithm\n",
    "def genetic_algorithm(X_train, y_train, model_type, num_gener, popul_size, mutation_rate):\n",
    "    num_features = X_train.shape[1]\n",
    "    column_names = X_train.columns\n",
    "\n",
    "    population = [random.choices([0, 1], k=num_features) for _ in range(popul_size)]\n",
    "\n",
    "    for generation in range(num_gener):\n",
    "        scores = []\n",
    "        for selected_features in population:\n",
    "            selected_column_names = [column_names[i] for i, select in enumerate(selected_features) if select == 1]\n",
    "            score = fitness_score(model_type, X_train, y_train, selected_column_names)\n",
    "            scores.append((selected_features, score))\n",
    "\n",
    "        scores.sort(key=lambda x: x[1], reverse=True)\n",
    "        elite = scores[:num_features // 2]\n",
    "\n",
    "        new_population = [selected_features for selected_features, _ in elite]\n",
    "        while len(new_population) < num_features:\n",
    "            parent1, parent2 = elite[0][0], elite[1][0]  # Use the top 2 parents\n",
    "            child = [parent1[i] if random.random() < 0.5 else parent2[i] for i in range(num_features)]\n",
    "            child = mutate(child, mutation_rate)\n",
    "            new_population.append(child)\n",
    "\n",
    "        population = new_population\n",
    "\n",
    "    best_features = max(scores, key=lambda x: x[1])[0]\n",
    "    return best_features\n",
    "\n",
    "def select_features_random_forest(X_train, y_train, num_features):\n",
    "    model = RandomForestClassifier(n_estimators=100, random_state=42)\n",
    "    model.fit(X_train, y_train)\n",
    "\n",
    "    feature_importances = model.feature_importances_\n",
    "    feature_indices = np.argsort(feature_importances)[::-1]  # Sort in descending order\n",
    "\n",
    "    selected_features = X_train.columns[feature_indices[:num_features]]\n",
    "    return selected_features\n",
    "\n",
    "\n",
    "def select_features_adaboost(X_train, y_train, num_features):\n",
    "    model = AdaBoostClassifier(n_estimators=100, random_state=42)\n",
    "    model.fit(X_train, y_train)\n",
    "\n",
    "    feature_weights = model.feature_importances_\n",
    "    feature_indices = np.argsort(feature_weights)[::-1]  # Sort in descending order\n",
    "\n",
    "    selected_features = X_train.columns[feature_indices[:num_features]]\n",
    "    return selected_features\n",
    "\n",
    "\n",
    "# Run the experiment\n",
    "def run_experiment(train_data, test_data, target_column_name, model_type, use_gen_alg=False, num_gener=10, popul_size=20, num_features=False, mutat_rate=0.1, hyp_optimize=True):\n",
    "    X_train = train_data.drop(columns=['ID', target_column_name])\n",
    "    y_train = train_data[target_column_name]\n",
    "\n",
    "    if (use_gen_alg or num_features) is False:\n",
    "        best_features = list(X_train.columns)  # Use all features\n",
    "    else:\n",
    "        if use_gen_alg and not num_features:\n",
    "            print(\"genetic algorithm selected\")\n",
    "            best_feature_indices = genetic_algorithm(X_train, y_train, model_type, num_gener, popul_size, mutat_rate)\n",
    "            best_features = [X_train.columns[i] for i, select in enumerate(best_feature_indices) if select == 1]\n",
    "        else:\n",
    "            print(\"built-in algorithm selected\")\n",
    "            if model_type == 'logistic_regression' and num_features:\n",
    "                # Use top N features based on coefficients if not optimizing hyperparameters\n",
    "                model = train_model(X_train, y_train, model_type)\n",
    "                coef_abs = np.abs(model.coef_[0])\n",
    "                best_features_idx = np.argsort(coef_abs)[-num_features:]\n",
    "                best_features = list(X_train.columns[best_features_idx])\n",
    "\n",
    "            elif model_type == 'random_forest' and num_features:\n",
    "                best_features = select_features_random_forest(X_train, y_train, num_features)\n",
    "\n",
    "            elif model_type == 'adaboost' and num_features:\n",
    "                best_features = select_features_adaboost(X_train, y_train, num_features)\n",
    "\n",
    "    print(\"Selected Features:\", best_features)\n",
    "\n",
    "    X_train_selected = X_train[best_features]\n",
    "    X_test_selected = test_data.drop(columns=['ID', target_column_name])[best_features]\n",
    "\n",
    "    if hyp_optimize:\n",
    "        best_hyperparameters = optimize_hyperparameters(X_train_selected, y_train, model_type)\n",
    "        print(\"Best Hyperparameters:\", best_hyperparameters)\n",
    "    else:\n",
    "        best_hyperparameters = None\n",
    "\n",
    "    model = train_model(X_train_selected, y_train, model_type, best_hyperparameters)\n",
    "\n",
    "    y_pred, f1, roc_auc = evaluate_model(model, X_test_selected, test_data[target_column_name])\n",
    "\n",
    "    y_pred = pd.DataFrame(y_pred)\n",
    "    y_pred.to_csv('./data_proc/y_pred_universal.csv')\n",
    "\n",
    "    print(\"Test Predictions:\", y_pred)\n",
    "    print(\"Test F1 Score:\", f1)\n",
    "    print(\"Test ROC AUC Score:\", roc_auc)\n",
    "\n",
    "print(\"column to input:\",train_data_copy.columns)\n",
    "run_experiment(train_data_copy, test_data_copy, 'MARKER', \"random_forest\", use_gen_alg=False, num_gener=5, popul_size=4,num_features= 10, mutat_rate=0.999, hyp_optimize=True)"
   ],
   "metadata": {
    "collapsed": false,
    "pycharm": {
     "name": "#%%\n"
    }
   }
  },
  {
   "cell_type": "code",
   "execution_count": 47,
   "outputs": [],
   "source": [
    "\n"
   ],
   "metadata": {
    "collapsed": false,
    "pycharm": {
     "name": "#%%\n"
    }
   }
  },
  {
   "cell_type": "code",
   "execution_count": 47,
   "outputs": [],
   "source": [],
   "metadata": {
    "collapsed": false,
    "pycharm": {
     "name": "#%%\n"
    }
   }
  },
  {
   "cell_type": "code",
   "execution_count": 47,
   "outputs": [],
   "source": [],
   "metadata": {
    "collapsed": false,
    "pycharm": {
     "name": "#%%\n"
    }
   }
  },
  {
   "cell_type": "code",
   "execution_count": 47,
   "outputs": [],
   "source": [],
   "metadata": {
    "collapsed": false,
    "pycharm": {
     "name": "#%%\n"
    }
   }
  },
  {
   "cell_type": "code",
   "execution_count": 47,
   "outputs": [],
   "source": [],
   "metadata": {
    "collapsed": false,
    "pycharm": {
     "name": "#%%\n"
    }
   }
  },
  {
   "cell_type": "code",
   "execution_count": 47,
   "outputs": [],
   "source": [],
   "metadata": {
    "collapsed": false,
    "pycharm": {
     "name": "#%%\n"
    }
   }
  },
  {
   "cell_type": "code",
   "execution_count": 47,
   "outputs": [],
   "source": [],
   "metadata": {
    "collapsed": false,
    "pycharm": {
     "name": "#%%\n"
    }
   }
  },
  {
   "cell_type": "code",
   "execution_count": 47,
   "outputs": [],
   "source": [],
   "metadata": {
    "collapsed": false,
    "pycharm": {
     "name": "#%%\n"
    }
   }
  },
  {
   "cell_type": "code",
   "execution_count": 47,
   "outputs": [],
   "source": [],
   "metadata": {
    "collapsed": false,
    "pycharm": {
     "name": "#%%\n"
    }
   }
  },
  {
   "cell_type": "code",
   "execution_count": 47,
   "outputs": [],
   "source": [],
   "metadata": {
    "collapsed": false,
    "pycharm": {
     "name": "#%%\n"
    }
   }
  },
  {
   "cell_type": "code",
   "execution_count": 47,
   "outputs": [],
   "source": [],
   "metadata": {
    "collapsed": false,
    "pycharm": {
     "name": "#%%\n"
    }
   }
  },
  {
   "cell_type": "code",
   "execution_count": 47,
   "outputs": [],
   "source": [],
   "metadata": {
    "collapsed": false,
    "pycharm": {
     "name": "#%%\n"
    }
   }
  },
  {
   "cell_type": "code",
   "execution_count": 47,
   "outputs": [],
   "source": [],
   "metadata": {
    "collapsed": false,
    "pycharm": {
     "name": "#%%\n"
    }
   }
  },
  {
   "cell_type": "code",
   "execution_count": 47,
   "outputs": [],
   "source": [],
   "metadata": {
    "collapsed": false,
    "pycharm": {
     "name": "#%%\n"
    }
   }
  },
  {
   "cell_type": "code",
   "execution_count": 47,
   "outputs": [],
   "source": [],
   "metadata": {
    "collapsed": false,
    "pycharm": {
     "name": "#%%\n"
    }
   }
  },
  {
   "cell_type": "code",
   "execution_count": 47,
   "outputs": [],
   "source": [],
   "metadata": {
    "collapsed": false,
    "pycharm": {
     "name": "#%%\n"
    }
   }
  },
  {
   "cell_type": "code",
   "execution_count": 47,
   "outputs": [],
   "source": [],
   "metadata": {
    "collapsed": false,
    "pycharm": {
     "name": "#%%\n"
    }
   }
  },
  {
   "cell_type": "code",
   "execution_count": 47,
   "outputs": [],
   "source": [],
   "metadata": {
    "collapsed": false,
    "pycharm": {
     "name": "#%%\n"
    }
   }
  },
  {
   "cell_type": "code",
   "execution_count": 47,
   "outputs": [],
   "source": [],
   "metadata": {
    "collapsed": false,
    "pycharm": {
     "name": "#%%\n"
    }
   }
  },
  {
   "cell_type": "code",
   "execution_count": 47,
   "outputs": [],
   "source": [],
   "metadata": {
    "collapsed": false,
    "pycharm": {
     "name": "#%%\n"
    }
   }
  },
  {
   "cell_type": "code",
   "execution_count": 47,
   "outputs": [],
   "source": [],
   "metadata": {
    "collapsed": false,
    "pycharm": {
     "name": "#%%\n"
    }
   }
  },
  {
   "cell_type": "code",
   "execution_count": 47,
   "outputs": [],
   "source": [],
   "metadata": {
    "collapsed": false,
    "pycharm": {
     "name": "#%%\n"
    }
   }
  },
  {
   "cell_type": "code",
   "execution_count": 47,
   "outputs": [],
   "source": [],
   "metadata": {
    "collapsed": false,
    "pycharm": {
     "name": "#%%\n"
    }
   }
  },
  {
   "cell_type": "code",
   "execution_count": 47,
   "outputs": [],
   "source": [],
   "metadata": {
    "collapsed": false,
    "pycharm": {
     "name": "#%%\n"
    }
   }
  },
  {
   "cell_type": "code",
   "execution_count": 47,
   "outputs": [],
   "source": [],
   "metadata": {
    "collapsed": false,
    "pycharm": {
     "name": "#%%\n"
    }
   }
  },
  {
   "cell_type": "code",
   "execution_count": 47,
   "outputs": [],
   "source": [],
   "metadata": {
    "collapsed": false,
    "pycharm": {
     "name": "#%%\n"
    }
   }
  },
  {
   "cell_type": "code",
   "execution_count": 47,
   "outputs": [],
   "source": [],
   "metadata": {
    "collapsed": false,
    "pycharm": {
     "name": "#%%\n"
    }
   }
  },
  {
   "cell_type": "code",
   "execution_count": 47,
   "outputs": [],
   "source": [],
   "metadata": {
    "collapsed": false,
    "pycharm": {
     "name": "#%%\n"
    }
   }
  },
  {
   "cell_type": "code",
   "execution_count": 47,
   "outputs": [],
   "source": [],
   "metadata": {
    "collapsed": false,
    "pycharm": {
     "name": "#%%\n"
    }
   }
  },
  {
   "cell_type": "code",
   "execution_count": 47,
   "outputs": [],
   "source": [],
   "metadata": {
    "collapsed": false,
    "pycharm": {
     "name": "#%%\n"
    }
   }
  },
  {
   "cell_type": "code",
   "execution_count": 47,
   "outputs": [],
   "source": [],
   "metadata": {
    "collapsed": false,
    "pycharm": {
     "name": "#%%\n"
    }
   }
  },
  {
   "cell_type": "code",
   "execution_count": 47,
   "outputs": [],
   "source": [],
   "metadata": {
    "collapsed": false,
    "pycharm": {
     "name": "#%%\n"
    }
   }
  },
  {
   "cell_type": "code",
   "execution_count": 47,
   "outputs": [],
   "source": [],
   "metadata": {
    "collapsed": false,
    "pycharm": {
     "name": "#%%\n"
    }
   }
  },
  {
   "cell_type": "code",
   "execution_count": 47,
   "outputs": [],
   "source": [],
   "metadata": {
    "collapsed": false,
    "pycharm": {
     "name": "#%%\n"
    }
   }
  },
  {
   "cell_type": "code",
   "execution_count": 47,
   "outputs": [],
   "source": [],
   "metadata": {
    "collapsed": false,
    "pycharm": {
     "name": "#%%\n"
    }
   }
  },
  {
   "cell_type": "code",
   "execution_count": 47,
   "outputs": [],
   "source": [],
   "metadata": {
    "collapsed": false,
    "pycharm": {
     "name": "#%%\n"
    }
   }
  },
  {
   "cell_type": "code",
   "execution_count": 47,
   "outputs": [],
   "source": [],
   "metadata": {
    "collapsed": false,
    "pycharm": {
     "name": "#%%\n"
    }
   }
  },
  {
   "cell_type": "code",
   "execution_count": 47,
   "outputs": [],
   "source": [],
   "metadata": {
    "collapsed": false,
    "pycharm": {
     "name": "#%%\n"
    }
   }
  },
  {
   "cell_type": "code",
   "execution_count": 47,
   "outputs": [],
   "source": [],
   "metadata": {
    "collapsed": false,
    "pycharm": {
     "name": "#%%\n"
    }
   }
  },
  {
   "cell_type": "code",
   "execution_count": 47,
   "outputs": [],
   "source": [],
   "metadata": {
    "collapsed": false,
    "pycharm": {
     "name": "#%%\n"
    }
   }
  },
  {
   "cell_type": "code",
   "execution_count": 47,
   "outputs": [],
   "source": [],
   "metadata": {
    "collapsed": false,
    "pycharm": {
     "name": "#%%\n"
    }
   }
  },
  {
   "cell_type": "code",
   "execution_count": 47,
   "outputs": [],
   "source": [],
   "metadata": {
    "collapsed": false,
    "pycharm": {
     "name": "#%%\n"
    }
   }
  },
  {
   "cell_type": "code",
   "execution_count": 47,
   "outputs": [],
   "source": [],
   "metadata": {
    "collapsed": false,
    "pycharm": {
     "name": "#%%\n"
    }
   }
  },
  {
   "cell_type": "code",
   "execution_count": 47,
   "outputs": [],
   "source": [],
   "metadata": {
    "collapsed": false,
    "pycharm": {
     "name": "#%%\n"
    }
   }
  },
  {
   "cell_type": "code",
   "execution_count": 47,
   "outputs": [],
   "source": [],
   "metadata": {
    "collapsed": false,
    "pycharm": {
     "name": "#%%\n"
    }
   }
  },
  {
   "cell_type": "code",
   "execution_count": 47,
   "outputs": [],
   "source": [],
   "metadata": {
    "collapsed": false,
    "pycharm": {
     "name": "#%%\n"
    }
   }
  },
  {
   "cell_type": "code",
   "execution_count": 47,
   "outputs": [],
   "source": [],
   "metadata": {
    "collapsed": false,
    "pycharm": {
     "name": "#%%\n"
    }
   }
  },
  {
   "cell_type": "code",
   "execution_count": 47,
   "outputs": [],
   "source": [],
   "metadata": {
    "collapsed": false,
    "pycharm": {
     "name": "#%%\n"
    }
   }
  },
  {
   "cell_type": "code",
   "execution_count": 47,
   "outputs": [],
   "source": [],
   "metadata": {
    "collapsed": false,
    "pycharm": {
     "name": "#%%\n"
    }
   }
  },
  {
   "cell_type": "code",
   "execution_count": 47,
   "outputs": [],
   "source": [],
   "metadata": {
    "collapsed": false,
    "pycharm": {
     "name": "#%%\n"
    }
   }
  },
  {
   "cell_type": "code",
   "execution_count": 47,
   "outputs": [],
   "source": [],
   "metadata": {
    "collapsed": false,
    "pycharm": {
     "name": "#%%\n"
    }
   }
  },
  {
   "cell_type": "code",
   "execution_count": 47,
   "outputs": [],
   "source": [],
   "metadata": {
    "collapsed": false,
    "pycharm": {
     "name": "#%%\n"
    }
   }
  },
  {
   "cell_type": "code",
   "execution_count": 47,
   "outputs": [],
   "source": [],
   "metadata": {
    "collapsed": false,
    "pycharm": {
     "name": "#%%\n"
    }
   }
  },
  {
   "cell_type": "code",
   "execution_count": 47,
   "outputs": [],
   "source": [],
   "metadata": {
    "collapsed": false,
    "pycharm": {
     "name": "#%%\n"
    }
   }
  },
  {
   "cell_type": "code",
   "execution_count": 47,
   "outputs": [],
   "source": [],
   "metadata": {
    "collapsed": false,
    "pycharm": {
     "name": "#%%\n"
    }
   }
  },
  {
   "cell_type": "code",
   "execution_count": 47,
   "outputs": [],
   "source": [],
   "metadata": {
    "collapsed": false,
    "pycharm": {
     "name": "#%%\n"
    }
   }
  },
  {
   "cell_type": "code",
   "execution_count": 47,
   "outputs": [],
   "source": [],
   "metadata": {
    "collapsed": false,
    "pycharm": {
     "name": "#%%\n"
    }
   }
  },
  {
   "cell_type": "code",
   "execution_count": 47,
   "outputs": [],
   "source": [],
   "metadata": {
    "collapsed": false,
    "pycharm": {
     "name": "#%%\n"
    }
   }
  },
  {
   "cell_type": "code",
   "execution_count": 47,
   "outputs": [],
   "source": [],
   "metadata": {
    "collapsed": false,
    "pycharm": {
     "name": "#%%\n"
    }
   }
  },
  {
   "cell_type": "code",
   "execution_count": 47,
   "outputs": [],
   "source": [],
   "metadata": {
    "collapsed": false,
    "pycharm": {
     "name": "#%%\n"
    }
   }
  },
  {
   "cell_type": "code",
   "execution_count": 47,
   "outputs": [],
   "source": [],
   "metadata": {
    "collapsed": false,
    "pycharm": {
     "name": "#%%\n"
    }
   }
  },
  {
   "cell_type": "code",
   "execution_count": 47,
   "outputs": [],
   "source": [],
   "metadata": {
    "collapsed": false,
    "pycharm": {
     "name": "#%%\n"
    }
   }
  },
  {
   "cell_type": "code",
   "execution_count": 47,
   "outputs": [],
   "source": [],
   "metadata": {
    "collapsed": false,
    "pycharm": {
     "name": "#%%\n"
    }
   }
  },
  {
   "cell_type": "code",
   "execution_count": 47,
   "outputs": [],
   "source": [],
   "metadata": {
    "collapsed": false,
    "pycharm": {
     "name": "#%%\n"
    }
   }
  },
  {
   "cell_type": "code",
   "execution_count": 47,
   "outputs": [],
   "source": [],
   "metadata": {
    "collapsed": false,
    "pycharm": {
     "name": "#%%\n"
    }
   }
  },
  {
   "cell_type": "code",
   "execution_count": 47,
   "outputs": [],
   "source": [],
   "metadata": {
    "collapsed": false,
    "pycharm": {
     "name": "#%%\n"
    }
   }
  },
  {
   "cell_type": "code",
   "execution_count": 47,
   "outputs": [],
   "source": [],
   "metadata": {
    "collapsed": false,
    "pycharm": {
     "name": "#%%\n"
    }
   }
  },
  {
   "cell_type": "code",
   "execution_count": 47,
   "outputs": [],
   "source": [],
   "metadata": {
    "collapsed": false,
    "pycharm": {
     "name": "#%%\n"
    }
   }
  },
  {
   "cell_type": "code",
   "execution_count": 47,
   "outputs": [],
   "source": [],
   "metadata": {
    "collapsed": false,
    "pycharm": {
     "name": "#%%\n"
    }
   }
  },
  {
   "cell_type": "code",
   "execution_count": 47,
   "outputs": [],
   "source": [],
   "metadata": {
    "collapsed": false,
    "pycharm": {
     "name": "#%%\n"
    }
   }
  },
  {
   "cell_type": "code",
   "execution_count": 47,
   "outputs": [],
   "source": [],
   "metadata": {
    "collapsed": false,
    "pycharm": {
     "name": "#%%\n"
    }
   }
  },
  {
   "cell_type": "code",
   "execution_count": 47,
   "outputs": [],
   "source": [],
   "metadata": {
    "collapsed": false,
    "pycharm": {
     "name": "#%%\n"
    }
   }
  },
  {
   "cell_type": "code",
   "execution_count": 47,
   "outputs": [],
   "source": [],
   "metadata": {
    "collapsed": false,
    "pycharm": {
     "name": "#%%\n"
    }
   }
  },
  {
   "cell_type": "code",
   "execution_count": 47,
   "outputs": [],
   "source": [],
   "metadata": {
    "collapsed": false,
    "pycharm": {
     "name": "#%%\n"
    }
   }
  },
  {
   "cell_type": "code",
   "execution_count": 47,
   "outputs": [],
   "source": [],
   "metadata": {
    "collapsed": false,
    "pycharm": {
     "name": "#%%\n"
    }
   }
  },
  {
   "cell_type": "code",
   "execution_count": 47,
   "outputs": [],
   "source": [],
   "metadata": {
    "collapsed": false,
    "pycharm": {
     "name": "#%%\n"
    }
   }
  },
  {
   "cell_type": "code",
   "execution_count": 47,
   "outputs": [],
   "source": [],
   "metadata": {
    "collapsed": false,
    "pycharm": {
     "name": "#%%\n"
    }
   }
  },
  {
   "cell_type": "code",
   "execution_count": 47,
   "outputs": [],
   "source": [],
   "metadata": {
    "collapsed": false,
    "pycharm": {
     "name": "#%%\n"
    }
   }
  },
  {
   "cell_type": "code",
   "execution_count": 47,
   "outputs": [],
   "source": [],
   "metadata": {
    "collapsed": false,
    "pycharm": {
     "name": "#%%\n"
    }
   }
  },
  {
   "cell_type": "code",
   "execution_count": 47,
   "outputs": [],
   "source": [],
   "metadata": {
    "collapsed": false,
    "pycharm": {
     "name": "#%%\n"
    }
   }
  },
  {
   "cell_type": "code",
   "execution_count": 47,
   "outputs": [],
   "source": [],
   "metadata": {
    "collapsed": false,
    "pycharm": {
     "name": "#%%\n"
    }
   }
  },
  {
   "cell_type": "code",
   "execution_count": 47,
   "outputs": [],
   "source": [],
   "metadata": {
    "collapsed": false,
    "pycharm": {
     "name": "#%%\n"
    }
   }
  },
  {
   "cell_type": "code",
   "execution_count": 47,
   "outputs": [],
   "source": [],
   "metadata": {
    "collapsed": false,
    "pycharm": {
     "name": "#%%\n"
    }
   }
  },
  {
   "cell_type": "code",
   "execution_count": 47,
   "outputs": [],
   "source": [],
   "metadata": {
    "collapsed": false,
    "pycharm": {
     "name": "#%%\n"
    }
   }
  },
  {
   "cell_type": "code",
   "execution_count": 47,
   "outputs": [],
   "source": [],
   "metadata": {
    "collapsed": false,
    "pycharm": {
     "name": "#%%\n"
    }
   }
  },
  {
   "cell_type": "code",
   "execution_count": 47,
   "outputs": [],
   "source": [],
   "metadata": {
    "collapsed": false,
    "pycharm": {
     "name": "#%%\n"
    }
   }
  },
  {
   "cell_type": "code",
   "execution_count": 47,
   "outputs": [],
   "source": [],
   "metadata": {
    "collapsed": false,
    "pycharm": {
     "name": "#%%\n"
    }
   }
  },
  {
   "cell_type": "code",
   "execution_count": 47,
   "outputs": [],
   "source": [],
   "metadata": {
    "collapsed": false,
    "pycharm": {
     "name": "#%%\n"
    }
   }
  },
  {
   "cell_type": "code",
   "execution_count": 47,
   "outputs": [],
   "source": [],
   "metadata": {
    "collapsed": false,
    "pycharm": {
     "name": "#%%\n"
    }
   }
  },
  {
   "cell_type": "code",
   "execution_count": 47,
   "outputs": [],
   "source": [],
   "metadata": {
    "collapsed": false,
    "pycharm": {
     "name": "#%%\n"
    }
   }
  },
  {
   "cell_type": "code",
   "execution_count": 47,
   "outputs": [],
   "source": [],
   "metadata": {
    "collapsed": false,
    "pycharm": {
     "name": "#%%\n"
    }
   }
  },
  {
   "cell_type": "code",
   "execution_count": 47,
   "outputs": [],
   "source": [],
   "metadata": {
    "collapsed": false,
    "pycharm": {
     "name": "#%%\n"
    }
   }
  },
  {
   "cell_type": "code",
   "execution_count": 47,
   "outputs": [],
   "source": [],
   "metadata": {
    "collapsed": false,
    "pycharm": {
     "name": "#%%\n"
    }
   }
  },
  {
   "cell_type": "code",
   "execution_count": 47,
   "outputs": [],
   "source": [],
   "metadata": {
    "collapsed": false,
    "pycharm": {
     "name": "#%%\n"
    }
   }
  },
  {
   "cell_type": "code",
   "execution_count": 47,
   "outputs": [],
   "source": [],
   "metadata": {
    "collapsed": false,
    "pycharm": {
     "name": "#%%\n"
    }
   }
  },
  {
   "cell_type": "code",
   "execution_count": 47,
   "outputs": [],
   "source": [],
   "metadata": {
    "collapsed": false,
    "pycharm": {
     "name": "#%%\n"
    }
   }
  },
  {
   "cell_type": "code",
   "execution_count": 47,
   "outputs": [],
   "source": [],
   "metadata": {
    "collapsed": false,
    "pycharm": {
     "name": "#%%\n"
    }
   }
  },
  {
   "cell_type": "code",
   "execution_count": 47,
   "outputs": [],
   "source": [],
   "metadata": {
    "collapsed": false,
    "pycharm": {
     "name": "#%%\n"
    }
   }
  },
  {
   "cell_type": "code",
   "execution_count": 47,
   "outputs": [],
   "source": [],
   "metadata": {
    "collapsed": false,
    "pycharm": {
     "name": "#%%\n"
    }
   }
  },
  {
   "cell_type": "code",
   "execution_count": 47,
   "outputs": [],
   "source": [],
   "metadata": {
    "collapsed": false,
    "pycharm": {
     "name": "#%%\n"
    }
   }
  },
  {
   "cell_type": "code",
   "execution_count": 47,
   "outputs": [],
   "source": [],
   "metadata": {
    "collapsed": false,
    "pycharm": {
     "name": "#%%\n"
    }
   }
  },
  {
   "cell_type": "code",
   "execution_count": 47,
   "outputs": [],
   "source": [],
   "metadata": {
    "collapsed": false,
    "pycharm": {
     "name": "#%%\n"
    }
   }
  },
  {
   "cell_type": "code",
   "execution_count": 47,
   "outputs": [],
   "source": [],
   "metadata": {
    "collapsed": false,
    "pycharm": {
     "name": "#%%\n"
    }
   }
  },
  {
   "cell_type": "code",
   "execution_count": 47,
   "outputs": [],
   "source": [],
   "metadata": {
    "collapsed": false,
    "pycharm": {
     "name": "#%%\n"
    }
   }
  },
  {
   "cell_type": "code",
   "execution_count": 47,
   "outputs": [],
   "source": [],
   "metadata": {
    "collapsed": false,
    "pycharm": {
     "name": "#%%\n"
    }
   }
  },
  {
   "cell_type": "code",
   "execution_count": 47,
   "outputs": [],
   "source": [],
   "metadata": {
    "collapsed": false,
    "pycharm": {
     "name": "#%%\n"
    }
   }
  },
  {
   "cell_type": "code",
   "execution_count": 47,
   "outputs": [],
   "source": [],
   "metadata": {
    "collapsed": false,
    "pycharm": {
     "name": "#%%\n"
    }
   }
  },
  {
   "cell_type": "code",
   "execution_count": 47,
   "outputs": [],
   "source": [],
   "metadata": {
    "collapsed": false,
    "pycharm": {
     "name": "#%%\n"
    }
   }
  },
  {
   "cell_type": "code",
   "execution_count": 47,
   "outputs": [],
   "source": [],
   "metadata": {
    "collapsed": false,
    "pycharm": {
     "name": "#%%\n"
    }
   }
  },
  {
   "cell_type": "code",
   "execution_count": 47,
   "outputs": [],
   "source": [],
   "metadata": {
    "collapsed": false,
    "pycharm": {
     "name": "#%%\n"
    }
   }
  },
  {
   "cell_type": "code",
   "execution_count": 47,
   "outputs": [],
   "source": [],
   "metadata": {
    "collapsed": false,
    "pycharm": {
     "name": "#%%\n"
    }
   }
  },
  {
   "cell_type": "code",
   "execution_count": 47,
   "outputs": [],
   "source": [],
   "metadata": {
    "collapsed": false,
    "pycharm": {
     "name": "#%%\n"
    }
   }
  },
  {
   "cell_type": "code",
   "execution_count": 47,
   "outputs": [],
   "source": [],
   "metadata": {
    "collapsed": false,
    "pycharm": {
     "name": "#%%\n"
    }
   }
  },
  {
   "cell_type": "code",
   "execution_count": 47,
   "outputs": [],
   "source": [],
   "metadata": {
    "collapsed": false,
    "pycharm": {
     "name": "#%%\n"
    }
   }
  },
  {
   "cell_type": "code",
   "execution_count": 47,
   "outputs": [],
   "source": [],
   "metadata": {
    "collapsed": false,
    "pycharm": {
     "name": "#%%\n"
    }
   }
  },
  {
   "cell_type": "code",
   "execution_count": 47,
   "outputs": [],
   "source": [],
   "metadata": {
    "collapsed": false,
    "pycharm": {
     "name": "#%%\n"
    }
   }
  },
  {
   "cell_type": "code",
   "execution_count": 47,
   "outputs": [],
   "source": [],
   "metadata": {
    "collapsed": false,
    "pycharm": {
     "name": "#%%\n"
    }
   }
  },
  {
   "cell_type": "code",
   "execution_count": 47,
   "outputs": [],
   "source": [],
   "metadata": {
    "collapsed": false,
    "pycharm": {
     "name": "#%%\n"
    }
   }
  },
  {
   "cell_type": "code",
   "execution_count": 47,
   "outputs": [],
   "source": [],
   "metadata": {
    "collapsed": false,
    "pycharm": {
     "name": "#%%\n"
    }
   }
  },
  {
   "cell_type": "code",
   "execution_count": 47,
   "outputs": [],
   "source": [],
   "metadata": {
    "collapsed": false,
    "pycharm": {
     "name": "#%%\n"
    }
   }
  },
  {
   "cell_type": "code",
   "execution_count": 47,
   "outputs": [],
   "source": [],
   "metadata": {
    "collapsed": false,
    "pycharm": {
     "name": "#%%\n"
    }
   }
  },
  {
   "cell_type": "code",
   "execution_count": 47,
   "outputs": [],
   "source": [],
   "metadata": {
    "collapsed": false,
    "pycharm": {
     "name": "#%%\n"
    }
   }
  },
  {
   "cell_type": "code",
   "execution_count": 47,
   "outputs": [],
   "source": [],
   "metadata": {
    "collapsed": false,
    "pycharm": {
     "name": "#%%\n"
    }
   }
  },
  {
   "cell_type": "code",
   "execution_count": 47,
   "outputs": [],
   "source": [],
   "metadata": {
    "collapsed": false,
    "pycharm": {
     "name": "#%%\n"
    }
   }
  },
  {
   "cell_type": "code",
   "execution_count": 47,
   "outputs": [],
   "source": [],
   "metadata": {
    "collapsed": false,
    "pycharm": {
     "name": "#%%\n"
    }
   }
  },
  {
   "cell_type": "code",
   "execution_count": 47,
   "outputs": [],
   "source": [],
   "metadata": {
    "collapsed": false,
    "pycharm": {
     "name": "#%%\n"
    }
   }
  },
  {
   "cell_type": "code",
   "execution_count": 47,
   "outputs": [],
   "source": [],
   "metadata": {
    "collapsed": false,
    "pycharm": {
     "name": "#%%\n"
    }
   }
  },
  {
   "cell_type": "code",
   "execution_count": 47,
   "outputs": [],
   "source": [],
   "metadata": {
    "collapsed": false,
    "pycharm": {
     "name": "#%%\n"
    }
   }
  },
  {
   "cell_type": "code",
   "execution_count": 47,
   "outputs": [],
   "source": [],
   "metadata": {
    "collapsed": false,
    "pycharm": {
     "name": "#%%\n"
    }
   }
  },
  {
   "cell_type": "code",
   "execution_count": 47,
   "outputs": [],
   "source": [],
   "metadata": {
    "collapsed": false,
    "pycharm": {
     "name": "#%%\n"
    }
   }
  },
  {
   "cell_type": "code",
   "execution_count": 47,
   "outputs": [],
   "source": [],
   "metadata": {
    "collapsed": false,
    "pycharm": {
     "name": "#%%\n"
    }
   }
  },
  {
   "cell_type": "code",
   "execution_count": 47,
   "outputs": [],
   "source": [],
   "metadata": {
    "collapsed": false,
    "pycharm": {
     "name": "#%%\n"
    }
   }
  },
  {
   "cell_type": "code",
   "execution_count": 47,
   "outputs": [],
   "source": [],
   "metadata": {
    "collapsed": false,
    "pycharm": {
     "name": "#%%\n"
    }
   }
  },
  {
   "cell_type": "code",
   "execution_count": 47,
   "outputs": [],
   "source": [],
   "metadata": {
    "collapsed": false,
    "pycharm": {
     "name": "#%%\n"
    }
   }
  },
  {
   "cell_type": "code",
   "execution_count": 47,
   "outputs": [],
   "source": [],
   "metadata": {
    "collapsed": false,
    "pycharm": {
     "name": "#%%\n"
    }
   }
  },
  {
   "cell_type": "code",
   "execution_count": 47,
   "outputs": [],
   "source": [],
   "metadata": {
    "collapsed": false,
    "pycharm": {
     "name": "#%%\n"
    }
   }
  },
  {
   "cell_type": "code",
   "execution_count": 47,
   "outputs": [],
   "source": [],
   "metadata": {
    "collapsed": false,
    "pycharm": {
     "name": "#%%\n"
    }
   }
  },
  {
   "cell_type": "code",
   "execution_count": 47,
   "outputs": [],
   "source": [],
   "metadata": {
    "collapsed": false,
    "pycharm": {
     "name": "#%%\n"
    }
   }
  },
  {
   "cell_type": "code",
   "execution_count": 47,
   "outputs": [],
   "source": [],
   "metadata": {
    "collapsed": false,
    "pycharm": {
     "name": "#%%\n"
    }
   }
  },
  {
   "cell_type": "code",
   "execution_count": 47,
   "outputs": [],
   "source": [],
   "metadata": {
    "collapsed": false,
    "pycharm": {
     "name": "#%%\n"
    }
   }
  },
  {
   "cell_type": "code",
   "execution_count": 47,
   "outputs": [],
   "source": [],
   "metadata": {
    "collapsed": false,
    "pycharm": {
     "name": "#%%\n"
    }
   }
  },
  {
   "cell_type": "code",
   "execution_count": 47,
   "outputs": [],
   "source": [],
   "metadata": {
    "collapsed": false,
    "pycharm": {
     "name": "#%%\n"
    }
   }
  },
  {
   "cell_type": "code",
   "execution_count": 47,
   "outputs": [],
   "source": [],
   "metadata": {
    "collapsed": false,
    "pycharm": {
     "name": "#%%\n"
    }
   }
  },
  {
   "cell_type": "code",
   "execution_count": 47,
   "outputs": [],
   "source": [],
   "metadata": {
    "collapsed": false,
    "pycharm": {
     "name": "#%%\n"
    }
   }
  },
  {
   "cell_type": "code",
   "execution_count": 47,
   "outputs": [],
   "source": [],
   "metadata": {
    "collapsed": false,
    "pycharm": {
     "name": "#%%\n"
    }
   }
  },
  {
   "cell_type": "code",
   "execution_count": 47,
   "outputs": [],
   "source": [],
   "metadata": {
    "collapsed": false,
    "pycharm": {
     "name": "#%%\n"
    }
   }
  },
  {
   "cell_type": "code",
   "execution_count": 47,
   "outputs": [],
   "source": [],
   "metadata": {
    "collapsed": false,
    "pycharm": {
     "name": "#%%\n"
    }
   }
  },
  {
   "cell_type": "code",
   "execution_count": 47,
   "outputs": [],
   "source": [],
   "metadata": {
    "collapsed": false,
    "pycharm": {
     "name": "#%%\n"
    }
   }
  },
  {
   "cell_type": "code",
   "execution_count": 47,
   "outputs": [],
   "source": [],
   "metadata": {
    "collapsed": false,
    "pycharm": {
     "name": "#%%\n"
    }
   }
  },
  {
   "cell_type": "code",
   "execution_count": 47,
   "outputs": [],
   "source": [],
   "metadata": {
    "collapsed": false,
    "pycharm": {
     "name": "#%%\n"
    }
   }
  },
  {
   "cell_type": "code",
   "execution_count": 47,
   "outputs": [],
   "source": [],
   "metadata": {
    "collapsed": false,
    "pycharm": {
     "name": "#%%\n"
    }
   }
  },
  {
   "cell_type": "code",
   "execution_count": 47,
   "outputs": [],
   "source": [],
   "metadata": {
    "collapsed": false,
    "pycharm": {
     "name": "#%%\n"
    }
   }
  },
  {
   "cell_type": "code",
   "execution_count": 47,
   "outputs": [],
   "source": [],
   "metadata": {
    "collapsed": false,
    "pycharm": {
     "name": "#%%\n"
    }
   }
  },
  {
   "cell_type": "code",
   "execution_count": 47,
   "outputs": [],
   "source": [],
   "metadata": {
    "collapsed": false,
    "pycharm": {
     "name": "#%%\n"
    }
   }
  },
  {
   "cell_type": "code",
   "execution_count": 47,
   "outputs": [],
   "source": [],
   "metadata": {
    "collapsed": false,
    "pycharm": {
     "name": "#%%\n"
    }
   }
  },
  {
   "cell_type": "code",
   "execution_count": 47,
   "outputs": [],
   "source": [],
   "metadata": {
    "collapsed": false,
    "pycharm": {
     "name": "#%%\n"
    }
   }
  },
  {
   "cell_type": "code",
   "execution_count": 47,
   "outputs": [],
   "source": [],
   "metadata": {
    "collapsed": false,
    "pycharm": {
     "name": "#%%\n"
    }
   }
  },
  {
   "cell_type": "code",
   "execution_count": 47,
   "outputs": [],
   "source": [],
   "metadata": {
    "collapsed": false,
    "pycharm": {
     "name": "#%%\n"
    }
   }
  },
  {
   "cell_type": "code",
   "execution_count": 47,
   "outputs": [],
   "source": [],
   "metadata": {
    "collapsed": false,
    "pycharm": {
     "name": "#%%\n"
    }
   }
  },
  {
   "cell_type": "code",
   "execution_count": 47,
   "outputs": [],
   "source": [],
   "metadata": {
    "collapsed": false,
    "pycharm": {
     "name": "#%%\n"
    }
   }
  },
  {
   "cell_type": "code",
   "execution_count": 47,
   "outputs": [],
   "source": [],
   "metadata": {
    "collapsed": false,
    "pycharm": {
     "name": "#%%\n"
    }
   }
  },
  {
   "cell_type": "code",
   "execution_count": 47,
   "outputs": [],
   "source": [],
   "metadata": {
    "collapsed": false,
    "pycharm": {
     "name": "#%%\n"
    }
   }
  },
  {
   "cell_type": "code",
   "execution_count": 47,
   "outputs": [],
   "source": [],
   "metadata": {
    "collapsed": false,
    "pycharm": {
     "name": "#%%\n"
    }
   }
  },
  {
   "cell_type": "code",
   "execution_count": 47,
   "outputs": [],
   "source": [],
   "metadata": {
    "collapsed": false,
    "pycharm": {
     "name": "#%%\n"
    }
   }
  },
  {
   "cell_type": "code",
   "execution_count": 47,
   "outputs": [],
   "source": [],
   "metadata": {
    "collapsed": false,
    "pycharm": {
     "name": "#%%\n"
    }
   }
  },
  {
   "cell_type": "code",
   "execution_count": 47,
   "outputs": [],
   "source": [],
   "metadata": {
    "collapsed": false,
    "pycharm": {
     "name": "#%%\n"
    }
   }
  },
  {
   "cell_type": "code",
   "execution_count": 47,
   "outputs": [],
   "source": [],
   "metadata": {
    "collapsed": false,
    "pycharm": {
     "name": "#%%\n"
    }
   }
  },
  {
   "cell_type": "code",
   "execution_count": 47,
   "outputs": [],
   "source": [],
   "metadata": {
    "collapsed": false,
    "pycharm": {
     "name": "#%%\n"
    }
   }
  },
  {
   "cell_type": "code",
   "execution_count": 47,
   "outputs": [],
   "source": [],
   "metadata": {
    "collapsed": false,
    "pycharm": {
     "name": "#%%\n"
    }
   }
  },
  {
   "cell_type": "code",
   "execution_count": 47,
   "outputs": [],
   "source": [],
   "metadata": {
    "collapsed": false,
    "pycharm": {
     "name": "#%%\n"
    }
   }
  },
  {
   "cell_type": "code",
   "execution_count": 47,
   "outputs": [],
   "source": [],
   "metadata": {
    "collapsed": false,
    "pycharm": {
     "name": "#%%\n"
    }
   }
  },
  {
   "cell_type": "code",
   "execution_count": 47,
   "outputs": [],
   "source": [],
   "metadata": {
    "collapsed": false,
    "pycharm": {
     "name": "#%%\n"
    }
   }
  },
  {
   "cell_type": "code",
   "execution_count": 47,
   "outputs": [],
   "source": [],
   "metadata": {
    "collapsed": false,
    "pycharm": {
     "name": "#%%\n"
    }
   }
  },
  {
   "cell_type": "code",
   "execution_count": 47,
   "outputs": [],
   "source": [],
   "metadata": {
    "collapsed": false,
    "pycharm": {
     "name": "#%%\n"
    }
   }
  }
 ],
 "metadata": {
  "kernelspec": {
   "display_name": "Python 3",
   "language": "python",
   "name": "python3"
  },
  "language_info": {
   "codemirror_mode": {
    "name": "ipython",
    "version": 2
   },
   "file_extension": ".py",
   "mimetype": "text/x-python",
   "name": "python",
   "nbconvert_exporter": "python",
   "pygments_lexer": "ipython2",
   "version": "2.7.6"
  }
 },
 "nbformat": 4,
 "nbformat_minor": 0
}