{
 "cells": [
  {
   "cell_type": "code",
   "execution_count": 1,
   "outputs": [],
   "source": [
    "import random\n",
    "import numpy as np\n",
    "import pandas as pd\n",
    "import time\n",
    "import optuna\n",
    "from sklearn.preprocessing import LabelEncoder,RobustScaler,StandardScaler\n",
    "from sklearn.feature_selection import SelectKBest,f_classif\n",
    "from sklearn.tree import DecisionTreeClassifier\n",
    "from sklearn.model_selection import cross_val_score,StratifiedKFold\n",
    "from sklearn.ensemble import RandomForestClassifier,AdaBoostClassifier\n",
    "from sklearn.utils import resample\n",
    "from sklearn.metrics import roc_auc_score,roc_curve,f1_score,classification_report\n",
    "from sklearn.model_selection import train_test_split, GridSearchCV\n",
    "from sklearn.linear_model import LogisticRegression\n",
    "from main import read_xlsb"
   ],
   "metadata": {
    "collapsed": false,
    "pycharm": {
     "name": "#%%\n"
    }
   }
  },
  {
   "cell_type": "code",
   "execution_count": 2,
   "outputs": [],
   "source": [
    "\n",
    "# download data\n",
    "train_data_path = \"./data/Training.xlsb\"\n",
    "train_sheet_name = 'Training'\n",
    "train_data = read_xlsb(train_data_path, train_sheet_name)\n",
    "\n",
    "test_data_path = \"./data/Test.xlsb\"\n",
    "test_sheet_name = 'Test'\n",
    "test_data = read_xlsb(test_data_path, test_sheet_name)\n",
    "\n",
    "# create train test dataframe\n",
    "train_data_copy = train_data.copy()\n",
    "test_data_copy = test_data.copy()\n",
    "X = train_data_copy.drop([\"MARKER\",\"ID\"],axis = 1)\n",
    "X_test = test_data_copy.drop([\"MARKER\",\"ID\"],axis = 1)\n",
    "y = train_data_copy['MARKER']\n",
    "y_test = test_data_copy['MARKER']\n",
    "\n",
    "# making copies\n",
    "X_copy = X.copy()\n",
    "y_copy= y.copy()"
   ],
   "metadata": {
    "collapsed": false,
    "pycharm": {
     "name": "#%%\n"
    }
   }
  },
  {
   "cell_type": "code",
   "execution_count": 3,
   "outputs": [
    {
     "name": "stdout",
     "output_type": "stream",
     "text": [
      "            ID         A         B       C       D         E         F     G  \\\n",
      "0          1.0  0.198778  0.099389    0.00  799.90  1.777556  0.888778  13.0   \n",
      "1          2.0  0.043000  0.021264   49.97  173.03  0.384511  0.190143  13.0   \n",
      "2          3.0  0.067073  0.067073    0.00  329.90  0.599818  0.599818  13.0   \n",
      "3          4.0  0.052700  0.052700    0.00  235.65  0.471300  0.471300  13.0   \n",
      "4          5.0  0.141880  0.141880    0.00  634.45  1.268900  1.268900  13.0   \n",
      "...        ...       ...       ...     ...     ...       ...       ...   ...   \n",
      "89729  89730.0  0.027941  0.014844   25.00  474.00  0.557647  0.296250  20.0   \n",
      "89730  89731.0  0.120017  0.068581  179.96  720.03  1.200050  0.685743  10.0   \n",
      "89731  89732.0  0.153033  0.122427   29.01  550.99  0.459158  0.367327   3.0   \n",
      "89732  89733.0  0.107575  0.043030   53.82  215.18  0.537950  0.215180   5.0   \n",
      "89733  89734.0  0.095750  0.095750   57.48  172.42  0.287367  0.287367   3.0   \n",
      "\n",
      "          H      I  ...       P          Q    R          S    T    U    V  \\\n",
      "0      3.49  Woman  ...   2 Two   property   No      Works  Yes  Yes   No   \n",
      "1      3.49  Woman  ...   2 Two  otherwise   No      Works  Yes  Yes  Yes   \n",
      "2      3.49  Woman  ...   1 One   property   No  No couple   No  Yes   No   \n",
      "3      3.49  Woman  ...  0 Zero   property   No  No couple  Yes  Yes  Few   \n",
      "4      3.49  Woman  ...  0 Zero   property   No  No couple  Yes   No   No   \n",
      "...     ...    ...  ...     ...        ...  ...        ...  ...  ...  ...   \n",
      "89729  0.01    Man  ...  0 Zero   property   No      Works  Yes  Yes   No   \n",
      "89730  0.00  Woman  ...   2 Two   property   No      Works  Yes  Yes   No   \n",
      "89731  0.00    Man  ...  0 Zero  otherwise   No      Works  Yes  Yes   No   \n",
      "89732  0.00  Woman  ...   1 One   property  Yes      Works   No  Yes   No   \n",
      "89733  0.00    Man  ...  0 Zero  otherwise   No  No couple   No  Yes   No   \n",
      "\n",
      "         W    X MARKER  \n",
      "0      Yes   No    0.0  \n",
      "1      Yes   No    0.0  \n",
      "2      Yes   No    0.0  \n",
      "3      Yes   No    0.0  \n",
      "4       No   No    0.0  \n",
      "...    ...  ...    ...  \n",
      "89729   No  Yes    0.0  \n",
      "89730   No  Yes    0.0  \n",
      "89731  Yes  Yes    0.0  \n",
      "89732   No  Yes    0.0  \n",
      "89733   No  Yes    0.0  \n",
      "\n",
      "[89734 rows x 26 columns]\n"
     ]
    }
   ],
   "source": [
    "# removing duplicate lines\n",
    "train_data_copy = train_data_copy.drop_duplicates()\n",
    "print(train_data_copy)\n"
   ],
   "metadata": {
    "collapsed": false,
    "pycharm": {
     "name": "#%%\n"
    }
   }
  },
  {
   "cell_type": "code",
   "execution_count": 4,
   "outputs": [
    {
     "name": "stdout",
     "output_type": "stream",
     "text": [
      "            ID         A         B       C       D         E         F     G  \\\n",
      "0          1.0  0.198778  0.099389    0.00  799.90  1.777556  0.888778  13.0   \n",
      "1          2.0  0.043000  0.021264   49.97  173.03  0.384511  0.190143  13.0   \n",
      "2          3.0  0.067073  0.067073    0.00  329.90  0.599818  0.599818  13.0   \n",
      "3          4.0  0.052700  0.052700    0.00  235.65  0.471300  0.471300  13.0   \n",
      "4          5.0  0.141880  0.141880    0.00  634.45  1.268900  1.268900  13.0   \n",
      "...        ...       ...       ...     ...     ...       ...       ...   ...   \n",
      "89729  89730.0  0.027941  0.014844   25.00  474.00  0.557647  0.296250  20.0   \n",
      "89730  89731.0  0.120017  0.068581  179.96  720.03  1.200050  0.685743  10.0   \n",
      "89731  89732.0  0.153033  0.122427   29.01  550.99  0.459158  0.367327   3.0   \n",
      "89732  89733.0  0.107575  0.043030   53.82  215.18  0.537950  0.215180   5.0   \n",
      "89733  89734.0  0.095750  0.095750   57.48  172.42  0.287367  0.287367   3.0   \n",
      "\n",
      "          H  I  ...  P      Q  R      S  T  U      V  W  X  MARKER  \n",
      "0      3.49  1  ...  2  81457  0  47413  1  1  78462  1  0     0.0  \n",
      "1      3.49  1  ...  2   6679  0  47413  1  1  10561  1  0     0.0  \n",
      "2      3.49  1  ...  1  81457  0  26457  0  1  78462  1  0     0.0  \n",
      "3      3.49  1  ...  0  81457  0  26457  1  1    711  1  0     0.0  \n",
      "4      3.49  1  ...  0  81457  0  26457  1  0  78462  0  0     0.0  \n",
      "...     ... ..  ... ..    ... ..    ... .. ..    ... .. ..     ...  \n",
      "89729  0.01  0  ...  0  81457  0  47413  1  1  78462  0  1     0.0  \n",
      "89730  0.00  1  ...  2  81457  0  47413  1  1  78462  0  1     0.0  \n",
      "89731  0.00  0  ...  0   6679  0  47413  1  1  78462  1  1     0.0  \n",
      "89732  0.00  1  ...  1  81457  1  47413  0  1  78462  0  1     0.0  \n",
      "89733  0.00  0  ...  0   6679  0  26457  0  1  78462  0  1     0.0  \n",
      "\n",
      "[89734 rows x 26 columns]\n",
      "            ID         A         B       C        D         E         F     G  \\\n",
      "0          1.0  0.085400  0.085400   29.72   267.28  0.763657  0.763657  13.0   \n",
      "1          2.0  0.223218  0.111609    0.00  1097.90  1.996182  0.998091  13.0   \n",
      "2          3.0  0.048400  0.048400    0.00   399.90  0.499875  0.499875  13.0   \n",
      "3          4.0  0.039560  0.039560   19.59   176.93  0.353860  0.353860  13.0   \n",
      "4          5.0  0.231017  0.173263    0.00  1239.56  2.065933  1.549450  13.0   \n",
      "...        ...       ...       ...     ...      ...       ...       ...   ...   \n",
      "38400  38401.0  0.569320  0.237217   44.95   854.05  1.708100  0.711708   3.0   \n",
      "38401  38402.0  0.072727  0.072727   45.86   413.14  0.751164  0.751164  13.0   \n",
      "38402  38403.0  0.095750  0.095750   57.48   172.42  0.287367  0.287367   3.0   \n",
      "38403  38404.0  0.042287  0.042287  422.00  1266.00  0.844000  0.844000  20.0   \n",
      "38404  38405.0  0.169175  0.169175   17.82   338.38  0.845950  0.845950   5.0   \n",
      "\n",
      "          H  I  ...  P      Q  R      S  T  U      V  W  X  MARKER  \n",
      "0      3.49  1  ...  1  34820  0  11285  1  1  33661  0  0     0.0  \n",
      "1      3.49  1  ...  3  34820  0  20266  1  1  33661  0  0     1.0  \n",
      "2      1.99  0  ...  0  34820  0   4834  1  1  33661  0  0     0.0  \n",
      "3      3.49  0  ...  1  34820  0   4834  1  1   4446  1  0     0.0  \n",
      "4      3.49  1  ...  1  34820  0  20266  1  1  33661  0  0     0.0  \n",
      "...     ... ..  ... ..    ... ..    ... .. ..    ... .. ..     ...  \n",
      "38400  0.00  0  ...  0  34820  0  20266  1  0  33661  0  1     0.0  \n",
      "38401  1.99  1  ...  0  34820  0  11285  1  1  33661  0  1     0.0  \n",
      "38402  0.00  1  ...  0    745  1  11285  0  1  33661  1  1     0.0  \n",
      "38403  0.01  1  ...  1  34820  1  11285  1  1  33661  0  1     0.0  \n",
      "38404  0.00  0  ...  0  34820  0   4834  1  1  33661  0  1     0.0  \n",
      "\n",
      "[38405 rows x 26 columns]\n"
     ]
    }
   ],
   "source": [
    "# coding of categorical features\n",
    "def encode_categorical_features(df):\n",
    "    encoded_df = df.copy()\n",
    "\n",
    "    # Step 1: Selecting Categorical Features\n",
    "    categorical_columns = df.select_dtypes(include=['object']).columns\n",
    "\n",
    "    # Step 2: Encode categorical features\n",
    "    for column in categorical_columns:\n",
    "        unique_values = df[column].nunique()\n",
    "        if column == 'P':\n",
    "            # Отдельный метод для столбца 'P'\n",
    "            encoded_values = {\n",
    "                '0 Zero': 0,\n",
    "                '1 One': 1,\n",
    "                '2 Two': 2,\n",
    "                '3 Three': 3,\n",
    "                'More than 3': 4\n",
    "            }\n",
    "            encoded_df[column] = df[column].map(encoded_values)\n",
    "        elif unique_values <= 2:\n",
    "            # One-hot encoding for features with <= 2 unique values\n",
    "            encoder = LabelEncoder()\n",
    "            encoded_df[column] = encoder.fit_transform(df[column])\n",
    "        else:\n",
    "            # Count encoding for features with > 2 unique values\n",
    "            counter = df[column].value_counts().to_dict()\n",
    "            encoded_df[column] = df[column].map(counter)\n",
    "\n",
    "    return encoded_df\n",
    "\n",
    "\n",
    "train_data_copy[X.columns] = encode_categorical_features(train_data_copy[X.columns])\n",
    "print(train_data_copy)\n",
    "train_data_copy.to_csv('./data_proc/encoded_train_data.csv')\n",
    "\n",
    "test_data_copy[X_test.columns] = encode_categorical_features(test_data_copy[X_test.columns])\n",
    "print(test_data_copy)\n",
    "test_data_copy.to_csv('./data_proc/encoded_test_data.csv')"
   ],
   "metadata": {
    "collapsed": false,
    "pycharm": {
     "name": "#%%\n"
    }
   }
  },
  {
   "cell_type": "code",
   "execution_count": 5,
   "outputs": [
    {
     "name": "stdout",
     "output_type": "stream",
     "text": [
      "len train_data input 89734\n",
      "len train_data_cleaned 87350\n",
      "Deleted rows from class 0: 2366\n",
      "Deleted rows from class 1: 18\n",
      "            ID         A         B       C       D         E         F     G  \\\n",
      "0          1.0  0.198778  0.099389    0.00  799.90  1.777556  0.888778  13.0   \n",
      "1          2.0  0.043000  0.021264   49.97  173.03  0.384511  0.190143  13.0   \n",
      "2          3.0  0.067073  0.067073    0.00  329.90  0.599818  0.599818  13.0   \n",
      "3          4.0  0.052700  0.052700    0.00  235.65  0.471300  0.471300  13.0   \n",
      "4          5.0  0.141880  0.141880    0.00  634.45  1.268900  1.268900  13.0   \n",
      "...        ...       ...       ...     ...     ...       ...       ...   ...   \n",
      "89729  89730.0  0.027941  0.014844   25.00  474.00  0.557647  0.296250  20.0   \n",
      "89730  89731.0  0.120017  0.068581  179.96  720.03  1.200050  0.685743  10.0   \n",
      "89731  89732.0  0.153033  0.122427   29.01  550.99  0.459158  0.367327   3.0   \n",
      "89732  89733.0  0.107575  0.043030   53.82  215.18  0.537950  0.215180   5.0   \n",
      "89733  89734.0  0.095750  0.095750   57.48  172.42  0.287367  0.287367   3.0   \n",
      "\n",
      "          H  I  ...  P      Q  R      S  T  U      V  W  X  MARKER  \n",
      "0      3.49  1  ...  2  81457  0  47413  1  1  78462  1  0     0.0  \n",
      "1      3.49  1  ...  2   6679  0  47413  1  1  10561  1  0     0.0  \n",
      "2      3.49  1  ...  1  81457  0  26457  0  1  78462  1  0     0.0  \n",
      "3      3.49  1  ...  0  81457  0  26457  1  1    711  1  0     0.0  \n",
      "4      3.49  1  ...  0  81457  0  26457  1  0  78462  0  0     0.0  \n",
      "...     ... ..  ... ..    ... ..    ... .. ..    ... .. ..     ...  \n",
      "89729  0.01  0  ...  0  81457  0  47413  1  1  78462  0  1     0.0  \n",
      "89730  0.00  1  ...  2  81457  0  47413  1  1  78462  0  1     0.0  \n",
      "89731  0.00  0  ...  0   6679  0  47413  1  1  78462  1  1     0.0  \n",
      "89732  0.00  1  ...  1  81457  1  47413  0  1  78462  0  1     0.0  \n",
      "89733  0.00  0  ...  0   6679  0  26457  0  1  78462  0  1     0.0  \n",
      "\n",
      "[87350 rows x 26 columns]\n"
     ]
    }
   ],
   "source": [
    "def remove_outliers(train_data, num_columns_threshold=5, ignore_columns=[], remove_class_1_outliers=True):\n",
    "    print(\"len train_data input\", len(train_data))\n",
    "    columns_to_analyze = [col for col in train_data.columns if col not in ignore_columns]\n",
    "    df = train_data[columns_to_analyze]\n",
    "\n",
    "    # We count Q1 and Q3 for each column\n",
    "    q1 = df.quantile(0.25)\n",
    "    q3 = df.quantile(0.75)\n",
    "\n",
    "    # Calculating the interquartile range (IQR)\n",
    "    iqr = q3 - q1\n",
    "\n",
    "    # Determining the boundaries of the interval for removing outliers\n",
    "    lower_bound = q1 - 1.5 * iqr\n",
    "    upper_bound = q3 + 1.5 * iqr\n",
    "\n",
    "    # Create a mask to define rows with outliers in each column\n",
    "    outliers_mask = ((df < lower_bound) | (df > upper_bound))\n",
    "\n",
    "    # Count the number of columns with outliers in each row\n",
    "    num_outliers = outliers_mask.sum(axis=1)\n",
    "\n",
    "    # Create a mask to identify rows with outliers in 5 or more columns\n",
    "    mask = (num_outliers >= num_columns_threshold)\n",
    "\n",
    "    # Removing rows with outliers from train_data\n",
    "    if remove_class_1_outliers:\n",
    "        mask_to_remove = mask\n",
    "    else:\n",
    "        mask_to_remove = mask & (train_data['MARKER'] != 1)\n",
    "    train_data_cleaned = train_data[~mask_to_remove]\n",
    "\n",
    "    print(\"len train_data_cleaned\", len(train_data_cleaned))\n",
    "    # Count the number of deleted rows for each class\n",
    "    num_deleted_class_0 = len(train_data[train_data['MARKER'] == 0]) - len(train_data_cleaned[train_data_cleaned['MARKER'] == 0])\n",
    "    num_deleted_class_1 = len(train_data[train_data['MARKER'] == 1]) - len(train_data_cleaned[train_data_cleaned['MARKER'] == 1])\n",
    "    print(\"Deleted rows from class 0:\", num_deleted_class_0)\n",
    "    print(\"Deleted rows from class 1:\", num_deleted_class_1)\n",
    "\n",
    "    return train_data_cleaned\n",
    "\n",
    "# An example of using the function to remove rows from the class MARKER = 1\n",
    "train_data_copy = remove_outliers(train_data_copy, num_columns_threshold=5, ignore_columns=['ID', 'MARKER'], remove_class_1_outliers=True)\n",
    "print(train_data_copy)\n",
    "train_data_copy.to_csv('./data_proc/remove_outliers_train_data.csv')\n"
   ],
   "metadata": {
    "collapsed": false,
    "pycharm": {
     "name": "#%%\n"
    }
   }
  },
  {
   "cell_type": "code",
   "execution_count": 6,
   "outputs": [
    {
     "name": "stdout",
     "output_type": "stream",
     "text": [
      "            ID         A         B         C         D         E         F  \\\n",
      "0          1.0  0.260126 -0.096338 -0.851553  0.650218  1.024437  0.448462   \n",
      "1          2.0 -0.829576 -0.893296 -0.330364 -0.843031 -0.719023 -0.837314   \n",
      "2          3.0 -0.661182 -0.425997 -0.851553 -0.469356 -0.449556 -0.083343   \n",
      "3          4.0 -0.761722 -0.572614 -0.851553 -0.693866 -0.610402 -0.319869   \n",
      "4          5.0 -0.137887  0.337116 -0.851553  0.256104  0.387831  1.148043   \n",
      "...        ...       ...       ...       ...       ...       ...       ...   \n",
      "89729  89730.0 -0.934916 -0.958787 -0.590802 -0.126099 -0.502335 -0.642033   \n",
      "89730  89731.0 -0.290827 -0.410611  1.025437  0.459962  0.301662  0.074794   \n",
      "89731  89732.0 -0.059867  0.138671 -0.548978  0.057296 -0.625598 -0.511223   \n",
      "89732  89733.0 -0.377859 -0.671258 -0.290208 -0.742627 -0.526987 -0.791235   \n",
      "89733  89734.0 -0.460577 -0.133459 -0.252035 -0.844484 -0.840603 -0.658382   \n",
      "\n",
      "              G         H         I  ...         P         Q         R  \\\n",
      "0      1.099090  3.209027  0.913155  ...  1.390837  0.311910 -0.447115   \n",
      "1      1.099090  3.209027  0.913155  ...  1.390837 -3.158734 -0.447115   \n",
      "2      1.099090  3.209027  0.913155  ...  0.262842  0.311910 -0.447115   \n",
      "3      1.099090  3.209027  0.913155  ... -0.865154  0.311910 -0.447115   \n",
      "4      1.099090  3.209027  0.913155  ... -0.865154  0.311910 -0.447115   \n",
      "...         ...       ...       ...  ...       ...       ...       ...   \n",
      "89729  2.579008 -0.539453 -1.095105  ... -0.865154  0.311910 -0.447115   \n",
      "89730  0.464839 -0.550224  0.913155  ...  1.390837  0.311910 -0.447115   \n",
      "89731 -1.015080 -0.550224 -1.095105  ... -0.865154 -3.158734 -0.447115   \n",
      "89732 -0.592246 -0.550224  0.913155  ...  0.262842  0.311910  2.236560   \n",
      "89733 -1.015080 -0.550224 -1.095105  ... -0.865154 -3.158734 -0.447115   \n",
      "\n",
      "              S         T         U         V         W         X  MARKER  \n",
      "0      0.862514  0.427892  0.407722  0.372731  1.161248 -0.790758     0.0  \n",
      "1      0.862514  0.427892  0.407722 -2.651729  1.161248 -0.790758     0.0  \n",
      "2     -0.546098 -2.337040  0.407722  0.372731  1.161248 -0.790758     0.0  \n",
      "3     -0.546098  0.427892  0.407722 -3.090469  1.161248 -0.790758     0.0  \n",
      "4     -0.546098  0.427892 -2.452652  0.372731 -0.861142 -0.790758     0.0  \n",
      "...         ...       ...       ...       ...       ...       ...     ...  \n",
      "89729  0.862514  0.427892  0.407722  0.372731 -0.861142  1.264610     0.0  \n",
      "89730  0.862514  0.427892  0.407722  0.372731 -0.861142  1.264610     0.0  \n",
      "89731  0.862514  0.427892  0.407722  0.372731  1.161248  1.264610     0.0  \n",
      "89732  0.862514 -2.337040  0.407722  0.372731 -0.861142  1.264610     0.0  \n",
      "89733 -0.546098 -2.337040  0.407722  0.372731 -0.861142  1.264610     0.0  \n",
      "\n",
      "[87350 rows x 26 columns]\n",
      "            ID         A         B         C         D         E         F  \\\n",
      "0          1.0 -0.537304 -0.258903 -0.528232 -0.623304 -0.267175  0.131267   \n",
      "1          2.0  0.387210 -0.007078 -0.809791  1.204640  1.082230  0.507430   \n",
      "2          3.0 -0.785508 -0.614411 -0.809791 -0.331448 -0.555972 -0.291988   \n",
      "3          4.0 -0.844809 -0.699348 -0.624201 -0.822137 -0.715833 -0.526278   \n",
      "4          5.0  0.439524  0.585306 -0.809791  1.516391  1.158596  1.392120   \n",
      "...        ...       ...       ...       ...       ...       ...       ...   \n",
      "38400  38401.0  2.708937  1.199797 -0.383947  0.668000  0.766830  0.047912   \n",
      "38401  38402.0 -0.622316 -0.380667 -0.375326 -0.302310 -0.280853  0.111220   \n",
      "38402  38403.0 -0.467874 -0.159457 -0.265241 -0.832063 -0.788632 -0.632970   \n",
      "38403  38404.0 -0.826518 -0.673149  3.188120  1.574578 -0.179213  0.260182   \n",
      "38404  38405.0  0.024677  0.546032 -0.640969 -0.466835 -0.177078  0.263311   \n",
      "\n",
      "              G         H         I  ...         P         Q         R  \\\n",
      "0      1.058852  3.182894  0.924783  ...  0.259791  0.320749 -0.456454   \n",
      "1      1.058852  3.182894  0.924783  ...  2.509711  0.320749 -0.456454   \n",
      "2      1.058852  1.577155 -1.081334  ... -0.865169  0.320749 -0.456454   \n",
      "3      1.058852  3.182894 -1.081334  ...  0.259791  0.320749 -0.456454   \n",
      "4      1.058852  3.182894  0.924783  ...  0.259791  0.320749 -0.456454   \n",
      "...         ...       ...       ...  ...       ...       ...       ...   \n",
      "38400 -1.023521 -0.553125 -1.081334  ... -0.865169  0.320749 -0.456454   \n",
      "38401  1.058852  1.577155  0.924783  ... -0.865169  0.320749 -0.456454   \n",
      "38402 -1.023521 -0.553125  0.924783  ... -0.865169 -3.291263  2.190801   \n",
      "38403  2.516513 -0.542420  0.924783  ...  0.259791  0.320749  2.190801   \n",
      "38404 -0.607047 -0.553125 -1.081334  ... -0.865169  0.320749 -0.456454   \n",
      "\n",
      "              S         T         U         V         W         X  MARKER  \n",
      "0     -0.539709  0.440791  0.413165  0.375163 -0.863712 -0.789346     0.0  \n",
      "1      0.870528  0.440791  0.413165  0.375163 -0.863712 -0.789346     1.0  \n",
      "2     -1.552675  0.440791  0.413165  0.375163 -0.863712 -0.789346     0.0  \n",
      "3     -1.552675  0.440791  0.413165 -2.635118  1.157793 -0.789346     0.0  \n",
      "4      0.870528  0.440791  0.413165  0.375163 -0.863712 -0.789346     0.0  \n",
      "...         ...       ...       ...       ...       ...       ...     ...  \n",
      "38400  0.870528  0.440791 -2.420338  0.375163 -0.863712  1.266872     0.0  \n",
      "38401 -0.539709  0.440791  0.413165  0.375163 -0.863712  1.266872     0.0  \n",
      "38402 -0.539709 -2.268649  0.413165  0.375163  1.157793  1.266872     0.0  \n",
      "38403 -0.539709  0.440791  0.413165  0.375163 -0.863712  1.266872     0.0  \n",
      "38404 -1.552675  0.440791  0.413165  0.375163 -0.863712  1.266872     0.0  \n",
      "\n",
      "[38405 rows x 26 columns]\n"
     ]
    }
   ],
   "source": [
    "# scaling with choice of method\n",
    "def scale_dataframe(df, ignore_columns=[], scaler_type='robust'):\n",
    "    columns_to_scale = [col for col in df.columns if col not in ignore_columns]\n",
    "\n",
    "    if scaler_type == 'standard':\n",
    "        scaler = StandardScaler()\n",
    "    elif scaler_type == 'robust':\n",
    "        scaler = RobustScaler()\n",
    "    else:\n",
    "        raise ValueError(\"Invalid scaler_type. Use 'standard' or 'robust'.\")\n",
    "\n",
    "    scaled_data = scaler.fit_transform(df[columns_to_scale])\n",
    "\n",
    "    # Обновляем значения в столбцах, которые нужно масштабировать\n",
    "    df.loc[:, columns_to_scale] = scaled_data\n",
    "    return df\n",
    "\n",
    "# Пример использования с разными способами масштабирования\n",
    "train_data_copy = scale_dataframe(train_data_copy,ignore_columns=['ID', 'MARKER'],scaler_type= \"standard\")\n",
    "print(train_data_copy)\n",
    "train_data_copy.to_csv('./data_proc/prepar_train_data.csv')\n",
    "\n",
    "test_data_copy = scale_dataframe(test_data_copy,ignore_columns=['ID', 'MARKER'],scaler_type= \"standard\")\n",
    "print(test_data_copy)\n",
    "test_data_copy.to_csv('./data_proc/prepar_test_data.csv')\n"
   ],
   "metadata": {
    "collapsed": false,
    "pycharm": {
     "name": "#%%\n"
    }
   }
  },
  {
   "cell_type": "code",
   "execution_count": 7,
   "outputs": [
    {
     "name": "stdout",
     "output_type": "stream",
     "text": [
      "Index(['ID', 'A', 'B', 'C', 'D', 'E', 'F', 'G', 'H', 'I', 'J', 'K', 'L', 'M',\n",
      "       'N', 'O', 'P', 'R', 'S', 'T', 'W', 'X', 'MARKER'],\n",
      "      dtype='object') 23\n",
      "Index(['ID', 'A', 'C', 'D', 'E', 'G', 'H', 'I', 'J', 'K', 'L', 'M', 'N', 'O',\n",
      "       'P', 'R', 'S', 'T', 'W', 'X', 'MARKER'],\n",
      "      dtype='object') 21\n",
      "Index(['ID', 'C', 'D', 'E', 'G', 'H', 'I', 'J', 'L', 'M', 'N', 'O', 'R', 'S',\n",
      "       'W', 'X', 'MARKER'],\n",
      "      dtype='object') 17\n"
     ]
    },
    {
     "name": "stderr",
     "output_type": "stream",
     "text": [
      "D:\\PycharmProjects\\innowise\\venv\\lib\\site-packages\\sklearn\\feature_selection\\_univariate_selection.py:113: RuntimeWarning: divide by zero encountered in divide\n",
      "  f = msb / msw\n"
     ]
    }
   ],
   "source": [
    "# общий отбор признаков\n",
    "# Функция для удаления признаков с малым разнообразием значений\n",
    "def remove_low_variance_features(df, threshold=0.95, ignore_columns=[]):\n",
    "    num_rows = len(df)\n",
    "    columns_to_check = [col for col in df.columns if col not in ignore_columns]\n",
    "    low_variance_columns = [col for col in columns_to_check if (df[col].value_counts() / num_rows).max() > threshold]\n",
    "    df_filtered = df.drop(columns=low_variance_columns)\n",
    "    return df_filtered\n",
    "\n",
    "# Функция для удаления признаков с высокой корреляцией между собой\n",
    "def remove_high_correlation_features(df, y_df, threshold=0.8, ignore_columns=['ID', 'MARKER']):\n",
    "    corr_matrix = df.corr()  # Вычисляет матрицу корреляции для всех столбцов в df\n",
    "    to_drop = []  # Создает пустой список, в который будут добавляться столбцы для удаления\n",
    "\n",
    "    for column in corr_matrix.columns:  # Проходит по каждому столбцу матрицы корреляции\n",
    "        if column in ignore_columns:\n",
    "            continue  # Пропускает столбцы, указанные в ignore_columns\n",
    "\n",
    "        correlated_columns = corr_matrix.index[corr_matrix[column] > threshold].tolist()  # Находит список столбцов, которые сильно коррелируют с текущим столбцом\n",
    "        if correlated_columns:  # Если список сильно коррелирующих столбцов не пустой\n",
    "            max_corr_with_target = max(correlated_columns, key=lambda col: abs(df[column].corr(y_df)))\n",
    "            # Находит столбец с максимальной абсолютной корреляцией с целевым признаком y_df\n",
    "\n",
    "            if column != max_corr_with_target and max_corr_with_target not in ignore_columns:  # Добавляем проверку, чтобы игнорировать столбцы из ignore_columns\n",
    "                to_drop.append(column)  # Добавляет текущий столбец в список для удаления\n",
    "\n",
    "    df_filtered = df.drop(columns=to_drop)  # Удаляет столбцы из списка to_drop из исходного dataframe df\n",
    "    return df_filtered  # Возвращает новый dataframe с удаленными столбцами\n",
    "\n",
    "\n",
    "#Univariate feature selection\n",
    "\n",
    "def select_features_roc_auc(X, y, k=17, ignore_columns=['ID', 'MARKER']):\n",
    "    selector = SelectKBest(score_func=f_classif, k=k)\n",
    "    X_new = selector.fit_transform(X, y)\n",
    "    selected_features = X.columns[selector.get_support()]\n",
    "\n",
    "    X_new_df = pd.DataFrame(X_new, columns=selected_features, index=X.index)\n",
    "\n",
    "    for col in ignore_columns:\n",
    "        X_new_df[col] = X[col]\n",
    "    return X_new_df, selected_features\n",
    "\n",
    "\n",
    "\n",
    "train_data_copy = remove_low_variance_features(train_data_copy,threshold=0.85, ignore_columns=['ID', 'MARKER'])\n",
    "print(train_data_copy.columns,len(train_data_copy.columns))\n",
    "\n",
    "train_data_copy = remove_high_correlation_features(train_data_copy,y_copy,threshold=0.75,ignore_columns=['ID', 'MARKER'])\n",
    "print(train_data_copy.columns,len(train_data_copy.columns))\n",
    "\n",
    "train_data_copy,important_columns = select_features_roc_auc(train_data_copy, train_data_copy[\"MARKER\"], k=17)\n",
    "print(train_data_copy.columns,len(train_data_copy.columns))\n",
    "\n"
   ],
   "metadata": {
    "collapsed": false,
    "pycharm": {
     "name": "#%%\n"
    }
   }
  },
  {
   "cell_type": "code",
   "execution_count": 8,
   "outputs": [
    {
     "data": {
      "text/plain": "'\\n# Примените функцию для создания новой таблицы с балансированными классами\\ntrain_data_copy = perform_random_oversampling(train_data_copy, target_column_name=\"MARKER\")\\nprint(train_data_copy)\\ntrain_data_copy.to_csv(\"random_oversampling.csv\")\\n'"
     },
     "execution_count": 8,
     "metadata": {},
     "output_type": "execute_result"
    }
   ],
   "source": [
    "# Oversampling\n",
    "\n",
    "def perform_random_oversampling(df, target_column_name):\n",
    "    # Выделите признаки и целевую переменную\n",
    "    \"\"\"\n",
    "    X = df.drop(columns=[target_column_name])\n",
    "    y = df[target_column_name]\n",
    "    \"\"\"\n",
    "    # Разделим данные по значениям целевой переменной\n",
    "    df_majority = df[df[target_column_name] == 0]\n",
    "    df_minority = df[df[target_column_name] == 1]\n",
    "\n",
    "    # Применим Random Over-sampling к классу с меньшим количеством записей\n",
    "    df_minority_upsampled = resample(df_minority, replace=True, n_samples=len(df_majority), random_state=42)\n",
    "\n",
    "    # Объединим балансированные классы\n",
    "    balanced_df = pd.concat([df_majority, df_minority_upsampled])\n",
    "\n",
    "    return balanced_df\n",
    "\n",
    "\"\"\"\n",
    "# Примените функцию для создания новой таблицы с балансированными классами\n",
    "train_data_copy = perform_random_oversampling(train_data_copy, target_column_name=\"MARKER\")\n",
    "print(train_data_copy)\n",
    "train_data_copy.to_csv(\"random_oversampling.csv\")\n",
    "\"\"\""
   ],
   "metadata": {
    "collapsed": false,
    "pycharm": {
     "name": "#%%\n"
    }
   }
  },
  {
   "cell_type": "code",
   "execution_count": 9,
   "outputs": [
    {
     "name": "stdout",
     "output_type": "stream",
     "text": [
      "Best Parameters: {'C': 0.004520353656360241, 'penalty': 'l1'}\n",
      "Best F1 Score: 0.8734017484448844\n",
      "Test F1 Score: 0.03255069370330843\n",
      "Selected Features:    Feature  Coefficient\n",
      "4        H     0.914292\n",
      "1        D     0.669933\n",
      "7        L    -0.603961\n",
      "9        N     0.525908\n",
      "11       R    -0.418871\n",
      "10       O    -0.416445\n",
      "13       W    -0.270730\n",
      "14       X    -0.200644\n",
      "8        M    -0.178622\n",
      "5        I    -0.160928\n",
      "Test Predictions: [0 0 0 ... 0 0 0]\n",
      "Test F1 Score (Threshold=0.965): 0.0855614973262032\n",
      "Test ROC AUC Score (Threshold=0.965): 0.8742808120714367\n"
     ]
    }
   ],
   "source": [
    "# логистическая регрессия 3\n",
    "def build_logistic_regression_model(df, target_column_name):\n",
    "    # Выделите признаки и целевую переменную\n",
    "    X = df.drop(columns=['ID', target_column_name])\n",
    "    y = df[target_column_name]\n",
    "\n",
    "    # Разделите данные на обучающий и тестовый наборы\n",
    "    X_train, X_test, y_train, y_test = train_test_split(X, y, test_size=0.2, random_state=42)\n",
    "\n",
    "    # Определите параметры для перебора\n",
    "    param_grid = {\n",
    "        'penalty': ['l1', 'l2'],  # Перебор L1 и L2 регуляризации\n",
    "        'C': np.logspace(-4, 4, 30)  # Перебор параметра регуляризации C\n",
    "    }\n",
    "\n",
    "    # Создайте модель логистической регрессии\n",
    "    logreg = LogisticRegression(solver='liblinear', class_weight='balanced')\n",
    "\n",
    "    # Создайте объект GridSearchCV для перебора параметров\n",
    "    #grid_search = GridSearchCV(logreg, param_grid, cv=5, scoring='f1')\n",
    "    grid_search = GridSearchCV(logreg, param_grid, cv=5, scoring='roc_auc')\n",
    "\n",
    "    # Выполните поиск по сетке на обучающем наборе\n",
    "    grid_search.fit(X_train, y_train)\n",
    "\n",
    "    # Получите наилучшие параметры и значение метрики F1-score\n",
    "    best_params = grid_search.best_params_\n",
    "    best_score = grid_search.best_score_\n",
    "    print(\"Best Parameters:\", best_params)\n",
    "    print(\"Best F1 Score:\", best_score)\n",
    "\n",
    "    # Получите наилучшую модель\n",
    "    best_model = grid_search.best_estimator_\n",
    "\n",
    "    # Обучите модель на выбранных наиболее важных признаках\n",
    "    coefficients = best_model.coef_[0]\n",
    "    feature_names = X.columns\n",
    "    coefficients_df = pd.DataFrame({'Feature': feature_names, 'Coefficient': coefficients})\n",
    "\n",
    "    # Отберите 10 наиболее важных признаков\n",
    "    top_features = coefficients_df.iloc[np.abs(coefficients_df['Coefficient']).nlargest(10).index]\n",
    "    selected_features = top_features['Feature'].tolist()\n",
    "    X_train_selected = X_train[selected_features]\n",
    "    X_test_selected = X_test[selected_features]\n",
    "\n",
    "    # Обучение модели на выбранных признаках\n",
    "    best_model.fit(X_train_selected, y_train)\n",
    "\n",
    "    # Предсказания для тестового набора\n",
    "    y_pred = best_model.predict(X_test_selected)\n",
    "\n",
    "    # Вычислите метрику F1-score на тестовом наборе\n",
    "    test_f1_score = f1_score(y_test, y_pred)\n",
    "    print(\"Test F1 Score:\", test_f1_score)\n",
    "\n",
    "    return best_model, top_features\n",
    "\n",
    "\n",
    "def evaluate_with_threshold(model, test_data, target_column_name, selected_features, threshold=0.5):\n",
    "    # Выделите признаки из test данных\n",
    "    test_X = test_data[selected_features]\n",
    "\n",
    "    # Получите вероятности для класса 1\n",
    "    test_probabilities = model.predict_proba(test_X)[:, 1]\n",
    "\n",
    "    # Примените порог вероятности для получения предсказаний (0 или 1)\n",
    "    test_predictions = (test_probabilities > threshold).astype(int)\n",
    "\n",
    "    # Создайте DataFrame с предсказанными значениями\n",
    "    predictions_df = pd.DataFrame({'Prediction': test_predictions})\n",
    "\n",
    "    # Запишите DataFrame в CSV-файл\n",
    "    predictions_df.to_csv(\"predictions.csv\", index=False)\n",
    "\n",
    "    target_data = test_data[target_column_name]\n",
    "\n",
    "    # Вычислим метрику F1-score на test данных\n",
    "    test_f1 = f1_score(target_data, test_predictions)\n",
    "\n",
    "    # Вычислим метрику ROC AUC на test данных\n",
    "    test_roc_auc = roc_auc_score(target_data, test_probabilities)\n",
    "\n",
    "    return test_predictions, test_f1, test_roc_auc\n",
    "\n",
    "\n",
    "final_model, coefficients = build_logistic_regression_model(train_data_copy, target_column_name=\"MARKER\")\n",
    "print(\"Selected Features:\", coefficients)\n",
    "\n",
    "# Получите список выбранных признаков\n",
    "selected_features = coefficients['Feature'].tolist()\n",
    "\n",
    "# Используйте разные значения порога вероятности и смотрите, как изменяются метрики\n",
    "threshold = 0.965  # Пример значения порога\n",
    "test_predictions, test_f1_score, test_roc_auc = evaluate_with_threshold(final_model, test_data_copy, target_column_name=\"MARKER\", selected_features=selected_features, threshold=threshold)\n",
    "print(\"Test Predictions:\", test_predictions)\n",
    "print(\"Test F1 Score (Threshold={}):\".format(threshold), test_f1_score)\n",
    "print(\"Test ROC AUC Score (Threshold={}):\".format(threshold), test_roc_auc)\n"
   ],
   "metadata": {
    "collapsed": false,
    "pycharm": {
     "name": "#%%\n"
    }
   }
  },
  {
   "cell_type": "code",
   "execution_count": 10,
   "outputs": [
    {
     "name": "stderr",
     "output_type": "stream",
     "text": [
      "[I 2023-09-27 14:18:39,822] A new study created in memory with name: no-name-2a1aa73e-131b-4b5a-bff3-0ab02028933d\n",
      "[I 2023-09-27 14:18:40,883] Trial 0 finished with value: 0.5 and parameters: {'n_estimators': 35, 'max_depth': 13, 'min_samples_split': 0.9024439476618353, 'min_samples_leaf': 0.31586404629436593}. Best is trial 0 with value: 0.5.\n",
      "[I 2023-09-27 14:18:41,142] Trial 1 finished with value: 0.5 and parameters: {'n_estimators': 5, 'max_depth': 8, 'min_samples_split': 0.6820174153131765, 'min_samples_leaf': 0.3729897113463343}. Best is trial 0 with value: 0.5.\n",
      "[I 2023-09-27 14:18:42,055] Trial 2 finished with value: 0.5 and parameters: {'n_estimators': 30, 'max_depth': 15, 'min_samples_split': 0.899749118737701, 'min_samples_leaf': 0.10249470185121387}. Best is trial 0 with value: 0.5.\n",
      "[I 2023-09-27 14:18:42,829] Trial 3 finished with value: 0.698227501116776 and parameters: {'n_estimators': 15, 'max_depth': 12, 'min_samples_split': 0.13615532076232156, 'min_samples_leaf': 0.31092723360508884}. Best is trial 3 with value: 0.698227501116776.\n",
      "[I 2023-09-27 14:18:44,076] Trial 4 finished with value: 0.7616003256666678 and parameters: {'n_estimators': 25, 'max_depth': 6, 'min_samples_split': 0.10132420376962818, 'min_samples_leaf': 0.2182773988214986}. Best is trial 4 with value: 0.7616003256666678.\n",
      "[I 2023-09-27 14:18:45,041] Trial 5 finished with value: 0.7354485673824875 and parameters: {'n_estimators': 20, 'max_depth': 13, 'min_samples_split': 0.48966384989043893, 'min_samples_leaf': 0.2671055342201986}. Best is trial 4 with value: 0.7616003256666678.\n",
      "[I 2023-09-27 14:18:45,400] Trial 6 finished with value: 0.5 and parameters: {'n_estimators': 10, 'max_depth': 12, 'min_samples_split': 0.6586636573103986, 'min_samples_leaf': 0.44955058688748495}. Best is trial 4 with value: 0.7616003256666678.\n",
      "[I 2023-09-27 14:18:45,736] Trial 7 finished with value: 0.7266863399434416 and parameters: {'n_estimators': 5, 'max_depth': 13, 'min_samples_split': 0.37798345978310377, 'min_samples_leaf': 0.22831505719096346}. Best is trial 4 with value: 0.7616003256666678.\n",
      "[I 2023-09-27 14:18:46,467] Trial 8 finished with value: 0.5 and parameters: {'n_estimators': 25, 'max_depth': 7, 'min_samples_split': 0.9370344597904784, 'min_samples_leaf': 0.12833053361799318}. Best is trial 4 with value: 0.7616003256666678.\n",
      "[I 2023-09-27 14:18:47,600] Trial 9 finished with value: 0.7361152678689954 and parameters: {'n_estimators': 25, 'max_depth': 7, 'min_samples_split': 0.3325388255456197, 'min_samples_leaf': 0.24778587572386568}. Best is trial 4 with value: 0.7616003256666678.\n",
      "[I 2023-09-27 14:18:50,235] Trial 10 finished with value: 0.8574124639117864 and parameters: {'n_estimators': 35, 'max_depth': 3, 'min_samples_split': 0.07227536585793216, 'min_samples_leaf': 0.05471935849251652}. Best is trial 10 with value: 0.8574124639117864.\n",
      "[I 2023-09-27 14:18:52,133] Trial 11 finished with value: 0.8297308096398712 and parameters: {'n_estimators': 35, 'max_depth': 3, 'min_samples_split': 0.05945554881841959, 'min_samples_leaf': 0.15657833827470746}. Best is trial 10 with value: 0.8574124639117864.\n",
      "[I 2023-09-27 14:18:54,715] Trial 12 finished with value: 0.8577031110971542 and parameters: {'n_estimators': 35, 'max_depth': 3, 'min_samples_split': 0.06017252314024624, 'min_samples_leaf': 0.0563649662176095}. Best is trial 12 with value: 0.8577031110971542.\n",
      "[I 2023-09-27 14:18:57,158] Trial 13 finished with value: 0.8575201848609858 and parameters: {'n_estimators': 35, 'max_depth': 3, 'min_samples_split': 0.1877483788929428, 'min_samples_leaf': 0.06126488886500714}. Best is trial 12 with value: 0.8577031110971542.\n",
      "[I 2023-09-27 14:18:59,280] Trial 14 finished with value: 0.8585064649582324 and parameters: {'n_estimators': 30, 'max_depth': 5, 'min_samples_split': 0.22835181717862837, 'min_samples_leaf': 0.05026213509480843}. Best is trial 14 with value: 0.8585064649582324.\n",
      "[I 2023-09-27 14:19:00,987] Trial 15 finished with value: 0.8230255453732493 and parameters: {'n_estimators': 30, 'max_depth': 5, 'min_samples_split': 0.24328147132665665, 'min_samples_leaf': 0.1676620967480053}. Best is trial 14 with value: 0.8585064649582324.\n",
      "[I 2023-09-27 14:19:02,872] Trial 16 finished with value: 0.8504339971402505 and parameters: {'n_estimators': 30, 'max_depth': 5, 'min_samples_split': 0.27318833734811104, 'min_samples_leaf': 0.10083834539700998}. Best is trial 14 with value: 0.8585064649582324.\n",
      "[I 2023-09-27 14:19:04,474] Trial 17 finished with value: 0.8535709055359455 and parameters: {'n_estimators': 20, 'max_depth': 10, 'min_samples_split': 0.20320095645164635, 'min_samples_leaf': 0.05677663889975766}. Best is trial 14 with value: 0.8585064649582324.\n",
      "[I 2023-09-27 14:19:06,095] Trial 18 finished with value: 0.8252617094856844 and parameters: {'n_estimators': 30, 'max_depth': 5, 'min_samples_split': 0.1758994244216815, 'min_samples_leaf': 0.18146303962701826}. Best is trial 14 with value: 0.8585064649582324.\n",
      "[I 2023-09-27 14:19:07,859] Trial 19 finished with value: 0.8496336393915807 and parameters: {'n_estimators': 25, 'max_depth': 4, 'min_samples_split': 0.057324520125748554, 'min_samples_leaf': 0.10156257965111179}. Best is trial 14 with value: 0.8585064649582324.\n",
      "[I 2023-09-27 14:19:08,631] Trial 20 finished with value: 0.7615227339034435 and parameters: {'n_estimators': 15, 'max_depth': 9, 'min_samples_split': 0.31781393035111233, 'min_samples_leaf': 0.18865864410747957}. Best is trial 14 with value: 0.8585064649582324.\n",
      "[I 2023-09-27 14:19:11,134] Trial 21 finished with value: 0.8585956606155927 and parameters: {'n_estimators': 35, 'max_depth': 3, 'min_samples_split': 0.17553493608497012, 'min_samples_leaf': 0.05443160094250834}. Best is trial 21 with value: 0.8585956606155927.\n",
      "[I 2023-09-27 14:19:14,791] Trial 22 finished with value: 0.8585371259984708 and parameters: {'n_estimators': 35, 'max_depth': 4, 'min_samples_split': 0.14399803636641428, 'min_samples_leaf': 0.05027221056978862}. Best is trial 21 with value: 0.8585956606155927.\n",
      "[I 2023-09-27 14:19:16,933] Trial 23 finished with value: 0.8432332942860581 and parameters: {'n_estimators': 30, 'max_depth': 4, 'min_samples_split': 0.1683916664697255, 'min_samples_leaf': 0.12583414276342222}. Best is trial 21 with value: 0.8585956606155927.\n",
      "[I 2023-09-27 14:19:19,159] Trial 24 finished with value: 0.8529342062011963 and parameters: {'n_estimators': 35, 'max_depth': 6, 'min_samples_split': 0.28059210947142466, 'min_samples_leaf': 0.0903607258012345}. Best is trial 21 with value: 0.8585956606155927.\n",
      "[I 2023-09-27 14:19:20,766] Trial 25 finished with value: 0.8408001234671765 and parameters: {'n_estimators': 30, 'max_depth': 4, 'min_samples_split': 0.4005751621079393, 'min_samples_leaf': 0.13390297158858472}. Best is trial 21 with value: 0.8585956606155927.\n",
      "[I 2023-09-27 14:19:23,159] Trial 26 finished with value: 0.8571989191608396 and parameters: {'n_estimators': 35, 'max_depth': 6, 'min_samples_split': 0.22227480456295817, 'min_samples_leaf': 0.08590680410417792}. Best is trial 21 with value: 0.8585956606155927.\n",
      "[I 2023-09-27 14:19:25,107] Trial 27 finished with value: 0.8335402508028077 and parameters: {'n_estimators': 30, 'max_depth': 4, 'min_samples_split': 0.1385424697435655, 'min_samples_leaf': 0.14080443334963}. Best is trial 21 with value: 0.8585956606155927.\n",
      "[I 2023-09-27 14:19:26,343] Trial 28 finished with value: 0.7618954496081397 and parameters: {'n_estimators': 25, 'max_depth': 7, 'min_samples_split': 0.2500725070192092, 'min_samples_leaf': 0.19724814965025586}. Best is trial 21 with value: 0.8585956606155927.\n",
      "[I 2023-09-27 14:19:29,040] Trial 29 finished with value: 0.8575432303389517 and parameters: {'n_estimators': 35, 'max_depth': 10, 'min_samples_split': 0.12607602075259403, 'min_samples_leaf': 0.07725434710277121}. Best is trial 21 with value: 0.8585956606155927.\n",
      "[I 2023-09-27 14:19:31,560] Trial 30 finished with value: 0.8587991573675149 and parameters: {'n_estimators': 35, 'max_depth': 5, 'min_samples_split': 0.20994276219884297, 'min_samples_leaf': 0.05163228463704716}. Best is trial 30 with value: 0.8587991573675149.\n",
      "[I 2023-09-27 14:19:34,076] Trial 31 finished with value: 0.8589385358119026 and parameters: {'n_estimators': 35, 'max_depth': 5, 'min_samples_split': 0.20730080077552793, 'min_samples_leaf': 0.051347604760640514}. Best is trial 31 with value: 0.8589385358119026.\n",
      "[I 2023-09-27 14:19:36,357] Trial 32 finished with value: 0.8490429603597776 and parameters: {'n_estimators': 35, 'max_depth': 4, 'min_samples_split': 0.12759051135240929, 'min_samples_leaf': 0.11278865395888962}. Best is trial 31 with value: 0.8589385358119026.\n",
      "[I 2023-09-27 14:19:38,462] Trial 33 finished with value: 0.8497054723045393 and parameters: {'n_estimators': 35, 'max_depth': 6, 'min_samples_split': 0.30887369731042624, 'min_samples_leaf': 0.08591114010819886}. Best is trial 31 with value: 0.8589385358119026.\n",
      "[I 2023-09-27 14:19:40,372] Trial 34 finished with value: 0.8298179709442521 and parameters: {'n_estimators': 35, 'max_depth': 8, 'min_samples_split': 0.18701829477342238, 'min_samples_leaf': 0.15132445304275027}. Best is trial 31 with value: 0.8589385358119026.\n",
      "[I 2023-09-27 14:19:42,624] Trial 35 finished with value: 0.8573987472820409 and parameters: {'n_estimators': 30, 'max_depth': 15, 'min_samples_split': 0.11059177600094104, 'min_samples_leaf': 0.08067311527179444}. Best is trial 31 with value: 0.8589385358119026.\n",
      "[I 2023-09-27 14:19:44,394] Trial 36 finished with value: 0.8436734720295694 and parameters: {'n_estimators': 35, 'max_depth': 5, 'min_samples_split': 0.3786005122385312, 'min_samples_leaf': 0.11382150644690714}. Best is trial 31 with value: 0.8589385358119026.\n",
      "[I 2023-09-27 14:19:46,576] Trial 37 finished with value: 0.8582076517173448 and parameters: {'n_estimators': 30, 'max_depth': 3, 'min_samples_split': 0.15852990292269553, 'min_samples_leaf': 0.07277536022410247}. Best is trial 31 with value: 0.8589385358119026.\n",
      "[I 2023-09-27 14:19:47,698] Trial 38 finished with value: 0.8388567340165938 and parameters: {'n_estimators': 20, 'max_depth': 8, 'min_samples_split': 0.4706700267506469, 'min_samples_leaf': 0.11041970074841836}. Best is trial 31 with value: 0.8589385358119026.\n",
      "[I 2023-09-27 14:19:48,451] Trial 39 finished with value: 0.7073285051715729 and parameters: {'n_estimators': 15, 'max_depth': 6, 'min_samples_split': 0.26742082970064995, 'min_samples_leaf': 0.28782277513126786}. Best is trial 31 with value: 0.8589385358119026.\n"
     ]
    },
    {
     "name": "stdout",
     "output_type": "stream",
     "text": [
      "ROC AUC: 0.8655520932132721\n"
     ]
    }
   ],
   "source": [
    "# случайный лес 2\n",
    "def objective(trial, X, y):\n",
    "    n_estimators = trial.suggest_int('n_estimators', 5, 35, step=5)\n",
    "    max_depth = trial.suggest_int('max_depth', 3, 15)\n",
    "    min_samples_split = trial.suggest_float('min_samples_split', 0.05, 1.0)\n",
    "    min_samples_leaf = trial.suggest_float('min_samples_leaf', 0.05, 0.5)\n",
    "\n",
    "    model = RandomForestClassifier(\n",
    "        n_estimators=n_estimators,\n",
    "        max_depth=max_depth,\n",
    "        min_samples_split=min_samples_split,\n",
    "        min_samples_leaf=min_samples_leaf,\n",
    "        class_weight='balanced',\n",
    "        random_state=42\n",
    "    )\n",
    "\n",
    "    skf = StratifiedKFold(n_splits=5, shuffle=True, random_state=42)\n",
    "    scores = cross_val_score(model, X, y, cv=skf, scoring='roc_auc')\n",
    "    average_score = scores.mean()\n",
    "\n",
    "    return average_score\n",
    "\n",
    "def build_and_predict_random_forest(train_data, test_data, target_column_name, selected_features):\n",
    "    # Выделите признаки и целевую переменную\n",
    "    X_train = train_data[selected_features]\n",
    "    y_train = train_data[target_column_name]\n",
    "    X_test = test_data[selected_features]\n",
    "    y_test = test_data[target_column_name]\n",
    "\n",
    "    # Подбор гиперпараметров\n",
    "    study = optuna.create_study(direction='maximize')\n",
    "    study.optimize(lambda trial: objective(trial, X_train, y_train), n_trials=40)\n",
    "\n",
    "    best_params = study.best_params\n",
    "    best_n_estimators = best_params['n_estimators']\n",
    "    best_max_depth = best_params['max_depth']\n",
    "    best_min_samples_split = best_params['min_samples_split']\n",
    "    best_min_samples_leaf = best_params['min_samples_leaf']\n",
    "\n",
    "    # Создайте и обучите модель случайного леса с наилучшими гиперпараметрами\n",
    "    model = RandomForestClassifier(\n",
    "        n_estimators=best_n_estimators,\n",
    "        max_depth=best_max_depth,\n",
    "        min_samples_split=best_min_samples_split,\n",
    "        min_samples_leaf=best_min_samples_leaf,\n",
    "        class_weight='balanced',\n",
    "        random_state=42\n",
    "    )\n",
    "    model.fit(X_train, y_train)\n",
    "\n",
    "    # Прогнозирование на тестовых данных\n",
    "    y_pred_prob = model.predict_proba(X_test)[:, 1]\n",
    "\n",
    "    # Вычисление ROC AUC\n",
    "    roc_auc = roc_auc_score(y_test, y_pred_prob)\n",
    "\n",
    "    # Вывод ROC AUC\n",
    "    print(\"ROC AUC:\", roc_auc)\n",
    "\n",
    "    return model\n",
    "\n",
    "# Построение и оценка модели случайного леса\n",
    "model = build_and_predict_random_forest(train_data_copy, test_data_copy, \"MARKER\", selected_features)"
   ],
   "metadata": {
    "collapsed": false,
    "pycharm": {
     "name": "#%%\n"
    }
   }
  },
  {
   "cell_type": "code",
   "execution_count": 11,
   "outputs": [
    {
     "name": "stderr",
     "output_type": "stream",
     "text": [
      "[I 2023-09-27 14:19:49,110] A new study created in memory with name: no-name-d3596328-2810-41b0-ba43-9e697f62ab36\n",
      "[I 2023-09-27 14:19:53,085] Trial 1 finished with value: 0.636086123609005 and parameters: {'n_estimators': 5, 'learning_rate': 0.41822336918017616}. Best is trial 1 with value: 0.636086123609005.\n",
      "[I 2023-09-27 14:19:57,070] Trial 0 finished with value: 0.6544765173390298 and parameters: {'n_estimators': 13, 'learning_rate': 0.47070461244009515}. Best is trial 0 with value: 0.6544765173390298.\n",
      "[I 2023-09-27 14:20:02,363] Trial 2 finished with value: 0.6856866443860451 and parameters: {'n_estimators': 15, 'learning_rate': 0.37212532058073705}. Best is trial 2 with value: 0.6856866443860451.\n",
      "[I 2023-09-27 14:20:04,249] Trial 3 finished with value: 0.5944210905169016 and parameters: {'n_estimators': 9, 'learning_rate': 0.12981756753500742}. Best is trial 2 with value: 0.6856866443860451.\n",
      "[I 2023-09-27 14:20:09,395] Trial 4 finished with value: 0.550298089449996 and parameters: {'n_estimators': 9, 'learning_rate': 0.05242157014273161}. Best is trial 2 with value: 0.6856866443860451.\n",
      "[I 2023-09-27 14:20:13,291] Trial 6 finished with value: 0.526807226361033 and parameters: {'n_estimators': 5, 'learning_rate': 0.010043304875429978}. Best is trial 2 with value: 0.6856866443860451.\n",
      "[I 2023-09-27 14:20:16,122] Trial 5 finished with value: 0.5573938722943399 and parameters: {'n_estimators': 15, 'learning_rate': 0.06868561941261947}. Best is trial 2 with value: 0.6856866443860451.\n",
      "[I 2023-09-27 14:20:25,212] Trial 7 finished with value: 0.5604166527292651 and parameters: {'n_estimators': 15, 'learning_rate': 0.03636900157009687}. Best is trial 2 with value: 0.6856866443860451.\n",
      "[I 2023-09-27 14:20:25,922] Trial 8 finished with value: 0.6826101223492262 and parameters: {'n_estimators': 13, 'learning_rate': 0.18421355573666934}. Best is trial 2 with value: 0.6856866443860451.\n",
      "[I 2023-09-27 14:20:27,569] Trial 9 finished with value: 0.5255671094379462 and parameters: {'n_estimators': 3, 'learning_rate': 0.008960504160993562}. Best is trial 2 with value: 0.6856866443860451.\n",
      "[I 2023-09-27 14:20:32,837] Trial 11 finished with value: 0.5942620822857485 and parameters: {'n_estimators': 11, 'learning_rate': 0.9605632609315605}. Best is trial 2 with value: 0.6856866443860451.\n",
      "[I 2023-09-27 14:20:37,938] Trial 10 finished with value: 0.5600619682742798 and parameters: {'n_estimators': 15, 'learning_rate': 0.07556768421076505}. Best is trial 2 with value: 0.6856866443860451.\n",
      "[I 2023-09-27 14:20:42,858] Trial 12 finished with value: 0.5298964352560288 and parameters: {'n_estimators': 13, 'learning_rate': 0.0011951670233687774}. Best is trial 2 with value: 0.6856866443860451.\n",
      "[I 2023-09-27 14:20:46,035] Trial 13 finished with value: 0.6865303059538861 and parameters: {'n_estimators': 11, 'learning_rate': 0.2037183646172964}. Best is trial 13 with value: 0.6865303059538861.\n",
      "[I 2023-09-27 14:20:50,934] Trial 14 finished with value: 0.6789377986962521 and parameters: {'n_estimators': 11, 'learning_rate': 0.213194841777012}. Best is trial 13 with value: 0.6865303059538861.\n",
      "[I 2023-09-27 14:20:53,841] Trial 15 finished with value: 0.7000157681963086 and parameters: {'n_estimators': 11, 'learning_rate': 0.28084503851548803}. Best is trial 15 with value: 0.7000157681963086.\n",
      "[I 2023-09-27 14:20:54,910] Trial 16 finished with value: 0.6163475982225327 and parameters: {'n_estimators': 7, 'learning_rate': 0.8785415058041112}. Best is trial 15 with value: 0.7000157681963086.\n",
      "[I 2023-09-27 14:20:58,265] Trial 17 finished with value: 0.602872912427094 and parameters: {'n_estimators': 7, 'learning_rate': 0.9347584752001369}. Best is trial 15 with value: 0.7000157681963086.\n",
      "[I 2023-09-27 14:20:59,145] Trial 19 finished with value: 0.5213869730715073 and parameters: {'n_estimators': 1, 'learning_rate': 0.1178012367658384}. Best is trial 15 with value: 0.7000157681963086.\n",
      "[I 2023-09-27 14:21:04,209] Trial 18 finished with value: 0.6116055727726782 and parameters: {'n_estimators': 11, 'learning_rate': 0.13418129043385546}. Best is trial 15 with value: 0.7000157681963086.\n",
      "[I 2023-09-27 14:21:07,167] Trial 20 finished with value: 0.6889288375556476 and parameters: {'n_estimators': 11, 'learning_rate': 0.26602671803016636}. Best is trial 15 with value: 0.7000157681963086.\n",
      "[I 2023-09-27 14:21:10,992] Trial 21 finished with value: 0.6846887928052908 and parameters: {'n_estimators': 9, 'learning_rate': 0.27525564365237204}. Best is trial 15 with value: 0.7000157681963086.\n",
      "[I 2023-09-27 14:21:14,588] Trial 22 finished with value: 0.6925637273491744 and parameters: {'n_estimators': 11, 'learning_rate': 0.28547667875851623}. Best is trial 15 with value: 0.7000157681963086.\n",
      "[I 2023-09-27 14:21:18,246] Trial 23 finished with value: 0.6773336059479581 and parameters: {'n_estimators': 11, 'learning_rate': 0.37989105817662}. Best is trial 15 with value: 0.7000157681963086.\n",
      "[I 2023-09-27 14:21:22,550] Trial 24 finished with value: 0.6810110207345239 and parameters: {'n_estimators': 13, 'learning_rate': 0.47819957403476837}. Best is trial 15 with value: 0.7000157681963086.\n",
      "[I 2023-09-27 14:21:25,387] Trial 25 finished with value: 0.6836958514552565 and parameters: {'n_estimators': 13, 'learning_rate': 0.5733689438116844}. Best is trial 15 with value: 0.7000157681963086.\n",
      "[I 2023-09-27 14:21:29,668] Trial 26 finished with value: 0.5473289969509463 and parameters: {'n_estimators': 9, 'learning_rate': 0.11250270755445896}. Best is trial 15 with value: 0.7000157681963086.\n",
      "[I 2023-09-27 14:21:32,053] Trial 27 finished with value: 0.6937639829132272 and parameters: {'n_estimators': 9, 'learning_rate': 0.27845644535570774}. Best is trial 15 with value: 0.7000157681963086.\n",
      "[I 2023-09-27 14:21:35,361] Trial 28 finished with value: 0.5886232856211187 and parameters: {'n_estimators': 7, 'learning_rate': 0.26085020239169393}. Best is trial 15 with value: 0.7000157681963086.\n",
      "[I 2023-09-27 14:21:36,736] Trial 29 finished with value: 0.6253044622829157 and parameters: {'n_estimators': 7, 'learning_rate': 0.6148405060666108}. Best is trial 15 with value: 0.7000157681963086.\n"
     ]
    },
    {
     "name": "stdout",
     "output_type": "stream",
     "text": [
      "Optimal Hyperparameters: {'n_estimators': 11, 'learning_rate': 0.28084503851548803}\n",
      "Predictions on Test Data: [1 1 0 ... 0 0 0]\n",
      "Test ROC AUC: 0.8655520932132721\n",
      "Test F1 Score: 0.029115646258503405\n",
      "время выполнения 108.2930817604065\n"
     ]
    }
   ],
   "source": [
    "# Adaboosting\n",
    "# Функция для оптимизации гиперпараметров\n",
    "def optimize_adaboost_hyperparameters(trial, X_train, y_train):\n",
    "    n_estimators = trial.suggest_int('n_estimators', 1, 15, step=2)\n",
    "    learning_rate = trial.suggest_float('learning_rate', 0.001, 1.0, log=True)\n",
    "\n",
    "    estimator = DecisionTreeClassifier(class_weight='balanced')\n",
    "    model = AdaBoostClassifier(n_estimators=n_estimators, learning_rate=learning_rate, estimator=estimator, random_state=42)\n",
    "    skf = StratifiedKFold(n_splits=5, shuffle=True, random_state=42)\n",
    "    scores = cross_val_score(model, X_train, y_train, cv=skf, scoring='roc_auc')\n",
    "    return np.mean(scores)\n",
    "\n",
    "# Функция для обучения и предсказания с оптимальной моделью\n",
    "def train_and_predict_with_optimal_model(X_train, y_train, X_test, y_test, selected_features, best_params):\n",
    "    X_train_selected = X_train[selected_features]\n",
    "    X_test_selected = X_test[selected_features]\n",
    "\n",
    "    optimal_model = AdaBoostClassifier(n_estimators=best_params['n_estimators'], learning_rate=best_params['learning_rate'], random_state=42)\n",
    "    optimal_model.fit(X_train_selected, y_train)\n",
    "\n",
    "    y_pred_prob = optimal_model.predict_proba(X_test_selected)[:, 1]\n",
    "\n",
    "    fpr, tpr, thresholds = roc_curve(y_test, y_pred_prob)\n",
    "    optimal_threshold_index = np.argmax(tpr - fpr)\n",
    "    optimal_threshold = thresholds[optimal_threshold_index]\n",
    "\n",
    "    y_pred = (y_pred_prob > optimal_threshold).astype(int)\n",
    "\n",
    "    return y_pred\n",
    "\n",
    "def run_ada_boosting():\n",
    "    start = time.time()\n",
    "\n",
    "    # Загрузка данных\n",
    "    X_train = train_data_copy[selected_features]\n",
    "    y_train = train_data_copy['MARKER']\n",
    "\n",
    "    X_test = test_data_copy[selected_features]\n",
    "    y_test = test_data_copy['MARKER']\n",
    "\n",
    "    # Создание Study объекта для оптимизации\n",
    "    study = optuna.create_study(direction='maximize')\n",
    "\n",
    "    # Запуск оптимизации гиперпараметров\n",
    "    study.optimize(lambda trial: optimize_adaboost_hyperparameters(trial, X_train, y_train), n_trials=30, n_jobs=2)\n",
    "\n",
    "    # Получение лучших гиперпараметров\n",
    "    best_params = study.best_params\n",
    "\n",
    "    # Обучение модели с оптимальными гиперпараметрами и прогнозирование на тестовом наборе данных\n",
    "    y_pred = train_and_predict_with_optimal_model(X_train, y_train, X_test, y_test, selected_features, best_params)\n",
    "    y_pred_prob = model.predict_proba(X_test)[:, 1]\n",
    "    # Вычисление метрик\n",
    "    roc_auc = roc_auc_score(y_test, y_pred_prob)\n",
    "    f1 = f1_score(y_test, y_pred)\n",
    "\n",
    "    # Вывод результатов оптимизации и оценки модели\n",
    "    print(\"Optimal Hyperparameters:\", best_params)\n",
    "    print(\"Predictions on Test Data:\", y_pred)\n",
    "    np.savetxt('./data_proc/y_pred_boosting.csv', y_pred)\n",
    "    print(\"Test ROC AUC:\", roc_auc)\n",
    "    print(\"Test F1 Score:\", f1)\n",
    "\n",
    "    finish = time.time()\n",
    "    print(\"время выполнения\", finish - start)\n",
    "\n",
    "run_ada_boosting()"
   ],
   "metadata": {
    "collapsed": false,
    "pycharm": {
     "name": "#%%\n"
    }
   }
  },
  {
   "cell_type": "code",
   "execution_count": 12,
   "outputs": [
    {
     "name": "stdout",
     "output_type": "stream",
     "text": [
      "column to input: Index(['ID', 'C', 'D', 'E', 'G', 'H', 'I', 'J', 'L', 'M', 'N', 'O', 'R', 'S',\n",
      "       'W', 'X', 'MARKER'],\n",
      "      dtype='object')\n",
      "выбран генетический алгоритм\n"
     ]
    },
    {
     "name": "stderr",
     "output_type": "stream",
     "text": [
      "[I 2023-09-27 14:27:50,557] A new study created in memory with name: no-name-5784c63c-a8e2-4d4c-94d7-5e7252cdd90e\n"
     ]
    },
    {
     "name": "stdout",
     "output_type": "stream",
     "text": [
      "Selected Features: ['C', 'D', 'E', 'G', 'H', 'I', 'J', 'L', 'N', 'O', 'S', 'X']\n"
     ]
    },
    {
     "name": "stderr",
     "output_type": "stream",
     "text": [
      "[I 2023-09-27 14:27:58,940] Trial 0 finished with value: 0.5 and parameters: {'n_estimators': 200, 'max_depth': 14, 'min_samples_split': 0.7587149363448072, 'min_samples_leaf': 0.4039104953817389}. Best is trial 0 with value: 0.5.\n",
      "[I 2023-09-27 14:27:58,974] Trial 2 finished with value: 0.5 and parameters: {'n_estimators': 200, 'max_depth': 4, 'min_samples_split': 0.8278411694436812, 'min_samples_leaf': 0.17005316152416555}. Best is trial 0 with value: 0.5.\n",
      "[I 2023-09-27 14:28:01,233] Trial 5 finished with value: 0.5 and parameters: {'n_estimators': 50, 'max_depth': 8, 'min_samples_split': 0.4301860987328454, 'min_samples_leaf': 0.4750946585956658}. Best is trial 0 with value: 0.5.\n",
      "[I 2023-09-27 14:28:03,148] Trial 3 finished with value: 0.5 and parameters: {'n_estimators': 300, 'max_depth': 4, 'min_samples_split': 0.11586721260072749, 'min_samples_leaf': 0.36194717492031575}. Best is trial 0 with value: 0.5.\n",
      "[I 2023-09-27 14:28:05,109] Trial 1 finished with value: 0.5 and parameters: {'n_estimators': 350, 'max_depth': 8, 'min_samples_split': 0.6877282049555503, 'min_samples_leaf': 0.4736186897171251}. Best is trial 0 with value: 0.5.\n",
      "[I 2023-09-27 14:28:05,256] Trial 4 finished with value: 0.5 and parameters: {'n_estimators': 150, 'max_depth': 6, 'min_samples_split': 0.9683766364280354, 'min_samples_leaf': 0.12289655144993177}. Best is trial 0 with value: 0.5.\n",
      "[I 2023-09-27 14:28:09,513] Trial 9 finished with value: 0.5 and parameters: {'n_estimators': 100, 'max_depth': 6, 'min_samples_split': 0.5711563975829251, 'min_samples_leaf': 0.3213692866980072}. Best is trial 0 with value: 0.5.\n",
      "[I 2023-09-27 14:28:13,617] Trial 6 finished with value: 0.5 and parameters: {'n_estimators': 300, 'max_depth': 5, 'min_samples_split': 0.8688055973640136, 'min_samples_leaf': 0.1855604063009158}. Best is trial 0 with value: 0.5.\n",
      "[I 2023-09-27 14:28:15,523] Trial 8 finished with value: 0.5 and parameters: {'n_estimators': 250, 'max_depth': 10, 'min_samples_split': 0.21952488650984886, 'min_samples_leaf': 0.46447702903442456}. Best is trial 0 with value: 0.5.\n",
      "[I 2023-09-27 14:28:17,561] Trial 7 finished with value: 0.5 and parameters: {'n_estimators': 350, 'max_depth': 13, 'min_samples_split': 0.8731356078365694, 'min_samples_leaf': 0.05008032398380341}. Best is trial 0 with value: 0.5.\n",
      "[I 2023-09-27 14:28:17,782] Trial 10 finished with value: 0.5 and parameters: {'n_estimators': 200, 'max_depth': 14, 'min_samples_split': 0.738207610226893, 'min_samples_leaf': 0.29860938132441356}. Best is trial 0 with value: 0.5.\n",
      "[I 2023-09-27 14:28:19,889] Trial 11 finished with value: 0.5 and parameters: {'n_estimators': 150, 'max_depth': 12, 'min_samples_split': 0.5490271283090379, 'min_samples_leaf': 0.4107348310981149}. Best is trial 0 with value: 0.5.\n",
      "[I 2023-09-27 14:28:25,903] Trial 13 finished with value: 0.5 and parameters: {'n_estimators': 200, 'max_depth': 15, 'min_samples_split': 0.6535012135343368, 'min_samples_leaf': 0.3841260930653455}. Best is trial 0 with value: 0.5.\n",
      "[I 2023-09-27 14:28:27,874] Trial 12 finished with value: 0.5 and parameters: {'n_estimators': 300, 'max_depth': 11, 'min_samples_split': 0.4655836792130936, 'min_samples_leaf': 0.322922370518229}. Best is trial 0 with value: 0.5.\n",
      "[I 2023-09-27 14:28:32,215] Trial 14 finished with value: 0.5 and parameters: {'n_estimators': 350, 'max_depth': 11, 'min_samples_split': 0.647634072142176, 'min_samples_leaf': 0.4002825746561696}. Best is trial 0 with value: 0.5.\n",
      "[I 2023-09-27 14:28:34,375] Trial 15 finished with value: 0.5 and parameters: {'n_estimators': 350, 'max_depth': 10, 'min_samples_split': 0.7013849340879401, 'min_samples_leaf': 0.49360711823199144}. Best is trial 0 with value: 0.5.\n",
      "[I 2023-09-27 14:28:40,503] Trial 16 finished with value: 0.5 and parameters: {'n_estimators': 350, 'max_depth': 10, 'min_samples_split': 0.6912201826840307, 'min_samples_leaf': 0.49990591340902785}. Best is trial 0 with value: 0.5.\n",
      "[I 2023-09-27 14:28:42,069] Trial 17 finished with value: 0.5 and parameters: {'n_estimators': 350, 'max_depth': 8, 'min_samples_split': 0.7117194510804454, 'min_samples_leaf': 0.49815422154098044}. Best is trial 0 with value: 0.5.\n",
      "[I 2023-09-27 14:28:42,220] Trial 18 finished with value: 0.5 and parameters: {'n_estimators': 250, 'max_depth': 8, 'min_samples_split': 0.7472938584687971, 'min_samples_leaf': 0.4883097773332075}. Best is trial 0 with value: 0.5.\n",
      "[I 2023-09-27 14:28:43,361] Trial 19 finished with value: 0.5 and parameters: {'n_estimators': 250, 'max_depth': 8, 'min_samples_split': 0.7772783237775811, 'min_samples_leaf': 0.443455412499979}. Best is trial 0 with value: 0.5.\n"
     ]
    },
    {
     "name": "stdout",
     "output_type": "stream",
     "text": [
      "Best Hyperparameters: {'n_estimators': 200, 'max_depth': 14, 'min_samples_split': 0.7587149363448072, 'min_samples_leaf': 0.4039104953817389}\n",
      "Test Predictions: [1 1 0 ... 0 1 0]\n",
      "Test F1 Score: 0.04699140401146132\n",
      "Test ROC AUC Score: 0.7925358774925195\n"
     ]
    }
   ],
   "source": [
    "# универсальный алгоритм 2\n",
    "# Оптимизация гиперпараметров\n",
    "def optimize_hyperparameters(X, y, model_type):\n",
    "    def objective(trial):\n",
    "        if model_type == 'logistic_regression':\n",
    "            param_grid = {\n",
    "                'penalty': trial.suggest_categorical('penalty', ['l1', 'l2']),\n",
    "                'C': trial.suggest_loguniform('C', 1e-6, 1e4)\n",
    "            }\n",
    "            model = LogisticRegression(solver='liblinear', class_weight='balanced', **param_grid)\n",
    "        elif model_type == 'random_forest':\n",
    "            param_grid = {\n",
    "                'n_estimators': trial.suggest_int('n_estimators', 50, 350, step=50),\n",
    "                'max_depth': trial.suggest_int('max_depth', 3, 15),\n",
    "                'min_samples_split': trial.suggest_float('min_samples_split', 0.05, 1.0),\n",
    "                'min_samples_leaf': trial.suggest_float('min_samples_leaf', 0.05, 0.5)\n",
    "            }\n",
    "            model = RandomForestClassifier(\n",
    "                n_estimators=param_grid['n_estimators'],\n",
    "                max_depth=param_grid['max_depth'],\n",
    "                min_samples_split=param_grid['min_samples_split'],\n",
    "                min_samples_leaf=param_grid['min_samples_leaf'],\n",
    "                class_weight='balanced',\n",
    "                random_state=42\n",
    "            )\n",
    "        elif model_type == 'adaboost':\n",
    "            n_estimators = trial.suggest_int('n_estimators', 5, 75, step=5)\n",
    "            learning_rate = trial.suggest_float('learning_rate', 0.001, 1.0, log=True)\n",
    "\n",
    "            estimator = DecisionTreeClassifier(class_weight='balanced')\n",
    "            model = AdaBoostClassifier(n_estimators=n_estimators, learning_rate=learning_rate, estimator=estimator, random_state=42)\n",
    "        # Добавьте другие модели и гиперпараметры по мере необходимости\n",
    "\n",
    "        skf = StratifiedKFold(n_splits=5, shuffle=True, random_state=42)\n",
    "        scores = cross_val_score(model, X, y, cv=skf, scoring='roc_auc' )\n",
    "        return np.mean(scores)\n",
    "\n",
    "    study = optuna.create_study(direction='maximize')\n",
    "    study.optimize(objective, n_trials=20,n_jobs= 4)\n",
    "    best_params = study.best_params\n",
    "    return best_params\n",
    "\n",
    "# Обучение модели\n",
    "def train_model(X_train, y_train, model_type, hyperparameters=None):\n",
    "    if model_type == 'logistic_regression':\n",
    "        if hyperparameters is None:\n",
    "            model = LogisticRegression(solver='liblinear', class_weight='balanced')\n",
    "        else:\n",
    "            model = LogisticRegression(solver='liblinear', class_weight='balanced', **hyperparameters)\n",
    "    elif model_type == 'random_forest':\n",
    "        model = RandomForestClassifier(\n",
    "            #class_weight='balanced',\n",
    "            random_state=42\n",
    "        )\n",
    "    elif model_type == 'adaboost':\n",
    "        if hyperparameters is None:\n",
    "            model = AdaBoostClassifier(random_state=42)\n",
    "        else:\n",
    "            model = AdaBoostClassifier(n_estimators=hyperparameters['n_estimators'], learning_rate=hyperparameters['learning_rate'], random_state=42)\n",
    "    # Добавьте другие модели и параметры по мере необходимости\n",
    "\n",
    "    model.fit(X_train, y_train)\n",
    "    return model\n",
    "\n",
    "# Оценка модели\n",
    "def evaluate_model(model, X_test, y_test):\n",
    "    y_pred_prob = model.predict_proba(X_test)[:, 1]\n",
    "    fpr, tpr, thresholds = roc_curve(y_test, y_pred_prob)\n",
    "    optimal_threshold_index = np.argmax(tpr - fpr)\n",
    "    optimal_threshold = thresholds[optimal_threshold_index]\n",
    "    y_pred = (y_pred_prob > optimal_threshold).astype(int)\n",
    "\n",
    "    f1 = f1_score(y_test, y_pred)\n",
    "    roc_auc = roc_auc_score(y_test, y_pred_prob)\n",
    "\n",
    "    return y_pred, f1, roc_auc\n",
    "\n",
    "def fitness_score(model_type, X_train, y_train, selected_features):\n",
    "    model = train_model(X_train[selected_features], y_train, model_type)\n",
    "    _, _, roc_auc_score = evaluate_model(model, X_train[selected_features], y_train)\n",
    "    return roc_auc_score\n",
    "\n",
    "def mutate(selected_features, mutation_rate):\n",
    "    mutated_features = selected_features.copy()\n",
    "    for i in range(len(mutated_features)):\n",
    "        if random.random() < mutation_rate:\n",
    "            mutated_features[i] = random.randint(0, 1)  # 1 or 0 with equal probability\n",
    "    return mutated_features\n",
    "\n",
    "# Генетический алгоритм\n",
    "def genetic_algorithm(X_train, y_train, model_type, num_gener, popul_size, mutation_rate):\n",
    "    num_features = X_train.shape[1]\n",
    "    column_names = X_train.columns\n",
    "\n",
    "    population = [random.choices([0, 1], k=num_features) for _ in range(popul_size)]\n",
    "\n",
    "    for generation in range(num_gener):\n",
    "        scores = []\n",
    "        for selected_features in population:\n",
    "            selected_column_names = [column_names[i] for i, select in enumerate(selected_features) if select == 1]\n",
    "            score = fitness_score(model_type, X_train, y_train, selected_column_names)\n",
    "            scores.append((selected_features, score))\n",
    "\n",
    "        scores.sort(key=lambda x: x[1], reverse=True)\n",
    "        elite = scores[:num_features // 2]\n",
    "\n",
    "        new_population = [selected_features for selected_features, _ in elite]\n",
    "        while len(new_population) < num_features:\n",
    "            parent1, parent2 = elite[0][0], elite[1][0]  # Use the top 2 parents\n",
    "            child = [parent1[i] if random.random() < 0.5 else parent2[i] for i in range(num_features)]\n",
    "            child = mutate(child, mutation_rate)\n",
    "            new_population.append(child)\n",
    "\n",
    "        population = new_population\n",
    "\n",
    "    best_features = max(scores, key=lambda x: x[1])[0]\n",
    "    return best_features\n",
    "\n",
    "# Запуск эксперимента\n",
    "def run_experiment(train_data, test_data, target_column_name, model_type, use_gen_alg=False, num_gener=10, popul_size=20, num_features=False, mutat_rate=0.1, hyp_optimize=True):\n",
    "    X_train = train_data.drop(columns=['ID', target_column_name])\n",
    "    y_train = train_data[target_column_name]\n",
    "\n",
    "    if (use_gen_alg or num_features) is False:\n",
    "        best_features = list(X_train.columns)  # Use all features\n",
    "    else:\n",
    "        if use_gen_alg and not num_features:\n",
    "            print(\"выбран генетический алгоритм\")\n",
    "            best_feature_indices = genetic_algorithm(X_train, y_train, model_type, num_gener, popul_size, mutat_rate)\n",
    "            best_features = [X_train.columns[i] for i, select in enumerate(best_feature_indices) if select == 1]\n",
    "        else:\n",
    "            if model_type == 'logistic_regression' and num_features:\n",
    "                print(\"выбран встроенный алгоритм\")\n",
    "                # Use top N features based on coefficients if not optimizing hyperparameters\n",
    "                model = train_model(X_train, y_train, model_type)\n",
    "                coef_abs = np.abs(model.coef_[0])\n",
    "                best_features_idx = np.argsort(coef_abs)[-num_features:]\n",
    "                best_features = list(X_train.columns[best_features_idx])\n",
    "\n",
    "    print(\"Selected Features:\", best_features)\n",
    "\n",
    "    X_train_selected = X_train[best_features]\n",
    "    X_test_selected = test_data.drop(columns=['ID', target_column_name])[best_features]\n",
    "\n",
    "    if hyp_optimize:\n",
    "        best_hyperparameters = optimize_hyperparameters(X_train_selected, y_train, model_type)\n",
    "        print(\"Best Hyperparameters:\", best_hyperparameters)\n",
    "    else:\n",
    "        best_hyperparameters = None\n",
    "\n",
    "    model = train_model(X_train_selected, y_train, model_type, best_hyperparameters)\n",
    "\n",
    "    y_pred, f1, roc_auc = evaluate_model(model, X_test_selected, test_data[target_column_name])\n",
    "    print(\"Test Predictions:\", y_pred)\n",
    "    print(\"Test F1 Score:\", f1)\n",
    "    print(\"Test ROC AUC Score:\", roc_auc)\n",
    "\n",
    "print(\"column to input:\",train_data_copy.columns)\n",
    "run_experiment(train_data_copy, test_data_copy, 'MARKER', \"random_forest\", use_gen_alg=True, num_gener=5, popul_size=4,num_features=False, mutat_rate=0.999, hyp_optimize=True)"
   ],
   "metadata": {
    "collapsed": false,
    "pycharm": {
     "name": "#%%\n"
    }
   }
  },
  {
   "cell_type": "code",
   "execution_count": 12,
   "outputs": [],
   "source": [
    "\n"
   ],
   "metadata": {
    "collapsed": false,
    "pycharm": {
     "name": "#%%\n"
    }
   }
  },
  {
   "cell_type": "code",
   "execution_count": 12,
   "outputs": [],
   "source": [],
   "metadata": {
    "collapsed": false,
    "pycharm": {
     "name": "#%%\n"
    }
   }
  },
  {
   "cell_type": "code",
   "execution_count": 12,
   "outputs": [],
   "source": [],
   "metadata": {
    "collapsed": false,
    "pycharm": {
     "name": "#%%\n"
    }
   }
  },
  {
   "cell_type": "code",
   "execution_count": 12,
   "outputs": [],
   "source": [],
   "metadata": {
    "collapsed": false,
    "pycharm": {
     "name": "#%%\n"
    }
   }
  },
  {
   "cell_type": "code",
   "execution_count": 12,
   "outputs": [],
   "source": [],
   "metadata": {
    "collapsed": false,
    "pycharm": {
     "name": "#%%\n"
    }
   }
  },
  {
   "cell_type": "code",
   "execution_count": 12,
   "outputs": [],
   "source": [],
   "metadata": {
    "collapsed": false,
    "pycharm": {
     "name": "#%%\n"
    }
   }
  },
  {
   "cell_type": "code",
   "execution_count": 12,
   "outputs": [],
   "source": [],
   "metadata": {
    "collapsed": false,
    "pycharm": {
     "name": "#%%\n"
    }
   }
  },
  {
   "cell_type": "code",
   "execution_count": 12,
   "outputs": [],
   "source": [],
   "metadata": {
    "collapsed": false,
    "pycharm": {
     "name": "#%%\n"
    }
   }
  },
  {
   "cell_type": "code",
   "execution_count": 12,
   "outputs": [],
   "source": [],
   "metadata": {
    "collapsed": false,
    "pycharm": {
     "name": "#%%\n"
    }
   }
  },
  {
   "cell_type": "code",
   "execution_count": 12,
   "outputs": [],
   "source": [],
   "metadata": {
    "collapsed": false,
    "pycharm": {
     "name": "#%%\n"
    }
   }
  },
  {
   "cell_type": "code",
   "execution_count": 12,
   "outputs": [],
   "source": [],
   "metadata": {
    "collapsed": false,
    "pycharm": {
     "name": "#%%\n"
    }
   }
  },
  {
   "cell_type": "code",
   "execution_count": 12,
   "outputs": [],
   "source": [],
   "metadata": {
    "collapsed": false,
    "pycharm": {
     "name": "#%%\n"
    }
   }
  },
  {
   "cell_type": "code",
   "execution_count": 12,
   "outputs": [],
   "source": [],
   "metadata": {
    "collapsed": false,
    "pycharm": {
     "name": "#%%\n"
    }
   }
  },
  {
   "cell_type": "code",
   "execution_count": 12,
   "outputs": [],
   "source": [],
   "metadata": {
    "collapsed": false,
    "pycharm": {
     "name": "#%%\n"
    }
   }
  },
  {
   "cell_type": "code",
   "execution_count": 12,
   "outputs": [],
   "source": [],
   "metadata": {
    "collapsed": false,
    "pycharm": {
     "name": "#%%\n"
    }
   }
  },
  {
   "cell_type": "code",
   "execution_count": 12,
   "outputs": [],
   "source": [],
   "metadata": {
    "collapsed": false,
    "pycharm": {
     "name": "#%%\n"
    }
   }
  },
  {
   "cell_type": "code",
   "execution_count": 12,
   "outputs": [],
   "source": [],
   "metadata": {
    "collapsed": false,
    "pycharm": {
     "name": "#%%\n"
    }
   }
  },
  {
   "cell_type": "code",
   "execution_count": 12,
   "outputs": [],
   "source": [],
   "metadata": {
    "collapsed": false,
    "pycharm": {
     "name": "#%%\n"
    }
   }
  },
  {
   "cell_type": "code",
   "execution_count": 12,
   "outputs": [],
   "source": [],
   "metadata": {
    "collapsed": false,
    "pycharm": {
     "name": "#%%\n"
    }
   }
  },
  {
   "cell_type": "code",
   "execution_count": 12,
   "outputs": [],
   "source": [],
   "metadata": {
    "collapsed": false,
    "pycharm": {
     "name": "#%%\n"
    }
   }
  },
  {
   "cell_type": "code",
   "execution_count": 12,
   "outputs": [],
   "source": [],
   "metadata": {
    "collapsed": false,
    "pycharm": {
     "name": "#%%\n"
    }
   }
  },
  {
   "cell_type": "code",
   "execution_count": 12,
   "outputs": [],
   "source": [],
   "metadata": {
    "collapsed": false,
    "pycharm": {
     "name": "#%%\n"
    }
   }
  },
  {
   "cell_type": "code",
   "execution_count": 12,
   "outputs": [],
   "source": [],
   "metadata": {
    "collapsed": false,
    "pycharm": {
     "name": "#%%\n"
    }
   }
  },
  {
   "cell_type": "code",
   "execution_count": 12,
   "outputs": [],
   "source": [],
   "metadata": {
    "collapsed": false,
    "pycharm": {
     "name": "#%%\n"
    }
   }
  },
  {
   "cell_type": "code",
   "execution_count": 12,
   "outputs": [],
   "source": [],
   "metadata": {
    "collapsed": false,
    "pycharm": {
     "name": "#%%\n"
    }
   }
  },
  {
   "cell_type": "code",
   "execution_count": 12,
   "outputs": [],
   "source": [],
   "metadata": {
    "collapsed": false,
    "pycharm": {
     "name": "#%%\n"
    }
   }
  },
  {
   "cell_type": "code",
   "execution_count": 12,
   "outputs": [],
   "source": [],
   "metadata": {
    "collapsed": false,
    "pycharm": {
     "name": "#%%\n"
    }
   }
  },
  {
   "cell_type": "code",
   "execution_count": 12,
   "outputs": [],
   "source": [],
   "metadata": {
    "collapsed": false,
    "pycharm": {
     "name": "#%%\n"
    }
   }
  },
  {
   "cell_type": "code",
   "execution_count": 12,
   "outputs": [],
   "source": [],
   "metadata": {
    "collapsed": false,
    "pycharm": {
     "name": "#%%\n"
    }
   }
  },
  {
   "cell_type": "code",
   "execution_count": 12,
   "outputs": [],
   "source": [],
   "metadata": {
    "collapsed": false,
    "pycharm": {
     "name": "#%%\n"
    }
   }
  },
  {
   "cell_type": "code",
   "execution_count": 12,
   "outputs": [],
   "source": [],
   "metadata": {
    "collapsed": false,
    "pycharm": {
     "name": "#%%\n"
    }
   }
  },
  {
   "cell_type": "code",
   "execution_count": 12,
   "outputs": [],
   "source": [],
   "metadata": {
    "collapsed": false,
    "pycharm": {
     "name": "#%%\n"
    }
   }
  },
  {
   "cell_type": "code",
   "execution_count": 12,
   "outputs": [],
   "source": [],
   "metadata": {
    "collapsed": false,
    "pycharm": {
     "name": "#%%\n"
    }
   }
  },
  {
   "cell_type": "code",
   "execution_count": 12,
   "outputs": [],
   "source": [],
   "metadata": {
    "collapsed": false,
    "pycharm": {
     "name": "#%%\n"
    }
   }
  },
  {
   "cell_type": "code",
   "execution_count": 12,
   "outputs": [],
   "source": [],
   "metadata": {
    "collapsed": false,
    "pycharm": {
     "name": "#%%\n"
    }
   }
  },
  {
   "cell_type": "code",
   "execution_count": 12,
   "outputs": [],
   "source": [],
   "metadata": {
    "collapsed": false,
    "pycharm": {
     "name": "#%%\n"
    }
   }
  },
  {
   "cell_type": "code",
   "execution_count": 12,
   "outputs": [],
   "source": [],
   "metadata": {
    "collapsed": false,
    "pycharm": {
     "name": "#%%\n"
    }
   }
  },
  {
   "cell_type": "code",
   "execution_count": 12,
   "outputs": [],
   "source": [],
   "metadata": {
    "collapsed": false,
    "pycharm": {
     "name": "#%%\n"
    }
   }
  },
  {
   "cell_type": "code",
   "execution_count": 12,
   "outputs": [],
   "source": [],
   "metadata": {
    "collapsed": false,
    "pycharm": {
     "name": "#%%\n"
    }
   }
  },
  {
   "cell_type": "code",
   "execution_count": 12,
   "outputs": [],
   "source": [],
   "metadata": {
    "collapsed": false,
    "pycharm": {
     "name": "#%%\n"
    }
   }
  },
  {
   "cell_type": "code",
   "execution_count": 12,
   "outputs": [],
   "source": [],
   "metadata": {
    "collapsed": false,
    "pycharm": {
     "name": "#%%\n"
    }
   }
  },
  {
   "cell_type": "code",
   "execution_count": 12,
   "outputs": [],
   "source": [],
   "metadata": {
    "collapsed": false,
    "pycharm": {
     "name": "#%%\n"
    }
   }
  },
  {
   "cell_type": "code",
   "execution_count": 12,
   "outputs": [],
   "source": [],
   "metadata": {
    "collapsed": false,
    "pycharm": {
     "name": "#%%\n"
    }
   }
  },
  {
   "cell_type": "code",
   "execution_count": 12,
   "outputs": [],
   "source": [],
   "metadata": {
    "collapsed": false,
    "pycharm": {
     "name": "#%%\n"
    }
   }
  },
  {
   "cell_type": "code",
   "execution_count": 12,
   "outputs": [],
   "source": [],
   "metadata": {
    "collapsed": false,
    "pycharm": {
     "name": "#%%\n"
    }
   }
  },
  {
   "cell_type": "code",
   "execution_count": 12,
   "outputs": [],
   "source": [],
   "metadata": {
    "collapsed": false,
    "pycharm": {
     "name": "#%%\n"
    }
   }
  },
  {
   "cell_type": "code",
   "execution_count": 12,
   "outputs": [],
   "source": [],
   "metadata": {
    "collapsed": false,
    "pycharm": {
     "name": "#%%\n"
    }
   }
  },
  {
   "cell_type": "code",
   "execution_count": 12,
   "outputs": [],
   "source": [],
   "metadata": {
    "collapsed": false,
    "pycharm": {
     "name": "#%%\n"
    }
   }
  },
  {
   "cell_type": "code",
   "execution_count": 12,
   "outputs": [],
   "source": [],
   "metadata": {
    "collapsed": false,
    "pycharm": {
     "name": "#%%\n"
    }
   }
  },
  {
   "cell_type": "code",
   "execution_count": 12,
   "outputs": [],
   "source": [],
   "metadata": {
    "collapsed": false,
    "pycharm": {
     "name": "#%%\n"
    }
   }
  },
  {
   "cell_type": "code",
   "execution_count": 12,
   "outputs": [],
   "source": [],
   "metadata": {
    "collapsed": false,
    "pycharm": {
     "name": "#%%\n"
    }
   }
  },
  {
   "cell_type": "code",
   "execution_count": 12,
   "outputs": [],
   "source": [],
   "metadata": {
    "collapsed": false,
    "pycharm": {
     "name": "#%%\n"
    }
   }
  },
  {
   "cell_type": "code",
   "execution_count": 12,
   "outputs": [],
   "source": [],
   "metadata": {
    "collapsed": false,
    "pycharm": {
     "name": "#%%\n"
    }
   }
  },
  {
   "cell_type": "code",
   "execution_count": 12,
   "outputs": [],
   "source": [],
   "metadata": {
    "collapsed": false,
    "pycharm": {
     "name": "#%%\n"
    }
   }
  },
  {
   "cell_type": "code",
   "execution_count": 12,
   "outputs": [],
   "source": [],
   "metadata": {
    "collapsed": false,
    "pycharm": {
     "name": "#%%\n"
    }
   }
  },
  {
   "cell_type": "code",
   "execution_count": 12,
   "outputs": [],
   "source": [],
   "metadata": {
    "collapsed": false,
    "pycharm": {
     "name": "#%%\n"
    }
   }
  },
  {
   "cell_type": "code",
   "execution_count": 12,
   "outputs": [],
   "source": [],
   "metadata": {
    "collapsed": false,
    "pycharm": {
     "name": "#%%\n"
    }
   }
  },
  {
   "cell_type": "code",
   "execution_count": 12,
   "outputs": [],
   "source": [],
   "metadata": {
    "collapsed": false,
    "pycharm": {
     "name": "#%%\n"
    }
   }
  },
  {
   "cell_type": "code",
   "execution_count": 12,
   "outputs": [],
   "source": [],
   "metadata": {
    "collapsed": false,
    "pycharm": {
     "name": "#%%\n"
    }
   }
  },
  {
   "cell_type": "code",
   "execution_count": 12,
   "outputs": [],
   "source": [],
   "metadata": {
    "collapsed": false,
    "pycharm": {
     "name": "#%%\n"
    }
   }
  },
  {
   "cell_type": "code",
   "execution_count": 12,
   "outputs": [],
   "source": [],
   "metadata": {
    "collapsed": false,
    "pycharm": {
     "name": "#%%\n"
    }
   }
  },
  {
   "cell_type": "code",
   "execution_count": 12,
   "outputs": [],
   "source": [],
   "metadata": {
    "collapsed": false,
    "pycharm": {
     "name": "#%%\n"
    }
   }
  },
  {
   "cell_type": "code",
   "execution_count": 12,
   "outputs": [],
   "source": [],
   "metadata": {
    "collapsed": false,
    "pycharm": {
     "name": "#%%\n"
    }
   }
  },
  {
   "cell_type": "code",
   "execution_count": 12,
   "outputs": [],
   "source": [],
   "metadata": {
    "collapsed": false,
    "pycharm": {
     "name": "#%%\n"
    }
   }
  },
  {
   "cell_type": "code",
   "execution_count": 12,
   "outputs": [],
   "source": [],
   "metadata": {
    "collapsed": false,
    "pycharm": {
     "name": "#%%\n"
    }
   }
  },
  {
   "cell_type": "code",
   "execution_count": 12,
   "outputs": [],
   "source": [],
   "metadata": {
    "collapsed": false,
    "pycharm": {
     "name": "#%%\n"
    }
   }
  },
  {
   "cell_type": "code",
   "execution_count": 12,
   "outputs": [],
   "source": [],
   "metadata": {
    "collapsed": false,
    "pycharm": {
     "name": "#%%\n"
    }
   }
  },
  {
   "cell_type": "code",
   "execution_count": 12,
   "outputs": [],
   "source": [],
   "metadata": {
    "collapsed": false,
    "pycharm": {
     "name": "#%%\n"
    }
   }
  },
  {
   "cell_type": "code",
   "execution_count": 12,
   "outputs": [],
   "source": [],
   "metadata": {
    "collapsed": false,
    "pycharm": {
     "name": "#%%\n"
    }
   }
  },
  {
   "cell_type": "code",
   "execution_count": 12,
   "outputs": [],
   "source": [],
   "metadata": {
    "collapsed": false,
    "pycharm": {
     "name": "#%%\n"
    }
   }
  },
  {
   "cell_type": "code",
   "execution_count": 12,
   "outputs": [],
   "source": [],
   "metadata": {
    "collapsed": false,
    "pycharm": {
     "name": "#%%\n"
    }
   }
  },
  {
   "cell_type": "code",
   "execution_count": 12,
   "outputs": [],
   "source": [],
   "metadata": {
    "collapsed": false,
    "pycharm": {
     "name": "#%%\n"
    }
   }
  },
  {
   "cell_type": "code",
   "execution_count": 12,
   "outputs": [],
   "source": [],
   "metadata": {
    "collapsed": false,
    "pycharm": {
     "name": "#%%\n"
    }
   }
  },
  {
   "cell_type": "code",
   "execution_count": 12,
   "outputs": [],
   "source": [],
   "metadata": {
    "collapsed": false,
    "pycharm": {
     "name": "#%%\n"
    }
   }
  },
  {
   "cell_type": "code",
   "execution_count": 12,
   "outputs": [],
   "source": [],
   "metadata": {
    "collapsed": false,
    "pycharm": {
     "name": "#%%\n"
    }
   }
  },
  {
   "cell_type": "code",
   "execution_count": 12,
   "outputs": [],
   "source": [],
   "metadata": {
    "collapsed": false,
    "pycharm": {
     "name": "#%%\n"
    }
   }
  },
  {
   "cell_type": "code",
   "execution_count": 12,
   "outputs": [],
   "source": [],
   "metadata": {
    "collapsed": false,
    "pycharm": {
     "name": "#%%\n"
    }
   }
  },
  {
   "cell_type": "code",
   "execution_count": 12,
   "outputs": [],
   "source": [],
   "metadata": {
    "collapsed": false,
    "pycharm": {
     "name": "#%%\n"
    }
   }
  },
  {
   "cell_type": "code",
   "execution_count": 12,
   "outputs": [],
   "source": [],
   "metadata": {
    "collapsed": false,
    "pycharm": {
     "name": "#%%\n"
    }
   }
  },
  {
   "cell_type": "code",
   "execution_count": 12,
   "outputs": [],
   "source": [],
   "metadata": {
    "collapsed": false,
    "pycharm": {
     "name": "#%%\n"
    }
   }
  },
  {
   "cell_type": "code",
   "execution_count": 12,
   "outputs": [],
   "source": [],
   "metadata": {
    "collapsed": false,
    "pycharm": {
     "name": "#%%\n"
    }
   }
  },
  {
   "cell_type": "code",
   "execution_count": 12,
   "outputs": [],
   "source": [],
   "metadata": {
    "collapsed": false,
    "pycharm": {
     "name": "#%%\n"
    }
   }
  },
  {
   "cell_type": "code",
   "execution_count": 12,
   "outputs": [],
   "source": [],
   "metadata": {
    "collapsed": false,
    "pycharm": {
     "name": "#%%\n"
    }
   }
  },
  {
   "cell_type": "code",
   "execution_count": 12,
   "outputs": [],
   "source": [],
   "metadata": {
    "collapsed": false,
    "pycharm": {
     "name": "#%%\n"
    }
   }
  },
  {
   "cell_type": "code",
   "execution_count": 12,
   "outputs": [],
   "source": [],
   "metadata": {
    "collapsed": false,
    "pycharm": {
     "name": "#%%\n"
    }
   }
  },
  {
   "cell_type": "code",
   "execution_count": 12,
   "outputs": [],
   "source": [],
   "metadata": {
    "collapsed": false,
    "pycharm": {
     "name": "#%%\n"
    }
   }
  },
  {
   "cell_type": "code",
   "execution_count": 12,
   "outputs": [],
   "source": [],
   "metadata": {
    "collapsed": false,
    "pycharm": {
     "name": "#%%\n"
    }
   }
  },
  {
   "cell_type": "code",
   "execution_count": 12,
   "outputs": [],
   "source": [],
   "metadata": {
    "collapsed": false,
    "pycharm": {
     "name": "#%%\n"
    }
   }
  },
  {
   "cell_type": "code",
   "execution_count": 12,
   "outputs": [],
   "source": [],
   "metadata": {
    "collapsed": false,
    "pycharm": {
     "name": "#%%\n"
    }
   }
  },
  {
   "cell_type": "code",
   "execution_count": 12,
   "outputs": [],
   "source": [],
   "metadata": {
    "collapsed": false,
    "pycharm": {
     "name": "#%%\n"
    }
   }
  },
  {
   "cell_type": "code",
   "execution_count": 12,
   "outputs": [],
   "source": [],
   "metadata": {
    "collapsed": false,
    "pycharm": {
     "name": "#%%\n"
    }
   }
  },
  {
   "cell_type": "code",
   "execution_count": 12,
   "outputs": [],
   "source": [],
   "metadata": {
    "collapsed": false,
    "pycharm": {
     "name": "#%%\n"
    }
   }
  },
  {
   "cell_type": "code",
   "execution_count": 12,
   "outputs": [],
   "source": [],
   "metadata": {
    "collapsed": false,
    "pycharm": {
     "name": "#%%\n"
    }
   }
  },
  {
   "cell_type": "code",
   "execution_count": 12,
   "outputs": [],
   "source": [],
   "metadata": {
    "collapsed": false,
    "pycharm": {
     "name": "#%%\n"
    }
   }
  },
  {
   "cell_type": "code",
   "execution_count": 12,
   "outputs": [],
   "source": [],
   "metadata": {
    "collapsed": false,
    "pycharm": {
     "name": "#%%\n"
    }
   }
  },
  {
   "cell_type": "code",
   "execution_count": 12,
   "outputs": [],
   "source": [],
   "metadata": {
    "collapsed": false,
    "pycharm": {
     "name": "#%%\n"
    }
   }
  },
  {
   "cell_type": "code",
   "execution_count": 12,
   "outputs": [],
   "source": [],
   "metadata": {
    "collapsed": false,
    "pycharm": {
     "name": "#%%\n"
    }
   }
  },
  {
   "cell_type": "code",
   "execution_count": 12,
   "outputs": [],
   "source": [],
   "metadata": {
    "collapsed": false,
    "pycharm": {
     "name": "#%%\n"
    }
   }
  },
  {
   "cell_type": "code",
   "execution_count": 12,
   "outputs": [],
   "source": [],
   "metadata": {
    "collapsed": false,
    "pycharm": {
     "name": "#%%\n"
    }
   }
  },
  {
   "cell_type": "code",
   "execution_count": 12,
   "outputs": [],
   "source": [],
   "metadata": {
    "collapsed": false,
    "pycharm": {
     "name": "#%%\n"
    }
   }
  },
  {
   "cell_type": "code",
   "execution_count": 12,
   "outputs": [],
   "source": [],
   "metadata": {
    "collapsed": false,
    "pycharm": {
     "name": "#%%\n"
    }
   }
  },
  {
   "cell_type": "code",
   "execution_count": 12,
   "outputs": [],
   "source": [],
   "metadata": {
    "collapsed": false,
    "pycharm": {
     "name": "#%%\n"
    }
   }
  },
  {
   "cell_type": "code",
   "execution_count": 12,
   "outputs": [],
   "source": [],
   "metadata": {
    "collapsed": false,
    "pycharm": {
     "name": "#%%\n"
    }
   }
  },
  {
   "cell_type": "code",
   "execution_count": 12,
   "outputs": [],
   "source": [],
   "metadata": {
    "collapsed": false,
    "pycharm": {
     "name": "#%%\n"
    }
   }
  },
  {
   "cell_type": "code",
   "execution_count": 12,
   "outputs": [],
   "source": [],
   "metadata": {
    "collapsed": false,
    "pycharm": {
     "name": "#%%\n"
    }
   }
  },
  {
   "cell_type": "code",
   "execution_count": 12,
   "outputs": [],
   "source": [],
   "metadata": {
    "collapsed": false,
    "pycharm": {
     "name": "#%%\n"
    }
   }
  },
  {
   "cell_type": "code",
   "execution_count": 12,
   "outputs": [],
   "source": [],
   "metadata": {
    "collapsed": false,
    "pycharm": {
     "name": "#%%\n"
    }
   }
  },
  {
   "cell_type": "code",
   "execution_count": 12,
   "outputs": [],
   "source": [],
   "metadata": {
    "collapsed": false,
    "pycharm": {
     "name": "#%%\n"
    }
   }
  },
  {
   "cell_type": "code",
   "execution_count": 12,
   "outputs": [],
   "source": [],
   "metadata": {
    "collapsed": false,
    "pycharm": {
     "name": "#%%\n"
    }
   }
  },
  {
   "cell_type": "code",
   "execution_count": 12,
   "outputs": [],
   "source": [],
   "metadata": {
    "collapsed": false,
    "pycharm": {
     "name": "#%%\n"
    }
   }
  },
  {
   "cell_type": "code",
   "execution_count": 12,
   "outputs": [],
   "source": [],
   "metadata": {
    "collapsed": false,
    "pycharm": {
     "name": "#%%\n"
    }
   }
  },
  {
   "cell_type": "code",
   "execution_count": 12,
   "outputs": [],
   "source": [],
   "metadata": {
    "collapsed": false,
    "pycharm": {
     "name": "#%%\n"
    }
   }
  },
  {
   "cell_type": "code",
   "execution_count": 12,
   "outputs": [],
   "source": [],
   "metadata": {
    "collapsed": false,
    "pycharm": {
     "name": "#%%\n"
    }
   }
  },
  {
   "cell_type": "code",
   "execution_count": 12,
   "outputs": [],
   "source": [],
   "metadata": {
    "collapsed": false,
    "pycharm": {
     "name": "#%%\n"
    }
   }
  },
  {
   "cell_type": "code",
   "execution_count": 12,
   "outputs": [],
   "source": [],
   "metadata": {
    "collapsed": false,
    "pycharm": {
     "name": "#%%\n"
    }
   }
  },
  {
   "cell_type": "code",
   "execution_count": 12,
   "outputs": [],
   "source": [],
   "metadata": {
    "collapsed": false,
    "pycharm": {
     "name": "#%%\n"
    }
   }
  },
  {
   "cell_type": "code",
   "execution_count": 12,
   "outputs": [],
   "source": [],
   "metadata": {
    "collapsed": false,
    "pycharm": {
     "name": "#%%\n"
    }
   }
  },
  {
   "cell_type": "code",
   "execution_count": 12,
   "outputs": [],
   "source": [],
   "metadata": {
    "collapsed": false,
    "pycharm": {
     "name": "#%%\n"
    }
   }
  },
  {
   "cell_type": "code",
   "execution_count": 12,
   "outputs": [],
   "source": [],
   "metadata": {
    "collapsed": false,
    "pycharm": {
     "name": "#%%\n"
    }
   }
  },
  {
   "cell_type": "code",
   "execution_count": 12,
   "outputs": [],
   "source": [],
   "metadata": {
    "collapsed": false,
    "pycharm": {
     "name": "#%%\n"
    }
   }
  },
  {
   "cell_type": "code",
   "execution_count": 12,
   "outputs": [],
   "source": [],
   "metadata": {
    "collapsed": false,
    "pycharm": {
     "name": "#%%\n"
    }
   }
  },
  {
   "cell_type": "code",
   "execution_count": 12,
   "outputs": [],
   "source": [],
   "metadata": {
    "collapsed": false,
    "pycharm": {
     "name": "#%%\n"
    }
   }
  },
  {
   "cell_type": "code",
   "execution_count": 12,
   "outputs": [],
   "source": [],
   "metadata": {
    "collapsed": false,
    "pycharm": {
     "name": "#%%\n"
    }
   }
  },
  {
   "cell_type": "code",
   "execution_count": 12,
   "outputs": [],
   "source": [],
   "metadata": {
    "collapsed": false,
    "pycharm": {
     "name": "#%%\n"
    }
   }
  },
  {
   "cell_type": "code",
   "execution_count": 12,
   "outputs": [],
   "source": [],
   "metadata": {
    "collapsed": false,
    "pycharm": {
     "name": "#%%\n"
    }
   }
  },
  {
   "cell_type": "code",
   "execution_count": 12,
   "outputs": [],
   "source": [],
   "metadata": {
    "collapsed": false,
    "pycharm": {
     "name": "#%%\n"
    }
   }
  },
  {
   "cell_type": "code",
   "execution_count": 12,
   "outputs": [],
   "source": [],
   "metadata": {
    "collapsed": false,
    "pycharm": {
     "name": "#%%\n"
    }
   }
  },
  {
   "cell_type": "code",
   "execution_count": 12,
   "outputs": [],
   "source": [],
   "metadata": {
    "collapsed": false,
    "pycharm": {
     "name": "#%%\n"
    }
   }
  },
  {
   "cell_type": "code",
   "execution_count": 12,
   "outputs": [],
   "source": [],
   "metadata": {
    "collapsed": false,
    "pycharm": {
     "name": "#%%\n"
    }
   }
  },
  {
   "cell_type": "code",
   "execution_count": 12,
   "outputs": [],
   "source": [],
   "metadata": {
    "collapsed": false,
    "pycharm": {
     "name": "#%%\n"
    }
   }
  },
  {
   "cell_type": "code",
   "execution_count": 12,
   "outputs": [],
   "source": [],
   "metadata": {
    "collapsed": false,
    "pycharm": {
     "name": "#%%\n"
    }
   }
  },
  {
   "cell_type": "code",
   "execution_count": 12,
   "outputs": [],
   "source": [],
   "metadata": {
    "collapsed": false,
    "pycharm": {
     "name": "#%%\n"
    }
   }
  },
  {
   "cell_type": "code",
   "execution_count": 12,
   "outputs": [],
   "source": [],
   "metadata": {
    "collapsed": false,
    "pycharm": {
     "name": "#%%\n"
    }
   }
  },
  {
   "cell_type": "code",
   "execution_count": 12,
   "outputs": [],
   "source": [],
   "metadata": {
    "collapsed": false,
    "pycharm": {
     "name": "#%%\n"
    }
   }
  },
  {
   "cell_type": "code",
   "execution_count": 12,
   "outputs": [],
   "source": [],
   "metadata": {
    "collapsed": false,
    "pycharm": {
     "name": "#%%\n"
    }
   }
  },
  {
   "cell_type": "code",
   "execution_count": 12,
   "outputs": [],
   "source": [],
   "metadata": {
    "collapsed": false,
    "pycharm": {
     "name": "#%%\n"
    }
   }
  },
  {
   "cell_type": "code",
   "execution_count": 12,
   "outputs": [],
   "source": [],
   "metadata": {
    "collapsed": false,
    "pycharm": {
     "name": "#%%\n"
    }
   }
  },
  {
   "cell_type": "code",
   "execution_count": 12,
   "outputs": [],
   "source": [],
   "metadata": {
    "collapsed": false,
    "pycharm": {
     "name": "#%%\n"
    }
   }
  },
  {
   "cell_type": "code",
   "execution_count": 12,
   "outputs": [],
   "source": [],
   "metadata": {
    "collapsed": false,
    "pycharm": {
     "name": "#%%\n"
    }
   }
  },
  {
   "cell_type": "code",
   "execution_count": 12,
   "outputs": [],
   "source": [],
   "metadata": {
    "collapsed": false,
    "pycharm": {
     "name": "#%%\n"
    }
   }
  },
  {
   "cell_type": "code",
   "execution_count": 12,
   "outputs": [],
   "source": [],
   "metadata": {
    "collapsed": false,
    "pycharm": {
     "name": "#%%\n"
    }
   }
  },
  {
   "cell_type": "code",
   "execution_count": 12,
   "outputs": [],
   "source": [],
   "metadata": {
    "collapsed": false,
    "pycharm": {
     "name": "#%%\n"
    }
   }
  },
  {
   "cell_type": "code",
   "execution_count": 12,
   "outputs": [],
   "source": [],
   "metadata": {
    "collapsed": false,
    "pycharm": {
     "name": "#%%\n"
    }
   }
  },
  {
   "cell_type": "code",
   "execution_count": 12,
   "outputs": [],
   "source": [],
   "metadata": {
    "collapsed": false,
    "pycharm": {
     "name": "#%%\n"
    }
   }
  },
  {
   "cell_type": "code",
   "execution_count": 12,
   "outputs": [],
   "source": [],
   "metadata": {
    "collapsed": false,
    "pycharm": {
     "name": "#%%\n"
    }
   }
  },
  {
   "cell_type": "code",
   "execution_count": 12,
   "outputs": [],
   "source": [],
   "metadata": {
    "collapsed": false,
    "pycharm": {
     "name": "#%%\n"
    }
   }
  },
  {
   "cell_type": "code",
   "execution_count": 12,
   "outputs": [],
   "source": [],
   "metadata": {
    "collapsed": false,
    "pycharm": {
     "name": "#%%\n"
    }
   }
  },
  {
   "cell_type": "code",
   "execution_count": 12,
   "outputs": [],
   "source": [],
   "metadata": {
    "collapsed": false,
    "pycharm": {
     "name": "#%%\n"
    }
   }
  },
  {
   "cell_type": "code",
   "execution_count": 12,
   "outputs": [],
   "source": [],
   "metadata": {
    "collapsed": false,
    "pycharm": {
     "name": "#%%\n"
    }
   }
  },
  {
   "cell_type": "code",
   "execution_count": 12,
   "outputs": [],
   "source": [],
   "metadata": {
    "collapsed": false,
    "pycharm": {
     "name": "#%%\n"
    }
   }
  },
  {
   "cell_type": "code",
   "execution_count": 12,
   "outputs": [],
   "source": [],
   "metadata": {
    "collapsed": false,
    "pycharm": {
     "name": "#%%\n"
    }
   }
  },
  {
   "cell_type": "code",
   "execution_count": 12,
   "outputs": [],
   "source": [],
   "metadata": {
    "collapsed": false,
    "pycharm": {
     "name": "#%%\n"
    }
   }
  },
  {
   "cell_type": "code",
   "execution_count": 12,
   "outputs": [],
   "source": [],
   "metadata": {
    "collapsed": false,
    "pycharm": {
     "name": "#%%\n"
    }
   }
  },
  {
   "cell_type": "code",
   "execution_count": 12,
   "outputs": [],
   "source": [],
   "metadata": {
    "collapsed": false,
    "pycharm": {
     "name": "#%%\n"
    }
   }
  },
  {
   "cell_type": "code",
   "execution_count": 12,
   "outputs": [],
   "source": [],
   "metadata": {
    "collapsed": false,
    "pycharm": {
     "name": "#%%\n"
    }
   }
  },
  {
   "cell_type": "code",
   "execution_count": 12,
   "outputs": [],
   "source": [],
   "metadata": {
    "collapsed": false,
    "pycharm": {
     "name": "#%%\n"
    }
   }
  },
  {
   "cell_type": "code",
   "execution_count": 12,
   "outputs": [],
   "source": [],
   "metadata": {
    "collapsed": false,
    "pycharm": {
     "name": "#%%\n"
    }
   }
  },
  {
   "cell_type": "code",
   "execution_count": 12,
   "outputs": [],
   "source": [],
   "metadata": {
    "collapsed": false,
    "pycharm": {
     "name": "#%%\n"
    }
   }
  },
  {
   "cell_type": "code",
   "execution_count": 12,
   "outputs": [],
   "source": [],
   "metadata": {
    "collapsed": false,
    "pycharm": {
     "name": "#%%\n"
    }
   }
  },
  {
   "cell_type": "code",
   "execution_count": 12,
   "outputs": [],
   "source": [],
   "metadata": {
    "collapsed": false,
    "pycharm": {
     "name": "#%%\n"
    }
   }
  },
  {
   "cell_type": "code",
   "execution_count": 12,
   "outputs": [],
   "source": [],
   "metadata": {
    "collapsed": false,
    "pycharm": {
     "name": "#%%\n"
    }
   }
  },
  {
   "cell_type": "code",
   "execution_count": 12,
   "outputs": [],
   "source": [],
   "metadata": {
    "collapsed": false,
    "pycharm": {
     "name": "#%%\n"
    }
   }
  },
  {
   "cell_type": "code",
   "execution_count": null,
   "outputs": [],
   "source": [],
   "metadata": {
    "collapsed": false,
    "pycharm": {
     "name": "#%%\n"
    }
   }
  }
 ],
 "metadata": {
  "kernelspec": {
   "display_name": "Python 3",
   "language": "python",
   "name": "python3"
  },
  "language_info": {
   "codemirror_mode": {
    "name": "ipython",
    "version": 2
   },
   "file_extension": ".py",
   "mimetype": "text/x-python",
   "name": "python",
   "nbconvert_exporter": "python",
   "pygments_lexer": "ipython2",
   "version": "2.7.6"
  }
 },
 "nbformat": 4,
 "nbformat_minor": 0
}