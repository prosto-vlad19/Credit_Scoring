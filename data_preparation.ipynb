{
 "cells": [
  {
   "cell_type": "code",
   "execution_count": 90,
   "outputs": [],
   "source": [
    "import random\n",
    "import numpy as np\n",
    "import pandas as pd\n",
    "import time\n",
    "import optuna\n",
    "from sklearn.preprocessing import LabelEncoder,RobustScaler,StandardScaler\n",
    "from sklearn.feature_selection import SelectKBest,f_classif\n",
    "from sklearn.tree import DecisionTreeClassifier\n",
    "from sklearn.model_selection import cross_val_score,StratifiedKFold\n",
    "from sklearn.ensemble import RandomForestClassifier,AdaBoostClassifier\n",
    "from sklearn.utils import resample\n",
    "from sklearn.metrics import roc_auc_score,roc_curve,f1_score,classification_report\n",
    "from sklearn.model_selection import train_test_split, GridSearchCV\n",
    "from sklearn.linear_model import LogisticRegression\n",
    "from main import read_xlsb"
   ],
   "metadata": {
    "collapsed": false,
    "pycharm": {
     "name": "#%%\n"
    }
   }
  },
  {
   "cell_type": "code",
   "execution_count": 91,
   "outputs": [],
   "source": [
    "\n",
    "# download data\n",
    "train_data_path = \"./data/Training.xlsb\"\n",
    "train_sheet_name = 'Training'  # Укажите имя листа, который хотите прочитать\n",
    "train_data = read_xlsb(train_data_path, train_sheet_name)\n",
    "\n",
    "test_data_path = \"./data/Test.xlsb\"\n",
    "test_sheet_name = 'Test'  # Укажите имя листа, который хотите прочитать\n",
    "test_data = read_xlsb(test_data_path, test_sheet_name)\n",
    "\n",
    "# создание train test dataframe\n",
    "train_data_copy = train_data.copy()\n",
    "test_data_copy = test_data.copy()\n",
    "X = train_data_copy.drop([\"MARKER\",\"ID\"],axis = 1)\n",
    "X_test = test_data_copy.drop([\"MARKER\",\"ID\"],axis = 1)\n",
    "y = train_data_copy['MARKER']\n",
    "y_test = test_data_copy['MARKER']\n",
    "\n",
    "#создание копий\n",
    "X_copy = X.copy()\n",
    "y_copy= y.copy()"
   ],
   "metadata": {
    "collapsed": false,
    "pycharm": {
     "name": "#%%\n"
    }
   }
  },
  {
   "cell_type": "code",
   "execution_count": 92,
   "outputs": [
    {
     "name": "stdout",
     "output_type": "stream",
     "text": [
      "            ID         A         B       C       D         E         F     G  \\\n",
      "0          1.0  0.198778  0.099389    0.00  799.90  1.777556  0.888778  13.0   \n",
      "1          2.0  0.043000  0.021264   49.97  173.03  0.384511  0.190143  13.0   \n",
      "2          3.0  0.067073  0.067073    0.00  329.90  0.599818  0.599818  13.0   \n",
      "3          4.0  0.052700  0.052700    0.00  235.65  0.471300  0.471300  13.0   \n",
      "4          5.0  0.141880  0.141880    0.00  634.45  1.268900  1.268900  13.0   \n",
      "...        ...       ...       ...     ...     ...       ...       ...   ...   \n",
      "89729  89730.0  0.027941  0.014844   25.00  474.00  0.557647  0.296250  20.0   \n",
      "89730  89731.0  0.120017  0.068581  179.96  720.03  1.200050  0.685743  10.0   \n",
      "89731  89732.0  0.153033  0.122427   29.01  550.99  0.459158  0.367327   3.0   \n",
      "89732  89733.0  0.107575  0.043030   53.82  215.18  0.537950  0.215180   5.0   \n",
      "89733  89734.0  0.095750  0.095750   57.48  172.42  0.287367  0.287367   3.0   \n",
      "\n",
      "          H      I  ...       P          Q    R          S    T    U    V  \\\n",
      "0      3.49  Woman  ...   2 Two   property   No      Works  Yes  Yes   No   \n",
      "1      3.49  Woman  ...   2 Two  otherwise   No      Works  Yes  Yes  Yes   \n",
      "2      3.49  Woman  ...   1 One   property   No  No couple   No  Yes   No   \n",
      "3      3.49  Woman  ...  0 Zero   property   No  No couple  Yes  Yes  Few   \n",
      "4      3.49  Woman  ...  0 Zero   property   No  No couple  Yes   No   No   \n",
      "...     ...    ...  ...     ...        ...  ...        ...  ...  ...  ...   \n",
      "89729  0.01    Man  ...  0 Zero   property   No      Works  Yes  Yes   No   \n",
      "89730  0.00  Woman  ...   2 Two   property   No      Works  Yes  Yes   No   \n",
      "89731  0.00    Man  ...  0 Zero  otherwise   No      Works  Yes  Yes   No   \n",
      "89732  0.00  Woman  ...   1 One   property  Yes      Works   No  Yes   No   \n",
      "89733  0.00    Man  ...  0 Zero  otherwise   No  No couple   No  Yes   No   \n",
      "\n",
      "         W    X MARKER  \n",
      "0      Yes   No    0.0  \n",
      "1      Yes   No    0.0  \n",
      "2      Yes   No    0.0  \n",
      "3      Yes   No    0.0  \n",
      "4       No   No    0.0  \n",
      "...    ...  ...    ...  \n",
      "89729   No  Yes    0.0  \n",
      "89730   No  Yes    0.0  \n",
      "89731  Yes  Yes    0.0  \n",
      "89732   No  Yes    0.0  \n",
      "89733   No  Yes    0.0  \n",
      "\n",
      "[89734 rows x 26 columns]\n"
     ]
    }
   ],
   "source": [
    "# удаление дублирующих строк\n",
    "train_data_copy = train_data_copy.drop_duplicates()\n",
    "print(train_data_copy)\n"
   ],
   "metadata": {
    "collapsed": false,
    "pycharm": {
     "name": "#%%\n"
    }
   }
  },
  {
   "cell_type": "code",
   "execution_count": 93,
   "outputs": [
    {
     "name": "stdout",
     "output_type": "stream",
     "text": [
      "            ID         A         B       C       D         E         F     G  \\\n",
      "0          1.0  0.198778  0.099389    0.00  799.90  1.777556  0.888778  13.0   \n",
      "1          2.0  0.043000  0.021264   49.97  173.03  0.384511  0.190143  13.0   \n",
      "2          3.0  0.067073  0.067073    0.00  329.90  0.599818  0.599818  13.0   \n",
      "3          4.0  0.052700  0.052700    0.00  235.65  0.471300  0.471300  13.0   \n",
      "4          5.0  0.141880  0.141880    0.00  634.45  1.268900  1.268900  13.0   \n",
      "...        ...       ...       ...     ...     ...       ...       ...   ...   \n",
      "89729  89730.0  0.027941  0.014844   25.00  474.00  0.557647  0.296250  20.0   \n",
      "89730  89731.0  0.120017  0.068581  179.96  720.03  1.200050  0.685743  10.0   \n",
      "89731  89732.0  0.153033  0.122427   29.01  550.99  0.459158  0.367327   3.0   \n",
      "89732  89733.0  0.107575  0.043030   53.82  215.18  0.537950  0.215180   5.0   \n",
      "89733  89734.0  0.095750  0.095750   57.48  172.42  0.287367  0.287367   3.0   \n",
      "\n",
      "          H  I  ...  P      Q  R      S  T  U      V  W  X  MARKER  \n",
      "0      3.49  1  ...  2  81457  0  47413  1  1  78462  1  0     0.0  \n",
      "1      3.49  1  ...  2   6679  0  47413  1  1  10561  1  0     0.0  \n",
      "2      3.49  1  ...  1  81457  0  26457  0  1  78462  1  0     0.0  \n",
      "3      3.49  1  ...  0  81457  0  26457  1  1    711  1  0     0.0  \n",
      "4      3.49  1  ...  0  81457  0  26457  1  0  78462  0  0     0.0  \n",
      "...     ... ..  ... ..    ... ..    ... .. ..    ... .. ..     ...  \n",
      "89729  0.01  0  ...  0  81457  0  47413  1  1  78462  0  1     0.0  \n",
      "89730  0.00  1  ...  2  81457  0  47413  1  1  78462  0  1     0.0  \n",
      "89731  0.00  0  ...  0   6679  0  47413  1  1  78462  1  1     0.0  \n",
      "89732  0.00  1  ...  1  81457  1  47413  0  1  78462  0  1     0.0  \n",
      "89733  0.00  0  ...  0   6679  0  26457  0  1  78462  0  1     0.0  \n",
      "\n",
      "[89734 rows x 26 columns]\n",
      "            ID         A         B       C        D         E         F     G  \\\n",
      "0          1.0  0.085400  0.085400   29.72   267.28  0.763657  0.763657  13.0   \n",
      "1          2.0  0.223218  0.111609    0.00  1097.90  1.996182  0.998091  13.0   \n",
      "2          3.0  0.048400  0.048400    0.00   399.90  0.499875  0.499875  13.0   \n",
      "3          4.0  0.039560  0.039560   19.59   176.93  0.353860  0.353860  13.0   \n",
      "4          5.0  0.231017  0.173263    0.00  1239.56  2.065933  1.549450  13.0   \n",
      "...        ...       ...       ...     ...      ...       ...       ...   ...   \n",
      "38400  38401.0  0.569320  0.237217   44.95   854.05  1.708100  0.711708   3.0   \n",
      "38401  38402.0  0.072727  0.072727   45.86   413.14  0.751164  0.751164  13.0   \n",
      "38402  38403.0  0.095750  0.095750   57.48   172.42  0.287367  0.287367   3.0   \n",
      "38403  38404.0  0.042287  0.042287  422.00  1266.00  0.844000  0.844000  20.0   \n",
      "38404  38405.0  0.169175  0.169175   17.82   338.38  0.845950  0.845950   5.0   \n",
      "\n",
      "          H  I  ...  P      Q  R      S  T  U      V  W  X  MARKER  \n",
      "0      3.49  1  ...  1  34820  0  11285  1  1  33661  0  0     0.0  \n",
      "1      3.49  1  ...  3  34820  0  20266  1  1  33661  0  0     1.0  \n",
      "2      1.99  0  ...  0  34820  0   4834  1  1  33661  0  0     0.0  \n",
      "3      3.49  0  ...  1  34820  0   4834  1  1   4446  1  0     0.0  \n",
      "4      3.49  1  ...  1  34820  0  20266  1  1  33661  0  0     0.0  \n",
      "...     ... ..  ... ..    ... ..    ... .. ..    ... .. ..     ...  \n",
      "38400  0.00  0  ...  0  34820  0  20266  1  0  33661  0  1     0.0  \n",
      "38401  1.99  1  ...  0  34820  0  11285  1  1  33661  0  1     0.0  \n",
      "38402  0.00  1  ...  0    745  1  11285  0  1  33661  1  1     0.0  \n",
      "38403  0.01  1  ...  1  34820  1  11285  1  1  33661  0  1     0.0  \n",
      "38404  0.00  0  ...  0  34820  0   4834  1  1  33661  0  1     0.0  \n",
      "\n",
      "[38405 rows x 26 columns]\n"
     ]
    }
   ],
   "source": [
    "# кодирование категориальных признаков\n",
    "def encode_categorical_features(df):\n",
    "    encoded_df = df.copy()\n",
    "\n",
    "    # Шаг 1: Выбор категориальных признаков\n",
    "    categorical_columns = df.select_dtypes(include=['object']).columns\n",
    "\n",
    "    # Шаг 2: Закодировать категориальные признаки\n",
    "    for column in categorical_columns:\n",
    "        unique_values = df[column].nunique()\n",
    "        if column == 'P':\n",
    "            # Отдельный метод для столбца 'P'\n",
    "            encoded_values = {\n",
    "                '0 Zero': 0,\n",
    "                '1 One': 1,\n",
    "                '2 Two': 2,\n",
    "                '3 Three': 3,\n",
    "                'More than 3': 4\n",
    "            }\n",
    "            encoded_df[column] = df[column].map(encoded_values)\n",
    "        elif unique_values <= 2:\n",
    "            # One-hot encoding для признаков с <= 2 уникальными значениями\n",
    "            encoder = LabelEncoder()\n",
    "            encoded_df[column] = encoder.fit_transform(df[column])\n",
    "        else:\n",
    "            # Count encoding для признаков с > 2 уникальными значениями\n",
    "            counter = df[column].value_counts().to_dict()\n",
    "            encoded_df[column] = df[column].map(counter)\n",
    "\n",
    "    return encoded_df\n",
    "\n",
    "\n",
    "train_data_copy[X.columns] = encode_categorical_features(train_data_copy[X.columns])\n",
    "print(train_data_copy)\n",
    "train_data_copy.to_csv('./data_proc/encoded_train_data.csv')\n",
    "\n",
    "test_data_copy[X_test.columns] = encode_categorical_features(test_data_copy[X_test.columns])\n",
    "print(test_data_copy)\n",
    "test_data_copy.to_csv('./data_proc/encoded_test_data.csv')"
   ],
   "metadata": {
    "collapsed": false,
    "pycharm": {
     "name": "#%%\n"
    }
   }
  },
  {
   "cell_type": "code",
   "execution_count": 94,
   "outputs": [
    {
     "name": "stdout",
     "output_type": "stream",
     "text": [
      "len train_data input 89734\n",
      "len train_data_cleaned 87350\n",
      "Deleted rows from class 0: 2366\n",
      "Deleted rows from class 1: 18\n",
      "            ID         A         B       C       D         E         F     G  \\\n",
      "0          1.0  0.198778  0.099389    0.00  799.90  1.777556  0.888778  13.0   \n",
      "1          2.0  0.043000  0.021264   49.97  173.03  0.384511  0.190143  13.0   \n",
      "2          3.0  0.067073  0.067073    0.00  329.90  0.599818  0.599818  13.0   \n",
      "3          4.0  0.052700  0.052700    0.00  235.65  0.471300  0.471300  13.0   \n",
      "4          5.0  0.141880  0.141880    0.00  634.45  1.268900  1.268900  13.0   \n",
      "...        ...       ...       ...     ...     ...       ...       ...   ...   \n",
      "89729  89730.0  0.027941  0.014844   25.00  474.00  0.557647  0.296250  20.0   \n",
      "89730  89731.0  0.120017  0.068581  179.96  720.03  1.200050  0.685743  10.0   \n",
      "89731  89732.0  0.153033  0.122427   29.01  550.99  0.459158  0.367327   3.0   \n",
      "89732  89733.0  0.107575  0.043030   53.82  215.18  0.537950  0.215180   5.0   \n",
      "89733  89734.0  0.095750  0.095750   57.48  172.42  0.287367  0.287367   3.0   \n",
      "\n",
      "          H  I  ...  P      Q  R      S  T  U      V  W  X  MARKER  \n",
      "0      3.49  1  ...  2  81457  0  47413  1  1  78462  1  0     0.0  \n",
      "1      3.49  1  ...  2   6679  0  47413  1  1  10561  1  0     0.0  \n",
      "2      3.49  1  ...  1  81457  0  26457  0  1  78462  1  0     0.0  \n",
      "3      3.49  1  ...  0  81457  0  26457  1  1    711  1  0     0.0  \n",
      "4      3.49  1  ...  0  81457  0  26457  1  0  78462  0  0     0.0  \n",
      "...     ... ..  ... ..    ... ..    ... .. ..    ... .. ..     ...  \n",
      "89729  0.01  0  ...  0  81457  0  47413  1  1  78462  0  1     0.0  \n",
      "89730  0.00  1  ...  2  81457  0  47413  1  1  78462  0  1     0.0  \n",
      "89731  0.00  0  ...  0   6679  0  47413  1  1  78462  1  1     0.0  \n",
      "89732  0.00  1  ...  1  81457  1  47413  0  1  78462  0  1     0.0  \n",
      "89733  0.00  0  ...  0   6679  0  26457  0  1  78462  0  1     0.0  \n",
      "\n",
      "[87350 rows x 26 columns]\n"
     ]
    }
   ],
   "source": [
    "def remove_outliers(train_data, num_columns_threshold=5, ignore_columns=[], remove_class_1_outliers=True):\n",
    "    print(\"len train_data input\", len(train_data))\n",
    "    # Выбираем только столбцы, которые не находятся в списке ignore_columns\n",
    "    columns_to_analyze = [col for col in train_data.columns if col not in ignore_columns]\n",
    "    df = train_data[columns_to_analyze]\n",
    "\n",
    "    # Подсчитываем Q1 и Q3 для каждого столбца\n",
    "    q1 = df.quantile(0.25)\n",
    "    q3 = df.quantile(0.75)\n",
    "\n",
    "    # Рассчитываем межквартильный размах (IQR)\n",
    "    iqr = q3 - q1\n",
    "\n",
    "    # Определяем границы интервала для удаления выбросов\n",
    "    lower_bound = q1 - 1.5 * iqr\n",
    "    upper_bound = q3 + 1.5 * iqr\n",
    "\n",
    "    # Создаем маску для определения строк с выбросами в каждом столбце\n",
    "    outliers_mask = ((df < lower_bound) | (df > upper_bound))\n",
    "\n",
    "    # Подсчитываем количество столбцов с выбросами в каждой строке\n",
    "    num_outliers = outliers_mask.sum(axis=1)\n",
    "\n",
    "    # Создаем маску для определения строк с выбросами в 5 и более столбцах\n",
    "    mask = (num_outliers >= num_columns_threshold)\n",
    "\n",
    "    # Удаляем строки с выбросами из train_data\n",
    "    if remove_class_1_outliers:\n",
    "        mask_to_remove = mask\n",
    "    else:\n",
    "        mask_to_remove = mask & (train_data['MARKER'] != 1)\n",
    "    train_data_cleaned = train_data[~mask_to_remove]\n",
    "\n",
    "    print(\"len train_data_cleaned\", len(train_data_cleaned))\n",
    "    # Подсчитываем количество удаленных строк для каждого класса\n",
    "    num_deleted_class_0 = len(train_data[train_data['MARKER'] == 0]) - len(train_data_cleaned[train_data_cleaned['MARKER'] == 0])\n",
    "    num_deleted_class_1 = len(train_data[train_data['MARKER'] == 1]) - len(train_data_cleaned[train_data_cleaned['MARKER'] == 1])\n",
    "    print(\"Deleted rows from class 0:\", num_deleted_class_0)\n",
    "    print(\"Deleted rows from class 1:\", num_deleted_class_1)\n",
    "\n",
    "    return train_data_cleaned\n",
    "\n",
    "# Пример использования функции с удалением строк из класса MARKER = 1\n",
    "train_data_copy = remove_outliers(train_data_copy, num_columns_threshold=5, ignore_columns=['ID', 'MARKER'], remove_class_1_outliers=True)\n",
    "print(train_data_copy)\n",
    "train_data_copy.to_csv('./data_proc/remove_outliers_train_data.csv')\n"
   ],
   "metadata": {
    "collapsed": false,
    "pycharm": {
     "name": "#%%\n"
    }
   }
  },
  {
   "cell_type": "code",
   "execution_count": 95,
   "outputs": [
    {
     "name": "stdout",
     "output_type": "stream",
     "text": [
      "            ID         A         B         C         D         E         F  \\\n",
      "0          1.0  0.260126 -0.096338 -0.851553  0.650218  1.024437  0.448462   \n",
      "1          2.0 -0.829576 -0.893296 -0.330364 -0.843031 -0.719023 -0.837314   \n",
      "2          3.0 -0.661182 -0.425997 -0.851553 -0.469356 -0.449556 -0.083343   \n",
      "3          4.0 -0.761722 -0.572614 -0.851553 -0.693866 -0.610402 -0.319869   \n",
      "4          5.0 -0.137887  0.337116 -0.851553  0.256104  0.387831  1.148043   \n",
      "...        ...       ...       ...       ...       ...       ...       ...   \n",
      "89729  89730.0 -0.934916 -0.958787 -0.590802 -0.126099 -0.502335 -0.642033   \n",
      "89730  89731.0 -0.290827 -0.410611  1.025437  0.459962  0.301662  0.074794   \n",
      "89731  89732.0 -0.059867  0.138671 -0.548978  0.057296 -0.625598 -0.511223   \n",
      "89732  89733.0 -0.377859 -0.671258 -0.290208 -0.742627 -0.526987 -0.791235   \n",
      "89733  89734.0 -0.460577 -0.133459 -0.252035 -0.844484 -0.840603 -0.658382   \n",
      "\n",
      "              G         H         I  ...         P         Q         R  \\\n",
      "0      1.099090  3.209027  0.913155  ...  1.390837  0.311910 -0.447115   \n",
      "1      1.099090  3.209027  0.913155  ...  1.390837 -3.158734 -0.447115   \n",
      "2      1.099090  3.209027  0.913155  ...  0.262842  0.311910 -0.447115   \n",
      "3      1.099090  3.209027  0.913155  ... -0.865154  0.311910 -0.447115   \n",
      "4      1.099090  3.209027  0.913155  ... -0.865154  0.311910 -0.447115   \n",
      "...         ...       ...       ...  ...       ...       ...       ...   \n",
      "89729  2.579008 -0.539453 -1.095105  ... -0.865154  0.311910 -0.447115   \n",
      "89730  0.464839 -0.550224  0.913155  ...  1.390837  0.311910 -0.447115   \n",
      "89731 -1.015080 -0.550224 -1.095105  ... -0.865154 -3.158734 -0.447115   \n",
      "89732 -0.592246 -0.550224  0.913155  ...  0.262842  0.311910  2.236560   \n",
      "89733 -1.015080 -0.550224 -1.095105  ... -0.865154 -3.158734 -0.447115   \n",
      "\n",
      "              S         T         U         V         W         X  MARKER  \n",
      "0      0.862514  0.427892  0.407722  0.372731  1.161248 -0.790758     0.0  \n",
      "1      0.862514  0.427892  0.407722 -2.651729  1.161248 -0.790758     0.0  \n",
      "2     -0.546098 -2.337040  0.407722  0.372731  1.161248 -0.790758     0.0  \n",
      "3     -0.546098  0.427892  0.407722 -3.090469  1.161248 -0.790758     0.0  \n",
      "4     -0.546098  0.427892 -2.452652  0.372731 -0.861142 -0.790758     0.0  \n",
      "...         ...       ...       ...       ...       ...       ...     ...  \n",
      "89729  0.862514  0.427892  0.407722  0.372731 -0.861142  1.264610     0.0  \n",
      "89730  0.862514  0.427892  0.407722  0.372731 -0.861142  1.264610     0.0  \n",
      "89731  0.862514  0.427892  0.407722  0.372731  1.161248  1.264610     0.0  \n",
      "89732  0.862514 -2.337040  0.407722  0.372731 -0.861142  1.264610     0.0  \n",
      "89733 -0.546098 -2.337040  0.407722  0.372731 -0.861142  1.264610     0.0  \n",
      "\n",
      "[87350 rows x 26 columns]\n",
      "            ID         A         B         C         D         E         F  \\\n",
      "0          1.0 -0.537304 -0.258903 -0.528232 -0.623304 -0.267175  0.131267   \n",
      "1          2.0  0.387210 -0.007078 -0.809791  1.204640  1.082230  0.507430   \n",
      "2          3.0 -0.785508 -0.614411 -0.809791 -0.331448 -0.555972 -0.291988   \n",
      "3          4.0 -0.844809 -0.699348 -0.624201 -0.822137 -0.715833 -0.526278   \n",
      "4          5.0  0.439524  0.585306 -0.809791  1.516391  1.158596  1.392120   \n",
      "...        ...       ...       ...       ...       ...       ...       ...   \n",
      "38400  38401.0  2.708937  1.199797 -0.383947  0.668000  0.766830  0.047912   \n",
      "38401  38402.0 -0.622316 -0.380667 -0.375326 -0.302310 -0.280853  0.111220   \n",
      "38402  38403.0 -0.467874 -0.159457 -0.265241 -0.832063 -0.788632 -0.632970   \n",
      "38403  38404.0 -0.826518 -0.673149  3.188120  1.574578 -0.179213  0.260182   \n",
      "38404  38405.0  0.024677  0.546032 -0.640969 -0.466835 -0.177078  0.263311   \n",
      "\n",
      "              G         H         I  ...         P         Q         R  \\\n",
      "0      1.058852  3.182894  0.924783  ...  0.259791  0.320749 -0.456454   \n",
      "1      1.058852  3.182894  0.924783  ...  2.509711  0.320749 -0.456454   \n",
      "2      1.058852  1.577155 -1.081334  ... -0.865169  0.320749 -0.456454   \n",
      "3      1.058852  3.182894 -1.081334  ...  0.259791  0.320749 -0.456454   \n",
      "4      1.058852  3.182894  0.924783  ...  0.259791  0.320749 -0.456454   \n",
      "...         ...       ...       ...  ...       ...       ...       ...   \n",
      "38400 -1.023521 -0.553125 -1.081334  ... -0.865169  0.320749 -0.456454   \n",
      "38401  1.058852  1.577155  0.924783  ... -0.865169  0.320749 -0.456454   \n",
      "38402 -1.023521 -0.553125  0.924783  ... -0.865169 -3.291263  2.190801   \n",
      "38403  2.516513 -0.542420  0.924783  ...  0.259791  0.320749  2.190801   \n",
      "38404 -0.607047 -0.553125 -1.081334  ... -0.865169  0.320749 -0.456454   \n",
      "\n",
      "              S         T         U         V         W         X  MARKER  \n",
      "0     -0.539709  0.440791  0.413165  0.375163 -0.863712 -0.789346     0.0  \n",
      "1      0.870528  0.440791  0.413165  0.375163 -0.863712 -0.789346     1.0  \n",
      "2     -1.552675  0.440791  0.413165  0.375163 -0.863712 -0.789346     0.0  \n",
      "3     -1.552675  0.440791  0.413165 -2.635118  1.157793 -0.789346     0.0  \n",
      "4      0.870528  0.440791  0.413165  0.375163 -0.863712 -0.789346     0.0  \n",
      "...         ...       ...       ...       ...       ...       ...     ...  \n",
      "38400  0.870528  0.440791 -2.420338  0.375163 -0.863712  1.266872     0.0  \n",
      "38401 -0.539709  0.440791  0.413165  0.375163 -0.863712  1.266872     0.0  \n",
      "38402 -0.539709 -2.268649  0.413165  0.375163  1.157793  1.266872     0.0  \n",
      "38403 -0.539709  0.440791  0.413165  0.375163 -0.863712  1.266872     0.0  \n",
      "38404 -1.552675  0.440791  0.413165  0.375163 -0.863712  1.266872     0.0  \n",
      "\n",
      "[38405 rows x 26 columns]\n"
     ]
    }
   ],
   "source": [
    "# масштабирование с выбором способа\n",
    "def scale_dataframe(df, ignore_columns=[], scaler_type='robust'):\n",
    "    columns_to_scale = [col for col in df.columns if col not in ignore_columns]\n",
    "\n",
    "    if scaler_type == 'standard':\n",
    "        scaler = StandardScaler()\n",
    "    elif scaler_type == 'robust':\n",
    "        scaler = RobustScaler()\n",
    "    else:\n",
    "        raise ValueError(\"Invalid scaler_type. Use 'standard' or 'robust'.\")\n",
    "\n",
    "    scaled_data = scaler.fit_transform(df[columns_to_scale])\n",
    "\n",
    "    # Обновляем значения в столбцах, которые нужно масштабировать\n",
    "    df.loc[:, columns_to_scale] = scaled_data\n",
    "    return df\n",
    "\n",
    "# Пример использования с разными способами масштабирования\n",
    "train_data_copy = scale_dataframe(train_data_copy,ignore_columns=['ID', 'MARKER'],scaler_type= \"standard\")\n",
    "print(train_data_copy)\n",
    "train_data_copy.to_csv('./data_proc/prepar_train_data.csv')\n",
    "\n",
    "test_data_copy = scale_dataframe(test_data_copy,ignore_columns=['ID', 'MARKER'],scaler_type= \"standard\")\n",
    "print(test_data_copy)\n",
    "test_data_copy.to_csv('./data_proc/prepar_test_data.csv')\n"
   ],
   "metadata": {
    "collapsed": false,
    "pycharm": {
     "name": "#%%\n"
    }
   }
  },
  {
   "cell_type": "code",
   "execution_count": 96,
   "outputs": [
    {
     "name": "stdout",
     "output_type": "stream",
     "text": [
      "Index(['ID', 'A', 'B', 'C', 'D', 'E', 'F', 'G', 'H', 'I', 'J', 'K', 'L', 'M',\n",
      "       'N', 'O', 'P', 'R', 'S', 'T', 'W', 'X', 'MARKER'],\n",
      "      dtype='object') 23\n",
      "Index(['ID', 'A', 'C', 'D', 'E', 'G', 'H', 'I', 'J', 'K', 'L', 'M', 'N', 'O',\n",
      "       'P', 'R', 'S', 'T', 'W', 'X', 'MARKER'],\n",
      "      dtype='object') 21\n",
      "Index(['ID', 'C', 'D', 'E', 'G', 'H', 'I', 'J', 'L', 'M', 'N', 'O', 'R', 'S',\n",
      "       'W', 'X', 'MARKER'],\n",
      "      dtype='object') 17\n"
     ]
    },
    {
     "name": "stderr",
     "output_type": "stream",
     "text": [
      "D:\\PycharmProjects\\innowise\\venv\\lib\\site-packages\\sklearn\\feature_selection\\_univariate_selection.py:113: RuntimeWarning: divide by zero encountered in divide\n",
      "  f = msb / msw\n"
     ]
    }
   ],
   "source": [
    "# общий отбор признаков\n",
    "# Функция для удаления признаков с малым разнообразием значений\n",
    "def remove_low_variance_features(df, threshold=0.95, ignore_columns=[]):\n",
    "    num_rows = len(df)\n",
    "    columns_to_check = [col for col in df.columns if col not in ignore_columns]\n",
    "    low_variance_columns = [col for col in columns_to_check if (df[col].value_counts() / num_rows).max() > threshold]\n",
    "    df_filtered = df.drop(columns=low_variance_columns)\n",
    "    return df_filtered\n",
    "\n",
    "# Функция для удаления признаков с высокой корреляцией между собой\n",
    "def remove_high_correlation_features(df, y_df, threshold=0.8, ignore_columns=['ID', 'MARKER']):\n",
    "    corr_matrix = df.corr()  # Вычисляет матрицу корреляции для всех столбцов в df\n",
    "    to_drop = []  # Создает пустой список, в который будут добавляться столбцы для удаления\n",
    "\n",
    "    for column in corr_matrix.columns:  # Проходит по каждому столбцу матрицы корреляции\n",
    "        if column in ignore_columns:\n",
    "            continue  # Пропускает столбцы, указанные в ignore_columns\n",
    "\n",
    "        correlated_columns = corr_matrix.index[corr_matrix[column] > threshold].tolist()  # Находит список столбцов, которые сильно коррелируют с текущим столбцом\n",
    "        if correlated_columns:  # Если список сильно коррелирующих столбцов не пустой\n",
    "            max_corr_with_target = max(correlated_columns, key=lambda col: abs(df[column].corr(y_df)))\n",
    "            # Находит столбец с максимальной абсолютной корреляцией с целевым признаком y_df\n",
    "\n",
    "            if column != max_corr_with_target and max_corr_with_target not in ignore_columns:  # Добавляем проверку, чтобы игнорировать столбцы из ignore_columns\n",
    "                to_drop.append(column)  # Добавляет текущий столбец в список для удаления\n",
    "\n",
    "    df_filtered = df.drop(columns=to_drop)  # Удаляет столбцы из списка to_drop из исходного dataframe df\n",
    "    return df_filtered  # Возвращает новый dataframe с удаленными столбцами\n",
    "\n",
    "\n",
    "#Univariate feature selection\n",
    "\n",
    "def select_features_roc_auc(X, y, k=17, ignore_columns=['ID', 'MARKER']):\n",
    "    selector = SelectKBest(score_func=f_classif, k=k)\n",
    "    X_new = selector.fit_transform(X, y)\n",
    "    selected_features = X.columns[selector.get_support()]\n",
    "\n",
    "    X_new_df = pd.DataFrame(X_new, columns=selected_features, index=X.index)\n",
    "\n",
    "    for col in ignore_columns:\n",
    "        X_new_df[col] = X[col]\n",
    "    return X_new_df, selected_features\n",
    "\n",
    "\n",
    "\n",
    "train_data_copy = remove_low_variance_features(train_data_copy,threshold=0.85, ignore_columns=['ID', 'MARKER'])\n",
    "print(train_data_copy.columns,len(train_data_copy.columns))\n",
    "\n",
    "train_data_copy = remove_high_correlation_features(train_data_copy,y_copy,threshold=0.75,ignore_columns=['ID', 'MARKER'])\n",
    "print(train_data_copy.columns,len(train_data_copy.columns))\n",
    "\n",
    "train_data_copy,important_columns = select_features_roc_auc(train_data_copy, train_data_copy[\"MARKER\"], k=17)\n",
    "print(train_data_copy.columns,len(train_data_copy.columns))\n",
    "\n"
   ],
   "metadata": {
    "collapsed": false,
    "pycharm": {
     "name": "#%%\n"
    }
   }
  },
  {
   "cell_type": "code",
   "execution_count": 97,
   "outputs": [
    {
     "data": {
      "text/plain": "'\\n# Примените функцию для создания новой таблицы с балансированными классами\\ntrain_data_copy = perform_random_oversampling(train_data_copy, target_column_name=\"MARKER\")\\nprint(train_data_copy)\\ntrain_data_copy.to_csv(\"random_oversampling.csv\")\\n'"
     },
     "execution_count": 97,
     "metadata": {},
     "output_type": "execute_result"
    }
   ],
   "source": [
    "# Oversampling\n",
    "\n",
    "def perform_random_oversampling(df, target_column_name):\n",
    "    # Выделите признаки и целевую переменную\n",
    "    \"\"\"\n",
    "    X = df.drop(columns=[target_column_name])\n",
    "    y = df[target_column_name]\n",
    "    \"\"\"\n",
    "    # Разделим данные по значениям целевой переменной\n",
    "    df_majority = df[df[target_column_name] == 0]\n",
    "    df_minority = df[df[target_column_name] == 1]\n",
    "\n",
    "    # Применим Random Over-sampling к классу с меньшим количеством записей\n",
    "    df_minority_upsampled = resample(df_minority, replace=True, n_samples=len(df_majority), random_state=42)\n",
    "\n",
    "    # Объединим балансированные классы\n",
    "    balanced_df = pd.concat([df_majority, df_minority_upsampled])\n",
    "\n",
    "    return balanced_df\n",
    "\n",
    "\"\"\"\n",
    "# Примените функцию для создания новой таблицы с балансированными классами\n",
    "train_data_copy = perform_random_oversampling(train_data_copy, target_column_name=\"MARKER\")\n",
    "print(train_data_copy)\n",
    "train_data_copy.to_csv(\"random_oversampling.csv\")\n",
    "\"\"\""
   ],
   "metadata": {
    "collapsed": false,
    "pycharm": {
     "name": "#%%\n"
    }
   }
  },
  {
   "cell_type": "code",
   "execution_count": 98,
   "outputs": [
    {
     "data": {
      "text/plain": "'\\nfinal_model, coefficients = build_logistic_regression_model(train_data_copy, target_column_name=\"MARKER\")\\nprint(\"Selected Features:\", coefficients)\\n\\n# Получите список выбранных признаков\\nselected_features = coefficients[\\'Feature\\'].tolist()\\n\\n# Используйте разные значения порога вероятности и смотрите, как изменяются метрики\\nthreshold = 0.965  # Пример значения порога\\ntest_predictions, test_f1_score, test_roc_auc = evaluate_with_threshold(final_model, test_data_copy, target_column_name=\"MARKER\", selected_features=selected_features, threshold=threshold)\\nprint(\"Test Predictions:\", test_predictions)\\nprint(\"Test F1 Score (Threshold={}):\".format(threshold), test_f1_score)\\nprint(\"Test ROC AUC Score (Threshold={}):\".format(threshold), test_roc_auc)\\n'"
     },
     "execution_count": 98,
     "metadata": {},
     "output_type": "execute_result"
    }
   ],
   "source": [
    "# логистическая регрессия 3\n",
    "def build_logistic_regression_model(df, target_column_name):\n",
    "    # Выделите признаки и целевую переменную\n",
    "    X = df.drop(columns=['ID', target_column_name])\n",
    "    y = df[target_column_name]\n",
    "\n",
    "    # Разделите данные на обучающий и тестовый наборы\n",
    "    X_train, X_test, y_train, y_test = train_test_split(X, y, test_size=0.2, random_state=42)\n",
    "\n",
    "    # Определите параметры для перебора\n",
    "    param_grid = {\n",
    "        'penalty': ['l1', 'l2'],  # Перебор L1 и L2 регуляризации\n",
    "        'C': np.logspace(-4, 4, 30)  # Перебор параметра регуляризации C\n",
    "    }\n",
    "\n",
    "    # Создайте модель логистической регрессии\n",
    "    logreg = LogisticRegression(solver='liblinear', class_weight='balanced')\n",
    "\n",
    "    # Создайте объект GridSearchCV для перебора параметров\n",
    "    #grid_search = GridSearchCV(logreg, param_grid, cv=5, scoring='f1')\n",
    "    grid_search = GridSearchCV(logreg, param_grid, cv=5, scoring='roc_auc')\n",
    "\n",
    "    # Выполните поиск по сетке на обучающем наборе\n",
    "    grid_search.fit(X_train, y_train)\n",
    "\n",
    "    # Получите наилучшие параметры и значение метрики F1-score\n",
    "    best_params = grid_search.best_params_\n",
    "    best_score = grid_search.best_score_\n",
    "    print(\"Best Parameters:\", best_params)\n",
    "    print(\"Best F1 Score:\", best_score)\n",
    "\n",
    "    # Получите наилучшую модель\n",
    "    best_model = grid_search.best_estimator_\n",
    "\n",
    "    # Обучите модель на выбранных наиболее важных признаках\n",
    "    coefficients = best_model.coef_[0]\n",
    "    feature_names = X.columns\n",
    "    coefficients_df = pd.DataFrame({'Feature': feature_names, 'Coefficient': coefficients})\n",
    "\n",
    "    # Отберите 10 наиболее важных признаков\n",
    "    top_features = coefficients_df.iloc[np.abs(coefficients_df['Coefficient']).nlargest(10).index]\n",
    "    selected_features = top_features['Feature'].tolist()\n",
    "    X_train_selected = X_train[selected_features]\n",
    "    X_test_selected = X_test[selected_features]\n",
    "\n",
    "    # Обучение модели на выбранных признаках\n",
    "    best_model.fit(X_train_selected, y_train)\n",
    "\n",
    "    # Предсказания для тестового набора\n",
    "    y_pred = best_model.predict(X_test_selected)\n",
    "\n",
    "    # Вычислите метрику F1-score на тестовом наборе\n",
    "    test_f1_score = f1_score(y_test, y_pred)\n",
    "    print(\"Test F1 Score:\", test_f1_score)\n",
    "\n",
    "    return best_model, top_features\n",
    "\n",
    "\n",
    "def evaluate_with_threshold(model, test_data, target_column_name, selected_features, threshold=0.5):\n",
    "    # Выделите признаки из test данных\n",
    "    test_X = test_data[selected_features]\n",
    "\n",
    "    # Получите вероятности для класса 1\n",
    "    test_probabilities = model.predict_proba(test_X)[:, 1]\n",
    "\n",
    "    # Примените порог вероятности для получения предсказаний (0 или 1)\n",
    "    test_predictions = (test_probabilities > threshold).astype(int)\n",
    "\n",
    "    # Создайте DataFrame с предсказанными значениями\n",
    "    predictions_df = pd.DataFrame({'Prediction': test_predictions})\n",
    "\n",
    "    # Запишите DataFrame в CSV-файл\n",
    "    predictions_df.to_csv(\"predictions.csv\", index=False)\n",
    "\n",
    "    target_data = test_data[target_column_name]\n",
    "\n",
    "    # Вычислим метрику F1-score на test данных\n",
    "    test_f1 = f1_score(target_data, test_predictions)\n",
    "\n",
    "    # Вычислим метрику ROC AUC на test данных\n",
    "    test_roc_auc = roc_auc_score(target_data, test_probabilities)\n",
    "\n",
    "    return test_predictions, test_f1, test_roc_auc\n",
    "\n",
    "\"\"\"\n",
    "final_model, coefficients = build_logistic_regression_model(train_data_copy, target_column_name=\"MARKER\")\n",
    "print(\"Selected Features:\", coefficients)\n",
    "\n",
    "# Получите список выбранных признаков\n",
    "selected_features = coefficients['Feature'].tolist()\n",
    "\n",
    "# Используйте разные значения порога вероятности и смотрите, как изменяются метрики\n",
    "threshold = 0.965  # Пример значения порога\n",
    "test_predictions, test_f1_score, test_roc_auc = evaluate_with_threshold(final_model, test_data_copy, target_column_name=\"MARKER\", selected_features=selected_features, threshold=threshold)\n",
    "print(\"Test Predictions:\", test_predictions)\n",
    "print(\"Test F1 Score (Threshold={}):\".format(threshold), test_f1_score)\n",
    "print(\"Test ROC AUC Score (Threshold={}):\".format(threshold), test_roc_auc)\n",
    "\"\"\""
   ],
   "metadata": {
    "collapsed": false,
    "pycharm": {
     "name": "#%%\n"
    }
   }
  },
  {
   "cell_type": "code",
   "execution_count": 120,
   "outputs": [
    {
     "name": "stdout",
     "output_type": "stream",
     "text": [
      "генетический\n"
     ]
    },
    {
     "name": "stderr",
     "output_type": "stream",
     "text": [
      "[I 2023-08-31 14:50:11,222] A new study created in memory with name: no-name-bacaec72-bbeb-412d-aaac-36eea961e2e1\n"
     ]
    },
    {
     "name": "stdout",
     "output_type": "stream",
     "text": [
      "Selected Features: ['C', 'D', 'H', 'I', 'L', 'M', 'N', 'O', 'R', 'W', 'X']\n"
     ]
    },
    {
     "name": "stderr",
     "output_type": "stream",
     "text": [
      "C:\\Users\\User\\AppData\\Local\\Temp\\ipykernel_19036\\1389998446.py:7: FutureWarning: suggest_loguniform has been deprecated in v3.0.0. This feature will be removed in v6.0.0. See https://github.com/optuna/optuna/releases/tag/v3.0.0. Use suggest_float(..., log=True) instead.\n",
      "  'C': trial.suggest_loguniform('C', 1e-6, 1e4)\n",
      "[I 2023-08-31 14:50:11,721] Trial 0 finished with value: 0.877762575628666 and parameters: {'penalty': 'l2', 'C': 0.005730179188424393}. Best is trial 0 with value: 0.877762575628666.\n",
      "C:\\Users\\User\\AppData\\Local\\Temp\\ipykernel_19036\\1389998446.py:7: FutureWarning: suggest_loguniform has been deprecated in v3.0.0. This feature will be removed in v6.0.0. See https://github.com/optuna/optuna/releases/tag/v3.0.0. Use suggest_float(..., log=True) instead.\n",
      "  'C': trial.suggest_loguniform('C', 1e-6, 1e4)\n",
      "[I 2023-08-31 14:50:12,208] Trial 1 finished with value: 0.8775748329277601 and parameters: {'penalty': 'l2', 'C': 9.011477803009392}. Best is trial 0 with value: 0.877762575628666.\n",
      "C:\\Users\\User\\AppData\\Local\\Temp\\ipykernel_19036\\1389998446.py:7: FutureWarning: suggest_loguniform has been deprecated in v3.0.0. This feature will be removed in v6.0.0. See https://github.com/optuna/optuna/releases/tag/v3.0.0. Use suggest_float(..., log=True) instead.\n",
      "  'C': trial.suggest_loguniform('C', 1e-6, 1e4)\n",
      "[I 2023-08-31 14:50:12,761] Trial 2 finished with value: 0.8775739462565291 and parameters: {'penalty': 'l1', 'C': 10.280400969296027}. Best is trial 0 with value: 0.877762575628666.\n",
      "C:\\Users\\User\\AppData\\Local\\Temp\\ipykernel_19036\\1389998446.py:7: FutureWarning: suggest_loguniform has been deprecated in v3.0.0. This feature will be removed in v6.0.0. See https://github.com/optuna/optuna/releases/tag/v3.0.0. Use suggest_float(..., log=True) instead.\n",
      "  'C': trial.suggest_loguniform('C', 1e-6, 1e4)\n",
      "[I 2023-08-31 14:50:13,216] Trial 3 finished with value: 0.8780893326398413 and parameters: {'penalty': 'l2', 'C': 0.0014458888697102407}. Best is trial 3 with value: 0.8780893326398413.\n",
      "C:\\Users\\User\\AppData\\Local\\Temp\\ipykernel_19036\\1389998446.py:7: FutureWarning: suggest_loguniform has been deprecated in v3.0.0. This feature will be removed in v6.0.0. See https://github.com/optuna/optuna/releases/tag/v3.0.0. Use suggest_float(..., log=True) instead.\n",
      "  'C': trial.suggest_loguniform('C', 1e-6, 1e4)\n",
      "[I 2023-08-31 14:50:13,768] Trial 4 finished with value: 0.8775751864954794 and parameters: {'penalty': 'l1', 'C': 16.84947379987321}. Best is trial 3 with value: 0.8780893326398413.\n",
      "C:\\Users\\User\\AppData\\Local\\Temp\\ipykernel_19036\\1389998446.py:7: FutureWarning: suggest_loguniform has been deprecated in v3.0.0. This feature will be removed in v6.0.0. See https://github.com/optuna/optuna/releases/tag/v3.0.0. Use suggest_float(..., log=True) instead.\n",
      "  'C': trial.suggest_loguniform('C', 1e-6, 1e4)\n",
      "[I 2023-08-31 14:50:14,276] Trial 5 finished with value: 0.8775750097116196 and parameters: {'penalty': 'l2', 'C': 6.678653548752615}. Best is trial 3 with value: 0.8780893326398413.\n",
      "C:\\Users\\User\\AppData\\Local\\Temp\\ipykernel_19036\\1389998446.py:7: FutureWarning: suggest_loguniform has been deprecated in v3.0.0. This feature will be removed in v6.0.0. See https://github.com/optuna/optuna/releases/tag/v3.0.0. Use suggest_float(..., log=True) instead.\n",
      "  'C': trial.suggest_loguniform('C', 1e-6, 1e4)\n",
      "[I 2023-08-31 14:50:14,942] Trial 6 finished with value: 0.8775815919934153 and parameters: {'penalty': 'l1', 'C': 0.3885593689662973}. Best is trial 3 with value: 0.8780893326398413.\n",
      "C:\\Users\\User\\AppData\\Local\\Temp\\ipykernel_19036\\1389998446.py:7: FutureWarning: suggest_loguniform has been deprecated in v3.0.0. This feature will be removed in v6.0.0. See https://github.com/optuna/optuna/releases/tag/v3.0.0. Use suggest_float(..., log=True) instead.\n",
      "  'C': trial.suggest_loguniform('C', 1e-6, 1e4)\n",
      "[I 2023-08-31 14:50:15,417] Trial 7 finished with value: 0.8782862382751706 and parameters: {'penalty': 'l2', 'C': 0.0004825249810548395}. Best is trial 7 with value: 0.8782862382751706.\n",
      "C:\\Users\\User\\AppData\\Local\\Temp\\ipykernel_19036\\1389998446.py:7: FutureWarning: suggest_loguniform has been deprecated in v3.0.0. This feature will be removed in v6.0.0. See https://github.com/optuna/optuna/releases/tag/v3.0.0. Use suggest_float(..., log=True) instead.\n",
      "  'C': trial.suggest_loguniform('C', 1e-6, 1e4)\n",
      "[I 2023-08-31 14:50:15,924] Trial 8 finished with value: 0.8775748301758274 and parameters: {'penalty': 'l2', 'C': 368.086859806469}. Best is trial 7 with value: 0.8782862382751706.\n",
      "C:\\Users\\User\\AppData\\Local\\Temp\\ipykernel_19036\\1389998446.py:7: FutureWarning: suggest_loguniform has been deprecated in v3.0.0. This feature will be removed in v6.0.0. See https://github.com/optuna/optuna/releases/tag/v3.0.0. Use suggest_float(..., log=True) instead.\n",
      "  'C': trial.suggest_loguniform('C', 1e-6, 1e4)\n",
      "[I 2023-08-31 14:50:16,508] Trial 9 finished with value: 0.8775742998242485 and parameters: {'penalty': 'l1', 'C': 8.870779870435156}. Best is trial 7 with value: 0.8782862382751706.\n"
     ]
    },
    {
     "name": "stdout",
     "output_type": "stream",
     "text": [
      "Best Hyperparameters: {'penalty': 'l2', 'C': 0.0004825249810548395}\n",
      "Test Predictions: [1 1 1 ... 0 0 0]\n",
      "Test F1 Score: 0.03060282284659016\n",
      "Test ROC AUC Score: 0.8748436664736777\n"
     ]
    }
   ],
   "source": [
    "# универсальный алгоритм\n",
    "def optimize_hyperparameters(X, y, model_type):\n",
    "    def objective(trial):\n",
    "        if model_type == 'logistic_regression':\n",
    "            param_grid = {\n",
    "                'penalty': trial.suggest_categorical('penalty', ['l1', 'l2']),\n",
    "                'C': trial.suggest_loguniform('C', 1e-6, 1e4)\n",
    "            }\n",
    "        # Другие модели и гиперпараметры\n",
    "        # ...\n",
    "\n",
    "        model = LogisticRegression(solver='liblinear', class_weight='balanced', **param_grid)\n",
    "        scores = cross_val_score(model, X, y, cv=5, scoring='roc_auc', n_jobs=2)\n",
    "        return np.mean(scores)\n",
    "\n",
    "    study = optuna.create_study(direction='maximize')\n",
    "    study.optimize(objective, n_trials=10)\n",
    "    best_params = study.best_params\n",
    "    return best_params\n",
    "\n",
    "def train_model(X_train, y_train, model_type, hyperparameters=None):\n",
    "    if model_type == 'logistic_regression':\n",
    "        if hyperparameters is None:\n",
    "            model = LogisticRegression(solver='liblinear', class_weight='balanced')\n",
    "        else:\n",
    "            model = LogisticRegression(solver='liblinear', class_weight='balanced', **hyperparameters)\n",
    "    # Другие модели и параметры\n",
    "    # ...\n",
    "\n",
    "    model.fit(X_train, y_train)\n",
    "    return model\n",
    "\n",
    "def evaluate_model(model, X_test, y_test):\n",
    "    y_pred_prob = model.predict_proba(X_test)[:, 1]\n",
    "    fpr, tpr, thresholds = roc_curve(y_test, y_pred_prob)\n",
    "    optimal_threshold_index = np.argmax(tpr - fpr)\n",
    "    optimal_threshold = thresholds[optimal_threshold_index]\n",
    "    y_pred = (y_pred_prob > optimal_threshold).astype(int)\n",
    "\n",
    "    f1 = f1_score(y_test, y_pred)\n",
    "    roc_auc = roc_auc_score(y_test, y_pred_prob)\n",
    "\n",
    "    return y_pred, f1, roc_auc\n",
    "\n",
    "\n",
    "def fitness_score(model_type, X_train, y_train, selected_features):\n",
    "    model = train_model(X_train[selected_features], y_train, model_type)\n",
    "    y_pred, _, _ = evaluate_model(model, X_train[selected_features], y_train)\n",
    "    return roc_auc_score(y_train, y_pred)\n",
    "\n",
    "def mutate(selected_features, mutation_rate):\n",
    "    mutated_features = selected_features.copy()\n",
    "    for i in range(len(mutated_features)):\n",
    "        if random.random() < mutation_rate:\n",
    "            mutated_features[i] = random.randint(0, 1)  # 1 or 0 with equal probability\n",
    "    return mutated_features\n",
    "\n",
    "\n",
    "def genetic_algorithm(X_train, y_train, model_type,num_gener,popul_size,mutation_rate):\n",
    "    num_features = X_train.shape[1]\n",
    "    column_names = X_train.columns\n",
    "\n",
    "    population = [random.choices([0, 1], k=num_features) for _ in range(popul_size)]\n",
    "\n",
    "    for generation in range(num_gener):\n",
    "        scores = []\n",
    "        for selected_features in population:\n",
    "            selected_column_names = [column_names[i] for i, select in enumerate(selected_features) if select == 1]\n",
    "            score = fitness_score(model_type, X_train, y_train, selected_column_names)\n",
    "            scores.append((selected_features, score))\n",
    "\n",
    "        scores.sort(key=lambda x: x[1], reverse=True)\n",
    "        elite = scores[:num_features // 2]\n",
    "\n",
    "        new_population = [selected_features for selected_features, _ in elite]\n",
    "        while len(new_population) < num_features:\n",
    "            parent1, parent2 = elite[0][0], elite[1][0]  # Use the top 2 parents\n",
    "            child = [parent1[i] if random.random() < 0.5 else parent2[i] for i in range(num_features)]\n",
    "            child = mutate(child, mutation_rate)\n",
    "            new_population.append(child)\n",
    "\n",
    "        population = new_population\n",
    "\n",
    "    best_features = max(scores, key=lambda x: x[1])[0]\n",
    "    return best_features\n",
    "\n",
    "\n",
    "def run_experiment_with_genetic_algorithm(train_data, test_data, target_column_name, model_type, use_gen_alg=False, num_gener=10, popul_size=20,select_feature = False,num_features= False, mutat_rate=0.1, hyp_optimize=True):\n",
    "    X_train = train_data.drop(columns=['ID', target_column_name])\n",
    "    y_train = train_data[target_column_name]\n",
    "\n",
    "    if select_feature is False:\n",
    "        best_features = list(X_train.columns)  # Use all features\n",
    "    else:\n",
    "        if use_gen_alg and not num_features:\n",
    "            print(\"генетический\")\n",
    "            best_feature_indices = genetic_algorithm(X_train, y_train, model_type, num_gener, popul_size, mutat_rate)\n",
    "            best_features = [X_train.columns[i] for i, select in enumerate(best_feature_indices) if select == 1]\n",
    "        else:\n",
    "            if model_type == 'logistic_regression' and num_features:\n",
    "                print(\"встроенный\")\n",
    "                # Use top N features based on coefficients if not optimizing hyperparameters\n",
    "                model = train_model(X_train, y_train, model_type)\n",
    "                coef_abs = np.abs(model.coef_[0])\n",
    "                best_features_idx = np.argsort(coef_abs)[-num_features:]\n",
    "                best_features = list(X_train.columns[best_features_idx])\n",
    "\n",
    "    print(\"Selected Features:\", best_features)\n",
    "\n",
    "    X_train_selected = X_train[best_features]\n",
    "    X_test_selected = test_data.drop(columns=['ID', target_column_name])[best_features]\n",
    "\n",
    "    if hyp_optimize:\n",
    "        best_hyperparameters = optimize_hyperparameters(X_train_selected, y_train, model_type)\n",
    "        print(\"Best Hyperparameters:\", best_hyperparameters)\n",
    "    else:\n",
    "        best_hyperparameters = None\n",
    "\n",
    "    model = train_model(X_train_selected, y_train, model_type, best_hyperparameters)\n",
    "\n",
    "    y_pred, f1, roc_auc = evaluate_model(model, X_test_selected, test_data[target_column_name])\n",
    "    print(\"Test Predictions:\", y_pred)\n",
    "    print(\"Test F1 Score:\", f1)\n",
    "    print(\"Test ROC AUC Score:\", roc_auc)\n",
    "\n",
    "\n",
    "# Использование функции с генетическим алгоритмом и оптимизацией гиперпараметров\n",
    "run_experiment_with_genetic_algorithm(train_data_copy, test_data_copy, 'MARKER', 'logistic_regression',use_gen_alg = True, num_gener=100, popul_size=10, select_feature = True,num_features=False, mutat_rate=0.1, hyp_optimize=True)\n",
    "\n",
    "\n",
    "\n",
    "\n"
   ],
   "metadata": {
    "collapsed": false,
    "pycharm": {
     "name": "#%%\n"
    }
   }
  },
  {
   "cell_type": "code",
   "execution_count": 100,
   "outputs": [],
   "source": [
    "# случайный лес 2\n",
    "def objective(trial, X, y):\n",
    "    n_estimators = trial.suggest_int('n_estimators', 50, 750, step=100)\n",
    "    max_depth = trial.suggest_int('max_depth', 3, 25)\n",
    "    min_samples_split = trial.suggest_float('min_samples_split', 0.05, 1.0)\n",
    "    min_samples_leaf = trial.suggest_float('min_samples_leaf', 0.05, 0.5)\n",
    "\n",
    "    model = RandomForestClassifier(\n",
    "        n_estimators=n_estimators,\n",
    "        max_depth=max_depth,\n",
    "        min_samples_split=min_samples_split,\n",
    "        min_samples_leaf=min_samples_leaf,\n",
    "        class_weight='balanced',\n",
    "        random_state=42\n",
    "    )\n",
    "\n",
    "    skf = StratifiedKFold(n_splits=5, shuffle=True, random_state=42)\n",
    "    scores = cross_val_score(model, X, y, cv=skf, scoring='roc_auc')\n",
    "    average_score = scores.mean()\n",
    "\n",
    "    return average_score\n",
    "\n",
    "def build_and_predict_random_forest(train_data, test_data, target_column_name, selected_features):\n",
    "    # Выделите признаки и целевую переменную\n",
    "    X_train = train_data[selected_features]\n",
    "    y_train = train_data[target_column_name]\n",
    "    X_test = test_data[selected_features]\n",
    "    y_test = test_data[target_column_name]\n",
    "\n",
    "    # Подбор гиперпараметров\n",
    "    study = optuna.create_study(direction='maximize')\n",
    "    study.optimize(lambda trial: objective(trial, X_train, y_train), n_trials=40)\n",
    "\n",
    "    best_params = study.best_params\n",
    "    best_n_estimators = best_params['n_estimators']\n",
    "    best_max_depth = best_params['max_depth']\n",
    "    best_min_samples_split = best_params['min_samples_split']\n",
    "    best_min_samples_leaf = best_params['min_samples_leaf']\n",
    "\n",
    "    # Создайте и обучите модель случайного леса с наилучшими гиперпараметрами\n",
    "    model = RandomForestClassifier(\n",
    "        n_estimators=best_n_estimators,\n",
    "        max_depth=best_max_depth,\n",
    "        min_samples_split=best_min_samples_split,\n",
    "        min_samples_leaf=best_min_samples_leaf,\n",
    "        class_weight='balanced',\n",
    "        random_state=42\n",
    "    )\n",
    "    model.fit(X_train, y_train)\n",
    "\n",
    "    # Прогнозирование на тестовых данных\n",
    "    test_predictions = model.predict(X_test)\n",
    "\n",
    "    # Вычисление метрик\n",
    "    roc_auc = roc_auc_score(y_test, test_predictions)\n",
    "    classification_rep = classification_report(y_test, test_predictions)\n",
    "\n",
    "    print(\"ROC AUC:\", roc_auc)\n",
    "    print(\"Classification Report:\\n\", classification_rep)\n",
    "\n",
    "    return model\n"
   ],
   "metadata": {
    "collapsed": false,
    "pycharm": {
     "name": "#%%\n"
    }
   }
  },
  {
   "cell_type": "code",
   "execution_count": 101,
   "outputs": [],
   "source": [
    "# Построение и оценка модели случайного леса\n",
    "#model = build_and_predict_random_forest(train_data_copy, test_data_copy, \"MARKER\", selected_features)"
   ],
   "metadata": {
    "collapsed": false,
    "pycharm": {
     "name": "#%%\n"
    }
   }
  },
  {
   "cell_type": "code",
   "execution_count": 102,
   "outputs": [
    {
     "name": "stdout",
     "output_type": "stream",
     "text": [
      "Index(['ID', 'C', 'D', 'E', 'G', 'H', 'I', 'J', 'L', 'M', 'N', 'O', 'R', 'S',\n",
      "       'W', 'X', 'MARKER'],\n",
      "      dtype='object') 17\n",
      "            ID         A         B         C         D         E         F  \\\n",
      "0          1.0 -0.537304 -0.258903 -0.528232 -0.623304 -0.267175  0.131267   \n",
      "1          2.0  0.387210 -0.007078 -0.809791  1.204640  1.082230  0.507430   \n",
      "2          3.0 -0.785508 -0.614411 -0.809791 -0.331448 -0.555972 -0.291988   \n",
      "3          4.0 -0.844809 -0.699348 -0.624201 -0.822137 -0.715833 -0.526278   \n",
      "4          5.0  0.439524  0.585306 -0.809791  1.516391  1.158596  1.392120   \n",
      "...        ...       ...       ...       ...       ...       ...       ...   \n",
      "38400  38401.0  2.708937  1.199797 -0.383947  0.668000  0.766830  0.047912   \n",
      "38401  38402.0 -0.622316 -0.380667 -0.375326 -0.302310 -0.280853  0.111220   \n",
      "38402  38403.0 -0.467874 -0.159457 -0.265241 -0.832063 -0.788632 -0.632970   \n",
      "38403  38404.0 -0.826518 -0.673149  3.188120  1.574578 -0.179213  0.260182   \n",
      "38404  38405.0  0.024677  0.546032 -0.640969 -0.466835 -0.177078  0.263311   \n",
      "\n",
      "              G         H         I  ...         P         Q         R  \\\n",
      "0      1.058852  3.182894  0.924783  ...  0.259791  0.320749 -0.456454   \n",
      "1      1.058852  3.182894  0.924783  ...  2.509711  0.320749 -0.456454   \n",
      "2      1.058852  1.577155 -1.081334  ... -0.865169  0.320749 -0.456454   \n",
      "3      1.058852  3.182894 -1.081334  ...  0.259791  0.320749 -0.456454   \n",
      "4      1.058852  3.182894  0.924783  ...  0.259791  0.320749 -0.456454   \n",
      "...         ...       ...       ...  ...       ...       ...       ...   \n",
      "38400 -1.023521 -0.553125 -1.081334  ... -0.865169  0.320749 -0.456454   \n",
      "38401  1.058852  1.577155  0.924783  ... -0.865169  0.320749 -0.456454   \n",
      "38402 -1.023521 -0.553125  0.924783  ... -0.865169 -3.291263  2.190801   \n",
      "38403  2.516513 -0.542420  0.924783  ...  0.259791  0.320749  2.190801   \n",
      "38404 -0.607047 -0.553125 -1.081334  ... -0.865169  0.320749 -0.456454   \n",
      "\n",
      "              S         T         U         V         W         X  MARKER  \n",
      "0     -0.539709  0.440791  0.413165  0.375163 -0.863712 -0.789346     0.0  \n",
      "1      0.870528  0.440791  0.413165  0.375163 -0.863712 -0.789346     1.0  \n",
      "2     -1.552675  0.440791  0.413165  0.375163 -0.863712 -0.789346     0.0  \n",
      "3     -1.552675  0.440791  0.413165 -2.635118  1.157793 -0.789346     0.0  \n",
      "4      0.870528  0.440791  0.413165  0.375163 -0.863712 -0.789346     0.0  \n",
      "...         ...       ...       ...       ...       ...       ...     ...  \n",
      "38400  0.870528  0.440791 -2.420338  0.375163 -0.863712  1.266872     0.0  \n",
      "38401 -0.539709  0.440791  0.413165  0.375163 -0.863712  1.266872     0.0  \n",
      "38402 -0.539709 -2.268649  0.413165  0.375163  1.157793  1.266872     0.0  \n",
      "38403 -0.539709  0.440791  0.413165  0.375163 -0.863712  1.266872     0.0  \n",
      "38404 -1.552675  0.440791  0.413165  0.375163 -0.863712  1.266872     0.0  \n",
      "\n",
      "[38405 rows x 26 columns] 17\n"
     ]
    }
   ],
   "source": [
    "print(train_data_copy.columns,len(train_data_copy.columns))\n",
    "print(test_data_copy,len(train_data_copy.columns))"
   ],
   "metadata": {
    "collapsed": false,
    "pycharm": {
     "name": "#%%\n"
    }
   }
  },
  {
   "cell_type": "code",
   "execution_count": 103,
   "outputs": [],
   "source": [
    "# Adaboosting\n",
    "# Функция для оптимизации гиперпараметров\n",
    "def optimize_adaboost_hyperparameters(trial, X_train, y_train):\n",
    "    n_estimators = trial.suggest_int('n_estimators', 50, 650, step=100)\n",
    "    learning_rate = trial.suggest_float('learning_rate', 0.001, 1.0, log=True)\n",
    "\n",
    "    estimator = DecisionTreeClassifier(class_weight='balanced')\n",
    "    model = AdaBoostClassifier(n_estimators=n_estimators, learning_rate=learning_rate, estimator=estimator, random_state=42)\n",
    "    skf = StratifiedKFold(n_splits=5, shuffle=True, random_state=42)\n",
    "    scores = cross_val_score(model, X_train, y_train, cv=skf, scoring='roc_auc')\n",
    "    return np.mean(scores)\n",
    "\n",
    "# Функция для обучения и предсказания с оптимальной моделью\n",
    "def train_and_predict_with_optimal_model(X_train, y_train, X_test, y_test, selected_features, best_params):\n",
    "    X_train_selected = X_train[selected_features]\n",
    "    X_test_selected = X_test[selected_features]\n",
    "\n",
    "    optimal_model = AdaBoostClassifier(n_estimators=best_params['n_estimators'], learning_rate=best_params['learning_rate'], random_state=42)\n",
    "    optimal_model.fit(X_train_selected, y_train)\n",
    "\n",
    "    y_pred_prob = optimal_model.predict_proba(X_test_selected)[:, 1]\n",
    "\n",
    "    fpr, tpr, thresholds = roc_curve(y_test, y_pred_prob)\n",
    "    optimal_threshold_index = np.argmax(tpr - fpr)\n",
    "    optimal_threshold = thresholds[optimal_threshold_index]\n",
    "\n",
    "    y_pred = (y_pred_prob > optimal_threshold).astype(int)\n",
    "\n",
    "    return y_pred\n",
    "\n",
    "def run_ada_boosting():\n",
    "    start = time.time()\n",
    "\n",
    "    # Загрузка данных\n",
    "    X_train = train_data_copy[selected_features]\n",
    "    y_train = train_data_copy['MARKER']\n",
    "\n",
    "    X_test = test_data_copy[selected_features]\n",
    "    y_test = test_data_copy['MARKER']\n",
    "\n",
    "    # Создание Study объекта для оптимизации\n",
    "    study = optuna.create_study(direction='maximize')\n",
    "\n",
    "    # Запуск оптимизации гиперпараметров\n",
    "    study.optimize(lambda trial: optimize_adaboost_hyperparameters(trial, X_train, y_train), n_trials=20, n_jobs=2)\n",
    "\n",
    "    # Получение лучших гиперпараметров\n",
    "    best_params = study.best_params\n",
    "\n",
    "    # Обучение модели с оптимальными гиперпараметрами и прогнозирование на тестовом наборе данных\n",
    "    y_pred = train_and_predict_with_optimal_model(X_train, y_train, X_test, y_test, selected_features, best_params)\n",
    "\n",
    "    # Вычисление метрик\n",
    "    roc_auc = roc_auc_score(y_test, y_pred)\n",
    "    f1 = f1_score(y_test, y_pred)\n",
    "\n",
    "    # Вывод результатов оптимизации и оценки модели\n",
    "    print(\"Optimal Hyperparameters:\", best_params)\n",
    "    print(\"Predictions on Test Data:\", y_pred)\n",
    "    np.savetxt('./data_proc/y_pred_boosting.csv', y_pred)\n",
    "    print(\"Test ROC AUC:\", roc_auc)\n",
    "    print(\"Test F1 Score:\", f1)\n",
    "\n",
    "    finish = time.time()\n",
    "    print(\"время выполнения\", finish - start)\n",
    "\n",
    "#run_ada_boosting()"
   ],
   "metadata": {
    "collapsed": false,
    "pycharm": {
     "name": "#%%\n"
    }
   }
  },
  {
   "cell_type": "code",
   "execution_count": 103,
   "outputs": [],
   "source": [
    "\n"
   ],
   "metadata": {
    "collapsed": false,
    "pycharm": {
     "name": "#%%\n"
    }
   }
  },
  {
   "cell_type": "code",
   "execution_count": 103,
   "outputs": [],
   "source": [],
   "metadata": {
    "collapsed": false,
    "pycharm": {
     "name": "#%%\n"
    }
   }
  },
  {
   "cell_type": "code",
   "execution_count": 103,
   "outputs": [],
   "source": [],
   "metadata": {
    "collapsed": false,
    "pycharm": {
     "name": "#%%\n"
    }
   }
  },
  {
   "cell_type": "code",
   "execution_count": 103,
   "outputs": [],
   "source": [],
   "metadata": {
    "collapsed": false,
    "pycharm": {
     "name": "#%%\n"
    }
   }
  },
  {
   "cell_type": "code",
   "execution_count": 103,
   "outputs": [],
   "source": [],
   "metadata": {
    "collapsed": false,
    "pycharm": {
     "name": "#%%\n"
    }
   }
  },
  {
   "cell_type": "code",
   "execution_count": 103,
   "outputs": [],
   "source": [],
   "metadata": {
    "collapsed": false,
    "pycharm": {
     "name": "#%%\n"
    }
   }
  },
  {
   "cell_type": "code",
   "execution_count": 103,
   "outputs": [],
   "source": [],
   "metadata": {
    "collapsed": false,
    "pycharm": {
     "name": "#%%\n"
    }
   }
  },
  {
   "cell_type": "code",
   "execution_count": 103,
   "outputs": [],
   "source": [],
   "metadata": {
    "collapsed": false,
    "pycharm": {
     "name": "#%%\n"
    }
   }
  },
  {
   "cell_type": "code",
   "execution_count": 103,
   "outputs": [],
   "source": [],
   "metadata": {
    "collapsed": false,
    "pycharm": {
     "name": "#%%\n"
    }
   }
  },
  {
   "cell_type": "code",
   "execution_count": 103,
   "outputs": [],
   "source": [],
   "metadata": {
    "collapsed": false,
    "pycharm": {
     "name": "#%%\n"
    }
   }
  },
  {
   "cell_type": "code",
   "execution_count": 103,
   "outputs": [],
   "source": [],
   "metadata": {
    "collapsed": false,
    "pycharm": {
     "name": "#%%\n"
    }
   }
  },
  {
   "cell_type": "code",
   "execution_count": 103,
   "outputs": [],
   "source": [],
   "metadata": {
    "collapsed": false,
    "pycharm": {
     "name": "#%%\n"
    }
   }
  },
  {
   "cell_type": "code",
   "execution_count": 103,
   "outputs": [],
   "source": [],
   "metadata": {
    "collapsed": false,
    "pycharm": {
     "name": "#%%\n"
    }
   }
  },
  {
   "cell_type": "code",
   "execution_count": 103,
   "outputs": [],
   "source": [],
   "metadata": {
    "collapsed": false,
    "pycharm": {
     "name": "#%%\n"
    }
   }
  },
  {
   "cell_type": "code",
   "execution_count": 103,
   "outputs": [],
   "source": [],
   "metadata": {
    "collapsed": false,
    "pycharm": {
     "name": "#%%\n"
    }
   }
  },
  {
   "cell_type": "code",
   "execution_count": 103,
   "outputs": [],
   "source": [],
   "metadata": {
    "collapsed": false,
    "pycharm": {
     "name": "#%%\n"
    }
   }
  },
  {
   "cell_type": "code",
   "execution_count": 103,
   "outputs": [],
   "source": [],
   "metadata": {
    "collapsed": false,
    "pycharm": {
     "name": "#%%\n"
    }
   }
  },
  {
   "cell_type": "code",
   "execution_count": 103,
   "outputs": [],
   "source": [],
   "metadata": {
    "collapsed": false,
    "pycharm": {
     "name": "#%%\n"
    }
   }
  },
  {
   "cell_type": "code",
   "execution_count": 103,
   "outputs": [],
   "source": [],
   "metadata": {
    "collapsed": false,
    "pycharm": {
     "name": "#%%\n"
    }
   }
  },
  {
   "cell_type": "code",
   "execution_count": 103,
   "outputs": [],
   "source": [],
   "metadata": {
    "collapsed": false,
    "pycharm": {
     "name": "#%%\n"
    }
   }
  },
  {
   "cell_type": "code",
   "execution_count": 103,
   "outputs": [],
   "source": [],
   "metadata": {
    "collapsed": false,
    "pycharm": {
     "name": "#%%\n"
    }
   }
  },
  {
   "cell_type": "code",
   "execution_count": 103,
   "outputs": [],
   "source": [],
   "metadata": {
    "collapsed": false,
    "pycharm": {
     "name": "#%%\n"
    }
   }
  },
  {
   "cell_type": "code",
   "execution_count": 103,
   "outputs": [],
   "source": [],
   "metadata": {
    "collapsed": false,
    "pycharm": {
     "name": "#%%\n"
    }
   }
  },
  {
   "cell_type": "code",
   "execution_count": 103,
   "outputs": [],
   "source": [],
   "metadata": {
    "collapsed": false,
    "pycharm": {
     "name": "#%%\n"
    }
   }
  },
  {
   "cell_type": "code",
   "execution_count": 103,
   "outputs": [],
   "source": [],
   "metadata": {
    "collapsed": false,
    "pycharm": {
     "name": "#%%\n"
    }
   }
  },
  {
   "cell_type": "code",
   "execution_count": 103,
   "outputs": [],
   "source": [],
   "metadata": {
    "collapsed": false,
    "pycharm": {
     "name": "#%%\n"
    }
   }
  },
  {
   "cell_type": "code",
   "execution_count": 103,
   "outputs": [],
   "source": [],
   "metadata": {
    "collapsed": false,
    "pycharm": {
     "name": "#%%\n"
    }
   }
  },
  {
   "cell_type": "code",
   "execution_count": 103,
   "outputs": [],
   "source": [],
   "metadata": {
    "collapsed": false,
    "pycharm": {
     "name": "#%%\n"
    }
   }
  },
  {
   "cell_type": "code",
   "execution_count": 103,
   "outputs": [],
   "source": [],
   "metadata": {
    "collapsed": false,
    "pycharm": {
     "name": "#%%\n"
    }
   }
  },
  {
   "cell_type": "code",
   "execution_count": 103,
   "outputs": [],
   "source": [],
   "metadata": {
    "collapsed": false,
    "pycharm": {
     "name": "#%%\n"
    }
   }
  },
  {
   "cell_type": "code",
   "execution_count": 103,
   "outputs": [],
   "source": [],
   "metadata": {
    "collapsed": false,
    "pycharm": {
     "name": "#%%\n"
    }
   }
  },
  {
   "cell_type": "code",
   "execution_count": 103,
   "outputs": [],
   "source": [],
   "metadata": {
    "collapsed": false,
    "pycharm": {
     "name": "#%%\n"
    }
   }
  },
  {
   "cell_type": "code",
   "execution_count": 103,
   "outputs": [],
   "source": [],
   "metadata": {
    "collapsed": false,
    "pycharm": {
     "name": "#%%\n"
    }
   }
  },
  {
   "cell_type": "code",
   "execution_count": 103,
   "outputs": [],
   "source": [],
   "metadata": {
    "collapsed": false,
    "pycharm": {
     "name": "#%%\n"
    }
   }
  },
  {
   "cell_type": "code",
   "execution_count": 103,
   "outputs": [],
   "source": [],
   "metadata": {
    "collapsed": false,
    "pycharm": {
     "name": "#%%\n"
    }
   }
  },
  {
   "cell_type": "code",
   "execution_count": 103,
   "outputs": [],
   "source": [],
   "metadata": {
    "collapsed": false,
    "pycharm": {
     "name": "#%%\n"
    }
   }
  },
  {
   "cell_type": "code",
   "execution_count": 103,
   "outputs": [],
   "source": [],
   "metadata": {
    "collapsed": false,
    "pycharm": {
     "name": "#%%\n"
    }
   }
  },
  {
   "cell_type": "code",
   "execution_count": 103,
   "outputs": [],
   "source": [],
   "metadata": {
    "collapsed": false,
    "pycharm": {
     "name": "#%%\n"
    }
   }
  },
  {
   "cell_type": "code",
   "execution_count": 103,
   "outputs": [],
   "source": [],
   "metadata": {
    "collapsed": false,
    "pycharm": {
     "name": "#%%\n"
    }
   }
  },
  {
   "cell_type": "code",
   "execution_count": 103,
   "outputs": [],
   "source": [],
   "metadata": {
    "collapsed": false,
    "pycharm": {
     "name": "#%%\n"
    }
   }
  },
  {
   "cell_type": "code",
   "execution_count": 103,
   "outputs": [],
   "source": [],
   "metadata": {
    "collapsed": false,
    "pycharm": {
     "name": "#%%\n"
    }
   }
  },
  {
   "cell_type": "code",
   "execution_count": 103,
   "outputs": [],
   "source": [],
   "metadata": {
    "collapsed": false,
    "pycharm": {
     "name": "#%%\n"
    }
   }
  },
  {
   "cell_type": "code",
   "execution_count": 103,
   "outputs": [],
   "source": [],
   "metadata": {
    "collapsed": false,
    "pycharm": {
     "name": "#%%\n"
    }
   }
  },
  {
   "cell_type": "code",
   "execution_count": 103,
   "outputs": [],
   "source": [],
   "metadata": {
    "collapsed": false,
    "pycharm": {
     "name": "#%%\n"
    }
   }
  },
  {
   "cell_type": "code",
   "execution_count": 103,
   "outputs": [],
   "source": [],
   "metadata": {
    "collapsed": false,
    "pycharm": {
     "name": "#%%\n"
    }
   }
  },
  {
   "cell_type": "code",
   "execution_count": 103,
   "outputs": [],
   "source": [],
   "metadata": {
    "collapsed": false,
    "pycharm": {
     "name": "#%%\n"
    }
   }
  },
  {
   "cell_type": "code",
   "execution_count": 103,
   "outputs": [],
   "source": [],
   "metadata": {
    "collapsed": false,
    "pycharm": {
     "name": "#%%\n"
    }
   }
  },
  {
   "cell_type": "code",
   "execution_count": 103,
   "outputs": [],
   "source": [],
   "metadata": {
    "collapsed": false,
    "pycharm": {
     "name": "#%%\n"
    }
   }
  },
  {
   "cell_type": "code",
   "execution_count": 103,
   "outputs": [],
   "source": [],
   "metadata": {
    "collapsed": false,
    "pycharm": {
     "name": "#%%\n"
    }
   }
  },
  {
   "cell_type": "code",
   "execution_count": 103,
   "outputs": [],
   "source": [],
   "metadata": {
    "collapsed": false,
    "pycharm": {
     "name": "#%%\n"
    }
   }
  },
  {
   "cell_type": "code",
   "execution_count": 103,
   "outputs": [],
   "source": [],
   "metadata": {
    "collapsed": false,
    "pycharm": {
     "name": "#%%\n"
    }
   }
  },
  {
   "cell_type": "code",
   "execution_count": 103,
   "outputs": [],
   "source": [],
   "metadata": {
    "collapsed": false,
    "pycharm": {
     "name": "#%%\n"
    }
   }
  },
  {
   "cell_type": "code",
   "execution_count": 103,
   "outputs": [],
   "source": [],
   "metadata": {
    "collapsed": false,
    "pycharm": {
     "name": "#%%\n"
    }
   }
  },
  {
   "cell_type": "code",
   "execution_count": 103,
   "outputs": [],
   "source": [],
   "metadata": {
    "collapsed": false,
    "pycharm": {
     "name": "#%%\n"
    }
   }
  },
  {
   "cell_type": "code",
   "execution_count": 103,
   "outputs": [],
   "source": [],
   "metadata": {
    "collapsed": false,
    "pycharm": {
     "name": "#%%\n"
    }
   }
  },
  {
   "cell_type": "code",
   "execution_count": 103,
   "outputs": [],
   "source": [],
   "metadata": {
    "collapsed": false,
    "pycharm": {
     "name": "#%%\n"
    }
   }
  },
  {
   "cell_type": "code",
   "execution_count": 103,
   "outputs": [],
   "source": [],
   "metadata": {
    "collapsed": false,
    "pycharm": {
     "name": "#%%\n"
    }
   }
  },
  {
   "cell_type": "code",
   "execution_count": 103,
   "outputs": [],
   "source": [],
   "metadata": {
    "collapsed": false,
    "pycharm": {
     "name": "#%%\n"
    }
   }
  },
  {
   "cell_type": "code",
   "execution_count": 103,
   "outputs": [],
   "source": [],
   "metadata": {
    "collapsed": false,
    "pycharm": {
     "name": "#%%\n"
    }
   }
  },
  {
   "cell_type": "code",
   "execution_count": 103,
   "outputs": [],
   "source": [],
   "metadata": {
    "collapsed": false,
    "pycharm": {
     "name": "#%%\n"
    }
   }
  },
  {
   "cell_type": "code",
   "execution_count": 103,
   "outputs": [],
   "source": [],
   "metadata": {
    "collapsed": false,
    "pycharm": {
     "name": "#%%\n"
    }
   }
  },
  {
   "cell_type": "code",
   "execution_count": 103,
   "outputs": [],
   "source": [],
   "metadata": {
    "collapsed": false,
    "pycharm": {
     "name": "#%%\n"
    }
   }
  },
  {
   "cell_type": "code",
   "execution_count": 103,
   "outputs": [],
   "source": [],
   "metadata": {
    "collapsed": false,
    "pycharm": {
     "name": "#%%\n"
    }
   }
  },
  {
   "cell_type": "code",
   "execution_count": 103,
   "outputs": [],
   "source": [],
   "metadata": {
    "collapsed": false,
    "pycharm": {
     "name": "#%%\n"
    }
   }
  },
  {
   "cell_type": "code",
   "execution_count": 103,
   "outputs": [],
   "source": [],
   "metadata": {
    "collapsed": false,
    "pycharm": {
     "name": "#%%\n"
    }
   }
  },
  {
   "cell_type": "code",
   "execution_count": 103,
   "outputs": [],
   "source": [],
   "metadata": {
    "collapsed": false,
    "pycharm": {
     "name": "#%%\n"
    }
   }
  },
  {
   "cell_type": "code",
   "execution_count": 103,
   "outputs": [],
   "source": [],
   "metadata": {
    "collapsed": false,
    "pycharm": {
     "name": "#%%\n"
    }
   }
  },
  {
   "cell_type": "code",
   "execution_count": 103,
   "outputs": [],
   "source": [],
   "metadata": {
    "collapsed": false,
    "pycharm": {
     "name": "#%%\n"
    }
   }
  },
  {
   "cell_type": "code",
   "execution_count": 103,
   "outputs": [],
   "source": [],
   "metadata": {
    "collapsed": false,
    "pycharm": {
     "name": "#%%\n"
    }
   }
  },
  {
   "cell_type": "code",
   "execution_count": 103,
   "outputs": [],
   "source": [],
   "metadata": {
    "collapsed": false,
    "pycharm": {
     "name": "#%%\n"
    }
   }
  },
  {
   "cell_type": "code",
   "execution_count": 103,
   "outputs": [],
   "source": [],
   "metadata": {
    "collapsed": false,
    "pycharm": {
     "name": "#%%\n"
    }
   }
  },
  {
   "cell_type": "code",
   "execution_count": 103,
   "outputs": [],
   "source": [],
   "metadata": {
    "collapsed": false,
    "pycharm": {
     "name": "#%%\n"
    }
   }
  },
  {
   "cell_type": "code",
   "execution_count": 103,
   "outputs": [],
   "source": [],
   "metadata": {
    "collapsed": false,
    "pycharm": {
     "name": "#%%\n"
    }
   }
  },
  {
   "cell_type": "code",
   "execution_count": 103,
   "outputs": [],
   "source": [],
   "metadata": {
    "collapsed": false,
    "pycharm": {
     "name": "#%%\n"
    }
   }
  },
  {
   "cell_type": "code",
   "execution_count": 103,
   "outputs": [],
   "source": [],
   "metadata": {
    "collapsed": false,
    "pycharm": {
     "name": "#%%\n"
    }
   }
  },
  {
   "cell_type": "code",
   "execution_count": 103,
   "outputs": [],
   "source": [],
   "metadata": {
    "collapsed": false,
    "pycharm": {
     "name": "#%%\n"
    }
   }
  },
  {
   "cell_type": "code",
   "execution_count": 103,
   "outputs": [],
   "source": [],
   "metadata": {
    "collapsed": false,
    "pycharm": {
     "name": "#%%\n"
    }
   }
  },
  {
   "cell_type": "code",
   "execution_count": 103,
   "outputs": [],
   "source": [],
   "metadata": {
    "collapsed": false,
    "pycharm": {
     "name": "#%%\n"
    }
   }
  },
  {
   "cell_type": "code",
   "execution_count": 103,
   "outputs": [],
   "source": [],
   "metadata": {
    "collapsed": false,
    "pycharm": {
     "name": "#%%\n"
    }
   }
  },
  {
   "cell_type": "code",
   "execution_count": 103,
   "outputs": [],
   "source": [],
   "metadata": {
    "collapsed": false,
    "pycharm": {
     "name": "#%%\n"
    }
   }
  },
  {
   "cell_type": "code",
   "execution_count": 103,
   "outputs": [],
   "source": [],
   "metadata": {
    "collapsed": false,
    "pycharm": {
     "name": "#%%\n"
    }
   }
  },
  {
   "cell_type": "code",
   "execution_count": 103,
   "outputs": [],
   "source": [],
   "metadata": {
    "collapsed": false,
    "pycharm": {
     "name": "#%%\n"
    }
   }
  },
  {
   "cell_type": "code",
   "execution_count": 103,
   "outputs": [],
   "source": [],
   "metadata": {
    "collapsed": false,
    "pycharm": {
     "name": "#%%\n"
    }
   }
  },
  {
   "cell_type": "code",
   "execution_count": 103,
   "outputs": [],
   "source": [],
   "metadata": {
    "collapsed": false,
    "pycharm": {
     "name": "#%%\n"
    }
   }
  },
  {
   "cell_type": "code",
   "execution_count": 103,
   "outputs": [],
   "source": [],
   "metadata": {
    "collapsed": false,
    "pycharm": {
     "name": "#%%\n"
    }
   }
  },
  {
   "cell_type": "code",
   "execution_count": 103,
   "outputs": [],
   "source": [],
   "metadata": {
    "collapsed": false,
    "pycharm": {
     "name": "#%%\n"
    }
   }
  },
  {
   "cell_type": "code",
   "execution_count": 103,
   "outputs": [],
   "source": [],
   "metadata": {
    "collapsed": false,
    "pycharm": {
     "name": "#%%\n"
    }
   }
  },
  {
   "cell_type": "code",
   "execution_count": 103,
   "outputs": [],
   "source": [],
   "metadata": {
    "collapsed": false,
    "pycharm": {
     "name": "#%%\n"
    }
   }
  },
  {
   "cell_type": "code",
   "execution_count": 103,
   "outputs": [],
   "source": [],
   "metadata": {
    "collapsed": false,
    "pycharm": {
     "name": "#%%\n"
    }
   }
  },
  {
   "cell_type": "code",
   "execution_count": 103,
   "outputs": [],
   "source": [],
   "metadata": {
    "collapsed": false,
    "pycharm": {
     "name": "#%%\n"
    }
   }
  },
  {
   "cell_type": "code",
   "execution_count": 103,
   "outputs": [],
   "source": [],
   "metadata": {
    "collapsed": false,
    "pycharm": {
     "name": "#%%\n"
    }
   }
  },
  {
   "cell_type": "code",
   "execution_count": 103,
   "outputs": [],
   "source": [],
   "metadata": {
    "collapsed": false,
    "pycharm": {
     "name": "#%%\n"
    }
   }
  },
  {
   "cell_type": "code",
   "execution_count": 103,
   "outputs": [],
   "source": [],
   "metadata": {
    "collapsed": false,
    "pycharm": {
     "name": "#%%\n"
    }
   }
  },
  {
   "cell_type": "code",
   "execution_count": 103,
   "outputs": [],
   "source": [],
   "metadata": {
    "collapsed": false,
    "pycharm": {
     "name": "#%%\n"
    }
   }
  },
  {
   "cell_type": "code",
   "execution_count": 103,
   "outputs": [],
   "source": [],
   "metadata": {
    "collapsed": false,
    "pycharm": {
     "name": "#%%\n"
    }
   }
  },
  {
   "cell_type": "code",
   "execution_count": 103,
   "outputs": [],
   "source": [],
   "metadata": {
    "collapsed": false,
    "pycharm": {
     "name": "#%%\n"
    }
   }
  },
  {
   "cell_type": "code",
   "execution_count": 103,
   "outputs": [],
   "source": [],
   "metadata": {
    "collapsed": false,
    "pycharm": {
     "name": "#%%\n"
    }
   }
  },
  {
   "cell_type": "code",
   "execution_count": 103,
   "outputs": [],
   "source": [],
   "metadata": {
    "collapsed": false,
    "pycharm": {
     "name": "#%%\n"
    }
   }
  },
  {
   "cell_type": "code",
   "execution_count": 103,
   "outputs": [],
   "source": [],
   "metadata": {
    "collapsed": false,
    "pycharm": {
     "name": "#%%\n"
    }
   }
  },
  {
   "cell_type": "code",
   "execution_count": 103,
   "outputs": [],
   "source": [],
   "metadata": {
    "collapsed": false,
    "pycharm": {
     "name": "#%%\n"
    }
   }
  },
  {
   "cell_type": "code",
   "execution_count": 103,
   "outputs": [],
   "source": [],
   "metadata": {
    "collapsed": false,
    "pycharm": {
     "name": "#%%\n"
    }
   }
  },
  {
   "cell_type": "code",
   "execution_count": 103,
   "outputs": [],
   "source": [],
   "metadata": {
    "collapsed": false,
    "pycharm": {
     "name": "#%%\n"
    }
   }
  },
  {
   "cell_type": "code",
   "execution_count": 103,
   "outputs": [],
   "source": [],
   "metadata": {
    "collapsed": false,
    "pycharm": {
     "name": "#%%\n"
    }
   }
  },
  {
   "cell_type": "code",
   "execution_count": 103,
   "outputs": [],
   "source": [],
   "metadata": {
    "collapsed": false,
    "pycharm": {
     "name": "#%%\n"
    }
   }
  },
  {
   "cell_type": "code",
   "execution_count": 103,
   "outputs": [],
   "source": [],
   "metadata": {
    "collapsed": false,
    "pycharm": {
     "name": "#%%\n"
    }
   }
  },
  {
   "cell_type": "code",
   "execution_count": 103,
   "outputs": [],
   "source": [],
   "metadata": {
    "collapsed": false,
    "pycharm": {
     "name": "#%%\n"
    }
   }
  },
  {
   "cell_type": "code",
   "execution_count": 103,
   "outputs": [],
   "source": [],
   "metadata": {
    "collapsed": false,
    "pycharm": {
     "name": "#%%\n"
    }
   }
  },
  {
   "cell_type": "code",
   "execution_count": 103,
   "outputs": [],
   "source": [],
   "metadata": {
    "collapsed": false,
    "pycharm": {
     "name": "#%%\n"
    }
   }
  },
  {
   "cell_type": "code",
   "execution_count": 103,
   "outputs": [],
   "source": [],
   "metadata": {
    "collapsed": false,
    "pycharm": {
     "name": "#%%\n"
    }
   }
  },
  {
   "cell_type": "code",
   "execution_count": 103,
   "outputs": [],
   "source": [],
   "metadata": {
    "collapsed": false,
    "pycharm": {
     "name": "#%%\n"
    }
   }
  },
  {
   "cell_type": "code",
   "execution_count": 103,
   "outputs": [],
   "source": [],
   "metadata": {
    "collapsed": false,
    "pycharm": {
     "name": "#%%\n"
    }
   }
  },
  {
   "cell_type": "code",
   "execution_count": 103,
   "outputs": [],
   "source": [],
   "metadata": {
    "collapsed": false,
    "pycharm": {
     "name": "#%%\n"
    }
   }
  },
  {
   "cell_type": "code",
   "execution_count": 103,
   "outputs": [],
   "source": [],
   "metadata": {
    "collapsed": false,
    "pycharm": {
     "name": "#%%\n"
    }
   }
  },
  {
   "cell_type": "code",
   "execution_count": 103,
   "outputs": [],
   "source": [],
   "metadata": {
    "collapsed": false,
    "pycharm": {
     "name": "#%%\n"
    }
   }
  },
  {
   "cell_type": "code",
   "execution_count": 103,
   "outputs": [],
   "source": [],
   "metadata": {
    "collapsed": false,
    "pycharm": {
     "name": "#%%\n"
    }
   }
  },
  {
   "cell_type": "code",
   "execution_count": 103,
   "outputs": [],
   "source": [],
   "metadata": {
    "collapsed": false,
    "pycharm": {
     "name": "#%%\n"
    }
   }
  },
  {
   "cell_type": "code",
   "execution_count": 103,
   "outputs": [],
   "source": [],
   "metadata": {
    "collapsed": false,
    "pycharm": {
     "name": "#%%\n"
    }
   }
  },
  {
   "cell_type": "code",
   "execution_count": 103,
   "outputs": [],
   "source": [],
   "metadata": {
    "collapsed": false,
    "pycharm": {
     "name": "#%%\n"
    }
   }
  },
  {
   "cell_type": "code",
   "execution_count": 103,
   "outputs": [],
   "source": [],
   "metadata": {
    "collapsed": false,
    "pycharm": {
     "name": "#%%\n"
    }
   }
  },
  {
   "cell_type": "code",
   "execution_count": 103,
   "outputs": [],
   "source": [],
   "metadata": {
    "collapsed": false,
    "pycharm": {
     "name": "#%%\n"
    }
   }
  },
  {
   "cell_type": "code",
   "execution_count": 103,
   "outputs": [],
   "source": [],
   "metadata": {
    "collapsed": false,
    "pycharm": {
     "name": "#%%\n"
    }
   }
  },
  {
   "cell_type": "code",
   "execution_count": 103,
   "outputs": [],
   "source": [],
   "metadata": {
    "collapsed": false,
    "pycharm": {
     "name": "#%%\n"
    }
   }
  },
  {
   "cell_type": "code",
   "execution_count": 103,
   "outputs": [],
   "source": [],
   "metadata": {
    "collapsed": false,
    "pycharm": {
     "name": "#%%\n"
    }
   }
  },
  {
   "cell_type": "code",
   "execution_count": 103,
   "outputs": [],
   "source": [],
   "metadata": {
    "collapsed": false,
    "pycharm": {
     "name": "#%%\n"
    }
   }
  },
  {
   "cell_type": "code",
   "execution_count": 103,
   "outputs": [],
   "source": [],
   "metadata": {
    "collapsed": false,
    "pycharm": {
     "name": "#%%\n"
    }
   }
  },
  {
   "cell_type": "code",
   "execution_count": 103,
   "outputs": [],
   "source": [],
   "metadata": {
    "collapsed": false,
    "pycharm": {
     "name": "#%%\n"
    }
   }
  },
  {
   "cell_type": "code",
   "execution_count": 103,
   "outputs": [],
   "source": [],
   "metadata": {
    "collapsed": false,
    "pycharm": {
     "name": "#%%\n"
    }
   }
  },
  {
   "cell_type": "code",
   "execution_count": 103,
   "outputs": [],
   "source": [],
   "metadata": {
    "collapsed": false,
    "pycharm": {
     "name": "#%%\n"
    }
   }
  },
  {
   "cell_type": "code",
   "execution_count": 103,
   "outputs": [],
   "source": [],
   "metadata": {
    "collapsed": false,
    "pycharm": {
     "name": "#%%\n"
    }
   }
  },
  {
   "cell_type": "code",
   "execution_count": 103,
   "outputs": [],
   "source": [],
   "metadata": {
    "collapsed": false,
    "pycharm": {
     "name": "#%%\n"
    }
   }
  },
  {
   "cell_type": "code",
   "execution_count": 103,
   "outputs": [],
   "source": [],
   "metadata": {
    "collapsed": false,
    "pycharm": {
     "name": "#%%\n"
    }
   }
  },
  {
   "cell_type": "code",
   "execution_count": 103,
   "outputs": [],
   "source": [],
   "metadata": {
    "collapsed": false,
    "pycharm": {
     "name": "#%%\n"
    }
   }
  },
  {
   "cell_type": "code",
   "execution_count": 103,
   "outputs": [],
   "source": [],
   "metadata": {
    "collapsed": false,
    "pycharm": {
     "name": "#%%\n"
    }
   }
  },
  {
   "cell_type": "code",
   "execution_count": 103,
   "outputs": [],
   "source": [],
   "metadata": {
    "collapsed": false,
    "pycharm": {
     "name": "#%%\n"
    }
   }
  },
  {
   "cell_type": "code",
   "execution_count": 103,
   "outputs": [],
   "source": [],
   "metadata": {
    "collapsed": false,
    "pycharm": {
     "name": "#%%\n"
    }
   }
  },
  {
   "cell_type": "code",
   "execution_count": 103,
   "outputs": [],
   "source": [],
   "metadata": {
    "collapsed": false,
    "pycharm": {
     "name": "#%%\n"
    }
   }
  },
  {
   "cell_type": "code",
   "execution_count": 103,
   "outputs": [],
   "source": [],
   "metadata": {
    "collapsed": false,
    "pycharm": {
     "name": "#%%\n"
    }
   }
  },
  {
   "cell_type": "code",
   "execution_count": 103,
   "outputs": [],
   "source": [],
   "metadata": {
    "collapsed": false,
    "pycharm": {
     "name": "#%%\n"
    }
   }
  },
  {
   "cell_type": "code",
   "execution_count": 103,
   "outputs": [],
   "source": [],
   "metadata": {
    "collapsed": false,
    "pycharm": {
     "name": "#%%\n"
    }
   }
  },
  {
   "cell_type": "code",
   "execution_count": 103,
   "outputs": [],
   "source": [],
   "metadata": {
    "collapsed": false,
    "pycharm": {
     "name": "#%%\n"
    }
   }
  },
  {
   "cell_type": "code",
   "execution_count": 103,
   "outputs": [],
   "source": [],
   "metadata": {
    "collapsed": false,
    "pycharm": {
     "name": "#%%\n"
    }
   }
  },
  {
   "cell_type": "code",
   "execution_count": 103,
   "outputs": [],
   "source": [],
   "metadata": {
    "collapsed": false,
    "pycharm": {
     "name": "#%%\n"
    }
   }
  },
  {
   "cell_type": "code",
   "execution_count": 103,
   "outputs": [],
   "source": [],
   "metadata": {
    "collapsed": false,
    "pycharm": {
     "name": "#%%\n"
    }
   }
  },
  {
   "cell_type": "code",
   "execution_count": 103,
   "outputs": [],
   "source": [],
   "metadata": {
    "collapsed": false,
    "pycharm": {
     "name": "#%%\n"
    }
   }
  },
  {
   "cell_type": "code",
   "execution_count": 103,
   "outputs": [],
   "source": [],
   "metadata": {
    "collapsed": false,
    "pycharm": {
     "name": "#%%\n"
    }
   }
  },
  {
   "cell_type": "code",
   "execution_count": 103,
   "outputs": [],
   "source": [],
   "metadata": {
    "collapsed": false,
    "pycharm": {
     "name": "#%%\n"
    }
   }
  },
  {
   "cell_type": "code",
   "execution_count": 103,
   "outputs": [],
   "source": [],
   "metadata": {
    "collapsed": false,
    "pycharm": {
     "name": "#%%\n"
    }
   }
  },
  {
   "cell_type": "code",
   "execution_count": 103,
   "outputs": [],
   "source": [],
   "metadata": {
    "collapsed": false,
    "pycharm": {
     "name": "#%%\n"
    }
   }
  },
  {
   "cell_type": "code",
   "execution_count": 103,
   "outputs": [],
   "source": [],
   "metadata": {
    "collapsed": false,
    "pycharm": {
     "name": "#%%\n"
    }
   }
  },
  {
   "cell_type": "code",
   "execution_count": 103,
   "outputs": [],
   "source": [],
   "metadata": {
    "collapsed": false,
    "pycharm": {
     "name": "#%%\n"
    }
   }
  },
  {
   "cell_type": "code",
   "execution_count": 103,
   "outputs": [],
   "source": [],
   "metadata": {
    "collapsed": false,
    "pycharm": {
     "name": "#%%\n"
    }
   }
  },
  {
   "cell_type": "code",
   "execution_count": 103,
   "outputs": [],
   "source": [],
   "metadata": {
    "collapsed": false,
    "pycharm": {
     "name": "#%%\n"
    }
   }
  },
  {
   "cell_type": "code",
   "execution_count": null,
   "outputs": [],
   "source": [],
   "metadata": {
    "collapsed": false,
    "pycharm": {
     "name": "#%%\n"
    }
   }
  }
 ],
 "metadata": {
  "kernelspec": {
   "display_name": "Python 3",
   "language": "python",
   "name": "python3"
  },
  "language_info": {
   "codemirror_mode": {
    "name": "ipython",
    "version": 2
   },
   "file_extension": ".py",
   "mimetype": "text/x-python",
   "name": "python",
   "nbconvert_exporter": "python",
   "pygments_lexer": "ipython2",
   "version": "2.7.6"
  }
 },
 "nbformat": 4,
 "nbformat_minor": 0
}