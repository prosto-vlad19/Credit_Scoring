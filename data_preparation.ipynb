{
 "cells": [
  {
   "cell_type": "code",
   "execution_count": 107,
   "outputs": [],
   "source": [
    "import random\n",
    "import numpy as np\n",
    "import pandas as pd\n",
    "import time\n",
    "import optuna\n",
    "from sklearn.preprocessing import LabelEncoder,RobustScaler,StandardScaler\n",
    "from sklearn.feature_selection import SelectKBest,f_classif\n",
    "from sklearn.tree import DecisionTreeClassifier\n",
    "from sklearn.model_selection import cross_val_score,StratifiedKFold\n",
    "from sklearn.ensemble import RandomForestClassifier,AdaBoostClassifier\n",
    "from sklearn.utils import resample\n",
    "from sklearn.metrics import roc_auc_score,roc_curve,f1_score,classification_report\n",
    "from sklearn.model_selection import train_test_split, GridSearchCV\n",
    "from sklearn.linear_model import LogisticRegression\n",
    "from pyxlsb import open_workbook as open_xlsb\n",
    "#from main import read_xlsb\n",
    "from imblearn.under_sampling import RepeatedEditedNearestNeighbours\n",
    "from imblearn.over_sampling import SMOTE"
   ],
   "metadata": {
    "collapsed": false,
    "pycharm": {
     "name": "#%%\n"
    }
   }
  },
  {
   "cell_type": "code",
   "execution_count": null,
   "outputs": [],
   "source": [
    "# reading format file .xlsb\n",
    "def read_xlsb(file_path, sheet_name):\n",
    "    df_list = []\n",
    "    with open_xlsb(file_path) as wb:\n",
    "        with wb.get_sheet(sheet_name) as sheet:\n",
    "            for row in sheet.rows():\n",
    "                df_list.append([item.v for item in row])\n",
    "\n",
    "    df = pd.DataFrame(df_list[1:], columns=df_list[0])\n",
    "    df.dropna(how='all', inplace=True)  # Remove rows with all missing valuesx\n",
    "    return df"
   ],
   "metadata": {
    "collapsed": false,
    "pycharm": {
     "name": "#%%\n"
    }
   }
  },
  {
   "cell_type": "code",
   "execution_count": null,
   "outputs": [],
   "source": [
    "\n",
    "# download data\n",
    "train_data_path = \"./data/Training.xlsb\"\n",
    "train_sheet_name = 'Training'\n",
    "train_data = read_xlsb(train_data_path, train_sheet_name)\n",
    "\n",
    "test_data_path = \"./data/Test.xlsb\"\n",
    "test_sheet_name = 'Test'\n",
    "test_data = read_xlsb(test_data_path, test_sheet_name)\n",
    "\n",
    "# create train test dataframe\n",
    "train_data_copy = train_data.copy()\n",
    "test_data_copy = test_data.copy()\n",
    "X = train_data_copy.drop([\"MARKER\",\"ID\"],axis = 1)\n",
    "X_test = test_data_copy.drop([\"MARKER\",\"ID\"],axis = 1)\n",
    "y = train_data_copy['MARKER']\n",
    "y_test = test_data_copy['MARKER']\n",
    "\n",
    "# making copies\n",
    "X_copy = X.copy()\n",
    "y_copy= y.copy()"
   ],
   "metadata": {
    "collapsed": false,
    "pycharm": {
     "name": "#%%\n"
    }
   }
  },
  {
   "cell_type": "code",
   "execution_count": 112,
   "outputs": [
    {
     "name": "stdout",
     "output_type": "stream",
     "text": [
      "len train_data input 89734\n",
      "len train_data_cleaned 87350\n",
      "Deleted rows from class 0: 2366\n",
      "Deleted rows from class 1: 18\n"
     ]
    }
   ],
   "source": [
    "def remove_outliers(train_data, num_columns_threshold=5, ignore_columns=[], remove_class_1_outliers=True):\n",
    "    print(\"len train_data input\", len(train_data))\n",
    "    columns_to_analyze = [col for col in train_data.columns if col not in ignore_columns]\n",
    "    df = train_data[columns_to_analyze]\n",
    "\n",
    "    # We count Q1 and Q3 for each column\n",
    "    q1 = df.quantile(0.25)\n",
    "    q3 = df.quantile(0.75)\n",
    "\n",
    "    # Calculating the interquartile range (IQR)\n",
    "    iqr = q3 - q1\n",
    "\n",
    "    # Determining the boundaries of the interval for removing outliers\n",
    "    lower_bound = q1 - 1.5 * iqr\n",
    "    upper_bound = q3 + 1.5 * iqr\n",
    "\n",
    "    # Create a mask to define rows with outliers in each column\n",
    "    outliers_mask = ((df < lower_bound) | (df > upper_bound))\n",
    "\n",
    "    # Count the number of columns with outliers in each row\n",
    "    num_outliers = outliers_mask.sum(axis=1)\n",
    "\n",
    "    # Create a mask to identify rows with outliers in 5 or more columns\n",
    "    mask = (num_outliers >= num_columns_threshold)\n",
    "\n",
    "    # Removing rows with outliers from train_data\n",
    "    if remove_class_1_outliers:\n",
    "        mask_to_remove = mask\n",
    "    else:\n",
    "        mask_to_remove = mask & (train_data['MARKER'] != 1)\n",
    "    train_data_cleaned = train_data[~mask_to_remove]\n",
    "\n",
    "    print(\"len train_data_cleaned\", len(train_data_cleaned))\n",
    "    # Count the number of deleted rows for each class\n",
    "    num_deleted_class_0 = len(train_data[train_data['MARKER'] == 0]) - len(train_data_cleaned[train_data_cleaned['MARKER'] == 0])\n",
    "    num_deleted_class_1 = len(train_data[train_data['MARKER'] == 1]) - len(train_data_cleaned[train_data_cleaned['MARKER'] == 1])\n",
    "    print(\"Deleted rows from class 0:\", num_deleted_class_0)\n",
    "    print(\"Deleted rows from class 1:\", num_deleted_class_1)\n",
    "\n",
    "    return train_data_cleaned\n",
    "\n",
    "# An example of using the function to remove rows from the class MARKER = 1\n",
    "train_data_copy = remove_outliers(train_data_copy, num_columns_threshold=5, ignore_columns=['ID', 'MARKER'], remove_class_1_outliers=True)\n",
    "#print(train_data_copy)\n",
    "train_data_copy.to_csv('./data_proc/remove_outliers_train_data.csv')\n"
   ],
   "metadata": {
    "collapsed": false,
    "pycharm": {
     "name": "#%%\n"
    }
   }
  },
  {
   "cell_type": "code",
   "execution_count": 113,
   "outputs": [],
   "source": [
    "# scaling with choice of method\n",
    "def scale_dataframe(df, ignore_columns=[], scaler_type='robust'):\n",
    "    columns_to_scale = [col for col in df.columns if col not in ignore_columns]\n",
    "\n",
    "    if scaler_type == 'standard':\n",
    "        scaler = StandardScaler()\n",
    "    elif scaler_type == 'robust':\n",
    "        scaler = RobustScaler()\n",
    "    else:\n",
    "        raise ValueError(\"Invalid scaler_type. Use 'standard' or 'robust'.\")\n",
    "\n",
    "    scaled_data = scaler.fit_transform(df[columns_to_scale])\n",
    "\n",
    "    # Обновляем значения в столбцах, которые нужно масштабировать\n",
    "    df.loc[:, columns_to_scale] = scaled_data\n",
    "    return df\n",
    "\n",
    "# Пример использования с разными способами масштабирования\n",
    "train_data_copy = scale_dataframe(train_data_copy,ignore_columns=['ID', 'MARKER'],scaler_type= \"standard\")\n",
    "#print(train_data_copy)\n",
    "train_data_copy.to_csv('./data_proc/prepar_train_data.csv')\n",
    "\n",
    "test_data_copy = scale_dataframe(test_data_copy,ignore_columns=['ID', 'MARKER'],scaler_type= \"standard\")\n",
    "#print(test_data_copy)\n",
    "test_data_copy.to_csv('./data_proc/prepar_test_data.csv')\n"
   ],
   "metadata": {
    "collapsed": false,
    "pycharm": {
     "name": "#%%\n"
    }
   }
  },
  {
   "cell_type": "code",
   "execution_count": 114,
   "outputs": [
    {
     "name": "stdout",
     "output_type": "stream",
     "text": [
      "size train_data_copy after remove low variance: (87350, 23)\n",
      "size train_data_copy after remove high correlation_features: (87350, 21)\n",
      "size train_data_copy after KBest: (87350, 17)\n"
     ]
    },
    {
     "name": "stderr",
     "output_type": "stream",
     "text": [
      "D:\\PycharmProjects\\innowise\\venv\\lib\\site-packages\\sklearn\\feature_selection\\_univariate_selection.py:113: RuntimeWarning: divide by zero encountered in divide\n",
      "  f = msb / msw\n"
     ]
    }
   ],
   "source": [
    "# общий отбор признаков\n",
    "# Функция для удаления признаков с малым разнообразием значений\n",
    "def remove_low_variance_features(df, threshold=0.95, ignore_columns=[]):\n",
    "    num_rows = len(df)\n",
    "    columns_to_check = [col for col in df.columns if col not in ignore_columns]\n",
    "    low_variance_columns = [col for col in columns_to_check if (df[col].value_counts() / num_rows).max() > threshold]\n",
    "    df_filtered = df.drop(columns=low_variance_columns)\n",
    "    return df_filtered\n",
    "\n",
    "# Функция для удаления признаков с высокой корреляцией между собой\n",
    "def remove_high_correlation_features(df, y_df, threshold=0.8, ignore_columns=['ID', 'MARKER']):\n",
    "    corr_matrix = df.corr()  # Вычисляет матрицу корреляции для всех столбцов в df\n",
    "    to_drop = []  # Создает пустой список, в который будут добавляться столбцы для удаления\n",
    "\n",
    "    for column in corr_matrix.columns:  # Проходит по каждому столбцу матрицы корреляции\n",
    "        if column in ignore_columns:\n",
    "            continue  # Пропускает столбцы, указанные в ignore_columns\n",
    "\n",
    "        correlated_columns = corr_matrix.index[corr_matrix[column] > threshold].tolist()  # Находит список столбцов, которые сильно коррелируют с текущим столбцом\n",
    "        if correlated_columns:  # Если список сильно коррелирующих столбцов не пустой\n",
    "            max_corr_with_target = max(correlated_columns, key=lambda col: abs(df[column].corr(y_df)))\n",
    "            # Находит столбец с максимальной абсолютной корреляцией с целевым признаком y_df\n",
    "\n",
    "            if column != max_corr_with_target and max_corr_with_target not in ignore_columns:  # Добавляем проверку, чтобы игнорировать столбцы из ignore_columns\n",
    "                to_drop.append(column)  # Добавляет текущий столбец в список для удаления\n",
    "\n",
    "    df_filtered = df.drop(columns=to_drop)  # Удаляет столбцы из списка to_drop из исходного dataframe df\n",
    "    return df_filtered  # Возвращает новый dataframe с удаленными столбцами\n",
    "\n",
    "\n",
    "#Univariate feature selection\n",
    "\n",
    "def select_KBest(X, y, k=17, ignore_columns=['ID', 'MARKER']):\n",
    "    selector = SelectKBest(score_func=f_classif, k=k)\n",
    "    X_new = selector.fit_transform(X, y)\n",
    "    selected_features = X.columns[selector.get_support()]\n",
    "\n",
    "    X_new_df = pd.DataFrame(X_new, columns=selected_features, index=X.index)\n",
    "\n",
    "    for col in ignore_columns:\n",
    "        X_new_df[col] = X[col]\n",
    "    return X_new_df, selected_features\n",
    "\n",
    "\n",
    "\n",
    "train_data_copy = remove_low_variance_features(train_data_copy,threshold=0.85, ignore_columns=['ID', 'MARKER'])\n",
    "#print(train_data_copy.columns,len(train_data_copy.columns))\n",
    "print(\"size train_data_copy after remove low variance:\",train_data_copy.shape)\n",
    "\n",
    "train_data_copy = remove_high_correlation_features(train_data_copy,y_copy,threshold=0.75,ignore_columns=['ID', 'MARKER'])\n",
    "#print(train_data_copy.columns,len(train_data_copy.columns))\n",
    "print(\"size train_data_copy after remove high correlation_features:\",train_data_copy.shape)\n",
    "\n",
    "train_data_copy,important_columns = select_KBest(train_data_copy, train_data_copy[\"MARKER\"], k=17)\n",
    "#print(train_data_copy.columns,len(train_data_copy.columns))\n",
    "print(\"size train_data_copy after KBest:\",train_data_copy.shape)\n"
   ],
   "metadata": {
    "collapsed": false,
    "pycharm": {
     "name": "#%%\n"
    }
   }
  },
  {
   "cell_type": "code",
   "execution_count": 115,
   "outputs": [
    {
     "data": {
      "text/plain": "'\\n# Примените функцию для создания новой таблицы с балансированными классами\\ntrain_data_copy = perform_random_oversampling(train_data_copy, target_column_name=\"MARKER\")\\nprint(train_data_copy)\\ntrain_data_copy.to_csv(\"random_oversampling.csv\")\\n'"
     },
     "execution_count": 115,
     "metadata": {},
     "output_type": "execute_result"
    }
   ],
   "source": [
    "# Oversampling\n",
    "\n",
    "def perform_random_oversampling(df, target_column_name):\n",
    "    # Выделите признаки и целевую переменную\n",
    "    \"\"\"\n",
    "    X = df.drop(columns=[target_column_name])\n",
    "    y = df[target_column_name]\n",
    "    \"\"\"\n",
    "    # Разделим данные по значениям целевой переменной\n",
    "    df_majority = df[df[target_column_name] == 0]\n",
    "    df_minority = df[df[target_column_name] == 1]\n",
    "\n",
    "    # Применим Random Over-sampling к классу с меньшим количеством записей\n",
    "    df_minority_upsampled = resample(df_minority, replace=True, n_samples=len(df_majority), random_state=42)\n",
    "\n",
    "    # Объединим балансированные классы\n",
    "    balanced_df = pd.concat([df_majority, df_minority_upsampled])\n",
    "\n",
    "    return balanced_df\n",
    "\n",
    "\"\"\"\n",
    "# Примените функцию для создания новой таблицы с балансированными классами\n",
    "train_data_copy = perform_random_oversampling(train_data_copy, target_column_name=\"MARKER\")\n",
    "print(train_data_copy)\n",
    "train_data_copy.to_csv(\"random_oversampling.csv\")\n",
    "\"\"\""
   ],
   "metadata": {
    "collapsed": false,
    "pycharm": {
     "name": "#%%\n"
    }
   }
  },
  {
   "cell_type": "code",
   "execution_count": 116,
   "outputs": [
    {
     "name": "stdout",
     "output_type": "stream",
     "text": [
      "(87350, 17)\n",
      "(86011, 17)\n"
     ]
    }
   ],
   "source": [
    "# undersampling (RepeatedEditedNearestNeighbours)\n",
    "\n",
    "def apply_renn_undersampling(dataframe, target_column_name):\n",
    "    # Разделите данные на признаки (X) и целевую переменную (y)\n",
    "    X = dataframe.drop(columns=[target_column_name])\n",
    "    y = dataframe[target_column_name]\n",
    "\n",
    "    # Инициализируйте RENN\n",
    "    renn = RepeatedEditedNearestNeighbours(sampling_strategy='auto', n_neighbors=3, max_iter=100,n_jobs = 2)\n",
    "\n",
    "    # Примените RENN для андерсэмплинга\n",
    "    X_resampled, y_resampled = renn.fit_resample(X, y)\n",
    "\n",
    "    # Создайте новый DataFrame с уменьшенной выборкой\n",
    "    resampled_dataframe = pd.DataFrame(data=X_resampled, columns=X.columns)\n",
    "    resampled_dataframe[target_column_name] = y_resampled\n",
    "\n",
    "    return resampled_dataframe\n",
    "\n",
    "# Примените функцию к вашему DataFrame\n",
    "print(train_data_copy.shape)\n",
    "train_data_copy = apply_renn_undersampling(train_data_copy, 'MARKER')\n",
    "print(train_data_copy.shape)\n"
   ],
   "metadata": {
    "collapsed": false,
    "pycharm": {
     "name": "#%%\n"
    }
   }
  },
  {
   "cell_type": "code",
   "execution_count": 117,
   "outputs": [
    {
     "name": "stdout",
     "output_type": "stream",
     "text": [
      "(86011, 17)\n",
      "(171374, 17)\n"
     ]
    },
    {
     "name": "stderr",
     "output_type": "stream",
     "text": [
      "D:\\PycharmProjects\\innowise\\venv\\lib\\site-packages\\imblearn\\over_sampling\\_smote\\base.py:345: FutureWarning: The parameter `n_jobs` has been deprecated in 0.10 and will be removed in 0.12. You can pass an nearest neighbors estimator where `n_jobs` is already set instead.\n",
      "  warnings.warn(\n"
     ]
    }
   ],
   "source": [
    "# ovesampling with SMOTE\n",
    "\n",
    "\n",
    "def apply_smote_oversampling(dataframe, target_column_name, random_state=42):\n",
    "    # Разделите данные на признаки (X) и целевую переменную (y)\n",
    "    X = dataframe.drop(columns=[target_column_name])\n",
    "    y = dataframe[target_column_name]\n",
    "\n",
    "    # Инициализируйте SMOTE\n",
    "    smote = SMOTE(sampling_strategy='auto', random_state=random_state,n_jobs = 2)\n",
    "\n",
    "    # Примените SMOTE для oversampling\n",
    "    X_resampled, y_resampled = smote.fit_resample(X, y)\n",
    "\n",
    "    # Создайте новый DataFrame с увеличенной выборкой\n",
    "    resampled_dataframe = pd.DataFrame(data=X_resampled, columns=X.columns)\n",
    "    resampled_dataframe[target_column_name] = y_resampled\n",
    "\n",
    "    return resampled_dataframe\n",
    "\n",
    "# Примените функцию к вашему DataFrame\n",
    "print(train_data_copy.shape)\n",
    "train_data_copy = apply_smote_oversampling(train_data_copy, 'MARKER')\n",
    "print(train_data_copy.shape)\n"
   ],
   "metadata": {
    "collapsed": false,
    "pycharm": {
     "name": "#%%\n"
    }
   }
  },
  {
   "cell_type": "code",
   "execution_count": 118,
   "outputs": [
    {
     "name": "stdout",
     "output_type": "stream",
     "text": [
      "Best Parameters: {'C': 0.38566204211634725, 'penalty': 'l2'}\n",
      "Best F1 Score: 0.8967226035112631\n",
      "Test F1 Score: 0.8160787247511078\n",
      "Selected Features:    Feature  Coefficient\n",
      "4        H     1.074952\n",
      "7        L    -0.824463\n",
      "1        D     0.820600\n",
      "9        N     0.718309\n",
      "10       O    -0.585401\n",
      "11       R    -0.470017\n",
      "13       W    -0.326202\n",
      "6        J    -0.262980\n",
      "8        M    -0.217708\n",
      "14       X    -0.193170\n",
      "Test Predictions: [1 1 0 ... 0 0 0]\n",
      "Test F1 Score (Threshold=0.965): 0.11180124223602483\n",
      "Test ROC AUC Score (Threshold=0.965): 0.8744854375745416\n"
     ]
    }
   ],
   "source": [
    "# логистическая регрессия 3\n",
    "def build_logistic_regression_model(df, target_column_name):\n",
    "    # Выделите признаки и целевую переменную\n",
    "    X = df.drop(columns=['ID', target_column_name])\n",
    "    y = df[target_column_name]\n",
    "\n",
    "    # Разделите данные на обучающий и тестовый наборы\n",
    "    X_train, X_test, y_train, y_test = train_test_split(X, y, test_size=0.2, random_state=42)\n",
    "\n",
    "    # Определите параметры для перебора\n",
    "    param_grid = {\n",
    "        'penalty': ['l1', 'l2'],  # Перебор L1 и L2 регуляризации\n",
    "        'C': np.logspace(-4, 4, 30)  # Перебор параметра регуляризации C\n",
    "    }\n",
    "\n",
    "    # Создайте модель логистической регрессии\n",
    "    logreg = LogisticRegression(solver='liblinear', class_weight='balanced')\n",
    "\n",
    "    # Создайте объект GridSearchCV для перебора параметров\n",
    "    #grid_search = GridSearchCV(logreg, param_grid, cv=5, scoring='f1')\n",
    "    grid_search = GridSearchCV(logreg, param_grid, cv=5, scoring='roc_auc')\n",
    "\n",
    "    # Выполните поиск по сетке на обучающем наборе\n",
    "    grid_search.fit(X_train, y_train)\n",
    "\n",
    "    # Получите наилучшие параметры и значение метрики F1-score\n",
    "    best_params = grid_search.best_params_\n",
    "    best_score = grid_search.best_score_\n",
    "    print(\"Best Parameters:\", best_params)\n",
    "    print(\"Best F1 Score:\", best_score)\n",
    "\n",
    "    # Получите наилучшую модель\n",
    "    best_model = grid_search.best_estimator_\n",
    "\n",
    "    # Обучите модель на выбранных наиболее важных признаках\n",
    "    coefficients = best_model.coef_[0]\n",
    "    feature_names = X.columns\n",
    "    coefficients_df = pd.DataFrame({'Feature': feature_names, 'Coefficient': coefficients})\n",
    "\n",
    "    # Отберите 10 наиболее важных признаков\n",
    "    top_features = coefficients_df.iloc[np.abs(coefficients_df['Coefficient']).nlargest(10).index]\n",
    "    selected_features = top_features['Feature'].tolist()\n",
    "    X_train_selected = X_train[selected_features]\n",
    "    X_test_selected = X_test[selected_features]\n",
    "\n",
    "    # Обучение модели на выбранных признаках\n",
    "    best_model.fit(X_train_selected, y_train)\n",
    "\n",
    "    # Предсказания для тестового набора\n",
    "    y_pred = best_model.predict(X_test_selected)\n",
    "\n",
    "    # Вычислите метрику F1-score на тестовом наборе\n",
    "    test_f1_score = f1_score(y_test, y_pred)\n",
    "    print(\"Test F1 Score:\", test_f1_score)\n",
    "\n",
    "    return best_model, top_features\n",
    "\n",
    "\n",
    "def evaluate_with_threshold(model, test_data, target_column_name, selected_features, threshold=0.5):\n",
    "    # Выделите признаки из test данных\n",
    "    test_X = test_data[selected_features]\n",
    "\n",
    "    # Получите вероятности для класса 1\n",
    "    test_probabilities = model.predict_proba(test_X)[:, 1]\n",
    "\n",
    "    # Примените порог вероятности для получения предсказаний (0 или 1)\n",
    "    test_predictions = (test_probabilities > threshold).astype(int)\n",
    "\n",
    "    # Создайте DataFrame с предсказанными значениями\n",
    "    predictions_df = pd.DataFrame({'Prediction': test_predictions})\n",
    "\n",
    "    # Запишите DataFrame в CSV-файл\n",
    "    predictions_df.to_csv(\"predictions.csv\", index=False)\n",
    "\n",
    "    target_data = test_data[target_column_name]\n",
    "\n",
    "    # Вычислим метрику F1-score на test данных\n",
    "    test_f1 = f1_score(target_data, test_predictions)\n",
    "\n",
    "    # Вычислим метрику ROC AUC на test данных\n",
    "    test_roc_auc = roc_auc_score(target_data, test_probabilities)\n",
    "\n",
    "    return test_predictions, test_f1, test_roc_auc\n",
    "\n",
    "\n",
    "final_model, coefficients = build_logistic_regression_model(train_data_copy, target_column_name=\"MARKER\")\n",
    "print(\"Selected Features:\", coefficients)\n",
    "\n",
    "# Получите список выбранных признаков\n",
    "selected_features = coefficients['Feature'].tolist()\n",
    "\n",
    "# Используйте разные значения порога вероятности и смотрите, как изменяются метрики\n",
    "threshold = 0.965  # Пример значения порога\n",
    "test_predictions, test_f1_score, test_roc_auc = evaluate_with_threshold(final_model, test_data_copy, target_column_name=\"MARKER\", selected_features=selected_features, threshold=threshold)\n",
    "print(\"Test Predictions:\", test_predictions)\n",
    "print(\"Test F1 Score (Threshold={}):\".format(threshold), test_f1_score)\n",
    "print(\"Test ROC AUC Score (Threshold={}):\".format(threshold), test_roc_auc)\n"
   ],
   "metadata": {
    "collapsed": false,
    "pycharm": {
     "name": "#%%\n"
    }
   }
  },
  {
   "cell_type": "code",
   "execution_count": 119,
   "outputs": [
    {
     "name": "stderr",
     "output_type": "stream",
     "text": [
      "[I 2023-09-29 11:37:16,056] A new study created in memory with name: no-name-2e2e32fd-ade9-41b5-8ddd-eb28ab26fcff\n",
      "[I 2023-09-29 11:37:18,696] Trial 0 finished with value: 0.5 and parameters: {'n_estimators': 35, 'max_depth': 6, 'min_samples_split': 0.7599321727924604, 'min_samples_leaf': 0.199336224076536}. Best is trial 0 with value: 0.5.\n",
      "[I 2023-09-29 11:37:20,885] Trial 1 finished with value: 0.5 and parameters: {'n_estimators': 30, 'max_depth': 10, 'min_samples_split': 0.6915182714724312, 'min_samples_leaf': 0.15953657704585142}. Best is trial 0 with value: 0.5.\n",
      "[I 2023-09-29 11:37:22,961] Trial 2 finished with value: 0.5 and parameters: {'n_estimators': 30, 'max_depth': 13, 'min_samples_split': 0.8197644576724294, 'min_samples_leaf': 0.21678563330346495}. Best is trial 0 with value: 0.5.\n",
      "[I 2023-09-29 11:37:24,624] Trial 3 finished with value: 0.9071564102181714 and parameters: {'n_estimators': 10, 'max_depth': 8, 'min_samples_split': 0.39625169902113117, 'min_samples_leaf': 0.2758930983904244}. Best is trial 3 with value: 0.9071564102181714.\n",
      "[I 2023-09-29 11:37:25,799] Trial 4 finished with value: 0.5 and parameters: {'n_estimators': 15, 'max_depth': 14, 'min_samples_split': 0.80566819831531, 'min_samples_leaf': 0.4622340964793126}. Best is trial 3 with value: 0.9071564102181714.\n",
      "[I 2023-09-29 11:37:29,133] Trial 5 finished with value: 0.9166624052591805 and parameters: {'n_estimators': 15, 'max_depth': 5, 'min_samples_split': 0.0800189681107766, 'min_samples_leaf': 0.1641107698503305}. Best is trial 5 with value: 0.9166624052591805.\n",
      "[I 2023-09-29 11:37:31,408] Trial 6 finished with value: 0.5 and parameters: {'n_estimators': 35, 'max_depth': 9, 'min_samples_split': 0.05433764207638269, 'min_samples_leaf': 0.3519323382263739}. Best is trial 5 with value: 0.9166624052591805.\n",
      "[I 2023-09-29 11:37:32,491] Trial 7 finished with value: 0.5 and parameters: {'n_estimators': 15, 'max_depth': 3, 'min_samples_split': 0.8568168010174889, 'min_samples_leaf': 0.498081637360409}. Best is trial 5 with value: 0.9166624052591805.\n",
      "[I 2023-09-29 11:37:34,733] Trial 8 finished with value: 0.5 and parameters: {'n_estimators': 35, 'max_depth': 3, 'min_samples_split': 0.816895001119196, 'min_samples_leaf': 0.4819544990116074}. Best is trial 5 with value: 0.9166624052591805.\n",
      "[I 2023-09-29 11:37:35,407] Trial 9 finished with value: 0.7837895458108471 and parameters: {'n_estimators': 5, 'max_depth': 7, 'min_samples_split': 0.5554149895533039, 'min_samples_leaf': 0.31633995111474983}. Best is trial 5 with value: 0.9166624052591805.\n",
      "[I 2023-09-29 11:37:43,305] Trial 10 finished with value: 0.9589509625607204 and parameters: {'n_estimators': 20, 'max_depth': 5, 'min_samples_split': 0.07895094700271288, 'min_samples_leaf': 0.05169517244111428}. Best is trial 10 with value: 0.9589509625607204.\n",
      "[I 2023-09-29 11:37:50,709] Trial 11 finished with value: 0.9527988195661798 and parameters: {'n_estimators': 20, 'max_depth': 5, 'min_samples_split': 0.05359652707231772, 'min_samples_leaf': 0.06172054422830947}. Best is trial 10 with value: 0.9589509625607204.\n",
      "[I 2023-09-29 11:37:58,880] Trial 12 finished with value: 0.9543881193111454 and parameters: {'n_estimators': 25, 'max_depth': 5, 'min_samples_split': 0.21867578934910425, 'min_samples_leaf': 0.05043919542054806}. Best is trial 10 with value: 0.9589509625607204.\n",
      "[I 2023-09-29 11:38:07,180] Trial 13 finished with value: 0.9541680459471376 and parameters: {'n_estimators': 25, 'max_depth': 11, 'min_samples_split': 0.22052020436987183, 'min_samples_leaf': 0.05179599576736021}. Best is trial 10 with value: 0.9589509625607204.\n",
      "[I 2023-09-29 11:38:13,960] Trial 14 finished with value: 0.9428073832241537 and parameters: {'n_estimators': 25, 'max_depth': 4, 'min_samples_split': 0.26598119656708846, 'min_samples_leaf': 0.08962234978647307}. Best is trial 10 with value: 0.9589509625607204.\n",
      "[I 2023-09-29 11:38:19,540] Trial 15 finished with value: 0.9391970765543679 and parameters: {'n_estimators': 20, 'max_depth': 7, 'min_samples_split': 0.22912887875937019, 'min_samples_leaf': 0.09874243374332967}. Best is trial 10 with value: 0.9589509625607204.\n",
      "[I 2023-09-29 11:38:24,521] Trial 16 finished with value: 0.9273353838197217 and parameters: {'n_estimators': 25, 'max_depth': 5, 'min_samples_split': 0.3831614003701901, 'min_samples_leaf': 0.11759665451976127}. Best is trial 10 with value: 0.9589509625607204.\n",
      "[I 2023-09-29 11:38:29,473] Trial 17 finished with value: 0.9291926055895715 and parameters: {'n_estimators': 20, 'max_depth': 12, 'min_samples_split': 0.1571570322003583, 'min_samples_leaf': 0.13773646154459968}. Best is trial 10 with value: 0.9589509625607204.\n",
      "[I 2023-09-29 11:38:37,108] Trial 18 finished with value: 0.9466972343290276 and parameters: {'n_estimators': 30, 'max_depth': 8, 'min_samples_split': 0.3211221844019766, 'min_samples_leaf': 0.06265881437052831}. Best is trial 10 with value: 0.9589509625607204.\n",
      "[I 2023-09-29 11:38:39,950] Trial 19 finished with value: 0.9365819779838184 and parameters: {'n_estimators': 10, 'max_depth': 6, 'min_samples_split': 0.16201009402138694, 'min_samples_leaf': 0.11318271171373316}. Best is trial 10 with value: 0.9589509625607204.\n",
      "[I 2023-09-29 11:38:41,624] Trial 20 finished with value: 0.5 and parameters: {'n_estimators': 25, 'max_depth': 15, 'min_samples_split': 0.9902873244888676, 'min_samples_leaf': 0.053675627012218674}. Best is trial 10 with value: 0.9589509625607204.\n",
      "[I 2023-09-29 11:38:49,149] Trial 21 finished with value: 0.9454568255765942 and parameters: {'n_estimators': 25, 'max_depth': 11, 'min_samples_split': 0.2063753517972832, 'min_samples_leaf': 0.08334454112857653}. Best is trial 10 with value: 0.9589509625607204.\n",
      "[I 2023-09-29 11:38:58,263] Trial 22 finished with value: 0.9575739483551946 and parameters: {'n_estimators': 25, 'max_depth': 10, 'min_samples_split': 0.16237269017002903, 'min_samples_leaf': 0.0556572254025364}. Best is trial 10 with value: 0.9589509625607204.\n",
      "[I 2023-09-29 11:39:03,383] Trial 23 finished with value: 0.9322071804011614 and parameters: {'n_estimators': 20, 'max_depth': 10, 'min_samples_split': 0.1343578365977623, 'min_samples_leaf': 0.12233070995964201}. Best is trial 10 with value: 0.9589509625607204.\n",
      "[I 2023-09-29 11:39:10,758] Trial 24 finished with value: 0.9409002665992757 and parameters: {'n_estimators': 30, 'max_depth': 9, 'min_samples_split': 0.3015886125965869, 'min_samples_leaf': 0.0964493791425348}. Best is trial 10 with value: 0.9589509625607204.\n",
      "[I 2023-09-29 11:39:16,475] Trial 25 finished with value: 0.953716702838636 and parameters: {'n_estimators': 15, 'max_depth': 4, 'min_samples_split': 0.1296857969903194, 'min_samples_leaf': 0.05047647926791687}. Best is trial 10 with value: 0.9589509625607204.\n",
      "[I 2023-09-29 11:39:22,181] Trial 26 finished with value: 0.9291105107363196 and parameters: {'n_estimators': 25, 'max_depth': 7, 'min_samples_split': 0.10717155601577148, 'min_samples_leaf': 0.14796692144127507}. Best is trial 10 with value: 0.9589509625607204.\n",
      "[I 2023-09-29 11:39:28,787] Trial 27 finished with value: 0.9416613557041291 and parameters: {'n_estimators': 20, 'max_depth': 8, 'min_samples_split': 0.17920801583932117, 'min_samples_leaf': 0.08958639659771772}. Best is trial 10 with value: 0.9589509625607204.\n",
      "[I 2023-09-29 11:39:34,833] Trial 28 finished with value: 0.9224051790633455 and parameters: {'n_estimators': 30, 'max_depth': 6, 'min_samples_split': 0.251469189327075, 'min_samples_leaf': 0.17061842199689203}. Best is trial 10 with value: 0.9589509625607204.\n",
      "[I 2023-09-29 11:39:38,385] Trial 29 finished with value: 0.911195438426035 and parameters: {'n_estimators': 20, 'max_depth': 4, 'min_samples_split': 0.1116155453883868, 'min_samples_leaf': 0.2033268767082101}. Best is trial 10 with value: 0.9589509625607204.\n",
      "[I 2023-09-29 11:39:45,579] Trial 30 finished with value: 0.9330296320499715 and parameters: {'n_estimators': 35, 'max_depth': 10, 'min_samples_split': 0.35541964210262456, 'min_samples_leaf': 0.12488684963250453}. Best is trial 10 with value: 0.9589509625607204.\n",
      "[I 2023-09-29 11:39:53,996] Trial 31 finished with value: 0.9548375010932768 and parameters: {'n_estimators': 25, 'max_depth': 12, 'min_samples_split': 0.2110899285168463, 'min_samples_leaf': 0.05108348277907525}. Best is trial 10 with value: 0.9589509625607204.\n",
      "[I 2023-09-29 11:40:01,565] Trial 32 finished with value: 0.9452833676654435 and parameters: {'n_estimators': 25, 'max_depth': 12, 'min_samples_split': 0.19450568392496742, 'min_samples_leaf': 0.08504393395996745}. Best is trial 10 with value: 0.9589509625607204.\n",
      "[I 2023-09-29 11:40:09,670] Trial 33 finished with value: 0.9487742380267363 and parameters: {'n_estimators': 30, 'max_depth': 12, 'min_samples_split': 0.2897061675293846, 'min_samples_leaf': 0.07882621956515687}. Best is trial 10 with value: 0.9589509625607204.\n",
      "[I 2023-09-29 11:40:14,408] Trial 34 finished with value: 0.9171229394858006 and parameters: {'n_estimators': 25, 'max_depth': 13, 'min_samples_split': 0.05407921807519464, 'min_samples_leaf': 0.17586719925781305}. Best is trial 10 with value: 0.9589509625607204.\n",
      "[I 2023-09-29 11:40:18,247] Trial 35 finished with value: 0.9212449335781541 and parameters: {'n_estimators': 20, 'max_depth': 11, 'min_samples_split': 0.42587858529904377, 'min_samples_leaf': 0.14126953868084052}. Best is trial 10 with value: 0.9589509625607204.\n",
      "[I 2023-09-29 11:40:26,174] Trial 36 finished with value: 0.9428605756728512 and parameters: {'n_estimators': 30, 'max_depth': 10, 'min_samples_split': 0.24812723166021647, 'min_samples_leaf': 0.1053019338473381}. Best is trial 10 with value: 0.9589509625607204.\n",
      "[I 2023-09-29 11:40:28,620] Trial 37 finished with value: 0.9064759393899436 and parameters: {'n_estimators': 15, 'max_depth': 13, 'min_samples_split': 0.11074696083681229, 'min_samples_leaf': 0.2252299413462987}. Best is trial 10 with value: 0.9589509625607204.\n",
      "[I 2023-09-29 11:40:38,450] Trial 38 finished with value: 0.9527240834210314 and parameters: {'n_estimators': 30, 'max_depth': 9, 'min_samples_split': 0.18033859101164085, 'min_samples_leaf': 0.07264119082015957}. Best is trial 10 with value: 0.9589509625607204.\n",
      "[I 2023-09-29 11:40:47,122] Trial 39 finished with value: 0.9504330790888075 and parameters: {'n_estimators': 25, 'max_depth': 8, 'min_samples_split': 0.09256326187510514, 'min_samples_leaf': 0.07262823901397869}. Best is trial 10 with value: 0.9589509625607204.\n"
     ]
    },
    {
     "name": "stdout",
     "output_type": "stream",
     "text": [
      "ROC AUC: 0.8254432567930118\n",
      "Predictions on Test Data: [1. 1. 1. ... 0. 1. 0.]\n"
     ]
    }
   ],
   "source": [
    "# случайный лес 2\n",
    "def objective(trial, X, y):\n",
    "    n_estimators = trial.suggest_int('n_estimators', 5, 35, step=5)\n",
    "    max_depth = trial.suggest_int('max_depth', 3, 15)\n",
    "    min_samples_split = trial.suggest_float('min_samples_split', 0.05, 1.0)\n",
    "    min_samples_leaf = trial.suggest_float('min_samples_leaf', 0.05, 0.5)\n",
    "\n",
    "    model = RandomForestClassifier(\n",
    "        n_estimators=n_estimators,\n",
    "        max_depth=max_depth,\n",
    "        min_samples_split=min_samples_split,\n",
    "        min_samples_leaf=min_samples_leaf,\n",
    "        class_weight='balanced',\n",
    "        random_state=42\n",
    "    )\n",
    "\n",
    "    skf = StratifiedKFold(n_splits=5, shuffle=True, random_state=42)\n",
    "    scores = cross_val_score(model, X, y, cv=skf, scoring='roc_auc')\n",
    "    average_score = scores.mean()\n",
    "\n",
    "    return average_score\n",
    "\n",
    "def build_and_predict_random_forest(train_data, test_data, target_column_name, selected_features):\n",
    "    # Выделите признаки и целевую переменную\n",
    "    X_train = train_data[selected_features]\n",
    "    y_train = train_data[target_column_name]\n",
    "    X_test = test_data[selected_features]\n",
    "    y_test = test_data[target_column_name]\n",
    "\n",
    "    # Подбор гиперпараметров\n",
    "    study = optuna.create_study(direction='maximize')\n",
    "    study.optimize(lambda trial: objective(trial, X_train, y_train), n_trials=40)\n",
    "\n",
    "    best_params = study.best_params\n",
    "    best_n_estimators = best_params['n_estimators']\n",
    "    best_max_depth = best_params['max_depth']\n",
    "    best_min_samples_split = best_params['min_samples_split']\n",
    "    best_min_samples_leaf = best_params['min_samples_leaf']\n",
    "\n",
    "    # Создайте и обучите модель случайного леса с наилучшими гиперпараметрами\n",
    "    model = RandomForestClassifier(\n",
    "        n_estimators=best_n_estimators,\n",
    "        max_depth=best_max_depth,\n",
    "        min_samples_split=best_min_samples_split,\n",
    "        min_samples_leaf=best_min_samples_leaf,\n",
    "        class_weight='balanced',\n",
    "        random_state=42\n",
    "    )\n",
    "    model.fit(X_train, y_train)\n",
    "\n",
    "    # Прогнозирование на тестовых данных\n",
    "    y_pred_prob = model.predict_proba(X_test)[:, 1]\n",
    "\n",
    "    # Вычисление ROC AUC\n",
    "    roc_auc = roc_auc_score(y_test, y_pred_prob)\n",
    "\n",
    "    # Вывод ROC AUC\n",
    "    print(\"ROC AUC:\", roc_auc)\n",
    "\n",
    "    return model\n",
    "\n",
    "# Построение и оценка модели случайного леса\n",
    "model = build_and_predict_random_forest(train_data_copy, test_data_copy, \"MARKER\", selected_features)\n",
    "print(\"Predictions on Test Data:\",model.predict(test_data_copy[selected_features]))"
   ],
   "metadata": {
    "collapsed": false,
    "pycharm": {
     "name": "#%%\n"
    }
   }
  },
  {
   "cell_type": "code",
   "execution_count": 120,
   "outputs": [
    {
     "name": "stderr",
     "output_type": "stream",
     "text": [
      "[I 2023-09-29 11:40:49,177] A new study created in memory with name: no-name-58e66b4b-67f1-4f9c-8a81-38d2d0013707\n",
      "[I 2023-09-29 11:40:54,213] Trial 1 finished with value: 0.9921925233954292 and parameters: {'n_estimators': 1, 'learning_rate': 0.023195597214921825}. Best is trial 1 with value: 0.9921925233954292.\n",
      "[I 2023-09-29 11:40:54,405] Trial 0 finished with value: 0.9921925233954292 and parameters: {'n_estimators': 15, 'learning_rate': 0.050072784552616614}. Best is trial 1 with value: 0.9921925233954292.\n",
      "[I 2023-09-29 11:40:59,318] Trial 2 finished with value: 0.9921925233954292 and parameters: {'n_estimators': 7, 'learning_rate': 0.0508443215642411}. Best is trial 1 with value: 0.9921925233954292.\n",
      "[I 2023-09-29 11:40:59,521] Trial 3 finished with value: 0.9921925233954292 and parameters: {'n_estimators': 1, 'learning_rate': 0.004884119792652251}. Best is trial 1 with value: 0.9921925233954292.\n",
      "[I 2023-09-29 11:41:04,277] Trial 4 finished with value: 0.9921925233954292 and parameters: {'n_estimators': 13, 'learning_rate': 0.9333196751280088}. Best is trial 1 with value: 0.9921925233954292.\n",
      "[I 2023-09-29 11:41:04,501] Trial 5 finished with value: 0.9921925233954292 and parameters: {'n_estimators': 9, 'learning_rate': 0.051885103213078015}. Best is trial 1 with value: 0.9921925233954292.\n",
      "[I 2023-09-29 11:41:09,209] Trial 6 finished with value: 0.9921925233954292 and parameters: {'n_estimators': 15, 'learning_rate': 0.0031744612667545143}. Best is trial 1 with value: 0.9921925233954292.\n",
      "[I 2023-09-29 11:41:09,466] Trial 7 finished with value: 0.9921925233954292 and parameters: {'n_estimators': 5, 'learning_rate': 0.030875507824053128}. Best is trial 1 with value: 0.9921925233954292.\n",
      "[I 2023-09-29 11:41:14,144] Trial 8 finished with value: 0.9921925233954292 and parameters: {'n_estimators': 11, 'learning_rate': 0.1608709455589052}. Best is trial 1 with value: 0.9921925233954292.\n",
      "[I 2023-09-29 11:41:14,409] Trial 9 finished with value: 0.9921925233954292 and parameters: {'n_estimators': 15, 'learning_rate': 0.3736597715573895}. Best is trial 1 with value: 0.9921925233954292.\n",
      "[I 2023-09-29 11:41:19,244] Trial 10 finished with value: 0.9921925233954292 and parameters: {'n_estimators': 3, 'learning_rate': 0.3806019881390627}. Best is trial 1 with value: 0.9921925233954292.\n",
      "[I 2023-09-29 11:41:19,553] Trial 11 finished with value: 0.9921925233954292 and parameters: {'n_estimators': 11, 'learning_rate': 0.0019088124660233254}. Best is trial 1 with value: 0.9921925233954292.\n",
      "[I 2023-09-29 11:41:24,357] Trial 12 finished with value: 0.9921925233954292 and parameters: {'n_estimators': 1, 'learning_rate': 0.01540113247843221}. Best is trial 1 with value: 0.9921925233954292.\n",
      "[I 2023-09-29 11:41:24,644] Trial 13 finished with value: 0.9921925233954292 and parameters: {'n_estimators': 1, 'learning_rate': 0.012560956947512598}. Best is trial 1 with value: 0.9921925233954292.\n",
      "[I 2023-09-29 11:41:30,128] Trial 14 finished with value: 0.9921925233954292 and parameters: {'n_estimators': 5, 'learning_rate': 0.010601990774267997}. Best is trial 1 with value: 0.9921925233954292.\n",
      "[I 2023-09-29 11:41:30,452] Trial 15 finished with value: 0.9921925233954292 and parameters: {'n_estimators': 5, 'learning_rate': 0.001083321170927465}. Best is trial 1 with value: 0.9921925233954292.\n",
      "[I 2023-09-29 11:41:35,520] Trial 16 finished with value: 0.9921925233954292 and parameters: {'n_estimators': 9, 'learning_rate': 0.0010341904575968755}. Best is trial 1 with value: 0.9921925233954292.\n",
      "[I 2023-09-29 11:41:35,799] Trial 17 finished with value: 0.9921925233954292 and parameters: {'n_estimators': 11, 'learning_rate': 0.09248832152256536}. Best is trial 1 with value: 0.9921925233954292.\n",
      "[I 2023-09-29 11:41:40,535] Trial 18 finished with value: 0.9921925233954292 and parameters: {'n_estimators': 13, 'learning_rate': 0.10096350736579282}. Best is trial 1 with value: 0.9921925233954292.\n",
      "[I 2023-09-29 11:41:40,825] Trial 19 finished with value: 0.9921925233954292 and parameters: {'n_estimators': 7, 'learning_rate': 0.025196590286601102}. Best is trial 1 with value: 0.9921925233954292.\n",
      "[I 2023-09-29 11:41:45,398] Trial 20 finished with value: 0.9921925233954292 and parameters: {'n_estimators': 7, 'learning_rate': 0.025511379626837326}. Best is trial 1 with value: 0.9921925233954292.\n",
      "[I 2023-09-29 11:41:45,707] Trial 21 finished with value: 0.9921925233954292 and parameters: {'n_estimators': 3, 'learning_rate': 0.005891934981649594}. Best is trial 1 with value: 0.9921925233954292.\n",
      "[I 2023-09-29 11:41:50,262] Trial 22 finished with value: 0.9921925233954292 and parameters: {'n_estimators': 3, 'learning_rate': 0.05045440376071389}. Best is trial 1 with value: 0.9921925233954292.\n",
      "[I 2023-09-29 11:41:50,582] Trial 23 finished with value: 0.9921925233954292 and parameters: {'n_estimators': 3, 'learning_rate': 0.05357215400425417}. Best is trial 1 with value: 0.9921925233954292.\n",
      "[I 2023-09-29 11:41:55,146] Trial 24 finished with value: 0.9921925233954292 and parameters: {'n_estimators': 13, 'learning_rate': 0.05650451127193199}. Best is trial 1 with value: 0.9921925233954292.\n",
      "[I 2023-09-29 11:41:55,488] Trial 25 finished with value: 0.9921925233954292 and parameters: {'n_estimators': 13, 'learning_rate': 0.023007476402681984}. Best is trial 1 with value: 0.9921925233954292.\n",
      "[I 2023-09-29 11:42:00,027] Trial 26 finished with value: 0.9921925233954292 and parameters: {'n_estimators': 7, 'learning_rate': 0.018321585820593393}. Best is trial 1 with value: 0.9921925233954292.\n",
      "[I 2023-09-29 11:42:00,410] Trial 27 finished with value: 0.9921925233954292 and parameters: {'n_estimators': 7, 'learning_rate': 0.016609850288572394}. Best is trial 1 with value: 0.9921925233954292.\n",
      "[I 2023-09-29 11:42:04,896] Trial 28 finished with value: 0.9921925233954292 and parameters: {'n_estimators': 9, 'learning_rate': 0.011761430977790116}. Best is trial 1 with value: 0.9921925233954292.\n",
      "[I 2023-09-29 11:42:05,254] Trial 29 finished with value: 0.9921925233954292 and parameters: {'n_estimators': 9, 'learning_rate': 0.009151855754439296}. Best is trial 1 with value: 0.9921925233954292.\n"
     ]
    },
    {
     "name": "stdout",
     "output_type": "stream",
     "text": [
      "Optimal Hyperparameters: {'n_estimators': 1, 'learning_rate': 0.023195597214921825}\n",
      "Predictions on Test Data: [0 0 0 ... 0 0 0]\n",
      "Test ROC AUC: 0.8254432567930118\n",
      "Test F1 Score: 0.0\n",
      "время выполнения 76.39049649238586\n"
     ]
    }
   ],
   "source": [
    "# Adaboosting\n",
    "# Функция для оптимизации гиперпараметров\n",
    "def optimize_adaboost_hyperparameters(trial, X_train, y_train):\n",
    "    n_estimators = trial.suggest_int('n_estimators', 1, 15, step=2)\n",
    "    learning_rate = trial.suggest_float('learning_rate', 0.001, 1.0, log=True)\n",
    "\n",
    "    estimator = DecisionTreeClassifier(class_weight='balanced')\n",
    "    model = AdaBoostClassifier(n_estimators=n_estimators, learning_rate=learning_rate, estimator=estimator, random_state=42)\n",
    "    skf = StratifiedKFold(n_splits=5, shuffle=True, random_state=42)\n",
    "    scores = cross_val_score(model, X_train, y_train, cv=skf, scoring='roc_auc')\n",
    "    return np.mean(scores)\n",
    "\n",
    "# Функция для обучения и предсказания с оптимальной моделью\n",
    "def train_and_predict_with_optimal_model(X_train, y_train, X_test, y_test, selected_features, best_params):\n",
    "    X_train_selected = X_train[selected_features]\n",
    "    X_test_selected = X_test[selected_features]\n",
    "\n",
    "    optimal_model = AdaBoostClassifier(n_estimators=best_params['n_estimators'], learning_rate=best_params['learning_rate'], random_state=42)\n",
    "    optimal_model.fit(X_train_selected, y_train)\n",
    "\n",
    "    y_pred_prob = optimal_model.predict_proba(X_test_selected)[:, 1]\n",
    "\n",
    "    fpr, tpr, thresholds = roc_curve(y_test, y_pred_prob)\n",
    "    optimal_threshold_index = np.argmax(tpr - fpr)\n",
    "    optimal_threshold = thresholds[optimal_threshold_index]\n",
    "\n",
    "    y_pred = (y_pred_prob > optimal_threshold).astype(int)\n",
    "\n",
    "    return y_pred\n",
    "\n",
    "def run_ada_boosting():\n",
    "    start = time.time()\n",
    "\n",
    "    # Загрузка данных\n",
    "    X_train = train_data_copy[selected_features]\n",
    "    y_train = train_data_copy['MARKER']\n",
    "\n",
    "    X_test = test_data_copy[selected_features]\n",
    "    y_test = test_data_copy['MARKER']\n",
    "\n",
    "    # Создание Study объекта для оптимизации\n",
    "    study = optuna.create_study(direction='maximize')\n",
    "\n",
    "    # Запуск оптимизации гиперпараметров\n",
    "    study.optimize(lambda trial: optimize_adaboost_hyperparameters(trial, X_train, y_train), n_trials=30, n_jobs=2)\n",
    "\n",
    "    # Получение лучших гиперпараметров\n",
    "    best_params = study.best_params\n",
    "\n",
    "    # Обучение модели с оптимальными гиперпараметрами и прогнозирование на тестовом наборе данных\n",
    "    y_pred = train_and_predict_with_optimal_model(X_train, y_train, X_test, y_test, selected_features, best_params)\n",
    "    y_pred_prob = model.predict_proba(X_test)[:, 1]\n",
    "    # Вычисление метрик\n",
    "    roc_auc = roc_auc_score(y_test, y_pred_prob)\n",
    "    f1 = f1_score(y_test, y_pred)\n",
    "\n",
    "    # Вывод результатов оптимизации и оценки модели\n",
    "    print(\"Optimal Hyperparameters:\", best_params)\n",
    "    print(\"Predictions on Test Data:\", y_pred)\n",
    "    np.savetxt('./data_proc/y_pred_boosting.csv', y_pred)\n",
    "    print(\"Test ROC AUC:\", roc_auc)\n",
    "    print(\"Test F1 Score:\", f1)\n",
    "\n",
    "    finish = time.time()\n",
    "    print(\"время выполнения\", finish - start)\n",
    "\n",
    "run_ada_boosting()"
   ],
   "metadata": {
    "collapsed": false,
    "pycharm": {
     "name": "#%%\n"
    }
   }
  },
  {
   "cell_type": "code",
   "execution_count": 121,
   "outputs": [
    {
     "name": "stdout",
     "output_type": "stream",
     "text": [
      "column to input: Index(['ID', 'C', 'D', 'E', 'G', 'H', 'I', 'J', 'L', 'M', 'N', 'O', 'R', 'S',\n",
      "       'W', 'X', 'MARKER'],\n",
      "      dtype='object')\n",
      "выбран встроенный алгоритм\n"
     ]
    },
    {
     "name": "stderr",
     "output_type": "stream",
     "text": [
      "[I 2023-09-29 11:42:32,474] A new study created in memory with name: no-name-cca15e8e-d0db-4702-a91e-db26e015c939\n"
     ]
    },
    {
     "name": "stdout",
     "output_type": "stream",
     "text": [
      "Selected Features: Index(['H', 'O', 'G', 'S', 'W', 'I', 'N', 'D', 'E', 'L'], dtype='object')\n"
     ]
    },
    {
     "name": "stderr",
     "output_type": "stream",
     "text": [
      "[I 2023-09-29 11:42:45,826] Trial 1 finished with value: 0.5 and parameters: {'n_estimators': 150, 'max_depth': 10, 'min_samples_split': 0.2574506706250925, 'min_samples_leaf': 0.42698024042431204}. Best is trial 1 with value: 0.5.\n",
      "[I 2023-09-29 11:42:53,749] Trial 2 finished with value: 0.8942590970762361 and parameters: {'n_estimators': 100, 'max_depth': 5, 'min_samples_split': 0.3499544523851199, 'min_samples_leaf': 0.28441253389990584}. Best is trial 2 with value: 0.8942590970762361.\n",
      "[I 2023-09-29 11:42:59,135] Trial 5 finished with value: 0.5 and parameters: {'n_estimators': 50, 'max_depth': 4, 'min_samples_split': 0.6430698396865223, 'min_samples_leaf': 0.28297806146460436}. Best is trial 2 with value: 0.8942590970762361.\n",
      "[I 2023-09-29 11:42:59,906] Trial 0 finished with value: 0.5 and parameters: {'n_estimators': 300, 'max_depth': 11, 'min_samples_split': 0.9673173843451558, 'min_samples_leaf': 0.19106155567608396}. Best is trial 2 with value: 0.8942590970762361.\n",
      "[I 2023-09-29 11:43:10,989] Trial 4 finished with value: 0.5 and parameters: {'n_estimators': 250, 'max_depth': 4, 'min_samples_split': 0.2465171586892379, 'min_samples_leaf': 0.3881724893032825}. Best is trial 2 with value: 0.8942590970762361.\n",
      "[I 2023-09-29 11:43:19,792] Trial 6 finished with value: 0.5 and parameters: {'n_estimators': 200, 'max_depth': 10, 'min_samples_split': 0.8421919409361032, 'min_samples_leaf': 0.13065484095054275}. Best is trial 2 with value: 0.8942590970762361.\n",
      "[I 2023-09-29 11:43:20,672] Trial 7 finished with value: 0.5 and parameters: {'n_estimators': 200, 'max_depth': 6, 'min_samples_split': 0.8592953559018581, 'min_samples_leaf': 0.2459438846234201}. Best is trial 2 with value: 0.8942590970762361.\n",
      "[I 2023-09-29 11:43:24,732] Trial 8 finished with value: 0.9156004082482102 and parameters: {'n_estimators': 50, 'max_depth': 3, 'min_samples_split': 0.5366508763496258, 'min_samples_leaf': 0.11249300182224474}. Best is trial 8 with value: 0.9156004082482102.\n",
      "[I 2023-09-29 11:43:45,211] Trial 11 finished with value: 0.5 and parameters: {'n_estimators': 200, 'max_depth': 4, 'min_samples_split': 0.08761465680481997, 'min_samples_leaf': 0.4843407854434541}. Best is trial 8 with value: 0.9156004082482102.\n",
      "[I 2023-09-29 11:43:45,988] Trial 10 finished with value: 0.5 and parameters: {'n_estimators': 250, 'max_depth': 7, 'min_samples_split': 0.7601285295518735, 'min_samples_leaf': 0.1733848988308565}. Best is trial 8 with value: 0.9156004082482102.\n",
      "[I 2023-09-29 11:43:50,242] Trial 9 finished with value: 0.5 and parameters: {'n_estimators': 300, 'max_depth': 9, 'min_samples_split': 0.507137886746837, 'min_samples_leaf': 0.4227502793219285}. Best is trial 8 with value: 0.9156004082482102.\n",
      "[I 2023-09-29 11:43:59,513] Trial 13 finished with value: 0.9156004082482102 and parameters: {'n_estimators': 50, 'max_depth': 15, 'min_samples_split': 0.547881046430797, 'min_samples_leaf': 0.06195995266229379}. Best is trial 8 with value: 0.9156004082482102.\n",
      "[I 2023-09-29 11:44:03,618] Trial 14 finished with value: 0.9183141018827576 and parameters: {'n_estimators': 50, 'max_depth': 3, 'min_samples_split': 0.46679921625901133, 'min_samples_leaf': 0.06177508821565611}. Best is trial 14 with value: 0.9183141018827576.\n",
      "[I 2023-09-29 11:44:06,142] Trial 3 finished with value: 0.9307102250419186 and parameters: {'n_estimators': 250, 'max_depth': 13, 'min_samples_split': 0.3257565393245846, 'min_samples_leaf': 0.13097928370373804}. Best is trial 3 with value: 0.9307102250419186.\n",
      "[I 2023-09-29 11:44:11,709] Trial 15 finished with value: 0.9156004082482102 and parameters: {'n_estimators': 50, 'max_depth': 15, 'min_samples_split': 0.5508673126575666, 'min_samples_leaf': 0.052555391113114865}. Best is trial 3 with value: 0.9307102250419186.\n",
      "[I 2023-09-29 11:44:14,516] Trial 12 finished with value: 0.5 and parameters: {'n_estimators': 350, 'max_depth': 11, 'min_samples_split': 0.3944030580335549, 'min_samples_leaf': 0.42800419037290643}. Best is trial 3 with value: 0.9307102250419186.\n",
      "[I 2023-09-29 11:44:28,407] Trial 16 finished with value: 0.9163425323250166 and parameters: {'n_estimators': 100, 'max_depth': 3, 'min_samples_split': 0.454879139887731, 'min_samples_leaf': 0.06168148299709163}. Best is trial 3 with value: 0.9307102250419186.\n",
      "[I 2023-09-29 11:44:53,082] Trial 19 finished with value: 0.9287829771679851 and parameters: {'n_estimators': 150, 'max_depth': 13, 'min_samples_split': 0.4106701096200557, 'min_samples_leaf': 0.11233023886481926}. Best is trial 3 with value: 0.9307102250419186.\n",
      "[I 2023-09-29 11:45:34,961] Trial 17 finished with value: 0.9324842885629924 and parameters: {'n_estimators': 350, 'max_depth': 14, 'min_samples_split': 0.4017676773861878, 'min_samples_leaf': 0.06213430221070898}. Best is trial 17 with value: 0.9324842885629924.\n",
      "[I 2023-09-29 11:45:36,105] Trial 18 finished with value: 0.9310691554624755 and parameters: {'n_estimators': 350, 'max_depth': 13, 'min_samples_split': 0.4069579073198653, 'min_samples_leaf': 0.0978884257445809}. Best is trial 17 with value: 0.9324842885629924.\n"
     ]
    },
    {
     "name": "stdout",
     "output_type": "stream",
     "text": [
      "Best Hyperparameters: {'n_estimators': 350, 'max_depth': 14, 'min_samples_split': 0.4017676773861878, 'min_samples_leaf': 0.06213430221070898}\n",
      "Test Predictions:        0\n",
      "0      1\n",
      "1      1\n",
      "2      1\n",
      "3      1\n",
      "4      0\n",
      "...   ..\n",
      "38400  0\n",
      "38401  1\n",
      "38402  1\n",
      "38403  1\n",
      "38404  0\n",
      "\n",
      "[38405 rows x 1 columns]\n",
      "Test F1 Score: 0.014648220759044166\n",
      "Test ROC AUC Score: 0.727317182419608\n"
     ]
    }
   ],
   "source": [
    "# универсальный алгоритм 2\n",
    "# Оптимизация гиперпараметров\n",
    "def optimize_hyperparameters(X, y, model_type):\n",
    "    def objective(trial):\n",
    "        if model_type == 'logistic_regression':\n",
    "            param_grid = {\n",
    "                'penalty': trial.suggest_categorical('penalty', ['l1', 'l2']),\n",
    "                'C': trial.suggest_loguniform('C', 1e-6, 1e4)\n",
    "            }\n",
    "            model = LogisticRegression(solver='liblinear', class_weight='balanced', **param_grid)\n",
    "        elif model_type == 'random_forest':\n",
    "            param_grid = {\n",
    "                'n_estimators': trial.suggest_int('n_estimators', 50, 350, step=50),\n",
    "                'max_depth': trial.suggest_int('max_depth', 3, 15),\n",
    "                'min_samples_split': trial.suggest_float('min_samples_split', 0.05, 1.0),\n",
    "                'min_samples_leaf': trial.suggest_float('min_samples_leaf', 0.05, 0.5)\n",
    "            }\n",
    "            model = RandomForestClassifier(\n",
    "                n_estimators=param_grid['n_estimators'],\n",
    "                max_depth=param_grid['max_depth'],\n",
    "                min_samples_split=param_grid['min_samples_split'],\n",
    "                min_samples_leaf=param_grid['min_samples_leaf'],\n",
    "                class_weight='balanced',\n",
    "                random_state=42\n",
    "            )\n",
    "        elif model_type == 'adaboost':\n",
    "            n_estimators = trial.suggest_int('n_estimators', 5, 75, step=5)\n",
    "            learning_rate = trial.suggest_float('learning_rate', 0.001, 1.0, log=True)\n",
    "\n",
    "            estimator = DecisionTreeClassifier(class_weight='balanced')\n",
    "            model = AdaBoostClassifier(n_estimators=n_estimators, learning_rate=learning_rate, estimator=estimator, random_state=42)\n",
    "        # Добавьте другие модели и гиперпараметры по мере необходимости\n",
    "\n",
    "        skf = StratifiedKFold(n_splits=5, shuffle=True, random_state=42)\n",
    "        scores = cross_val_score(model, X, y, cv=skf, scoring='roc_auc' )\n",
    "        return np.mean(scores)\n",
    "\n",
    "    study = optuna.create_study(direction='maximize')\n",
    "    study.optimize(objective, n_trials=20,n_jobs= 4)\n",
    "    best_params = study.best_params\n",
    "    return best_params\n",
    "\n",
    "# Обучение модели\n",
    "def train_model(X_train, y_train, model_type, hyperparameters=None):\n",
    "    if model_type == 'logistic_regression':\n",
    "        if hyperparameters is None:\n",
    "            model = LogisticRegression(solver='liblinear', class_weight='balanced')\n",
    "        else:\n",
    "            model = LogisticRegression(solver='liblinear', class_weight='balanced', **hyperparameters)\n",
    "    elif model_type == 'random_forest':\n",
    "        model = RandomForestClassifier(\n",
    "            #class_weight='balanced',\n",
    "            random_state=42\n",
    "        )\n",
    "    elif model_type == 'adaboost':\n",
    "        if hyperparameters is None:\n",
    "            model = AdaBoostClassifier(random_state=42)\n",
    "        else:\n",
    "            model = AdaBoostClassifier(n_estimators=hyperparameters['n_estimators'], learning_rate=hyperparameters['learning_rate'], random_state=42)\n",
    "    # Добавьте другие модели и параметры по мере необходимости\n",
    "\n",
    "    model.fit(X_train, y_train)\n",
    "    return model\n",
    "\n",
    "# Оценка модели\n",
    "def evaluate_model(model, X_test, y_test):\n",
    "    y_pred_prob = model.predict_proba(X_test)[:, 1]\n",
    "    fpr, tpr, thresholds = roc_curve(y_test, y_pred_prob)\n",
    "    optimal_threshold_index = np.argmax(tpr - fpr)\n",
    "    optimal_threshold = thresholds[optimal_threshold_index]\n",
    "    y_pred = (y_pred_prob > optimal_threshold).astype(int)\n",
    "\n",
    "    f1 = f1_score(y_test, y_pred)\n",
    "    roc_auc = roc_auc_score(y_test, y_pred_prob)\n",
    "\n",
    "    return y_pred, f1, roc_auc\n",
    "\n",
    "def fitness_score(model_type, X_train, y_train, selected_features):\n",
    "    model = train_model(X_train[selected_features], y_train, model_type)\n",
    "    _, _, roc_auc_score = evaluate_model(model, X_train[selected_features], y_train)\n",
    "    return roc_auc_score\n",
    "\n",
    "def mutate(selected_features, mutation_rate):\n",
    "    mutated_features = selected_features.copy()\n",
    "    for i in range(len(mutated_features)):\n",
    "        if random.random() < mutation_rate:\n",
    "            mutated_features[i] = random.randint(0, 1)  # 1 or 0 with equal probability\n",
    "    return mutated_features\n",
    "\n",
    "# Генетический алгоритм\n",
    "def genetic_algorithm(X_train, y_train, model_type, num_gener, popul_size, mutation_rate):\n",
    "    num_features = X_train.shape[1]\n",
    "    column_names = X_train.columns\n",
    "\n",
    "    population = [random.choices([0, 1], k=num_features) for _ in range(popul_size)]\n",
    "\n",
    "    for generation in range(num_gener):\n",
    "        scores = []\n",
    "        for selected_features in population:\n",
    "            selected_column_names = [column_names[i] for i, select in enumerate(selected_features) if select == 1]\n",
    "            score = fitness_score(model_type, X_train, y_train, selected_column_names)\n",
    "            scores.append((selected_features, score))\n",
    "\n",
    "        scores.sort(key=lambda x: x[1], reverse=True)\n",
    "        elite = scores[:num_features // 2]\n",
    "\n",
    "        new_population = [selected_features for selected_features, _ in elite]\n",
    "        while len(new_population) < num_features:\n",
    "            parent1, parent2 = elite[0][0], elite[1][0]  # Use the top 2 parents\n",
    "            child = [parent1[i] if random.random() < 0.5 else parent2[i] for i in range(num_features)]\n",
    "            child = mutate(child, mutation_rate)\n",
    "            new_population.append(child)\n",
    "\n",
    "        population = new_population\n",
    "\n",
    "    best_features = max(scores, key=lambda x: x[1])[0]\n",
    "    return best_features\n",
    "\n",
    "def select_features_random_forest(X_train, y_train, num_features):\n",
    "    model = RandomForestClassifier(n_estimators=100, random_state=42)  # Используйте настройки, подходящие вашей задаче\n",
    "    model.fit(X_train, y_train)\n",
    "\n",
    "    feature_importances = model.feature_importances_\n",
    "    feature_indices = np.argsort(feature_importances)[::-1]  # Сортируем в убывающем порядке\n",
    "\n",
    "    selected_features = X_train.columns[feature_indices[:num_features]]\n",
    "    return selected_features\n",
    "\n",
    "\n",
    "def select_features_adaboost(X_train, y_train, num_features):\n",
    "    model = AdaBoostClassifier(n_estimators=100, random_state=42)  # Используйте настройки, подходящие вашей задаче\n",
    "    model.fit(X_train, y_train)\n",
    "\n",
    "    feature_weights = model.feature_importances_\n",
    "    feature_indices = np.argsort(feature_weights)[::-1]  # Сортируем в убывающем порядке\n",
    "\n",
    "    selected_features = X_train.columns[feature_indices[:num_features]]\n",
    "    return selected_features\n",
    "\n",
    "\n",
    "# Запуск эксперимента\n",
    "def run_experiment(train_data, test_data, target_column_name, model_type, use_gen_alg=False, num_gener=10, popul_size=20, num_features=False, mutat_rate=0.1, hyp_optimize=True):\n",
    "    X_train = train_data.drop(columns=['ID', target_column_name])\n",
    "    y_train = train_data[target_column_name]\n",
    "\n",
    "    if (use_gen_alg or num_features) is False:\n",
    "        best_features = list(X_train.columns)  # Use all features\n",
    "    else:\n",
    "        if use_gen_alg and not num_features:\n",
    "            print(\"выбран генетический алгоритм\")\n",
    "            best_feature_indices = genetic_algorithm(X_train, y_train, model_type, num_gener, popul_size, mutat_rate)\n",
    "            best_features = [X_train.columns[i] for i, select in enumerate(best_feature_indices) if select == 1]\n",
    "        else:\n",
    "            print(\"выбран встроенный алгоритм\")\n",
    "            if model_type == 'logistic_regression' and num_features:\n",
    "                # Use top N features based on coefficients if not optimizing hyperparameters\n",
    "                model = train_model(X_train, y_train, model_type)\n",
    "                coef_abs = np.abs(model.coef_[0])\n",
    "                best_features_idx = np.argsort(coef_abs)[-num_features:]\n",
    "                best_features = list(X_train.columns[best_features_idx])\n",
    "\n",
    "            elif model_type == 'random_forest' and num_features:\n",
    "                best_features = select_features_random_forest(X_train, y_train, num_features)\n",
    "\n",
    "            elif model_type == 'adaboost' and num_features:\n",
    "                best_features = select_features_adaboost(X_train, y_train, num_features)\n",
    "\n",
    "    print(\"Selected Features:\", best_features)\n",
    "\n",
    "    X_train_selected = X_train[best_features]\n",
    "    X_test_selected = test_data.drop(columns=['ID', target_column_name])[best_features]\n",
    "\n",
    "    if hyp_optimize:\n",
    "        best_hyperparameters = optimize_hyperparameters(X_train_selected, y_train, model_type)\n",
    "        print(\"Best Hyperparameters:\", best_hyperparameters)\n",
    "    else:\n",
    "        best_hyperparameters = None\n",
    "\n",
    "    model = train_model(X_train_selected, y_train, model_type, best_hyperparameters)\n",
    "\n",
    "    y_pred, f1, roc_auc = evaluate_model(model, X_test_selected, test_data[target_column_name])\n",
    "\n",
    "    y_pred = pd.DataFrame(y_pred)\n",
    "    y_pred.to_csv('./data_proc/y_pred_universal.csv')\n",
    "\n",
    "    print(\"Test Predictions:\", y_pred)\n",
    "    print(\"Test F1 Score:\", f1)\n",
    "    print(\"Test ROC AUC Score:\", roc_auc)\n",
    "\n",
    "print(\"column to input:\",train_data_copy.columns)\n",
    "run_experiment(train_data_copy, test_data_copy, 'MARKER', \"random_forest\", use_gen_alg=False, num_gener=5, popul_size=4,num_features= 10, mutat_rate=0.999, hyp_optimize=True)"
   ],
   "metadata": {
    "collapsed": false,
    "pycharm": {
     "name": "#%%\n"
    }
   }
  },
  {
   "cell_type": "code",
   "execution_count": 121,
   "outputs": [],
   "source": [
    "\n"
   ],
   "metadata": {
    "collapsed": false,
    "pycharm": {
     "name": "#%%\n"
    }
   }
  },
  {
   "cell_type": "code",
   "execution_count": 121,
   "outputs": [],
   "source": [],
   "metadata": {
    "collapsed": false,
    "pycharm": {
     "name": "#%%\n"
    }
   }
  },
  {
   "cell_type": "code",
   "execution_count": 121,
   "outputs": [],
   "source": [],
   "metadata": {
    "collapsed": false,
    "pycharm": {
     "name": "#%%\n"
    }
   }
  },
  {
   "cell_type": "code",
   "execution_count": 121,
   "outputs": [],
   "source": [],
   "metadata": {
    "collapsed": false,
    "pycharm": {
     "name": "#%%\n"
    }
   }
  },
  {
   "cell_type": "code",
   "execution_count": 121,
   "outputs": [],
   "source": [],
   "metadata": {
    "collapsed": false,
    "pycharm": {
     "name": "#%%\n"
    }
   }
  },
  {
   "cell_type": "code",
   "execution_count": 121,
   "outputs": [],
   "source": [],
   "metadata": {
    "collapsed": false,
    "pycharm": {
     "name": "#%%\n"
    }
   }
  },
  {
   "cell_type": "code",
   "execution_count": 121,
   "outputs": [],
   "source": [],
   "metadata": {
    "collapsed": false,
    "pycharm": {
     "name": "#%%\n"
    }
   }
  },
  {
   "cell_type": "code",
   "execution_count": 121,
   "outputs": [],
   "source": [],
   "metadata": {
    "collapsed": false,
    "pycharm": {
     "name": "#%%\n"
    }
   }
  },
  {
   "cell_type": "code",
   "execution_count": 121,
   "outputs": [],
   "source": [],
   "metadata": {
    "collapsed": false,
    "pycharm": {
     "name": "#%%\n"
    }
   }
  },
  {
   "cell_type": "code",
   "execution_count": 121,
   "outputs": [],
   "source": [],
   "metadata": {
    "collapsed": false,
    "pycharm": {
     "name": "#%%\n"
    }
   }
  },
  {
   "cell_type": "code",
   "execution_count": 121,
   "outputs": [],
   "source": [],
   "metadata": {
    "collapsed": false,
    "pycharm": {
     "name": "#%%\n"
    }
   }
  },
  {
   "cell_type": "code",
   "execution_count": 121,
   "outputs": [],
   "source": [],
   "metadata": {
    "collapsed": false,
    "pycharm": {
     "name": "#%%\n"
    }
   }
  },
  {
   "cell_type": "code",
   "execution_count": 121,
   "outputs": [],
   "source": [],
   "metadata": {
    "collapsed": false,
    "pycharm": {
     "name": "#%%\n"
    }
   }
  },
  {
   "cell_type": "code",
   "execution_count": 121,
   "outputs": [],
   "source": [],
   "metadata": {
    "collapsed": false,
    "pycharm": {
     "name": "#%%\n"
    }
   }
  },
  {
   "cell_type": "code",
   "execution_count": 121,
   "outputs": [],
   "source": [],
   "metadata": {
    "collapsed": false,
    "pycharm": {
     "name": "#%%\n"
    }
   }
  },
  {
   "cell_type": "code",
   "execution_count": 121,
   "outputs": [],
   "source": [],
   "metadata": {
    "collapsed": false,
    "pycharm": {
     "name": "#%%\n"
    }
   }
  },
  {
   "cell_type": "code",
   "execution_count": 121,
   "outputs": [],
   "source": [],
   "metadata": {
    "collapsed": false,
    "pycharm": {
     "name": "#%%\n"
    }
   }
  },
  {
   "cell_type": "code",
   "execution_count": 121,
   "outputs": [],
   "source": [],
   "metadata": {
    "collapsed": false,
    "pycharm": {
     "name": "#%%\n"
    }
   }
  },
  {
   "cell_type": "code",
   "execution_count": 121,
   "outputs": [],
   "source": [],
   "metadata": {
    "collapsed": false,
    "pycharm": {
     "name": "#%%\n"
    }
   }
  },
  {
   "cell_type": "code",
   "execution_count": 121,
   "outputs": [],
   "source": [],
   "metadata": {
    "collapsed": false,
    "pycharm": {
     "name": "#%%\n"
    }
   }
  },
  {
   "cell_type": "code",
   "execution_count": 121,
   "outputs": [],
   "source": [],
   "metadata": {
    "collapsed": false,
    "pycharm": {
     "name": "#%%\n"
    }
   }
  },
  {
   "cell_type": "code",
   "execution_count": 121,
   "outputs": [],
   "source": [],
   "metadata": {
    "collapsed": false,
    "pycharm": {
     "name": "#%%\n"
    }
   }
  },
  {
   "cell_type": "code",
   "execution_count": 121,
   "outputs": [],
   "source": [],
   "metadata": {
    "collapsed": false,
    "pycharm": {
     "name": "#%%\n"
    }
   }
  },
  {
   "cell_type": "code",
   "execution_count": 121,
   "outputs": [],
   "source": [],
   "metadata": {
    "collapsed": false,
    "pycharm": {
     "name": "#%%\n"
    }
   }
  },
  {
   "cell_type": "code",
   "execution_count": 121,
   "outputs": [],
   "source": [],
   "metadata": {
    "collapsed": false,
    "pycharm": {
     "name": "#%%\n"
    }
   }
  },
  {
   "cell_type": "code",
   "execution_count": 121,
   "outputs": [],
   "source": [],
   "metadata": {
    "collapsed": false,
    "pycharm": {
     "name": "#%%\n"
    }
   }
  },
  {
   "cell_type": "code",
   "execution_count": 121,
   "outputs": [],
   "source": [],
   "metadata": {
    "collapsed": false,
    "pycharm": {
     "name": "#%%\n"
    }
   }
  },
  {
   "cell_type": "code",
   "execution_count": 121,
   "outputs": [],
   "source": [],
   "metadata": {
    "collapsed": false,
    "pycharm": {
     "name": "#%%\n"
    }
   }
  },
  {
   "cell_type": "code",
   "execution_count": 121,
   "outputs": [],
   "source": [],
   "metadata": {
    "collapsed": false,
    "pycharm": {
     "name": "#%%\n"
    }
   }
  },
  {
   "cell_type": "code",
   "execution_count": 121,
   "outputs": [],
   "source": [],
   "metadata": {
    "collapsed": false,
    "pycharm": {
     "name": "#%%\n"
    }
   }
  },
  {
   "cell_type": "code",
   "execution_count": 121,
   "outputs": [],
   "source": [],
   "metadata": {
    "collapsed": false,
    "pycharm": {
     "name": "#%%\n"
    }
   }
  },
  {
   "cell_type": "code",
   "execution_count": 121,
   "outputs": [],
   "source": [],
   "metadata": {
    "collapsed": false,
    "pycharm": {
     "name": "#%%\n"
    }
   }
  },
  {
   "cell_type": "code",
   "execution_count": 121,
   "outputs": [],
   "source": [],
   "metadata": {
    "collapsed": false,
    "pycharm": {
     "name": "#%%\n"
    }
   }
  },
  {
   "cell_type": "code",
   "execution_count": 121,
   "outputs": [],
   "source": [],
   "metadata": {
    "collapsed": false,
    "pycharm": {
     "name": "#%%\n"
    }
   }
  },
  {
   "cell_type": "code",
   "execution_count": 121,
   "outputs": [],
   "source": [],
   "metadata": {
    "collapsed": false,
    "pycharm": {
     "name": "#%%\n"
    }
   }
  },
  {
   "cell_type": "code",
   "execution_count": 121,
   "outputs": [],
   "source": [],
   "metadata": {
    "collapsed": false,
    "pycharm": {
     "name": "#%%\n"
    }
   }
  },
  {
   "cell_type": "code",
   "execution_count": 121,
   "outputs": [],
   "source": [],
   "metadata": {
    "collapsed": false,
    "pycharm": {
     "name": "#%%\n"
    }
   }
  },
  {
   "cell_type": "code",
   "execution_count": 121,
   "outputs": [],
   "source": [],
   "metadata": {
    "collapsed": false,
    "pycharm": {
     "name": "#%%\n"
    }
   }
  },
  {
   "cell_type": "code",
   "execution_count": 121,
   "outputs": [],
   "source": [],
   "metadata": {
    "collapsed": false,
    "pycharm": {
     "name": "#%%\n"
    }
   }
  },
  {
   "cell_type": "code",
   "execution_count": 121,
   "outputs": [],
   "source": [],
   "metadata": {
    "collapsed": false,
    "pycharm": {
     "name": "#%%\n"
    }
   }
  },
  {
   "cell_type": "code",
   "execution_count": 121,
   "outputs": [],
   "source": [],
   "metadata": {
    "collapsed": false,
    "pycharm": {
     "name": "#%%\n"
    }
   }
  },
  {
   "cell_type": "code",
   "execution_count": 121,
   "outputs": [],
   "source": [],
   "metadata": {
    "collapsed": false,
    "pycharm": {
     "name": "#%%\n"
    }
   }
  },
  {
   "cell_type": "code",
   "execution_count": 121,
   "outputs": [],
   "source": [],
   "metadata": {
    "collapsed": false,
    "pycharm": {
     "name": "#%%\n"
    }
   }
  },
  {
   "cell_type": "code",
   "execution_count": 121,
   "outputs": [],
   "source": [],
   "metadata": {
    "collapsed": false,
    "pycharm": {
     "name": "#%%\n"
    }
   }
  },
  {
   "cell_type": "code",
   "execution_count": 121,
   "outputs": [],
   "source": [],
   "metadata": {
    "collapsed": false,
    "pycharm": {
     "name": "#%%\n"
    }
   }
  },
  {
   "cell_type": "code",
   "execution_count": 121,
   "outputs": [],
   "source": [],
   "metadata": {
    "collapsed": false,
    "pycharm": {
     "name": "#%%\n"
    }
   }
  },
  {
   "cell_type": "code",
   "execution_count": 121,
   "outputs": [],
   "source": [],
   "metadata": {
    "collapsed": false,
    "pycharm": {
     "name": "#%%\n"
    }
   }
  },
  {
   "cell_type": "code",
   "execution_count": 121,
   "outputs": [],
   "source": [],
   "metadata": {
    "collapsed": false,
    "pycharm": {
     "name": "#%%\n"
    }
   }
  },
  {
   "cell_type": "code",
   "execution_count": 121,
   "outputs": [],
   "source": [],
   "metadata": {
    "collapsed": false,
    "pycharm": {
     "name": "#%%\n"
    }
   }
  },
  {
   "cell_type": "code",
   "execution_count": 121,
   "outputs": [],
   "source": [],
   "metadata": {
    "collapsed": false,
    "pycharm": {
     "name": "#%%\n"
    }
   }
  },
  {
   "cell_type": "code",
   "execution_count": 121,
   "outputs": [],
   "source": [],
   "metadata": {
    "collapsed": false,
    "pycharm": {
     "name": "#%%\n"
    }
   }
  },
  {
   "cell_type": "code",
   "execution_count": 121,
   "outputs": [],
   "source": [],
   "metadata": {
    "collapsed": false,
    "pycharm": {
     "name": "#%%\n"
    }
   }
  },
  {
   "cell_type": "code",
   "execution_count": 121,
   "outputs": [],
   "source": [],
   "metadata": {
    "collapsed": false,
    "pycharm": {
     "name": "#%%\n"
    }
   }
  },
  {
   "cell_type": "code",
   "execution_count": 121,
   "outputs": [],
   "source": [],
   "metadata": {
    "collapsed": false,
    "pycharm": {
     "name": "#%%\n"
    }
   }
  },
  {
   "cell_type": "code",
   "execution_count": 121,
   "outputs": [],
   "source": [],
   "metadata": {
    "collapsed": false,
    "pycharm": {
     "name": "#%%\n"
    }
   }
  },
  {
   "cell_type": "code",
   "execution_count": 121,
   "outputs": [],
   "source": [],
   "metadata": {
    "collapsed": false,
    "pycharm": {
     "name": "#%%\n"
    }
   }
  },
  {
   "cell_type": "code",
   "execution_count": 121,
   "outputs": [],
   "source": [],
   "metadata": {
    "collapsed": false,
    "pycharm": {
     "name": "#%%\n"
    }
   }
  },
  {
   "cell_type": "code",
   "execution_count": 121,
   "outputs": [],
   "source": [],
   "metadata": {
    "collapsed": false,
    "pycharm": {
     "name": "#%%\n"
    }
   }
  },
  {
   "cell_type": "code",
   "execution_count": 121,
   "outputs": [],
   "source": [],
   "metadata": {
    "collapsed": false,
    "pycharm": {
     "name": "#%%\n"
    }
   }
  },
  {
   "cell_type": "code",
   "execution_count": 121,
   "outputs": [],
   "source": [],
   "metadata": {
    "collapsed": false,
    "pycharm": {
     "name": "#%%\n"
    }
   }
  },
  {
   "cell_type": "code",
   "execution_count": 121,
   "outputs": [],
   "source": [],
   "metadata": {
    "collapsed": false,
    "pycharm": {
     "name": "#%%\n"
    }
   }
  },
  {
   "cell_type": "code",
   "execution_count": 121,
   "outputs": [],
   "source": [],
   "metadata": {
    "collapsed": false,
    "pycharm": {
     "name": "#%%\n"
    }
   }
  },
  {
   "cell_type": "code",
   "execution_count": 121,
   "outputs": [],
   "source": [],
   "metadata": {
    "collapsed": false,
    "pycharm": {
     "name": "#%%\n"
    }
   }
  },
  {
   "cell_type": "code",
   "execution_count": 121,
   "outputs": [],
   "source": [],
   "metadata": {
    "collapsed": false,
    "pycharm": {
     "name": "#%%\n"
    }
   }
  },
  {
   "cell_type": "code",
   "execution_count": 121,
   "outputs": [],
   "source": [],
   "metadata": {
    "collapsed": false,
    "pycharm": {
     "name": "#%%\n"
    }
   }
  },
  {
   "cell_type": "code",
   "execution_count": 121,
   "outputs": [],
   "source": [],
   "metadata": {
    "collapsed": false,
    "pycharm": {
     "name": "#%%\n"
    }
   }
  },
  {
   "cell_type": "code",
   "execution_count": 121,
   "outputs": [],
   "source": [],
   "metadata": {
    "collapsed": false,
    "pycharm": {
     "name": "#%%\n"
    }
   }
  },
  {
   "cell_type": "code",
   "execution_count": 121,
   "outputs": [],
   "source": [],
   "metadata": {
    "collapsed": false,
    "pycharm": {
     "name": "#%%\n"
    }
   }
  },
  {
   "cell_type": "code",
   "execution_count": 121,
   "outputs": [],
   "source": [],
   "metadata": {
    "collapsed": false,
    "pycharm": {
     "name": "#%%\n"
    }
   }
  },
  {
   "cell_type": "code",
   "execution_count": 121,
   "outputs": [],
   "source": [],
   "metadata": {
    "collapsed": false,
    "pycharm": {
     "name": "#%%\n"
    }
   }
  },
  {
   "cell_type": "code",
   "execution_count": null,
   "outputs": [],
   "source": [],
   "metadata": {
    "collapsed": false,
    "pycharm": {
     "name": "#%%\n",
     "is_executing": true
    }
   }
  },
  {
   "cell_type": "code",
   "execution_count": null,
   "outputs": [],
   "source": [],
   "metadata": {
    "collapsed": false,
    "pycharm": {
     "name": "#%%\n",
     "is_executing": true
    }
   }
  },
  {
   "cell_type": "code",
   "execution_count": null,
   "outputs": [],
   "source": [],
   "metadata": {
    "collapsed": false,
    "pycharm": {
     "name": "#%%\n",
     "is_executing": true
    }
   }
  },
  {
   "cell_type": "code",
   "execution_count": null,
   "outputs": [],
   "source": [],
   "metadata": {
    "collapsed": false,
    "pycharm": {
     "name": "#%%\n",
     "is_executing": true
    }
   }
  },
  {
   "cell_type": "code",
   "execution_count": null,
   "outputs": [],
   "source": [],
   "metadata": {
    "collapsed": false,
    "pycharm": {
     "name": "#%%\n",
     "is_executing": true
    }
   }
  },
  {
   "cell_type": "code",
   "execution_count": null,
   "outputs": [],
   "source": [],
   "metadata": {
    "collapsed": false,
    "pycharm": {
     "name": "#%%\n",
     "is_executing": true
    }
   }
  },
  {
   "cell_type": "code",
   "execution_count": null,
   "outputs": [],
   "source": [],
   "metadata": {
    "collapsed": false,
    "pycharm": {
     "name": "#%%\n",
     "is_executing": true
    }
   }
  },
  {
   "cell_type": "code",
   "execution_count": null,
   "outputs": [],
   "source": [],
   "metadata": {
    "collapsed": false,
    "pycharm": {
     "name": "#%%\n",
     "is_executing": true
    }
   }
  },
  {
   "cell_type": "code",
   "execution_count": null,
   "outputs": [],
   "source": [],
   "metadata": {
    "collapsed": false,
    "pycharm": {
     "name": "#%%\n",
     "is_executing": true
    }
   }
  },
  {
   "cell_type": "code",
   "execution_count": null,
   "outputs": [],
   "source": [],
   "metadata": {
    "collapsed": false,
    "pycharm": {
     "name": "#%%\n",
     "is_executing": true
    }
   }
  },
  {
   "cell_type": "code",
   "execution_count": null,
   "outputs": [],
   "source": [],
   "metadata": {
    "collapsed": false,
    "pycharm": {
     "name": "#%%\n",
     "is_executing": true
    }
   }
  },
  {
   "cell_type": "code",
   "execution_count": null,
   "outputs": [],
   "source": [],
   "metadata": {
    "collapsed": false,
    "pycharm": {
     "name": "#%%\n",
     "is_executing": true
    }
   }
  },
  {
   "cell_type": "code",
   "execution_count": null,
   "outputs": [],
   "source": [],
   "metadata": {
    "collapsed": false,
    "pycharm": {
     "name": "#%%\n",
     "is_executing": true
    }
   }
  },
  {
   "cell_type": "code",
   "execution_count": null,
   "outputs": [],
   "source": [],
   "metadata": {
    "collapsed": false,
    "pycharm": {
     "name": "#%%\n",
     "is_executing": true
    }
   }
  },
  {
   "cell_type": "code",
   "execution_count": null,
   "outputs": [],
   "source": [],
   "metadata": {
    "collapsed": false,
    "pycharm": {
     "name": "#%%\n",
     "is_executing": true
    }
   }
  },
  {
   "cell_type": "code",
   "execution_count": null,
   "outputs": [],
   "source": [],
   "metadata": {
    "collapsed": false,
    "pycharm": {
     "name": "#%%\n",
     "is_executing": true
    }
   }
  },
  {
   "cell_type": "code",
   "execution_count": null,
   "outputs": [],
   "source": [],
   "metadata": {
    "collapsed": false,
    "pycharm": {
     "name": "#%%\n",
     "is_executing": true
    }
   }
  },
  {
   "cell_type": "code",
   "execution_count": null,
   "outputs": [],
   "source": [],
   "metadata": {
    "collapsed": false,
    "pycharm": {
     "name": "#%%\n",
     "is_executing": true
    }
   }
  },
  {
   "cell_type": "code",
   "execution_count": null,
   "outputs": [],
   "source": [],
   "metadata": {
    "collapsed": false,
    "pycharm": {
     "name": "#%%\n",
     "is_executing": true
    }
   }
  },
  {
   "cell_type": "code",
   "execution_count": null,
   "outputs": [],
   "source": [],
   "metadata": {
    "collapsed": false,
    "pycharm": {
     "name": "#%%\n",
     "is_executing": true
    }
   }
  },
  {
   "cell_type": "code",
   "execution_count": null,
   "outputs": [],
   "source": [],
   "metadata": {
    "collapsed": false,
    "pycharm": {
     "name": "#%%\n",
     "is_executing": true
    }
   }
  },
  {
   "cell_type": "code",
   "execution_count": null,
   "outputs": [],
   "source": [],
   "metadata": {
    "collapsed": false,
    "pycharm": {
     "name": "#%%\n",
     "is_executing": true
    }
   }
  },
  {
   "cell_type": "code",
   "execution_count": null,
   "outputs": [],
   "source": [],
   "metadata": {
    "collapsed": false,
    "pycharm": {
     "name": "#%%\n",
     "is_executing": true
    }
   }
  },
  {
   "cell_type": "code",
   "execution_count": null,
   "outputs": [],
   "source": [],
   "metadata": {
    "collapsed": false,
    "pycharm": {
     "name": "#%%\n",
     "is_executing": true
    }
   }
  },
  {
   "cell_type": "code",
   "execution_count": null,
   "outputs": [],
   "source": [],
   "metadata": {
    "collapsed": false,
    "pycharm": {
     "name": "#%%\n",
     "is_executing": true
    }
   }
  },
  {
   "cell_type": "code",
   "execution_count": null,
   "outputs": [],
   "source": [],
   "metadata": {
    "collapsed": false,
    "pycharm": {
     "name": "#%%\n",
     "is_executing": true
    }
   }
  },
  {
   "cell_type": "code",
   "execution_count": null,
   "outputs": [],
   "source": [],
   "metadata": {
    "collapsed": false,
    "pycharm": {
     "name": "#%%\n",
     "is_executing": true
    }
   }
  },
  {
   "cell_type": "code",
   "execution_count": null,
   "outputs": [],
   "source": [],
   "metadata": {
    "collapsed": false,
    "pycharm": {
     "name": "#%%\n",
     "is_executing": true
    }
   }
  },
  {
   "cell_type": "code",
   "execution_count": null,
   "outputs": [],
   "source": [],
   "metadata": {
    "collapsed": false,
    "pycharm": {
     "name": "#%%\n",
     "is_executing": true
    }
   }
  },
  {
   "cell_type": "code",
   "execution_count": null,
   "outputs": [],
   "source": [],
   "metadata": {
    "collapsed": false,
    "pycharm": {
     "name": "#%%\n",
     "is_executing": true
    }
   }
  },
  {
   "cell_type": "code",
   "execution_count": null,
   "outputs": [],
   "source": [],
   "metadata": {
    "collapsed": false,
    "pycharm": {
     "name": "#%%\n",
     "is_executing": true
    }
   }
  },
  {
   "cell_type": "code",
   "execution_count": null,
   "outputs": [],
   "source": [],
   "metadata": {
    "collapsed": false,
    "pycharm": {
     "name": "#%%\n",
     "is_executing": true
    }
   }
  },
  {
   "cell_type": "code",
   "execution_count": null,
   "outputs": [],
   "source": [],
   "metadata": {
    "collapsed": false,
    "pycharm": {
     "name": "#%%\n",
     "is_executing": true
    }
   }
  },
  {
   "cell_type": "code",
   "execution_count": null,
   "outputs": [],
   "source": [],
   "metadata": {
    "collapsed": false,
    "pycharm": {
     "name": "#%%\n",
     "is_executing": true
    }
   }
  },
  {
   "cell_type": "code",
   "execution_count": null,
   "outputs": [],
   "source": [],
   "metadata": {
    "collapsed": false,
    "pycharm": {
     "name": "#%%\n",
     "is_executing": true
    }
   }
  },
  {
   "cell_type": "code",
   "execution_count": null,
   "outputs": [],
   "source": [],
   "metadata": {
    "collapsed": false,
    "pycharm": {
     "name": "#%%\n",
     "is_executing": true
    }
   }
  },
  {
   "cell_type": "code",
   "execution_count": null,
   "outputs": [],
   "source": [],
   "metadata": {
    "collapsed": false,
    "pycharm": {
     "name": "#%%\n",
     "is_executing": true
    }
   }
  },
  {
   "cell_type": "code",
   "execution_count": null,
   "outputs": [],
   "source": [],
   "metadata": {
    "collapsed": false,
    "pycharm": {
     "name": "#%%\n",
     "is_executing": true
    }
   }
  },
  {
   "cell_type": "code",
   "execution_count": null,
   "outputs": [],
   "source": [],
   "metadata": {
    "collapsed": false,
    "pycharm": {
     "name": "#%%\n",
     "is_executing": true
    }
   }
  },
  {
   "cell_type": "code",
   "execution_count": null,
   "outputs": [],
   "source": [],
   "metadata": {
    "collapsed": false,
    "pycharm": {
     "name": "#%%\n",
     "is_executing": true
    }
   }
  },
  {
   "cell_type": "code",
   "execution_count": null,
   "outputs": [],
   "source": [],
   "metadata": {
    "collapsed": false,
    "pycharm": {
     "name": "#%%\n",
     "is_executing": true
    }
   }
  },
  {
   "cell_type": "code",
   "execution_count": null,
   "outputs": [],
   "source": [],
   "metadata": {
    "collapsed": false,
    "pycharm": {
     "name": "#%%\n",
     "is_executing": true
    }
   }
  },
  {
   "cell_type": "code",
   "execution_count": null,
   "outputs": [],
   "source": [],
   "metadata": {
    "collapsed": false,
    "pycharm": {
     "name": "#%%\n",
     "is_executing": true
    }
   }
  },
  {
   "cell_type": "code",
   "execution_count": null,
   "outputs": [],
   "source": [],
   "metadata": {
    "collapsed": false,
    "pycharm": {
     "name": "#%%\n",
     "is_executing": true
    }
   }
  },
  {
   "cell_type": "code",
   "execution_count": null,
   "outputs": [],
   "source": [],
   "metadata": {
    "collapsed": false,
    "pycharm": {
     "name": "#%%\n",
     "is_executing": true
    }
   }
  },
  {
   "cell_type": "code",
   "execution_count": null,
   "outputs": [],
   "source": [],
   "metadata": {
    "collapsed": false,
    "pycharm": {
     "name": "#%%\n",
     "is_executing": true
    }
   }
  },
  {
   "cell_type": "code",
   "execution_count": null,
   "outputs": [],
   "source": [],
   "metadata": {
    "collapsed": false,
    "pycharm": {
     "name": "#%%\n",
     "is_executing": true
    }
   }
  },
  {
   "cell_type": "code",
   "execution_count": null,
   "outputs": [],
   "source": [],
   "metadata": {
    "collapsed": false,
    "pycharm": {
     "name": "#%%\n",
     "is_executing": true
    }
   }
  },
  {
   "cell_type": "code",
   "execution_count": null,
   "outputs": [],
   "source": [],
   "metadata": {
    "collapsed": false,
    "pycharm": {
     "name": "#%%\n",
     "is_executing": true
    }
   }
  },
  {
   "cell_type": "code",
   "execution_count": null,
   "outputs": [],
   "source": [],
   "metadata": {
    "collapsed": false,
    "pycharm": {
     "name": "#%%\n",
     "is_executing": true
    }
   }
  },
  {
   "cell_type": "code",
   "execution_count": null,
   "outputs": [],
   "source": [],
   "metadata": {
    "collapsed": false,
    "pycharm": {
     "name": "#%%\n",
     "is_executing": true
    }
   }
  },
  {
   "cell_type": "code",
   "execution_count": null,
   "outputs": [],
   "source": [],
   "metadata": {
    "collapsed": false,
    "pycharm": {
     "name": "#%%\n",
     "is_executing": true
    }
   }
  },
  {
   "cell_type": "code",
   "execution_count": null,
   "outputs": [],
   "source": [],
   "metadata": {
    "collapsed": false,
    "pycharm": {
     "name": "#%%\n",
     "is_executing": true
    }
   }
  },
  {
   "cell_type": "code",
   "execution_count": null,
   "outputs": [],
   "source": [],
   "metadata": {
    "collapsed": false,
    "pycharm": {
     "name": "#%%\n",
     "is_executing": true
    }
   }
  },
  {
   "cell_type": "code",
   "execution_count": null,
   "outputs": [],
   "source": [],
   "metadata": {
    "collapsed": false,
    "pycharm": {
     "name": "#%%\n",
     "is_executing": true
    }
   }
  },
  {
   "cell_type": "code",
   "execution_count": null,
   "outputs": [],
   "source": [],
   "metadata": {
    "collapsed": false,
    "pycharm": {
     "name": "#%%\n",
     "is_executing": true
    }
   }
  },
  {
   "cell_type": "code",
   "execution_count": null,
   "outputs": [],
   "source": [],
   "metadata": {
    "collapsed": false,
    "pycharm": {
     "name": "#%%\n",
     "is_executing": true
    }
   }
  },
  {
   "cell_type": "code",
   "execution_count": null,
   "outputs": [],
   "source": [],
   "metadata": {
    "collapsed": false,
    "pycharm": {
     "name": "#%%\n",
     "is_executing": true
    }
   }
  },
  {
   "cell_type": "code",
   "execution_count": null,
   "outputs": [],
   "source": [],
   "metadata": {
    "collapsed": false,
    "pycharm": {
     "name": "#%%\n",
     "is_executing": true
    }
   }
  },
  {
   "cell_type": "code",
   "execution_count": null,
   "outputs": [],
   "source": [],
   "metadata": {
    "collapsed": false,
    "pycharm": {
     "name": "#%%\n",
     "is_executing": true
    }
   }
  },
  {
   "cell_type": "code",
   "execution_count": null,
   "outputs": [],
   "source": [],
   "metadata": {
    "collapsed": false,
    "pycharm": {
     "name": "#%%\n",
     "is_executing": true
    }
   }
  },
  {
   "cell_type": "code",
   "execution_count": null,
   "outputs": [],
   "source": [],
   "metadata": {
    "collapsed": false,
    "pycharm": {
     "name": "#%%\n",
     "is_executing": true
    }
   }
  },
  {
   "cell_type": "code",
   "execution_count": null,
   "outputs": [],
   "source": [],
   "metadata": {
    "collapsed": false,
    "pycharm": {
     "name": "#%%\n",
     "is_executing": true
    }
   }
  },
  {
   "cell_type": "code",
   "execution_count": null,
   "outputs": [],
   "source": [],
   "metadata": {
    "collapsed": false,
    "pycharm": {
     "name": "#%%\n",
     "is_executing": true
    }
   }
  },
  {
   "cell_type": "code",
   "execution_count": null,
   "outputs": [],
   "source": [],
   "metadata": {
    "collapsed": false,
    "pycharm": {
     "name": "#%%\n",
     "is_executing": true
    }
   }
  },
  {
   "cell_type": "code",
   "execution_count": null,
   "outputs": [],
   "source": [],
   "metadata": {
    "collapsed": false,
    "pycharm": {
     "name": "#%%\n",
     "is_executing": true
    }
   }
  },
  {
   "cell_type": "code",
   "execution_count": null,
   "outputs": [],
   "source": [],
   "metadata": {
    "collapsed": false,
    "pycharm": {
     "name": "#%%\n",
     "is_executing": true
    }
   }
  },
  {
   "cell_type": "code",
   "execution_count": null,
   "outputs": [],
   "source": [],
   "metadata": {
    "collapsed": false,
    "pycharm": {
     "name": "#%%\n",
     "is_executing": true
    }
   }
  },
  {
   "cell_type": "code",
   "execution_count": null,
   "outputs": [],
   "source": [],
   "metadata": {
    "collapsed": false,
    "pycharm": {
     "name": "#%%\n",
     "is_executing": true
    }
   }
  },
  {
   "cell_type": "code",
   "execution_count": null,
   "outputs": [],
   "source": [],
   "metadata": {
    "collapsed": false,
    "pycharm": {
     "name": "#%%\n",
     "is_executing": true
    }
   }
  },
  {
   "cell_type": "code",
   "execution_count": null,
   "outputs": [],
   "source": [],
   "metadata": {
    "collapsed": false,
    "pycharm": {
     "name": "#%%\n",
     "is_executing": true
    }
   }
  },
  {
   "cell_type": "code",
   "execution_count": null,
   "outputs": [],
   "source": [],
   "metadata": {
    "collapsed": false,
    "pycharm": {
     "name": "#%%\n",
     "is_executing": true
    }
   }
  },
  {
   "cell_type": "code",
   "execution_count": null,
   "outputs": [],
   "source": [],
   "metadata": {
    "collapsed": false,
    "pycharm": {
     "name": "#%%\n",
     "is_executing": true
    }
   }
  },
  {
   "cell_type": "code",
   "execution_count": null,
   "outputs": [],
   "source": [],
   "metadata": {
    "collapsed": false,
    "pycharm": {
     "name": "#%%\n",
     "is_executing": true
    }
   }
  },
  {
   "cell_type": "code",
   "execution_count": null,
   "outputs": [],
   "source": [],
   "metadata": {
    "collapsed": false,
    "pycharm": {
     "name": "#%%\n",
     "is_executing": true
    }
   }
  },
  {
   "cell_type": "code",
   "execution_count": null,
   "outputs": [],
   "source": [],
   "metadata": {
    "collapsed": false,
    "pycharm": {
     "name": "#%%\n",
     "is_executing": true
    }
   }
  },
  {
   "cell_type": "code",
   "execution_count": null,
   "outputs": [],
   "source": [],
   "metadata": {
    "collapsed": false,
    "pycharm": {
     "name": "#%%\n",
     "is_executing": true
    }
   }
  },
  {
   "cell_type": "code",
   "execution_count": null,
   "outputs": [],
   "source": [],
   "metadata": {
    "collapsed": false,
    "pycharm": {
     "name": "#%%\n",
     "is_executing": true
    }
   }
  },
  {
   "cell_type": "code",
   "execution_count": null,
   "outputs": [],
   "source": [],
   "metadata": {
    "collapsed": false,
    "pycharm": {
     "name": "#%%\n",
     "is_executing": true
    }
   }
  },
  {
   "cell_type": "code",
   "execution_count": null,
   "outputs": [],
   "source": [],
   "metadata": {
    "collapsed": false,
    "pycharm": {
     "name": "#%%\n",
     "is_executing": true
    }
   }
  },
  {
   "cell_type": "code",
   "execution_count": null,
   "outputs": [],
   "source": [],
   "metadata": {
    "collapsed": false,
    "pycharm": {
     "name": "#%%\n",
     "is_executing": true
    }
   }
  },
  {
   "cell_type": "code",
   "execution_count": null,
   "outputs": [],
   "source": [],
   "metadata": {
    "collapsed": false,
    "pycharm": {
     "name": "#%%\n",
     "is_executing": true
    }
   }
  },
  {
   "cell_type": "code",
   "execution_count": null,
   "outputs": [],
   "source": [],
   "metadata": {
    "collapsed": false,
    "pycharm": {
     "name": "#%%\n",
     "is_executing": true
    }
   }
  },
  {
   "cell_type": "code",
   "execution_count": null,
   "outputs": [],
   "source": [],
   "metadata": {
    "collapsed": false,
    "pycharm": {
     "name": "#%%\n",
     "is_executing": true
    }
   }
  },
  {
   "cell_type": "code",
   "execution_count": null,
   "outputs": [],
   "source": [],
   "metadata": {
    "collapsed": false,
    "pycharm": {
     "name": "#%%\n",
     "is_executing": true
    }
   }
  },
  {
   "cell_type": "code",
   "execution_count": null,
   "outputs": [],
   "source": [],
   "metadata": {
    "collapsed": false,
    "pycharm": {
     "name": "#%%\n",
     "is_executing": true
    }
   }
  },
  {
   "cell_type": "code",
   "execution_count": null,
   "outputs": [],
   "source": [],
   "metadata": {
    "collapsed": false,
    "pycharm": {
     "name": "#%%\n",
     "is_executing": true
    }
   }
  },
  {
   "cell_type": "code",
   "execution_count": null,
   "outputs": [],
   "source": [],
   "metadata": {
    "collapsed": false,
    "pycharm": {
     "name": "#%%\n",
     "is_executing": true
    }
   }
  },
  {
   "cell_type": "code",
   "execution_count": null,
   "outputs": [],
   "source": [],
   "metadata": {
    "collapsed": false,
    "pycharm": {
     "name": "#%%\n",
     "is_executing": true
    }
   }
  },
  {
   "cell_type": "code",
   "execution_count": null,
   "outputs": [],
   "source": [],
   "metadata": {
    "collapsed": false,
    "pycharm": {
     "name": "#%%\n",
     "is_executing": true
    }
   }
  },
  {
   "cell_type": "code",
   "execution_count": null,
   "outputs": [],
   "source": [],
   "metadata": {
    "collapsed": false,
    "pycharm": {
     "name": "#%%\n",
     "is_executing": true
    }
   }
  },
  {
   "cell_type": "code",
   "execution_count": null,
   "outputs": [],
   "source": [],
   "metadata": {
    "collapsed": false,
    "pycharm": {
     "name": "#%%\n",
     "is_executing": true
    }
   }
  },
  {
   "cell_type": "code",
   "execution_count": null,
   "outputs": [],
   "source": [],
   "metadata": {
    "collapsed": false,
    "pycharm": {
     "name": "#%%\n",
     "is_executing": true
    }
   }
  },
  {
   "cell_type": "code",
   "execution_count": null,
   "outputs": [],
   "source": [],
   "metadata": {
    "collapsed": false,
    "pycharm": {
     "name": "#%%\n",
     "is_executing": true
    }
   }
  },
  {
   "cell_type": "code",
   "execution_count": null,
   "outputs": [],
   "source": [],
   "metadata": {
    "collapsed": false,
    "pycharm": {
     "name": "#%%\n",
     "is_executing": true
    }
   }
  },
  {
   "cell_type": "code",
   "execution_count": null,
   "outputs": [],
   "source": [],
   "metadata": {
    "collapsed": false,
    "pycharm": {
     "name": "#%%\n",
     "is_executing": true
    }
   }
  },
  {
   "cell_type": "code",
   "execution_count": null,
   "outputs": [],
   "source": [],
   "metadata": {
    "collapsed": false,
    "pycharm": {
     "name": "#%%\n",
     "is_executing": true
    }
   }
  },
  {
   "cell_type": "code",
   "execution_count": null,
   "outputs": [],
   "source": [],
   "metadata": {
    "collapsed": false,
    "pycharm": {
     "name": "#%%\n",
     "is_executing": true
    }
   }
  },
  {
   "cell_type": "code",
   "execution_count": null,
   "outputs": [],
   "source": [],
   "metadata": {
    "collapsed": false,
    "pycharm": {
     "name": "#%%\n",
     "is_executing": true
    }
   }
  },
  {
   "cell_type": "code",
   "execution_count": null,
   "outputs": [],
   "source": [],
   "metadata": {
    "collapsed": false,
    "pycharm": {
     "name": "#%%\n"
    }
   }
  }
 ],
 "metadata": {
  "kernelspec": {
   "display_name": "Python 3",
   "language": "python",
   "name": "python3"
  },
  "language_info": {
   "codemirror_mode": {
    "name": "ipython",
    "version": 2
   },
   "file_extension": ".py",
   "mimetype": "text/x-python",
   "name": "python",
   "nbconvert_exporter": "python",
   "pygments_lexer": "ipython2",
   "version": "2.7.6"
  }
 },
 "nbformat": 4,
 "nbformat_minor": 0
}