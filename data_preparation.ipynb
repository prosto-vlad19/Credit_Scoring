{
 "cells": [
  {
   "cell_type": "code",
   "execution_count": 217,
   "outputs": [],
   "source": [
    "import pandas as pd\n",
    "from IPython.core.display_functions import display\n",
    "import numpy as np\n",
    "import pandas as pd\n",
    "from sklearn.preprocessing import OneHotEncoder\n",
    "from collections import Counter\n",
    "from scipy import stats\n",
    "from scipy.stats import boxcox, yeojohnson\n",
    "from sklearn.preprocessing import LabelEncoder\n",
    "from sklearn.preprocessing import RobustScaler"
   ],
   "metadata": {
    "collapsed": false,
    "pycharm": {
     "name": "#%%\n"
    }
   }
  },
  {
   "cell_type": "code",
   "execution_count": 218,
   "outputs": [],
   "source": [
    "from main import read_xlsb\n",
    "\n",
    "# download data\n",
    "train_data_path = \"./data/Training.xlsb\"\n",
    "train_sheet_name = 'Training'  # Укажите имя листа, который хотите прочитать\n",
    "train_data = read_xlsb(train_data_path, train_sheet_name)\n",
    "\n",
    "test_data_path = \"./data/Test.xlsb\"\n",
    "test_sheet_name = 'Test'  # Укажите имя листа, который хотите прочитать\n",
    "test_data = read_xlsb(test_data_path, test_sheet_name)\n",
    "\n",
    "# создание train test dataframe\n",
    "train_data_copy = train_data.copy()\n",
    "X = train_data_copy.drop([\"MARKER\",\"ID\"],axis = 1)\n",
    "y = train_data_copy['MARKER']\n",
    "\n",
    "#создание копии\n",
    "X_copy = X.copy()"
   ],
   "metadata": {
    "collapsed": false,
    "pycharm": {
     "name": "#%%\n"
    }
   }
  },
  {
   "cell_type": "code",
   "execution_count": 219,
   "outputs": [
    {
     "name": "stdout",
     "output_type": "stream",
     "text": [
      "              A         B       C       D         E         F     G     H  \\\n",
      "0      0.198778  0.099389    0.00  799.90  1.777556  0.888778  13.0  3.49   \n",
      "1      0.043000  0.021264   49.97  173.03  0.384511  0.190143  13.0  3.49   \n",
      "2      0.067073  0.067073    0.00  329.90  0.599818  0.599818  13.0  3.49   \n",
      "3      0.052700  0.052700    0.00  235.65  0.471300  0.471300  13.0  3.49   \n",
      "4      0.141880  0.141880    0.00  634.45  1.268900  1.268900  13.0  3.49   \n",
      "...         ...       ...     ...     ...       ...       ...   ...   ...   \n",
      "89729  0.027941  0.014844   25.00  474.00  0.557647  0.296250  20.0  0.01   \n",
      "89730  0.120017  0.068581  179.96  720.03  1.200050  0.685743  10.0  0.00   \n",
      "89731  0.153033  0.122427   29.01  550.99  0.459158  0.367327   3.0  0.00   \n",
      "89732  0.107575  0.043030   53.82  215.18  0.537950  0.215180   5.0  0.00   \n",
      "89733  0.095750  0.095750   57.48  172.42  0.287367  0.287367   3.0  0.00   \n",
      "\n",
      "           I          J  ...                 O       P          Q    R  \\\n",
      "0      Woman  33.750000  ...           Married   2 Two   property   No   \n",
      "1      Woman  33.250000  ...           Married   2 Two  otherwise   No   \n",
      "2      Woman  38.583333  ...    Divorced/widow   1 One   property   No   \n",
      "3      Woman  61.250000  ...    Divorced/widow  0 Zero   property   No   \n",
      "4      Woman  48.583333  ...    Divorced/widow  0 Zero   property   No   \n",
      "...      ...        ...  ...               ...     ...        ...  ...   \n",
      "89729    Man  26.833333  ...           Married  0 Zero   property   No   \n",
      "89730  Woman  44.583333  ...           Married   2 Two   property   No   \n",
      "89731    Man  61.250000  ...           Married  0 Zero  otherwise   No   \n",
      "89732  Woman  28.833333  ...           Married   1 One   property  Yes   \n",
      "89733    Man  30.500000  ...  Single/unmarried  0 Zero  otherwise   No   \n",
      "\n",
      "               S    T    U    V    W    X  \n",
      "0          Works  Yes  Yes   No  Yes   No  \n",
      "1          Works  Yes  Yes  Yes  Yes   No  \n",
      "2      No couple   No  Yes   No  Yes   No  \n",
      "3      No couple  Yes  Yes  Few  Yes   No  \n",
      "4      No couple  Yes   No   No   No   No  \n",
      "...          ...  ...  ...  ...  ...  ...  \n",
      "89729      Works  Yes  Yes   No   No  Yes  \n",
      "89730      Works  Yes  Yes   No   No  Yes  \n",
      "89731      Works  Yes  Yes   No  Yes  Yes  \n",
      "89732      Works   No  Yes   No   No  Yes  \n",
      "89733  No couple   No  Yes   No   No  Yes  \n",
      "\n",
      "[89734 rows x 24 columns]\n"
     ]
    }
   ],
   "source": [
    "# удаление дублирующих строк\n",
    "X_copy = X_copy.drop_duplicates()\n",
    "print(X_copy)"
   ],
   "metadata": {
    "collapsed": false,
    "pycharm": {
     "name": "#%%\n"
    }
   }
  },
  {
   "cell_type": "code",
   "execution_count": 220,
   "outputs": [],
   "source": [
    "\n",
    "def encode_categorical_features(df):\n",
    "    encoded_df = df.copy()\n",
    "\n",
    "    # Шаг 1: Выбор категориальных признаков\n",
    "    categorical_columns = df.select_dtypes(include=['object']).columns\n",
    "\n",
    "    # Шаг 2: Закодировать категориальные признаки\n",
    "    for column in categorical_columns:\n",
    "        unique_values = df[column].nunique()\n",
    "        if column == 'P':\n",
    "            # Отдельный метод для столбца 'P'\n",
    "            encoded_values = {\n",
    "                '0 Zero': 0,\n",
    "                '1 One': 1,\n",
    "                '2 Two': 2,\n",
    "                '3 Three': 3,\n",
    "                'More than 3': 4\n",
    "            }\n",
    "            encoded_df[column] = df[column].map(encoded_values)\n",
    "        elif unique_values <= 2:\n",
    "            # One-hot encoding для признаков с <= 2 уникальными значениями\n",
    "            encoder = LabelEncoder()\n",
    "            encoded_df[column] = encoder.fit_transform(df[column])\n",
    "        else:\n",
    "            # Count encoding для признаков с > 2 уникальными значениями\n",
    "            counter = df[column].value_counts().to_dict()\n",
    "            encoded_df[column] = df[column].map(counter)\n",
    "\n",
    "    return encoded_df\n",
    "\n"
   ],
   "metadata": {
    "collapsed": false,
    "pycharm": {
     "name": "#%%\n"
    }
   }
  },
  {
   "cell_type": "code",
   "execution_count": 221,
   "outputs": [
    {
     "name": "stdout",
     "output_type": "stream",
     "text": [
      "              A         B       C       D         E         F     G     H  I  \\\n",
      "0      0.198778  0.099389    0.00  799.90  1.777556  0.888778  13.0  3.49  1   \n",
      "1      0.043000  0.021264   49.97  173.03  0.384511  0.190143  13.0  3.49  1   \n",
      "2      0.067073  0.067073    0.00  329.90  0.599818  0.599818  13.0  3.49  1   \n",
      "3      0.052700  0.052700    0.00  235.65  0.471300  0.471300  13.0  3.49  1   \n",
      "4      0.141880  0.141880    0.00  634.45  1.268900  1.268900  13.0  3.49  1   \n",
      "...         ...       ...     ...     ...       ...       ...   ...   ... ..   \n",
      "89729  0.027941  0.014844   25.00  474.00  0.557647  0.296250  20.0  0.01  0   \n",
      "89730  0.120017  0.068581  179.96  720.03  1.200050  0.685743  10.0  0.00  1   \n",
      "89731  0.153033  0.122427   29.01  550.99  0.459158  0.367327   3.0  0.00  0   \n",
      "89732  0.107575  0.043030   53.82  215.18  0.537950  0.215180   5.0  0.00  1   \n",
      "89733  0.095750  0.095750   57.48  172.42  0.287367  0.287367   3.0  0.00  0   \n",
      "\n",
      "               J  ...      O  P      Q  R      S  T  U      V  W  X  \n",
      "0      33.750000  ...  63273  2  81457  0  47413  1  1  78462  1  0  \n",
      "1      33.250000  ...  63273  2   6679  0  47413  1  1  10561  1  0  \n",
      "2      38.583333  ...  11408  1  81457  0  26457  0  1  78462  1  0  \n",
      "3      61.250000  ...  11408  0  81457  0  26457  1  1    711  1  0  \n",
      "4      48.583333  ...  11408  0  81457  0  26457  1  0  78462  0  0  \n",
      "...          ...  ...    ... ..    ... ..    ... .. ..    ... .. ..  \n",
      "89729  26.833333  ...  63273  0  81457  0  47413  1  1  78462  0  1  \n",
      "89730  44.583333  ...  63273  2  81457  0  47413  1  1  78462  0  1  \n",
      "89731  61.250000  ...  63273  0   6679  0  47413  1  1  78462  1  1  \n",
      "89732  28.833333  ...  63273  1  81457  1  47413  0  1  78462  0  1  \n",
      "89733  30.500000  ...  12927  0   6679  0  26457  0  1  78462  0  1  \n",
      "\n",
      "[89734 rows x 24 columns]\n"
     ]
    }
   ],
   "source": [
    "\n",
    "X_copy = encode_categorical_features(X)\n",
    "print(X_copy)\n",
    "X_copy.to_csv('encoded_X.csv')"
   ],
   "metadata": {
    "collapsed": false,
    "pycharm": {
     "name": "#%%\n"
    }
   }
  },
  {
   "cell_type": "code",
   "execution_count": 222,
   "outputs": [
    {
     "data": {
      "text/plain": "'\\ndef normalize_columns(df, small_value=1e-10):\\n    normalized_df = pd.DataFrame()\\n\\n    for column in df.columns:\\n        data = df[column]\\n\\n        # Применение всех перечисленных методов нормализации\\n        methods = [\\n            (np.log1p,),\\n            (lambda x: 1 / (x + small_value) if (x != 0).all() else x,),\\n            (np.sqrt,),\\n            (np.square,),\\n            (boxcox,),\\n            (yeojohnson,),\\n            (boxcox, yeojohnson),\\n            (np.log1p, boxcox),\\n            (np.log1p, yeojohnson),\\n            (np.log1p, boxcox, yeojohnson)\\n        ]\\n\\n        # Переменные для выбора наилучшей комбинации методов\\n        best_methods = None\\n        best_p_value = 0.0\\n\\n        for method_group in methods:\\n            transformed_data = data\\n\\n            for method in method_group:\\n                if method in [boxcox, yeojohnson]:\\n                    if (transformed_data == 0).any():\\n                        transformed_data, _ = method(transformed_data + small_value)\\n                    else:\\n                        transformed_data, _ = method(transformed_data)\\n                else:\\n                    transformed_data = method(transformed_data)\\n\\n            _, p_value = stats.normaltest(transformed_data)\\n            print(\"столбец:\",column,\"метод:\",method,\"текущий p_value:\",p_value)\\n            if p_value > best_p_value:\\n                best_p_value = p_value\\n                best_methods = method_group\\n\\n        # Применение наилучшей комбинации методов к столбцу\\n        transformed_data = data\\n\\n        if best_methods:\\n            for method in best_methods:\\n                if method in [boxcox, yeojohnson]:\\n                    if (transformed_data == 0).any():\\n                        transformed_data, _ = method(transformed_data + small_value)\\n                    else:\\n                        transformed_data, _ = method(transformed_data)\\n                else:\\n                    transformed_data = method(transformed_data)\\n\\n        normalized_df[column] = transformed_data\\n\\n    return normalized_df\\n\\nX_copy = normalize_columns(X_copy)\\nprint(X_copy)\\n'"
     },
     "execution_count": 222,
     "metadata": {},
     "output_type": "execute_result"
    }
   ],
   "source": [
    "\"\"\"\n",
    "def normalize_columns(df, small_value=1e-10):\n",
    "    normalized_df = pd.DataFrame()\n",
    "\n",
    "    for column in df.columns:\n",
    "        data = df[column]\n",
    "\n",
    "        # Применение всех перечисленных методов нормализации\n",
    "        methods = [\n",
    "            (np.log1p,),\n",
    "            (lambda x: 1 / (x + small_value) if (x != 0).all() else x,),\n",
    "            (np.sqrt,),\n",
    "            (np.square,),\n",
    "            (boxcox,),\n",
    "            (yeojohnson,),\n",
    "            (boxcox, yeojohnson),\n",
    "            (np.log1p, boxcox),\n",
    "            (np.log1p, yeojohnson),\n",
    "            (np.log1p, boxcox, yeojohnson)\n",
    "        ]\n",
    "\n",
    "        # Переменные для выбора наилучшей комбинации методов\n",
    "        best_methods = None\n",
    "        best_p_value = 0.0\n",
    "\n",
    "        for method_group in methods:\n",
    "            transformed_data = data\n",
    "\n",
    "            for method in method_group:\n",
    "                if method in [boxcox, yeojohnson]:\n",
    "                    if (transformed_data == 0).any():\n",
    "                        transformed_data, _ = method(transformed_data + small_value)\n",
    "                    else:\n",
    "                        transformed_data, _ = method(transformed_data)\n",
    "                else:\n",
    "                    transformed_data = method(transformed_data)\n",
    "\n",
    "            _, p_value = stats.normaltest(transformed_data)\n",
    "            print(\"столбец:\",column,\"метод:\",method,\"текущий p_value:\",p_value)\n",
    "            if p_value > best_p_value:\n",
    "                best_p_value = p_value\n",
    "                best_methods = method_group\n",
    "\n",
    "        # Применение наилучшей комбинации методов к столбцу\n",
    "        transformed_data = data\n",
    "\n",
    "        if best_methods:\n",
    "            for method in best_methods:\n",
    "                if method in [boxcox, yeojohnson]:\n",
    "                    if (transformed_data == 0).any():\n",
    "                        transformed_data, _ = method(transformed_data + small_value)\n",
    "                    else:\n",
    "                        transformed_data, _ = method(transformed_data)\n",
    "                else:\n",
    "                    transformed_data = method(transformed_data)\n",
    "\n",
    "        normalized_df[column] = transformed_data\n",
    "\n",
    "    return normalized_df\n",
    "\n",
    "X_copy = normalize_columns(X_copy)\n",
    "print(X_copy)\n",
    "\"\"\""
   ],
   "metadata": {
    "collapsed": false,
    "pycharm": {
     "name": "#%%\n"
    }
   }
  },
  {
   "cell_type": "code",
   "execution_count": 223,
   "outputs": [
    {
     "name": "stdout",
     "output_type": "stream",
     "text": [
      "              A         B       C       D         E         F     G     H  I  \\\n",
      "0      0.198778  0.099389    0.00  799.90  1.777556  0.888778  13.0  3.49  1   \n",
      "1      0.043000  0.021264   49.97  173.03  0.384511  0.190143  13.0  3.49  1   \n",
      "2      0.067073  0.067073    0.00  329.90  0.599818  0.599818  13.0  3.49  1   \n",
      "3      0.052700  0.052700    0.00  235.65  0.471300  0.471300  13.0  3.49  1   \n",
      "4      0.141880  0.141880    0.00  634.45  1.268900  1.268900  13.0  3.49  1   \n",
      "...         ...       ...     ...     ...       ...       ...   ...   ... ..   \n",
      "89729  0.027941  0.014844   25.00  474.00  0.557647  0.296250  20.0  0.01  0   \n",
      "89730  0.120017  0.068581  179.96  720.03  1.200050  0.685743  10.0  0.00  1   \n",
      "89731  0.153033  0.122427   29.01  550.99  0.459158  0.367327   3.0  0.00  0   \n",
      "89732  0.107575  0.043030   53.82  215.18  0.537950  0.215180   5.0  0.00  1   \n",
      "89733  0.095750  0.095750   57.48  172.42  0.287367  0.287367   3.0  0.00  0   \n",
      "\n",
      "               J  ...      O  P      Q  R      S  T  U      V  W  X  \n",
      "0      33.750000  ...  63273  2  81457  0  47413  1  1  78462  1  0  \n",
      "1      33.250000  ...  63273  2   6679  0  47413  1  1  10561  1  0  \n",
      "2      38.583333  ...  11408  1  81457  0  26457  0  1  78462  1  0  \n",
      "3      61.250000  ...  11408  0  81457  0  26457  1  1    711  1  0  \n",
      "4      48.583333  ...  11408  0  81457  0  26457  1  0  78462  0  0  \n",
      "...          ...  ...    ... ..    ... ..    ... .. ..    ... .. ..  \n",
      "89729  26.833333  ...  63273  0  81457  0  47413  1  1  78462  0  1  \n",
      "89730  44.583333  ...  63273  2  81457  0  47413  1  1  78462  0  1  \n",
      "89731  61.250000  ...  63273  0   6679  0  47413  1  1  78462  1  1  \n",
      "89732  28.833333  ...  63273  1  81457  1  47413  0  1  78462  0  1  \n",
      "89733  30.500000  ...  12927  0   6679  0  26457  0  1  78462  0  1  \n",
      "\n",
      "[87350 rows x 24 columns]\n"
     ]
    }
   ],
   "source": [
    "# обработка выбросов\n",
    "def remove_outliers(df, num_columns_threshold=5):\n",
    "    # Подсчитываем Q1 и Q3 для каждого столбца\n",
    "    q1 = df.quantile(0.25)\n",
    "    q3 = df.quantile(0.75)\n",
    "\n",
    "    # Рассчитываем межквартильный размах (IQR)\n",
    "    iqr = q3 - q1\n",
    "\n",
    "    # Определяем границы интервала для удаления выбросов\n",
    "    lower_bound = q1 - 1.5 * iqr\n",
    "    upper_bound = q3 + 1.5 * iqr\n",
    "\n",
    "    # Создаем маску для определения строк с выбросами в каждом столбце\n",
    "    outliers_mask = ((df < lower_bound) | (df > upper_bound))\n",
    "\n",
    "    # Подсчитываем количество столбцов с выбросами в каждой строке\n",
    "    num_outliers = outliers_mask.sum(axis=1)\n",
    "\n",
    "    # Создаем маску для определения строк с выбросами в 5 и более столбцах\n",
    "    mask = (num_outliers >= num_columns_threshold)\n",
    "\n",
    "    # Удаляем строки с выбросами\n",
    "    df_cleaned = df[~mask]\n",
    "\n",
    "    return df_cleaned\n",
    "\n",
    "X_copy = remove_outliers(X_copy)\n",
    "print(X_copy)\n"
   ],
   "metadata": {
    "collapsed": false,
    "pycharm": {
     "name": "#%%\n"
    }
   }
  },
  {
   "cell_type": "code",
   "execution_count": 224,
   "outputs": [
    {
     "name": "stdout",
     "output_type": "stream",
     "text": [
      "              A         B         C         D         E         F         G  \\\n",
      "0      0.555344  0.213817 -0.587765  0.816745  1.182216  0.664414  0.888889   \n",
      "1     -0.497121 -0.567172  0.000118 -0.476624 -0.390651 -0.486815  0.888889   \n",
      "2     -0.334481 -0.109236 -0.587765 -0.152967 -0.147551  0.188259  0.888889   \n",
      "3     -0.431586 -0.252915 -0.587765 -0.347425 -0.292659 -0.023517  0.888889   \n",
      "4      0.170932  0.638586 -0.587765  0.475386  0.607900  1.290789  0.888889   \n",
      "...         ...       ...       ...       ...       ...       ...       ...   \n",
      "87345 -0.598861 -0.631350 -0.293647  0.144343 -0.195166 -0.311969  1.666667   \n",
      "87346  0.023219 -0.094159  1.529412  0.651956  0.530163  0.329848  0.555556   \n",
      "87347  0.246286  0.444118 -0.246471  0.303190 -0.306368 -0.194847 -0.222222   \n",
      "87348 -0.060840 -0.349583  0.045412 -0.389659 -0.217406 -0.445558  0.000000   \n",
      "87349 -0.140732  0.177440  0.088471 -0.477882 -0.500336 -0.326607 -0.222222   \n",
      "\n",
      "           H    I         J  ...         O    P        Q    R    S    T    U  \\\n",
      "0      349.0  0.0 -0.345794  ...  0.000000  1.0      0.0  0.0  0.0  0.0  0.0   \n",
      "1      349.0  0.0 -0.373832  ...  0.000000  1.0 -74778.0  0.0  0.0  0.0  0.0   \n",
      "2      349.0  0.0 -0.074766  ... -1.030171  0.0      0.0  0.0 -1.0 -1.0  0.0   \n",
      "3      349.0  0.0  1.196262  ... -1.030171 -1.0      0.0  0.0 -1.0  0.0  0.0   \n",
      "4      349.0  0.0  0.485981  ... -1.030171 -1.0      0.0  0.0 -1.0  0.0 -1.0   \n",
      "...      ...  ...       ...  ...       ...  ...      ...  ...  ...  ...  ...   \n",
      "87345    1.0 -1.0 -0.733645  ...  0.000000 -1.0      0.0  0.0  0.0  0.0  0.0   \n",
      "87346    0.0  0.0  0.261682  ...  0.000000  1.0      0.0  0.0  0.0  0.0  0.0   \n",
      "87347    0.0 -1.0  1.196262  ...  0.000000 -1.0 -74778.0  0.0  0.0  0.0  0.0   \n",
      "87348    0.0  0.0 -0.621495  ...  0.000000  0.0      0.0  1.0  0.0 -1.0  0.0   \n",
      "87349    0.0 -1.0 -0.528037  ... -1.000000 -1.0 -74778.0  0.0 -1.0 -1.0  0.0   \n",
      "\n",
      "             V    W    X  \n",
      "0          0.0  1.0  0.0  \n",
      "1     -67901.0  1.0  0.0  \n",
      "2          0.0  1.0  0.0  \n",
      "3     -77751.0  1.0  0.0  \n",
      "4          0.0  0.0  0.0  \n",
      "...        ...  ...  ...  \n",
      "87345      0.0  0.0  1.0  \n",
      "87346      0.0  0.0  1.0  \n",
      "87347      0.0  1.0  1.0  \n",
      "87348      0.0  0.0  1.0  \n",
      "87349      0.0  0.0  1.0  \n",
      "\n",
      "[87350 rows x 24 columns]\n"
     ]
    }
   ],
   "source": [
    "# масштабирование\n",
    "def robust_scale_dataframe(df):\n",
    "    scaler = RobustScaler()\n",
    "    scaled_data = scaler.fit_transform(df)\n",
    "    scaled_df = pd.DataFrame(scaled_data, columns=df.columns)\n",
    "    return scaled_df\n",
    "X_copy = robust_scale_dataframe(X_copy)\n",
    "print(X_copy)"
   ],
   "metadata": {
    "collapsed": false,
    "pycharm": {
     "name": "#%%\n"
    }
   }
  },
  {
   "cell_type": "code",
   "execution_count": 225,
   "outputs": [
    {
     "name": "stdout",
     "output_type": "stream",
     "text": [
      "              A         B         C         D         E         F         G  \\\n",
      "0      0.555344  0.213817 -0.587765  0.816745  1.182216  0.664414  0.888889   \n",
      "1     -0.497121 -0.567172  0.000118 -0.476624 -0.390651 -0.486815  0.888889   \n",
      "2     -0.334481 -0.109236 -0.587765 -0.152967 -0.147551  0.188259  0.888889   \n",
      "3     -0.431586 -0.252915 -0.587765 -0.347425 -0.292659 -0.023517  0.888889   \n",
      "4      0.170932  0.638586 -0.587765  0.475386  0.607900  1.290789  0.888889   \n",
      "...         ...       ...       ...       ...       ...       ...       ...   \n",
      "87345 -0.598861 -0.631350 -0.293647  0.144343 -0.195166 -0.311969  1.666667   \n",
      "87346  0.023219 -0.094159  1.529412  0.651956  0.530163  0.329848  0.555556   \n",
      "87347  0.246286  0.444118 -0.246471  0.303190 -0.306368 -0.194847 -0.222222   \n",
      "87348 -0.060840 -0.349583  0.045412 -0.389659 -0.217406 -0.445558  0.000000   \n",
      "87349 -0.140732  0.177440  0.088471 -0.477882 -0.500336 -0.326607 -0.222222   \n",
      "\n",
      "           H    I         J  ...         O    P        Q    R    S    T    U  \\\n",
      "0      349.0  0.0 -0.345794  ...  0.000000  1.0      0.0  0.0  0.0  0.0  0.0   \n",
      "1      349.0  0.0 -0.373832  ...  0.000000  1.0 -74778.0  0.0  0.0  0.0  0.0   \n",
      "2      349.0  0.0 -0.074766  ... -1.030171  0.0      0.0  0.0 -1.0 -1.0  0.0   \n",
      "3      349.0  0.0  1.196262  ... -1.030171 -1.0      0.0  0.0 -1.0  0.0  0.0   \n",
      "4      349.0  0.0  0.485981  ... -1.030171 -1.0      0.0  0.0 -1.0  0.0 -1.0   \n",
      "...      ...  ...       ...  ...       ...  ...      ...  ...  ...  ...  ...   \n",
      "87345    1.0 -1.0 -0.733645  ...  0.000000 -1.0      0.0  0.0  0.0  0.0  0.0   \n",
      "87346    0.0  0.0  0.261682  ...  0.000000  1.0      0.0  0.0  0.0  0.0  0.0   \n",
      "87347    0.0 -1.0  1.196262  ...  0.000000 -1.0 -74778.0  0.0  0.0  0.0  0.0   \n",
      "87348    0.0  0.0 -0.621495  ...  0.000000  0.0      0.0  1.0  0.0 -1.0  0.0   \n",
      "87349    0.0 -1.0 -0.528037  ... -1.000000 -1.0 -74778.0  0.0 -1.0 -1.0  0.0   \n",
      "\n",
      "             V    W    X  \n",
      "0          0.0  1.0  0.0  \n",
      "1     -67901.0  1.0  0.0  \n",
      "2          0.0  1.0  0.0  \n",
      "3     -77751.0  1.0  0.0  \n",
      "4          0.0  0.0  0.0  \n",
      "...        ...  ...  ...  \n",
      "87345      0.0  0.0  1.0  \n",
      "87346      0.0  0.0  1.0  \n",
      "87347      0.0  1.0  1.0  \n",
      "87348      0.0  0.0  1.0  \n",
      "87349      0.0  0.0  1.0  \n",
      "\n",
      "[87350 rows x 24 columns]\n",
      "              A         B         C         D         E         F         G  \\\n",
      "0      0.555344  0.213817 -0.587765  0.816745  1.182216  0.664414  0.888889   \n",
      "1     -0.497121 -0.567172  0.000118 -0.476624 -0.390651 -0.486815  0.888889   \n",
      "2     -0.334481 -0.109236 -0.587765 -0.152967 -0.147551  0.188259  0.888889   \n",
      "3     -0.431586 -0.252915 -0.587765 -0.347425 -0.292659 -0.023517  0.888889   \n",
      "4      0.170932  0.638586 -0.587765  0.475386  0.607900  1.290789  0.888889   \n",
      "...         ...       ...       ...       ...       ...       ...       ...   \n",
      "87345 -0.598861 -0.631350 -0.293647  0.144343 -0.195166 -0.311969  1.666667   \n",
      "87346  0.023219 -0.094159  1.529412  0.651956  0.530163  0.329848  0.555556   \n",
      "87347  0.246286  0.444118 -0.246471  0.303190 -0.306368 -0.194847 -0.222222   \n",
      "87348 -0.060840 -0.349583  0.045412 -0.389659 -0.217406 -0.445558  0.000000   \n",
      "87349 -0.140732  0.177440  0.088471 -0.477882 -0.500336 -0.326607 -0.222222   \n",
      "\n",
      "           H    I         J  ...         O    P        Q    R    S    T    U  \\\n",
      "0      349.0  0.0 -0.345794  ...  0.000000  1.0      0.0  0.0  0.0  0.0  0.0   \n",
      "1      349.0  0.0 -0.373832  ...  0.000000  1.0 -74778.0  0.0  0.0  0.0  0.0   \n",
      "2      349.0  0.0 -0.074766  ... -1.030171  0.0      0.0  0.0 -1.0 -1.0  0.0   \n",
      "3      349.0  0.0  1.196262  ... -1.030171 -1.0      0.0  0.0 -1.0  0.0  0.0   \n",
      "4      349.0  0.0  0.485981  ... -1.030171 -1.0      0.0  0.0 -1.0  0.0 -1.0   \n",
      "...      ...  ...       ...  ...       ...  ...      ...  ...  ...  ...  ...   \n",
      "87345    1.0 -1.0 -0.733645  ...  0.000000 -1.0      0.0  0.0  0.0  0.0  0.0   \n",
      "87346    0.0  0.0  0.261682  ...  0.000000  1.0      0.0  0.0  0.0  0.0  0.0   \n",
      "87347    0.0 -1.0  1.196262  ...  0.000000 -1.0 -74778.0  0.0  0.0  0.0  0.0   \n",
      "87348    0.0  0.0 -0.621495  ...  0.000000  0.0      0.0  1.0  0.0 -1.0  0.0   \n",
      "87349    0.0 -1.0 -0.528037  ... -1.000000 -1.0 -74778.0  0.0 -1.0 -1.0  0.0   \n",
      "\n",
      "             V    W    X  \n",
      "0          0.0  1.0  0.0  \n",
      "1     -67901.0  1.0  0.0  \n",
      "2          0.0  1.0  0.0  \n",
      "3     -77751.0  1.0  0.0  \n",
      "4          0.0  0.0  0.0  \n",
      "...        ...  ...  ...  \n",
      "87345      0.0  0.0  1.0  \n",
      "87346      0.0  0.0  1.0  \n",
      "87347      0.0  1.0  1.0  \n",
      "87348      0.0  0.0  1.0  \n",
      "87349      0.0  0.0  1.0  \n",
      "\n",
      "[87350 rows x 24 columns]\n"
     ]
    }
   ],
   "source": [
    "# общий отбор признаков\n",
    "# Функция для удаления признаков с малым разнообразием значений\n",
    "def remove_low_variance_features(df, threshold=0.95):\n",
    "    num_rows = len(df)\n",
    "    low_variance_columns = [col for col in df.columns if (df[col].value_counts() / num_rows).max() > threshold]\n",
    "    df_filtered = df.drop(columns=low_variance_columns)\n",
    "    return df_filtered\n",
    "\n",
    "# Функция для удаления признаков с высокой корреляцией\n",
    "def remove_high_correlation_features(df, threshold=0.8):\n",
    "    corr_matrix = df.corr()\n",
    "    upper = corr_matrix.where(np.triu(np.ones(corr_matrix.shape), k=1).astype(bool))\n",
    "    to_drop = [column for column in upper.columns if any(upper[column] > threshold)]\n",
    "    df_filtered = df.drop(columns=to_drop)\n",
    "    return df_filtered\n",
    "\n",
    "X_copy = remove_low_variance_features(X_copy)\n",
    "print(X_copy)\n",
    "X_copy = remove_high_correlation_features(X_copy)\n",
    "print(X_copy)"
   ],
   "metadata": {
    "collapsed": false,
    "pycharm": {
     "name": "#%%\n"
    }
   }
  },
  {
   "cell_type": "code",
   "execution_count": 225,
   "outputs": [],
   "source": [],
   "metadata": {
    "collapsed": false,
    "pycharm": {
     "name": "#%%\n"
    }
   }
  },
  {
   "cell_type": "code",
   "execution_count": 225,
   "outputs": [],
   "source": [],
   "metadata": {
    "collapsed": false,
    "pycharm": {
     "name": "#%%\n"
    }
   }
  },
  {
   "cell_type": "code",
   "execution_count": 225,
   "outputs": [],
   "source": [],
   "metadata": {
    "collapsed": false,
    "pycharm": {
     "name": "#%%\n"
    }
   }
  },
  {
   "cell_type": "code",
   "execution_count": 225,
   "outputs": [],
   "source": [],
   "metadata": {
    "collapsed": false,
    "pycharm": {
     "name": "#%%\n"
    }
   }
  },
  {
   "cell_type": "code",
   "execution_count": 225,
   "outputs": [],
   "source": [],
   "metadata": {
    "collapsed": false,
    "pycharm": {
     "name": "#%%\n"
    }
   }
  },
  {
   "cell_type": "code",
   "execution_count": 225,
   "outputs": [],
   "source": [],
   "metadata": {
    "collapsed": false,
    "pycharm": {
     "name": "#%%\n"
    }
   }
  },
  {
   "cell_type": "code",
   "execution_count": 225,
   "outputs": [],
   "source": [],
   "metadata": {
    "collapsed": false,
    "pycharm": {
     "name": "#%%\n"
    }
   }
  },
  {
   "cell_type": "code",
   "execution_count": 225,
   "outputs": [],
   "source": [],
   "metadata": {
    "collapsed": false,
    "pycharm": {
     "name": "#%%\n"
    }
   }
  },
  {
   "cell_type": "code",
   "execution_count": 225,
   "outputs": [],
   "source": [],
   "metadata": {
    "collapsed": false,
    "pycharm": {
     "name": "#%%\n"
    }
   }
  },
  {
   "cell_type": "code",
   "execution_count": 225,
   "outputs": [],
   "source": [],
   "metadata": {
    "collapsed": false,
    "pycharm": {
     "name": "#%%\n"
    }
   }
  },
  {
   "cell_type": "code",
   "execution_count": 225,
   "outputs": [],
   "source": [],
   "metadata": {
    "collapsed": false,
    "pycharm": {
     "name": "#%%\n"
    }
   }
  },
  {
   "cell_type": "code",
   "execution_count": 225,
   "outputs": [],
   "source": [],
   "metadata": {
    "collapsed": false,
    "pycharm": {
     "name": "#%%\n"
    }
   }
  },
  {
   "cell_type": "code",
   "execution_count": 225,
   "outputs": [],
   "source": [],
   "metadata": {
    "collapsed": false,
    "pycharm": {
     "name": "#%%\n"
    }
   }
  },
  {
   "cell_type": "code",
   "execution_count": 225,
   "outputs": [],
   "source": [],
   "metadata": {
    "collapsed": false,
    "pycharm": {
     "name": "#%%\n"
    }
   }
  },
  {
   "cell_type": "code",
   "execution_count": 225,
   "outputs": [],
   "source": [],
   "metadata": {
    "collapsed": false,
    "pycharm": {
     "name": "#%%\n"
    }
   }
  },
  {
   "cell_type": "code",
   "execution_count": 225,
   "outputs": [],
   "source": [],
   "metadata": {
    "collapsed": false,
    "pycharm": {
     "name": "#%%\n"
    }
   }
  },
  {
   "cell_type": "code",
   "execution_count": 225,
   "outputs": [],
   "source": [],
   "metadata": {
    "collapsed": false,
    "pycharm": {
     "name": "#%%\n"
    }
   }
  },
  {
   "cell_type": "code",
   "execution_count": 225,
   "outputs": [],
   "source": [],
   "metadata": {
    "collapsed": false,
    "pycharm": {
     "name": "#%%\n"
    }
   }
  },
  {
   "cell_type": "code",
   "execution_count": 225,
   "outputs": [],
   "source": [],
   "metadata": {
    "collapsed": false,
    "pycharm": {
     "name": "#%%\n"
    }
   }
  },
  {
   "cell_type": "code",
   "execution_count": null,
   "outputs": [],
   "source": [],
   "metadata": {
    "collapsed": false,
    "pycharm": {
     "name": "#%%\n"
    }
   }
  }
 ],
 "metadata": {
  "kernelspec": {
   "display_name": "Python 3",
   "language": "python",
   "name": "python3"
  },
  "language_info": {
   "codemirror_mode": {
    "name": "ipython",
    "version": 2
   },
   "file_extension": ".py",
   "mimetype": "text/x-python",
   "name": "python",
   "nbconvert_exporter": "python",
   "pygments_lexer": "ipython2",
   "version": "2.7.6"
  }
 },
 "nbformat": 4,
 "nbformat_minor": 0
}