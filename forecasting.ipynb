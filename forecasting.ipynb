{
 "cells": [
  {
   "cell_type": "markdown",
   "source": [
    "# Import"
   ],
   "metadata": {
    "collapsed": false,
    "pycharm": {
     "name": "#%% md\n"
    }
   }
  },
  {
   "cell_type": "code",
   "execution_count": 1,
   "outputs": [],
   "source": [
    "import random\n",
    "import numpy as np\n",
    "import pandas as pd\n",
    "import time\n",
    "import optuna\n",
    "from sklearn.preprocessing import LabelEncoder,RobustScaler,StandardScaler\n",
    "from sklearn.feature_selection import SelectKBest,f_classif\n",
    "from sklearn.tree import DecisionTreeClassifier\n",
    "from sklearn.model_selection import cross_val_score,StratifiedKFold\n",
    "from sklearn.ensemble import RandomForestClassifier,AdaBoostClassifier\n",
    "from sklearn.utils import resample\n",
    "from sklearn.metrics import roc_auc_score,roc_curve,f1_score,classification_report\n",
    "from sklearn.model_selection import train_test_split, GridSearchCV\n",
    "from sklearn.linear_model import LogisticRegression\n",
    "from pyxlsb import open_workbook as open_xlsb\n",
    "from imblearn.under_sampling import RepeatedEditedNearestNeighbours\n",
    "from imblearn.over_sampling import SMOTE"
   ],
   "metadata": {
    "collapsed": false,
    "pycharm": {
     "name": "#%%\n"
    }
   }
  },
  {
   "cell_type": "markdown",
   "source": [
    "# function for reading format file .xlsb"
   ],
   "metadata": {
    "collapsed": false,
    "pycharm": {
     "name": "#%% md\n"
    }
   }
  },
  {
   "cell_type": "code",
   "execution_count": 2,
   "outputs": [],
   "source": [
    "def read_xlsb(file_path, sheet_name):\n",
    "    df_list = []\n",
    "    with open_xlsb(file_path) as wb:\n",
    "        with wb.get_sheet(sheet_name) as sheet:\n",
    "            for row in sheet.rows():\n",
    "                df_list.append([item.v for item in row])\n",
    "\n",
    "    df = pd.DataFrame(df_list[1:], columns=df_list[0])\n",
    "    df.dropna(how='all', inplace=True)  # Remove rows with all missing valuesx\n",
    "    return df"
   ],
   "metadata": {
    "collapsed": false,
    "pycharm": {
     "name": "#%%\n"
    }
   }
  },
  {
   "cell_type": "markdown",
   "source": [
    "# download data"
   ],
   "metadata": {
    "collapsed": false,
    "pycharm": {
     "name": "#%% md\n"
    }
   }
  },
  {
   "cell_type": "code",
   "execution_count": 3,
   "outputs": [],
   "source": [
    "train_data_path = \"./data/Training.xlsb\"\n",
    "train_sheet_name = 'Training'\n",
    "train_data = read_xlsb(train_data_path, train_sheet_name)\n",
    "\n",
    "test_data_path = \"./data/Test.xlsb\"\n",
    "test_sheet_name = 'Test'\n",
    "test_data = read_xlsb(test_data_path, test_sheet_name)\n",
    "\n",
    "# create train test dataframe\n",
    "train_data_copy = train_data.copy()\n",
    "test_data_copy = test_data.copy()\n",
    "X = train_data_copy.drop([\"MARKER\",\"ID\"],axis = 1)\n",
    "X_test = test_data_copy.drop([\"MARKER\",\"ID\"],axis = 1)\n",
    "y = train_data_copy['MARKER']\n",
    "y_test = test_data_copy['MARKER']\n",
    "\n",
    "# making copies\n",
    "X_copy = X.copy()\n",
    "y_copy= y.copy()"
   ],
   "metadata": {
    "collapsed": false,
    "pycharm": {
     "name": "#%%\n"
    }
   }
  },
  {
   "cell_type": "markdown",
   "source": [
    "# Coding of categorical features"
   ],
   "metadata": {
    "collapsed": false,
    "pycharm": {
     "name": "#%% md\n"
    }
   }
  },
  {
   "cell_type": "code",
   "execution_count": 4,
   "outputs": [],
   "source": [
    "def encode_categorical_features(df):\n",
    "    encoded_df = df.copy()\n",
    "\n",
    "    categorical_columns = df.select_dtypes(include=['object']).columns\n",
    "\n",
    "    for column in categorical_columns:\n",
    "        unique_values = df[column].nunique()\n",
    "        if column == 'P':\n",
    "            encoded_values = {\n",
    "                '0 Zero': 0,\n",
    "                '1 One': 1,\n",
    "                '2 Two': 2,\n",
    "                '3 Three': 3,\n",
    "                'More than 3': 4\n",
    "            }\n",
    "            encoded_df[column] = df[column].map(encoded_values)\n",
    "        elif unique_values <= 2:\n",
    "            encoder = LabelEncoder()\n",
    "            encoded_df[column] = encoder.fit_transform(df[column])\n",
    "        else:\n",
    "            counter = df[column].value_counts().to_dict()\n",
    "            encoded_df[column] = df[column].map(counter)\n",
    "\n",
    "    return encoded_df\n",
    "\n",
    "# Применение кодирования к обучающим данным и сохранение их в CSV файл\n",
    "train_data_copy[X.columns] = encode_categorical_features(train_data_copy[X.columns])\n",
    "train_data_copy.to_csv('./data_proc/encoded_train_data.csv')\n",
    "\n",
    "# Применение кодирования к тестовым данным и сохранение их в CSV файл\n",
    "test_data_copy[X_test.columns] = encode_categorical_features(test_data_copy[X_test.columns])\n",
    "test_data_copy.to_csv('./data_proc/encoded_test_data.csv')\n"
   ],
   "metadata": {
    "collapsed": false,
    "pycharm": {
     "name": "#%%\n"
    }
   }
  },
  {
   "cell_type": "markdown",
   "source": [
    "# Removing outliers"
   ],
   "metadata": {
    "collapsed": false,
    "pycharm": {
     "name": "#%% md\n"
    }
   }
  },
  {
   "cell_type": "code",
   "execution_count": 5,
   "outputs": [
    {
     "name": "stdout",
     "output_type": "stream",
     "text": [
      "len train_data input 89734\n",
      "len train_data_cleaned 87350\n",
      "Deleted rows from class 0: 2366\n",
      "Deleted rows from class 1: 18\n"
     ]
    }
   ],
   "source": [
    "def remove_outliers(train_data, num_columns_threshold=5, ignore_columns=[], remove_class_1_outliers=True):\n",
    "    print(\"len train_data input\", len(train_data))\n",
    "    columns_to_analyze = [col for col in train_data.columns if col not in ignore_columns]\n",
    "    df = train_data[columns_to_analyze]\n",
    "\n",
    "    # We count Q1 and Q3 for each column\n",
    "    q1 = df.quantile(0.25)\n",
    "    q3 = df.quantile(0.75)\n",
    "\n",
    "    # Calculating the interquartile range (IQR)\n",
    "    iqr = q3 - q1\n",
    "\n",
    "    # Determining the boundaries of the interval for removing outliers\n",
    "    lower_bound = q1 - 1.5 * iqr\n",
    "    upper_bound = q3 + 1.5 * iqr\n",
    "\n",
    "    # Create a mask to define rows with outliers in each column\n",
    "    outliers_mask = ((df < lower_bound) | (df > upper_bound))\n",
    "\n",
    "    # Count the number of columns with outliers in each row\n",
    "    num_outliers = outliers_mask.sum(axis=1)\n",
    "\n",
    "    # Create a mask to identify rows with outliers in 5 or more columns\n",
    "    mask = (num_outliers >= num_columns_threshold)\n",
    "\n",
    "    # Removing rows with outliers from train_data\n",
    "    if remove_class_1_outliers:\n",
    "        mask_to_remove = mask\n",
    "    else:\n",
    "        mask_to_remove = mask & (train_data['MARKER'] != 1)\n",
    "    train_data_cleaned = train_data[~mask_to_remove]\n",
    "\n",
    "    print(\"len train_data_cleaned\", len(train_data_cleaned))\n",
    "    # Count the number of deleted rows for each class\n",
    "    num_deleted_class_0 = len(train_data[train_data['MARKER'] == 0]) - len(train_data_cleaned[train_data_cleaned['MARKER'] == 0])\n",
    "    num_deleted_class_1 = len(train_data[train_data['MARKER'] == 1]) - len(train_data_cleaned[train_data_cleaned['MARKER'] == 1])\n",
    "    print(\"Deleted rows from class 0:\", num_deleted_class_0)\n",
    "    print(\"Deleted rows from class 1:\", num_deleted_class_1)\n",
    "\n",
    "    return train_data_cleaned\n",
    "\n",
    "# An example of using the function to remove rows from the class MARKER = 1\n",
    "train_data_copy = remove_outliers(train_data_copy, num_columns_threshold=5, ignore_columns=['ID', 'MARKER'], remove_class_1_outliers=True)\n",
    "#print(train_data_copy)\n",
    "train_data_copy.to_csv('./data_proc/remove_outliers_train_data.csv')\n"
   ],
   "metadata": {
    "collapsed": false,
    "pycharm": {
     "name": "#%%\n"
    }
   }
  },
  {
   "cell_type": "markdown",
   "source": [
    "# scaling with choice of method"
   ],
   "metadata": {
    "collapsed": false,
    "pycharm": {
     "name": "#%% md\n"
    }
   }
  },
  {
   "cell_type": "code",
   "execution_count": 6,
   "outputs": [],
   "source": [
    "def scale_dataframe(df, ignore_columns=[], scaler_type='robust'):\n",
    "    columns_to_scale = [col for col in df.columns if col not in ignore_columns]\n",
    "\n",
    "    if scaler_type == 'standard':\n",
    "        scaler = StandardScaler()\n",
    "    elif scaler_type == 'robust':\n",
    "        scaler = RobustScaler()\n",
    "    else:\n",
    "        raise ValueError(\"Invalid scaler_type. Use 'standard' or 'robust'.\")\n",
    "\n",
    "    scaled_data = scaler.fit_transform(df[columns_to_scale])\n",
    "\n",
    "    # Обновляем значения в столбцах, которые нужно масштабировать\n",
    "    df.loc[:, columns_to_scale] = scaled_data\n",
    "    return df\n",
    "\n",
    "# Пример использования с разными способами масштабирования\n",
    "train_data_copy = scale_dataframe(train_data_copy,ignore_columns=['ID', 'MARKER'],scaler_type= \"standard\")\n",
    "#print(train_data_copy)\n",
    "train_data_copy.to_csv('./data_proc/prepar_train_data.csv')\n",
    "\n",
    "test_data_copy = scale_dataframe(test_data_copy,ignore_columns=['ID', 'MARKER'],scaler_type= \"standard\")\n",
    "#print(test_data_copy)\n",
    "test_data_copy.to_csv('./data_proc/prepar_test_data.csv')\n"
   ],
   "metadata": {
    "collapsed": false,
    "pycharm": {
     "name": "#%%\n"
    }
   }
  },
  {
   "cell_type": "markdown",
   "source": [
    "# general feature selection"
   ],
   "metadata": {
    "collapsed": false,
    "pycharm": {
     "name": "#%% md\n"
    }
   }
  },
  {
   "cell_type": "code",
   "execution_count": 7,
   "outputs": [
    {
     "name": "stdout",
     "output_type": "stream",
     "text": [
      "size train_data_copy after remove low variance: (87350, 23)\n",
      "size train_data_copy after remove high correlation_features: (87350, 21)\n",
      "size train_data_copy after KBest: (87350, 17)\n"
     ]
    },
    {
     "name": "stderr",
     "output_type": "stream",
     "text": [
      "D:\\PycharmProjects\\innowise\\venv\\lib\\site-packages\\sklearn\\feature_selection\\_univariate_selection.py:113: RuntimeWarning: divide by zero encountered in divide\n",
      "  f = msb / msw\n"
     ]
    }
   ],
   "source": [
    "# Function for removing features with low diversity of values\n",
    "def remove_low_variance_features(df, threshold=0.95, ignore_columns=[]):\n",
    "    num_rows = len(df)\n",
    "    columns_to_check = [col for col in df.columns if col not in ignore_columns]\n",
    "    low_variance_columns = [col for col in columns_to_check if (df[col].value_counts() / num_rows).max() > threshold]\n",
    "    df_filtered = df.drop(columns=low_variance_columns)\n",
    "    return df_filtered\n",
    "\n",
    "# Function for removing features with high correlation with each other\n",
    "def remove_high_correlation_features(df, y_df, threshold=0.8, ignore_columns=['ID', 'MARKER']):\n",
    "    corr_matrix = df.corr()\n",
    "    to_drop = []\n",
    "\n",
    "    for column in corr_matrix.columns:\n",
    "        if column in ignore_columns:\n",
    "            continue\n",
    "\n",
    "        correlated_columns = corr_matrix.index[corr_matrix[column] > threshold].tolist()  # Finds a list of columns that are highly correlated with the current column\n",
    "        if correlated_columns:\n",
    "            max_corr_with_target = max(correlated_columns, key=lambda col: abs(df[column].corr(y_df)))\n",
    "            # Finds the column with the maximum absolute correlation with the target feature y_df\n",
    "\n",
    "            if column != max_corr_with_target and max_corr_with_target not in ignore_columns:\n",
    "                to_drop.append(column)\n",
    "\n",
    "    df_filtered = df.drop(columns=to_drop)\n",
    "    return df_filtered\n",
    "\n",
    "# Feature selection using the KBEST method\n",
    "def select_KBest(X, y, k=17, ignore_columns=['ID', 'MARKER']):\n",
    "    selector = SelectKBest(score_func=f_classif, k=k)\n",
    "    X_new = selector.fit_transform(X, y)\n",
    "    selected_features = X.columns[selector.get_support()]\n",
    "\n",
    "    X_new_df = pd.DataFrame(X_new, columns=selected_features, index=X.index)\n",
    "\n",
    "    for col in ignore_columns:\n",
    "        X_new_df[col] = X[col]\n",
    "    return X_new_df, selected_features\n",
    "\n",
    "\n",
    "\n",
    "train_data_copy = remove_low_variance_features(train_data_copy,threshold=0.85, ignore_columns=['ID', 'MARKER'])\n",
    "print(\"size train_data_copy after remove low variance:\",train_data_copy.shape)\n",
    "\n",
    "train_data_copy = remove_high_correlation_features(train_data_copy,y_copy,threshold=0.75,ignore_columns=['ID', 'MARKER'])\n",
    "print(\"size train_data_copy after remove high correlation_features:\",train_data_copy.shape)\n",
    "\n",
    "train_data_copy,important_columns = select_KBest(train_data_copy, train_data_copy[\"MARKER\"], k=17)\n",
    "print(\"size train_data_copy after KBest:\",train_data_copy.shape)\n"
   ],
   "metadata": {
    "collapsed": false,
    "pycharm": {
     "name": "#%%\n"
    }
   }
  },
  {
   "cell_type": "markdown",
   "source": [
    "# Undersampling (RepeatedEditedNearestNeighbours)"
   ],
   "metadata": {
    "collapsed": false,
    "pycharm": {
     "name": "#%% md\n"
    }
   }
  },
  {
   "cell_type": "code",
   "execution_count": 8,
   "outputs": [
    {
     "name": "stdout",
     "output_type": "stream",
     "text": [
      "(87350, 17)\n",
      "(86011, 17)\n"
     ]
    }
   ],
   "source": [
    "def apply_renn_undersampling(dataframe, target_column_name):\n",
    "    # Divide the data into features (X) and target variable (y)\n",
    "    X = dataframe.drop(columns=[target_column_name])\n",
    "    y = dataframe[target_column_name]\n",
    "\n",
    "    # Initialize RENN\n",
    "    renn = RepeatedEditedNearestNeighbours(sampling_strategy='auto', n_neighbors=3, max_iter=100,n_jobs = 2)\n",
    "\n",
    "    # Use RENN for undersampling\n",
    "    X_resampled, y_resampled = renn.fit_resample(X, y)\n",
    "\n",
    "    # Create a new DataFrame with reduced selection\n",
    "    resampled_dataframe = pd.DataFrame(data=X_resampled, columns=X.columns)\n",
    "    resampled_dataframe[target_column_name] = y_resampled\n",
    "\n",
    "    return resampled_dataframe\n",
    "\n",
    "# Apply the function to DataFrame\n",
    "print(train_data_copy.shape)\n",
    "train_data_copy = apply_renn_undersampling(train_data_copy, 'MARKER')\n",
    "print(train_data_copy.shape)\n"
   ],
   "metadata": {
    "collapsed": false,
    "pycharm": {
     "name": "#%%\n"
    }
   }
  },
  {
   "cell_type": "markdown",
   "source": [
    "# Ovesampling with SMOTE"
   ],
   "metadata": {
    "collapsed": false,
    "pycharm": {
     "name": "#%% md\n"
    }
   }
  },
  {
   "cell_type": "code",
   "execution_count": 9,
   "outputs": [
    {
     "name": "stdout",
     "output_type": "stream",
     "text": [
      "(86011, 17)\n",
      "(171374, 17)\n"
     ]
    },
    {
     "name": "stderr",
     "output_type": "stream",
     "text": [
      "D:\\PycharmProjects\\innowise\\venv\\lib\\site-packages\\imblearn\\over_sampling\\_smote\\base.py:345: FutureWarning: The parameter `n_jobs` has been deprecated in 0.10 and will be removed in 0.12. You can pass an nearest neighbors estimator where `n_jobs` is already set instead.\n",
      "  warnings.warn(\n"
     ]
    }
   ],
   "source": [
    "def apply_smote_oversampling(dataframe, target_column_name, random_state=42):\n",
    "    # Divide the data into features (X) and target variable (y)\n",
    "    X = dataframe.drop(columns=[target_column_name])\n",
    "    y = dataframe[target_column_name]\n",
    "\n",
    "    # Initialize SMOTE\n",
    "    smote = SMOTE(sampling_strategy='auto', random_state=random_state,n_jobs = 2)\n",
    "\n",
    "    # Apply SMOTE for oversampling\n",
    "    X_resampled, y_resampled = smote.fit_resample(X, y)\n",
    "\n",
    "    # Create a new DataFrame with a larger sample\n",
    "    resampled_dataframe = pd.DataFrame(data=X_resampled, columns=X.columns)\n",
    "    resampled_dataframe[target_column_name] = y_resampled\n",
    "\n",
    "    return resampled_dataframe\n",
    "\n",
    "# Apply the function to DataFrame\n",
    "print(train_data_copy.shape)\n",
    "train_data_copy = apply_smote_oversampling(train_data_copy, 'MARKER')\n",
    "print(train_data_copy.shape)\n"
   ],
   "metadata": {
    "collapsed": false,
    "pycharm": {
     "name": "#%%\n"
    }
   }
  },
  {
   "cell_type": "markdown",
   "source": [
    "# Logistic regression 3"
   ],
   "metadata": {
    "collapsed": false,
    "pycharm": {
     "name": "#%% md\n"
    }
   }
  },
  {
   "cell_type": "code",
   "execution_count": 14,
   "outputs": [
    {
     "name": "stdout",
     "output_type": "stream",
     "text": [
      "Best Parameters: {'C': 1487.3521072935118, 'penalty': 'l1'}\n",
      "Best F1 Score: 0.8958333599770082\n",
      "Test F1 Score: 0.8213413056601603\n",
      "Selected Features:    Feature  Coefficient\n",
      "4        H     1.070480\n",
      "7        L    -0.817728\n",
      "1        D     0.811359\n",
      "9        N     0.714824\n",
      "10       O    -0.575438\n",
      "11       R    -0.464268\n",
      "13       W    -0.326653\n",
      "6        J    -0.257471\n",
      "8        M    -0.210540\n",
      "14       X    -0.199779\n",
      "Test Predictions: [1 1 0 ... 0 0 0]\n",
      "Test F1 Score (Threshold=0.965): 0.1157556270096463\n",
      "Test ROC AUC Score (Threshold=0.965): 0.874705638247174\n"
     ]
    }
   ],
   "source": [
    "def build_logistic_regression_model(df, target_column_name):\n",
    "    # Select features and target variable\n",
    "    X = df.drop(columns=['ID', target_column_name])\n",
    "    y = df[target_column_name]\n",
    "\n",
    "    # Divide the data into training and test sets\n",
    "    X_train, X_test, y_train, y_test = train_test_split(X, y, test_size=0.2, random_state=42)\n",
    "\n",
    "    # Define parameters to iterate over\n",
    "    param_grid = {\n",
    "        'penalty': ['l1', 'l2'],  # Enumerate L1 and L2 regularization\n",
    "        'C': np.logspace(-4, 4, 30)  # Iterate through the regularization parameter C\n",
    "    }\n",
    "\n",
    "    # Create a logistic regression model\n",
    "    logreg = LogisticRegression(solver='liblinear', class_weight='balanced')\n",
    "\n",
    "    # Create a GridSearchCV object to iterate through parameters\n",
    "    grid_search = GridSearchCV(logreg, param_grid, cv=5, scoring='roc_auc')\n",
    "\n",
    "    # Perform a grid search on the training set\n",
    "    grid_search.fit(X_train, y_train)\n",
    "\n",
    "    # Get the best parameters and F1-score metric value\n",
    "    best_params = grid_search.best_params_\n",
    "    best_score = grid_search.best_score_\n",
    "    print(\"Best Parameters:\", best_params)\n",
    "    print(\"Best F1 Score:\", best_score)\n",
    "\n",
    "    # Get the best model\n",
    "    best_model = grid_search.best_estimator_\n",
    "\n",
    "    # Train the model on selected most important features\n",
    "    coefficients = best_model.coef_[0]\n",
    "    feature_names = X.columns\n",
    "    coefficients_df = pd.DataFrame({'Feature': feature_names, 'Coefficient': coefficients})\n",
    "\n",
    "    # Select the 10 most important features\n",
    "    top_features = coefficients_df.iloc[np.abs(coefficients_df['Coefficient']).nlargest(10).index]\n",
    "    selected_features = top_features['Feature'].tolist()\n",
    "    X_train_selected = X_train[selected_features]\n",
    "    X_test_selected = X_test[selected_features]\n",
    "\n",
    "    # Training the model using selected features\n",
    "    best_model.fit(X_train_selected, y_train)\n",
    "\n",
    "    # Predictions for the test set\n",
    "    y_pred = best_model.predict(X_test_selected)\n",
    "\n",
    "    # Calculate the F1-score metric on the test set\n",
    "    test_f1_score = f1_score(y_test, y_pred)\n",
    "    print(\"Test F1 Score:\", test_f1_score)\n",
    "\n",
    "    return best_model, top_features\n",
    "\n",
    "\n",
    "def evaluate_with_threshold(model, test_data, target_column_name, selected_features, threshold=0.5):\n",
    "    # Extract features from test data\n",
    "    test_X = test_data[selected_features]\n",
    "\n",
    "    # Get probabilities for class 1\n",
    "    test_probabilities = model.predict_proba(test_X)[:, 1]\n",
    "\n",
    "    # Apply a probability threshold to get predictions (0 or 1)\n",
    "    test_predictions = (test_probabilities > threshold).astype(int)\n",
    "\n",
    "    # Create a DataFrame with predicted values\n",
    "    predictions_df = pd.DataFrame({'Prediction': test_predictions})\n",
    "\n",
    "    # Write the DataFrame to a CSV file\n",
    "    predictions_df.to_csv(\"predictions.csv\", index=False)\n",
    "\n",
    "    target_data = test_data[target_column_name]\n",
    "\n",
    "    # Calculate the F1-score metric on test data\n",
    "    test_f1 = f1_score(target_data, test_predictions)\n",
    "\n",
    "    # Calculate the ROC AUC metric on test data\n",
    "    test_roc_auc = roc_auc_score(target_data, test_probabilities)\n",
    "\n",
    "    return test_predictions, test_f1, test_roc_auc\n",
    "\n",
    "\n",
    "final_model, coefficients = build_logistic_regression_model(train_data_copy, target_column_name=\"MARKER\")\n",
    "print(\"Selected Features:\", coefficients)\n",
    "\n",
    "# Get a list of selected features\n",
    "selected_features = coefficients['Feature'].tolist()\n",
    "\n",
    "# Use different probability thresholds and see how the metrics change\n",
    "threshold = 0.965\n",
    "test_predictions, test_f1_score, test_roc_auc = evaluate_with_threshold(final_model, test_data_copy, target_column_name=\"MARKER\", selected_features=selected_features, threshold=threshold)\n",
    "print(\"Test Predictions:\", test_predictions)\n",
    "print(\"Test F1 Score (Threshold={}):\".format(threshold), test_f1_score)\n",
    "print(\"Test ROC AUC Score (Threshold={}):\".format(threshold), test_roc_auc)\n"
   ],
   "metadata": {
    "collapsed": false,
    "pycharm": {
     "name": "#%%\n"
    }
   }
  },
  {
   "cell_type": "markdown",
   "source": [
    "# Random forest 2"
   ],
   "metadata": {
    "collapsed": false,
    "pycharm": {
     "name": "#%% md\n"
    }
   }
  },
  {
   "cell_type": "code",
   "execution_count": 11,
   "outputs": [
    {
     "name": "stderr",
     "output_type": "stream",
     "text": [
      "[I 2024-01-24 16:56:08,458] A new study created in memory with name: no-name-19d05707-22c8-4405-aefe-34a256718c90\n",
      "[I 2024-01-24 16:56:09,598] Trial 0 finished with value: 0.5 and parameters: {'n_estimators': 15, 'max_depth': 13, 'min_samples_split': 0.836762258312716, 'min_samples_leaf': 0.3044996347283251}. Best is trial 0 with value: 0.5.\n",
      "[I 2024-01-24 16:56:15,154] Trial 1 finished with value: 0.9243648573424805 and parameters: {'n_estimators': 35, 'max_depth': 4, 'min_samples_split': 0.5282394744609444, 'min_samples_leaf': 0.187565070919179}. Best is trial 1 with value: 0.9243648573424805.\n",
      "[I 2024-01-24 16:56:16,575] Trial 2 finished with value: 0.5 and parameters: {'n_estimators': 20, 'max_depth': 8, 'min_samples_split': 0.9399594349505563, 'min_samples_leaf': 0.486201072621294}. Best is trial 1 with value: 0.9243648573424805.\n",
      "[I 2024-01-24 16:56:18,882] Trial 3 finished with value: 0.5 and parameters: {'n_estimators': 35, 'max_depth': 15, 'min_samples_split': 0.7478761254696715, 'min_samples_leaf': 0.20716994749927764}. Best is trial 1 with value: 0.9243648573424805.\n",
      "[I 2024-01-24 16:56:21,319] Trial 4 finished with value: 0.5 and parameters: {'n_estimators': 35, 'max_depth': 4, 'min_samples_split': 0.8829637196020353, 'min_samples_leaf': 0.14363478648180728}. Best is trial 1 with value: 0.9243648573424805.\n",
      "[I 2024-01-24 16:56:22,825] Trial 5 finished with value: 0.5 and parameters: {'n_estimators': 20, 'max_depth': 5, 'min_samples_split': 0.9382487096940985, 'min_samples_leaf': 0.4470069316001453}. Best is trial 1 with value: 0.9243648573424805.\n",
      "[I 2024-01-24 16:56:28,014] Trial 6 finished with value: 0.913852711965311 and parameters: {'n_estimators': 35, 'max_depth': 9, 'min_samples_split': 0.3927958499838068, 'min_samples_leaf': 0.28915221823222453}. Best is trial 1 with value: 0.9243648573424805.\n",
      "[I 2024-01-24 16:56:32,786] Trial 7 finished with value: 0.9176036766141037 and parameters: {'n_estimators': 30, 'max_depth': 9, 'min_samples_split': 0.2562367753639278, 'min_samples_leaf': 0.24597805903178055}. Best is trial 1 with value: 0.9243648573424805.\n",
      "[I 2024-01-24 16:56:36,600] Trial 8 finished with value: 0.9255064069628002 and parameters: {'n_estimators': 20, 'max_depth': 9, 'min_samples_split': 0.459341634844698, 'min_samples_leaf': 0.0910081252995531}. Best is trial 8 with value: 0.9255064069628002.\n",
      "[I 2024-01-24 16:56:41,534] Trial 9 finished with value: 0.9317674045086036 and parameters: {'n_estimators': 20, 'max_depth': 15, 'min_samples_split': 0.3133288698585814, 'min_samples_leaf': 0.12377597240848909}. Best is trial 9 with value: 0.9317674045086036.\n",
      "[I 2024-01-24 16:56:43,725] Trial 10 finished with value: 0.9577435184781523 and parameters: {'n_estimators': 5, 'max_depth': 12, 'min_samples_split': 0.11313661802300534, 'min_samples_leaf': 0.05641459710387221}. Best is trial 10 with value: 0.9577435184781523.\n",
      "[I 2024-01-24 16:56:45,671] Trial 11 finished with value: 0.9545971479014381 and parameters: {'n_estimators': 5, 'max_depth': 13, 'min_samples_split': 0.05479812260074539, 'min_samples_leaf': 0.07123356283199007}. Best is trial 10 with value: 0.9577435184781523.\n",
      "[I 2024-01-24 16:56:47,907] Trial 12 finished with value: 0.9545014806872001 and parameters: {'n_estimators': 5, 'max_depth': 12, 'min_samples_split': 0.06766291580092611, 'min_samples_leaf': 0.05429496095243508}. Best is trial 10 with value: 0.9577435184781523.\n",
      "[I 2024-01-24 16:56:50,198] Trial 13 finished with value: 0.9548674535051249 and parameters: {'n_estimators': 5, 'max_depth': 12, 'min_samples_split': 0.059921572767866915, 'min_samples_leaf': 0.053041102558614606}. Best is trial 10 with value: 0.9577435184781523.\n",
      "[I 2024-01-24 16:56:53,075] Trial 14 finished with value: 0.9329213939039118 and parameters: {'n_estimators': 10, 'max_depth': 11, 'min_samples_split': 0.17411035051512969, 'min_samples_leaf': 0.12584260291182306}. Best is trial 10 with value: 0.9577435184781523.\n",
      "[I 2024-01-24 16:56:57,607] Trial 15 finished with value: 0.9574372396754685 and parameters: {'n_estimators': 10, 'max_depth': 11, 'min_samples_split': 0.17569912140501198, 'min_samples_leaf': 0.05088436309389251}. Best is trial 10 with value: 0.9577435184781523.\n",
      "[I 2024-01-24 16:57:00,088] Trial 16 finished with value: 0.9187020672340754 and parameters: {'n_estimators': 10, 'max_depth': 7, 'min_samples_split': 0.20171323694552212, 'min_samples_leaf': 0.1616147427899129}. Best is trial 10 with value: 0.9577435184781523.\n",
      "[I 2024-01-24 16:57:03,293] Trial 17 finished with value: 0.9420841672820796 and parameters: {'n_estimators': 10, 'max_depth': 11, 'min_samples_split': 0.18255451805716155, 'min_samples_leaf': 0.09489806793669582}. Best is trial 10 with value: 0.9577435184781523.\n",
      "[I 2024-01-24 16:57:06,752] Trial 18 finished with value: 0.9297539544508904 and parameters: {'n_estimators': 15, 'max_depth': 10, 'min_samples_split': 0.3383029832085612, 'min_samples_leaf': 0.05053202257737807}. Best is trial 10 with value: 0.9577435184781523.\n",
      "[I 2024-01-24 16:57:09,440] Trial 19 finished with value: 0.9243088717888523 and parameters: {'n_estimators': 15, 'max_depth': 7, 'min_samples_split': 0.5796641106592023, 'min_samples_leaf': 0.10623653103062602}. Best is trial 10 with value: 0.9577435184781523.\n",
      "[I 2024-01-24 16:57:14,901] Trial 20 finished with value: 0.9206862350357806 and parameters: {'n_estimators': 25, 'max_depth': 14, 'min_samples_split': 0.1470466900763629, 'min_samples_leaf': 0.16606363159903179}. Best is trial 10 with value: 0.9577435184781523.\n",
      "[I 2024-01-24 16:57:17,273] Trial 21 finished with value: 0.9549927705929878 and parameters: {'n_estimators': 5, 'max_depth': 12, 'min_samples_split': 0.06291980328680213, 'min_samples_leaf': 0.05318439352809662}. Best is trial 10 with value: 0.9577435184781523.\n",
      "[I 2024-01-24 16:57:18,904] Trial 22 finished with value: 0.9430236063363451 and parameters: {'n_estimators': 5, 'max_depth': 11, 'min_samples_split': 0.25695878029647645, 'min_samples_leaf': 0.09397123176587303}. Best is trial 10 with value: 0.9577435184781523.\n",
      "[I 2024-01-24 16:57:21,757] Trial 23 finished with value: 0.9342542803275983 and parameters: {'n_estimators': 10, 'max_depth': 13, 'min_samples_split': 0.14184058100124697, 'min_samples_leaf': 0.11770910063013233}. Best is trial 10 with value: 0.9577435184781523.\n",
      "[I 2024-01-24 16:57:23,505] Trial 24 finished with value: 0.953528171617608 and parameters: {'n_estimators': 5, 'max_depth': 12, 'min_samples_split': 0.2469471652667426, 'min_samples_leaf': 0.08162540510633624}. Best is trial 10 with value: 0.9577435184781523.\n",
      "[I 2024-01-24 16:57:25,965] Trial 25 finished with value: 0.9186876122826767 and parameters: {'n_estimators': 10, 'max_depth': 10, 'min_samples_split': 0.11976102979835823, 'min_samples_leaf': 0.14785217547875823}. Best is trial 10 with value: 0.9577435184781523.\n",
      "[I 2024-01-24 16:57:32,051] Trial 26 finished with value: 0.952061303455714 and parameters: {'n_estimators': 15, 'max_depth': 14, 'min_samples_split': 0.1144467200597666, 'min_samples_leaf': 0.053820994850661996}. Best is trial 10 with value: 0.9577435184781523.\n",
      "[I 2024-01-24 16:57:33,831] Trial 27 finished with value: 0.9539126187254781 and parameters: {'n_estimators': 5, 'max_depth': 10, 'min_samples_split': 0.21324115320068537, 'min_samples_leaf': 0.08831262846933607}. Best is trial 10 with value: 0.9577435184781523.\n",
      "[I 2024-01-24 16:57:36,615] Trial 28 finished with value: 0.9331113675456567 and parameters: {'n_estimators': 10, 'max_depth': 14, 'min_samples_split': 0.05104627204781245, 'min_samples_leaf': 0.12448781008043752}. Best is trial 10 with value: 0.9577435184781523.\n",
      "[I 2024-01-24 16:57:39,344] Trial 29 finished with value: 0.904495826688545 and parameters: {'n_estimators': 15, 'max_depth': 12, 'min_samples_split': 0.3104052956817801, 'min_samples_leaf': 0.2056351965975417}. Best is trial 10 with value: 0.9577435184781523.\n",
      "[I 2024-01-24 16:57:39,872] Trial 30 finished with value: 0.5 and parameters: {'n_estimators': 5, 'max_depth': 13, 'min_samples_split': 0.12306611890850203, 'min_samples_leaf': 0.3392451242251829}. Best is trial 10 with value: 0.9577435184781523.\n",
      "[I 2024-01-24 16:57:41,982] Trial 31 finished with value: 0.9565612408500085 and parameters: {'n_estimators': 5, 'max_depth': 12, 'min_samples_split': 0.07782970672481326, 'min_samples_leaf': 0.05958040436041739}. Best is trial 10 with value: 0.9577435184781523.\n",
      "[I 2024-01-24 16:57:43,925] Trial 32 finished with value: 0.954779122570146 and parameters: {'n_estimators': 5, 'max_depth': 11, 'min_samples_split': 0.11661111505544144, 'min_samples_leaf': 0.0706025503125613}. Best is trial 10 with value: 0.9577435184781523.\n",
      "[I 2024-01-24 16:57:47,036] Trial 33 finished with value: 0.9398938208973078 and parameters: {'n_estimators': 10, 'max_depth': 13, 'min_samples_split': 0.19655612258159955, 'min_samples_leaf': 0.10702672786211617}. Best is trial 10 with value: 0.9577435184781523.\n",
      "[I 2024-01-24 16:57:48,951] Trial 34 finished with value: 0.9545644791528508 and parameters: {'n_estimators': 5, 'max_depth': 12, 'min_samples_split': 0.09974642983535445, 'min_samples_leaf': 0.07136219501369923}. Best is trial 10 with value: 0.9577435184781523.\n",
      "[I 2024-01-24 16:57:50,959] Trial 35 finished with value: 0.9150258498490166 and parameters: {'n_estimators': 10, 'max_depth': 10, 'min_samples_split': 0.15975679883973143, 'min_samples_leaf': 0.18363057537556432}. Best is trial 10 with value: 0.9577435184781523.\n",
      "[I 2024-01-24 16:57:52,381] Trial 36 finished with value: 0.9186949757911662 and parameters: {'n_estimators': 5, 'max_depth': 8, 'min_samples_split': 0.09148686429271387, 'min_samples_leaf': 0.1457733144906939}. Best is trial 10 with value: 0.9577435184781523.\n",
      "[I 2024-01-24 16:57:57,160] Trial 37 finished with value: 0.9429127035625109 and parameters: {'n_estimators': 15, 'max_depth': 14, 'min_samples_split': 0.2363596275751319, 'min_samples_leaf': 0.07736852653939798}. Best is trial 10 with value: 0.9577435184781523.\n",
      "[I 2024-01-24 16:58:00,182] Trial 38 finished with value: 0.9391926120242369 and parameters: {'n_estimators': 10, 'max_depth': 11, 'min_samples_split': 0.15632938826112033, 'min_samples_leaf': 0.11102034694571197}. Best is trial 10 with value: 0.9577435184781523.\n",
      "[I 2024-01-24 16:58:06,626] Trial 39 finished with value: 0.9324537243714627 and parameters: {'n_estimators': 25, 'max_depth': 13, 'min_samples_split': 0.27440141124884987, 'min_samples_leaf': 0.13941052793043224}. Best is trial 10 with value: 0.9577435184781523.\n"
     ]
    },
    {
     "name": "stdout",
     "output_type": "stream",
     "text": [
      "ROC AUC: 0.8108904986811232\n",
      "Predictions on Test Data: [1. 1. 1. ... 1. 1. 0.]\n"
     ]
    }
   ],
   "source": [
    "def objective(trial, X, y):\n",
    "    n_estimators = trial.suggest_int('n_estimators', 5, 35, step=5)\n",
    "    max_depth = trial.suggest_int('max_depth', 3, 15)\n",
    "    min_samples_split = trial.suggest_float('min_samples_split', 0.05, 1.0)\n",
    "    min_samples_leaf = trial.suggest_float('min_samples_leaf', 0.05, 0.5)\n",
    "\n",
    "    model = RandomForestClassifier(\n",
    "        n_estimators=n_estimators,\n",
    "        max_depth=max_depth,\n",
    "        min_samples_split=min_samples_split,\n",
    "        min_samples_leaf=min_samples_leaf,\n",
    "        class_weight='balanced',\n",
    "        random_state=42\n",
    "    )\n",
    "\n",
    "    skf = StratifiedKFold(n_splits=5, shuffle=True, random_state=42)\n",
    "    scores = cross_val_score(model, X, y, cv=skf, scoring='roc_auc')\n",
    "    average_score = scores.mean()\n",
    "\n",
    "    return average_score\n",
    "\n",
    "def build_and_predict_random_forest(train_data, test_data, target_column_name, selected_features):\n",
    "    # Выделите признаки и целевую переменную\n",
    "    X_train = train_data[selected_features]\n",
    "    y_train = train_data[target_column_name]\n",
    "    X_test = test_data[selected_features]\n",
    "    y_test = test_data[target_column_name]\n",
    "\n",
    "    # Подбор гиперпараметров\n",
    "    study = optuna.create_study(direction='maximize')\n",
    "    study.optimize(lambda trial: objective(trial, X_train, y_train), n_trials=40)\n",
    "\n",
    "    best_params = study.best_params\n",
    "    best_n_estimators = best_params['n_estimators']\n",
    "    best_max_depth = best_params['max_depth']\n",
    "    best_min_samples_split = best_params['min_samples_split']\n",
    "    best_min_samples_leaf = best_params['min_samples_leaf']\n",
    "\n",
    "    # Создайте и обучите модель случайного леса с наилучшими гиперпараметрами\n",
    "    model = RandomForestClassifier(\n",
    "        n_estimators=best_n_estimators,\n",
    "        max_depth=best_max_depth,\n",
    "        min_samples_split=best_min_samples_split,\n",
    "        min_samples_leaf=best_min_samples_leaf,\n",
    "        class_weight='balanced',\n",
    "        random_state=42\n",
    "    )\n",
    "    model.fit(X_train, y_train)\n",
    "\n",
    "    # Прогнозирование на тестовых данных\n",
    "    y_pred_prob = model.predict_proba(X_test)[:, 1]\n",
    "\n",
    "    # Вычисление ROC AUC\n",
    "    roc_auc = roc_auc_score(y_test, y_pred_prob)\n",
    "\n",
    "    # Вывод ROC AUC\n",
    "    print(\"ROC AUC:\", roc_auc)\n",
    "\n",
    "    return model\n",
    "\n",
    "# Построение и оценка модели случайного леса\n",
    "model = build_and_predict_random_forest(train_data_copy, test_data_copy, \"MARKER\", selected_features)\n",
    "print(\"Predictions on Test Data:\",model.predict(test_data_copy[selected_features]))"
   ],
   "metadata": {
    "collapsed": false,
    "pycharm": {
     "name": "#%%\n"
    }
   }
  },
  {
   "cell_type": "markdown",
   "source": [
    "# Adaboosting"
   ],
   "metadata": {
    "collapsed": false,
    "pycharm": {
     "name": "#%% md\n"
    }
   }
  },
  {
   "cell_type": "code",
   "execution_count": 12,
   "outputs": [
    {
     "name": "stderr",
     "output_type": "stream",
     "text": [
      "[I 2024-01-24 16:58:07,179] A new study created in memory with name: no-name-c08fedc4-180e-4fcb-8d1c-2815f68a2ea5\n",
      "[I 2024-01-24 16:58:12,150] Trial 0 finished with value: 0.9921925233954292 and parameters: {'n_estimators': 7, 'learning_rate': 0.0011055895440158208}. Best is trial 0 with value: 0.9921925233954292.\n",
      "[I 2024-01-24 16:58:12,183] Trial 1 finished with value: 0.9921925233954292 and parameters: {'n_estimators': 5, 'learning_rate': 0.21292735315653016}. Best is trial 0 with value: 0.9921925233954292.\n",
      "[I 2024-01-24 16:58:17,116] Trial 2 finished with value: 0.9921925233954292 and parameters: {'n_estimators': 11, 'learning_rate': 0.0037396953328367216}. Best is trial 0 with value: 0.9921925233954292.\n",
      "[I 2024-01-24 16:58:17,178] Trial 3 finished with value: 0.9921925233954292 and parameters: {'n_estimators': 9, 'learning_rate': 0.0012280457449365693}. Best is trial 0 with value: 0.9921925233954292.\n",
      "[I 2024-01-24 16:58:22,102] Trial 4 finished with value: 0.9921925233954292 and parameters: {'n_estimators': 15, 'learning_rate': 0.006693243397733443}. Best is trial 0 with value: 0.9921925233954292.\n",
      "[I 2024-01-24 16:58:22,169] Trial 5 finished with value: 0.9921925233954292 and parameters: {'n_estimators': 1, 'learning_rate': 0.0016230240028047482}. Best is trial 0 with value: 0.9921925233954292.\n",
      "[I 2024-01-24 16:58:27,195] Trial 6 finished with value: 0.9921925233954292 and parameters: {'n_estimators': 11, 'learning_rate': 0.08191893345284365}. Best is trial 0 with value: 0.9921925233954292.\n",
      "[I 2024-01-24 16:58:27,271] Trial 7 finished with value: 0.9921925233954292 and parameters: {'n_estimators': 5, 'learning_rate': 0.17038506158589348}. Best is trial 0 with value: 0.9921925233954292.\n",
      "[I 2024-01-24 16:58:32,775] Trial 8 finished with value: 0.9921925233954292 and parameters: {'n_estimators': 7, 'learning_rate': 0.0016333626904156669}. Best is trial 0 with value: 0.9921925233954292.\n",
      "[I 2024-01-24 16:58:32,838] Trial 9 finished with value: 0.9921925233954292 and parameters: {'n_estimators': 13, 'learning_rate': 0.024254079655542722}. Best is trial 0 with value: 0.9921925233954292.\n",
      "[I 2024-01-24 16:58:37,725] Trial 10 finished with value: 0.9921925233954292 and parameters: {'n_estimators': 11, 'learning_rate': 0.7398169342093205}. Best is trial 0 with value: 0.9921925233954292.\n",
      "[I 2024-01-24 16:58:37,789] Trial 11 finished with value: 0.9921925233954292 and parameters: {'n_estimators': 3, 'learning_rate': 0.5524300322481692}. Best is trial 0 with value: 0.9921925233954292.\n",
      "[I 2024-01-24 16:58:42,795] Trial 12 finished with value: 0.9921925233954292 and parameters: {'n_estimators': 3, 'learning_rate': 0.013088028623770766}. Best is trial 0 with value: 0.9921925233954292.\n",
      "[I 2024-01-24 16:58:42,863] Trial 13 finished with value: 0.9921925233954292 and parameters: {'n_estimators': 5, 'learning_rate': 0.020093888541052804}. Best is trial 0 with value: 0.9921925233954292.\n",
      "[I 2024-01-24 16:58:47,847] Trial 14 finished with value: 0.9921925233954292 and parameters: {'n_estimators': 7, 'learning_rate': 0.06096790771714249}. Best is trial 0 with value: 0.9921925233954292.\n",
      "[I 2024-01-24 16:58:47,922] Trial 15 finished with value: 0.9921925233954292 and parameters: {'n_estimators': 7, 'learning_rate': 0.055632301892519706}. Best is trial 0 with value: 0.9921925233954292.\n",
      "[I 2024-01-24 16:58:53,159] Trial 16 finished with value: 0.9921925233954292 and parameters: {'n_estimators': 5, 'learning_rate': 0.006298938432153344}. Best is trial 0 with value: 0.9921925233954292.\n",
      "[I 2024-01-24 16:58:53,233] Trial 17 finished with value: 0.9921925233954292 and parameters: {'n_estimators': 5, 'learning_rate': 0.25804556482718954}. Best is trial 0 with value: 0.9921925233954292.\n",
      "[I 2024-01-24 16:58:58,146] Trial 18 finished with value: 0.9921925233954292 and parameters: {'n_estimators': 1, 'learning_rate': 0.20346013077161174}. Best is trial 0 with value: 0.9921925233954292.\n",
      "[I 2024-01-24 16:58:58,215] Trial 19 finished with value: 0.9921925233954292 and parameters: {'n_estimators': 1, 'learning_rate': 0.1558501418637892}. Best is trial 0 with value: 0.9921925233954292.\n",
      "[I 2024-01-24 16:59:03,145] Trial 20 finished with value: 0.9921925233954292 and parameters: {'n_estimators': 9, 'learning_rate': 0.03637043075031489}. Best is trial 0 with value: 0.9921925233954292.\n",
      "[I 2024-01-24 16:59:03,219] Trial 21 finished with value: 0.9921925233954292 and parameters: {'n_estimators': 9, 'learning_rate': 0.03802895628414469}. Best is trial 0 with value: 0.9921925233954292.\n",
      "[I 2024-01-24 16:59:08,939] Trial 22 finished with value: 0.9921925233954292 and parameters: {'n_estimators': 11, 'learning_rate': 0.003111484099276842}. Best is trial 0 with value: 0.9921925233954292.\n",
      "[I 2024-01-24 16:59:09,009] Trial 23 finished with value: 0.9921925233954292 and parameters: {'n_estimators': 11, 'learning_rate': 0.002830634647632228}. Best is trial 0 with value: 0.9921925233954292.\n",
      "[I 2024-01-24 16:59:13,948] Trial 24 finished with value: 0.9921925233954292 and parameters: {'n_estimators': 13, 'learning_rate': 0.003338758512230935}. Best is trial 0 with value: 0.9921925233954292.\n",
      "[I 2024-01-24 16:59:14,047] Trial 25 finished with value: 0.9921925233954292 and parameters: {'n_estimators': 3, 'learning_rate': 0.0011220201893516921}. Best is trial 0 with value: 0.9921925233954292.\n",
      "[I 2024-01-24 16:59:19,111] Trial 26 finished with value: 0.9921925233954292 and parameters: {'n_estimators': 3, 'learning_rate': 0.001321114895623502}. Best is trial 0 with value: 0.9921925233954292.\n",
      "[I 2024-01-24 16:59:19,158] Trial 27 finished with value: 0.9921925233954292 and parameters: {'n_estimators': 7, 'learning_rate': 0.012185822321452617}. Best is trial 0 with value: 0.9921925233954292.\n",
      "[I 2024-01-24 16:59:24,801] Trial 28 finished with value: 0.9921925233954292 and parameters: {'n_estimators': 7, 'learning_rate': 0.010748446186795957}. Best is trial 0 with value: 0.9921925233954292.\n",
      "[I 2024-01-24 16:59:24,898] Trial 29 finished with value: 0.9921925233954292 and parameters: {'n_estimators': 13, 'learning_rate': 0.0021905067312613107}. Best is trial 0 with value: 0.9921925233954292.\n"
     ]
    },
    {
     "name": "stdout",
     "output_type": "stream",
     "text": [
      "Optimal Hyperparameters: {'n_estimators': 7, 'learning_rate': 0.0011055895440158208}\n",
      "Predictions on Test Data: [0 0 0 ... 0 0 0]\n",
      "Test ROC AUC: 0.8108904986811232\n",
      "Test F1 Score: 0.0\n",
      "время выполнения 79.09648823738098\n"
     ]
    }
   ],
   "source": [
    "# Function for optimizing hyperparameters\n",
    "def optimize_adaboost_hyperparameters(trial, X_train, y_train):\n",
    "    n_estimators = trial.suggest_int('n_estimators', 1, 15, step=2)\n",
    "    learning_rate = trial.suggest_float('learning_rate', 0.001, 1.0, log=True)\n",
    "\n",
    "    estimator = DecisionTreeClassifier(class_weight='balanced')\n",
    "    model = AdaBoostClassifier(n_estimators=n_estimators, learning_rate=learning_rate, estimator=estimator, random_state=42)\n",
    "    skf = StratifiedKFold(n_splits=5, shuffle=True, random_state=42)\n",
    "    scores = cross_val_score(model, X_train, y_train, cv=skf, scoring='roc_auc')\n",
    "    return np.mean(scores)\n",
    "\n",
    "# Function for training and prediction with optimal model\n",
    "def train_and_predict_with_optimal_model(X_train, y_train, X_test, y_test, selected_features, best_params):\n",
    "    X_train_selected = X_train[selected_features]\n",
    "    X_test_selected = X_test[selected_features]\n",
    "\n",
    "    optimal_model = AdaBoostClassifier(n_estimators=best_params['n_estimators'], learning_rate=best_params['learning_rate'], random_state=42)\n",
    "    optimal_model.fit(X_train_selected, y_train)\n",
    "\n",
    "    y_pred_prob = optimal_model.predict_proba(X_test_selected)[:, 1]\n",
    "\n",
    "    fpr, tpr, thresholds = roc_curve(y_test, y_pred_prob)\n",
    "    optimal_threshold_index = np.argmax(tpr - fpr)\n",
    "    optimal_threshold = thresholds[optimal_threshold_index]\n",
    "\n",
    "    y_pred = (y_pred_prob > optimal_threshold).astype(int)\n",
    "\n",
    "    return y_pred\n",
    "\n",
    "def run_ada_boosting():\n",
    "    start = time.time()\n",
    "\n",
    "    # Loading data\n",
    "    X_train = train_data_copy[selected_features]\n",
    "    y_train = train_data_copy['MARKER']\n",
    "\n",
    "    X_test = test_data_copy[selected_features]\n",
    "    y_test = test_data_copy['MARKER']\n",
    "\n",
    "    # Create a Study object for optimization\n",
    "    study = optuna.create_study(direction='maximize')\n",
    "\n",
    "    # Run hyperparameter optimization\n",
    "    study.optimize(lambda trial: optimize_adaboost_hyperparameters(trial, X_train, y_train), n_trials=30, n_jobs=2)\n",
    "\n",
    "    # Getting the best hyperparameters\n",
    "    best_params = study.best_params\n",
    "\n",
    "    # Train a model with optimal hyperparameters and make predictions on a test data set\n",
    "    y_pred = train_and_predict_with_optimal_model(X_train, y_train, X_test, y_test, selected_features, best_params)\n",
    "    y_pred_prob = model.predict_proba(X_test)[:, 1]\n",
    "\n",
    "    # Calculate metrics\n",
    "    roc_auc = roc_auc_score(y_test, y_pred_prob)\n",
    "    f1 = f1_score(y_test, y_pred)\n",
    "\n",
    "    # Output the results of optimization and model evaluation\n",
    "    print(\"Optimal Hyperparameters:\", best_params)\n",
    "    print(\"Predictions on Test Data:\", y_pred)\n",
    "    np.savetxt('./data_proc/y_pred_boosting.csv', y_pred)\n",
    "    print(\"Test ROC AUC:\", roc_auc)\n",
    "    print(\"Test F1 Score:\", f1)\n",
    "\n",
    "    finish = time.time()\n",
    "    print(\"время выполнения\", finish - start)\n",
    "\n",
    "run_ada_boosting()"
   ],
   "metadata": {
    "collapsed": false,
    "pycharm": {
     "name": "#%%\n"
    }
   }
  },
  {
   "cell_type": "markdown",
   "source": [
    "# Universal algorithm 2"
   ],
   "metadata": {
    "collapsed": false,
    "pycharm": {
     "name": "#%% md\n"
    }
   }
  },
  {
   "cell_type": "code",
   "execution_count": 13,
   "outputs": [
    {
     "name": "stdout",
     "output_type": "stream",
     "text": [
      "column to input: Index(['ID', 'C', 'D', 'E', 'G', 'H', 'I', 'J', 'L', 'M', 'N', 'O', 'R', 'S',\n",
      "       'W', 'X', 'MARKER'],\n",
      "      dtype='object')\n",
      "built-in algorithm selected\n"
     ]
    },
    {
     "name": "stderr",
     "output_type": "stream",
     "text": [
      "[I 2024-01-24 16:59:53,843] A new study created in memory with name: no-name-b5fdeb24-3439-4178-8934-16ea027e23c5\n"
     ]
    },
    {
     "name": "stdout",
     "output_type": "stream",
     "text": [
      "Selected Features: Index(['H', 'O', 'G', 'S', 'W', 'I', 'N', 'D', 'E', 'L'], dtype='object')\n"
     ]
    },
    {
     "name": "stderr",
     "output_type": "stream",
     "text": [
      "[I 2024-01-24 17:00:12,868] Trial 2 finished with value: 0.5 and parameters: {'n_estimators': 200, 'max_depth': 6, 'min_samples_split': 0.41914842942009545, 'min_samples_leaf': 0.4337328653140067}. Best is trial 2 with value: 0.5.\n",
      "[I 2024-01-24 17:00:22,082] Trial 3 finished with value: 0.5 and parameters: {'n_estimators': 300, 'max_depth': 8, 'min_samples_split': 0.941205197762164, 'min_samples_leaf': 0.21076617309234358}. Best is trial 2 with value: 0.5.\n",
      "[I 2024-01-24 17:00:27,751] Trial 4 finished with value: 0.9036777736760527 and parameters: {'n_estimators': 50, 'max_depth': 3, 'min_samples_split': 0.16514109759116402, 'min_samples_leaf': 0.19873018470655457}. Best is trial 4 with value: 0.9036777736760527.\n",
      "[I 2024-01-24 17:00:31,310] Trial 5 finished with value: 0.5 and parameters: {'n_estimators': 100, 'max_depth': 8, 'min_samples_split': 0.48776994836431614, 'min_samples_leaf': 0.47078933691991287}. Best is trial 4 with value: 0.9036777736760527.\n",
      "[I 2024-01-24 17:00:41,700] Trial 6 finished with value: 0.91619384524549 and parameters: {'n_estimators': 50, 'max_depth': 14, 'min_samples_split': 0.6308592534461849, 'min_samples_leaf': 0.13239846687120543}. Best is trial 6 with value: 0.91619384524549.\n",
      "[I 2024-01-24 17:00:47,006] Trial 8 finished with value: 0.5 and parameters: {'n_estimators': 50, 'max_depth': 6, 'min_samples_split': 0.9033864213643298, 'min_samples_leaf': 0.09060046291901935}. Best is trial 6 with value: 0.91619384524549.\n",
      "[I 2024-01-24 17:00:51,203] Trial 7 finished with value: 0.5 and parameters: {'n_estimators': 200, 'max_depth': 3, 'min_samples_split': 0.06161241623675049, 'min_samples_leaf': 0.4656551118494875}. Best is trial 6 with value: 0.91619384524549.\n",
      "[I 2024-01-24 17:00:59,895] Trial 10 finished with value: 0.5 and parameters: {'n_estimators': 100, 'max_depth': 11, 'min_samples_split': 0.5395714452998299, 'min_samples_leaf': 0.41649999789238046}. Best is trial 6 with value: 0.91619384524549.\n",
      "[I 2024-01-24 17:01:17,662] Trial 11 finished with value: 0.5 and parameters: {'n_estimators': 200, 'max_depth': 9, 'min_samples_split': 0.9619327432386645, 'min_samples_leaf': 0.41511782091581567}. Best is trial 6 with value: 0.91619384524549.\n",
      "[I 2024-01-24 17:01:23,801] Trial 0 finished with value: 0.9096162489130883 and parameters: {'n_estimators': 300, 'max_depth': 9, 'min_samples_split': 0.2684917317712306, 'min_samples_leaf': 0.1902399879692508}. Best is trial 6 with value: 0.91619384524549.\n",
      "[I 2024-01-24 17:01:26,493] Trial 12 finished with value: 0.5 and parameters: {'n_estimators': 100, 'max_depth': 3, 'min_samples_split': 0.12166590615794495, 'min_samples_leaf': 0.4497692103276509}. Best is trial 6 with value: 0.91619384524549.\n",
      "[I 2024-01-24 17:01:33,416] Trial 1 finished with value: 0.9292162445124033 and parameters: {'n_estimators': 300, 'max_depth': 8, 'min_samples_split': 0.4040577322095081, 'min_samples_leaf': 0.12709655099342}. Best is trial 1 with value: 0.9292162445124033.\n",
      "[I 2024-01-24 17:01:46,003] Trial 9 finished with value: 0.9032052165184471 and parameters: {'n_estimators': 250, 'max_depth': 12, 'min_samples_split': 0.34298911422664635, 'min_samples_leaf': 0.23145465145361988}. Best is trial 1 with value: 0.9292162445124033.\n",
      "[I 2024-01-24 17:01:59,249] Trial 13 finished with value: 0.5 and parameters: {'n_estimators': 350, 'max_depth': 15, 'min_samples_split': 0.7016458961787864, 'min_samples_leaf': 0.05668373628302527}. Best is trial 1 with value: 0.9292162445124033.\n",
      "[I 2024-01-24 17:02:02,331] Trial 14 finished with value: 0.5 and parameters: {'n_estimators': 350, 'max_depth': 15, 'min_samples_split': 0.6724741879751029, 'min_samples_leaf': 0.08674018787315448}. Best is trial 1 with value: 0.9292162445124033.\n",
      "[I 2024-01-24 17:02:04,283] Trial 15 finished with value: 0.5 and parameters: {'n_estimators': 300, 'max_depth': 15, 'min_samples_split': 0.6843950816397395, 'min_samples_leaf': 0.0953955528684465}. Best is trial 1 with value: 0.9292162445124033.\n",
      "[I 2024-01-24 17:02:18,366] Trial 16 finished with value: 0.5 and parameters: {'n_estimators': 350, 'max_depth': 14, 'min_samples_split': 0.6375998962764418, 'min_samples_leaf': 0.051834936093772696}. Best is trial 1 with value: 0.9292162445124033.\n",
      "[I 2024-01-24 17:02:35,992] Trial 18 finished with value: 0.9128222184521894 and parameters: {'n_estimators': 150, 'max_depth': 12, 'min_samples_split': 0.5892800023797411, 'min_samples_leaf': 0.13467646315832546}. Best is trial 1 with value: 0.9292162445124033.\n",
      "[I 2024-01-24 17:02:51,710] Trial 19 finished with value: 0.9271219258842089 and parameters: {'n_estimators': 150, 'max_depth': 13, 'min_samples_split': 0.26657386167790476, 'min_samples_leaf': 0.14310947268613872}. Best is trial 1 with value: 0.9292162445124033.\n",
      "[I 2024-01-24 17:03:08,772] Trial 17 finished with value: 0.9182531924565416 and parameters: {'n_estimators': 350, 'max_depth': 15, 'min_samples_split': 0.6081229072830436, 'min_samples_leaf': 0.12840382763167968}. Best is trial 1 with value: 0.9292162445124033.\n"
     ]
    },
    {
     "name": "stdout",
     "output_type": "stream",
     "text": [
      "Best Hyperparameters: {'n_estimators': 300, 'max_depth': 8, 'min_samples_split': 0.4040577322095081, 'min_samples_leaf': 0.12709655099342}\n",
      "Test Predictions:        0\n",
      "0      1\n",
      "1      1\n",
      "2      1\n",
      "3      1\n",
      "4      0\n",
      "...   ..\n",
      "38400  0\n",
      "38401  1\n",
      "38402  1\n",
      "38403  1\n",
      "38404  0\n",
      "\n",
      "[38405 rows x 1 columns]\n",
      "Test F1 Score: 0.014648220759044166\n",
      "Test ROC AUC Score: 0.727317182419608\n"
     ]
    }
   ],
   "source": [
    "# Hyperparameter Optimization\n",
    "def optimize_hyperparameters(X, y, model_type):\n",
    "    def objective(trial):\n",
    "        if model_type == 'logistic_regression':\n",
    "            param_grid = {\n",
    "                'penalty': trial.suggest_categorical('penalty', ['l1', 'l2']),\n",
    "                'C': trial.suggest_loguniform('C', 1e-6, 1e4)\n",
    "            }\n",
    "            model = LogisticRegression(solver='liblinear', class_weight='balanced', **param_grid)\n",
    "        elif model_type == 'random_forest':\n",
    "            param_grid = {\n",
    "                'n_estimators': trial.suggest_int('n_estimators', 50, 350, step=50),\n",
    "                'max_depth': trial.suggest_int('max_depth', 3, 15),\n",
    "                'min_samples_split': trial.suggest_float('min_samples_split', 0.05, 1.0),\n",
    "                'min_samples_leaf': trial.suggest_float('min_samples_leaf', 0.05, 0.5)\n",
    "            }\n",
    "            model = RandomForestClassifier(\n",
    "                n_estimators=param_grid['n_estimators'],\n",
    "                max_depth=param_grid['max_depth'],\n",
    "                min_samples_split=param_grid['min_samples_split'],\n",
    "                min_samples_leaf=param_grid['min_samples_leaf'],\n",
    "                class_weight='balanced',\n",
    "                random_state=42\n",
    "            )\n",
    "        elif model_type == 'adaboost':\n",
    "            n_estimators = trial.suggest_int('n_estimators', 5, 75, step=5)\n",
    "            learning_rate = trial.suggest_float('learning_rate', 0.001, 1.0, log=True)\n",
    "\n",
    "            estimator = DecisionTreeClassifier(class_weight='balanced')\n",
    "            model = AdaBoostClassifier(n_estimators=n_estimators, learning_rate=learning_rate, estimator=estimator, random_state=42)\n",
    "        # Add other models and hyperparameters as needed\n",
    "\n",
    "        skf = StratifiedKFold(n_splits=5, shuffle=True, random_state=42)\n",
    "        scores = cross_val_score(model, X, y, cv=skf, scoring='roc_auc' )\n",
    "        return np.mean(scores)\n",
    "\n",
    "    study = optuna.create_study(direction='maximize')\n",
    "    study.optimize(objective, n_trials=20,n_jobs= 4)\n",
    "    best_params = study.best_params\n",
    "    return best_params\n",
    "\n",
    "# Model training\n",
    "def train_model(X_train, y_train, model_type, hyperparameters=None):\n",
    "    if model_type == 'logistic_regression':\n",
    "        if hyperparameters is None:\n",
    "            model = LogisticRegression(solver='liblinear', class_weight='balanced')\n",
    "        else:\n",
    "            model = LogisticRegression(solver='liblinear', class_weight='balanced', **hyperparameters)\n",
    "    elif model_type == 'random_forest':\n",
    "        model = RandomForestClassifier(\n",
    "            #class_weight='balanced',\n",
    "            random_state=42\n",
    "        )\n",
    "    elif model_type == 'adaboost':\n",
    "        if hyperparameters is None:\n",
    "            model = AdaBoostClassifier(random_state=42)\n",
    "        else:\n",
    "            model = AdaBoostClassifier(n_estimators=hyperparameters['n_estimators'], learning_rate=hyperparameters['learning_rate'], random_state=42)\n",
    "    #Add other models and options as needed\n",
    "\n",
    "    model.fit(X_train, y_train)\n",
    "    return model\n",
    "\n",
    "# Model evaluation\n",
    "def evaluate_model(model, X_test, y_test):\n",
    "    y_pred_prob = model.predict_proba(X_test)[:, 1]\n",
    "    fpr, tpr, thresholds = roc_curve(y_test, y_pred_prob)\n",
    "    optimal_threshold_index = np.argmax(tpr - fpr)\n",
    "    optimal_threshold = thresholds[optimal_threshold_index]\n",
    "    y_pred = (y_pred_prob > optimal_threshold).astype(int)\n",
    "\n",
    "    f1 = f1_score(y_test, y_pred)\n",
    "    roc_auc = roc_auc_score(y_test, y_pred_prob)\n",
    "\n",
    "    return y_pred, f1, roc_auc\n",
    "\n",
    "def fitness_score(model_type, X_train, y_train, selected_features):\n",
    "    model = train_model(X_train[selected_features], y_train, model_type)\n",
    "    _, _, roc_auc_score = evaluate_model(model, X_train[selected_features], y_train)\n",
    "    return roc_auc_score\n",
    "\n",
    "def mutate(selected_features, mutation_rate):\n",
    "    mutated_features = selected_features.copy()\n",
    "    for i in range(len(mutated_features)):\n",
    "        if random.random() < mutation_rate:\n",
    "            mutated_features[i] = random.randint(0, 1)  # 1 or 0 with equal probability\n",
    "    return mutated_features\n",
    "\n",
    "# Genetic algorithm\n",
    "def genetic_algorithm(X_train, y_train, model_type, num_gener, popul_size, mutation_rate):\n",
    "    num_features = X_train.shape[1]\n",
    "    column_names = X_train.columns\n",
    "\n",
    "    population = [random.choices([0, 1], k=num_features) for _ in range(popul_size)]\n",
    "\n",
    "    for generation in range(num_gener):\n",
    "        scores = []\n",
    "        for selected_features in population:\n",
    "            selected_column_names = [column_names[i] for i, select in enumerate(selected_features) if select == 1]\n",
    "            score = fitness_score(model_type, X_train, y_train, selected_column_names)\n",
    "            scores.append((selected_features, score))\n",
    "\n",
    "        scores.sort(key=lambda x: x[1], reverse=True)\n",
    "        elite = scores[:num_features // 2]\n",
    "\n",
    "        new_population = [selected_features for selected_features, _ in elite]\n",
    "        while len(new_population) < num_features:\n",
    "            parent1, parent2 = elite[0][0], elite[1][0]  # Use the top 2 parents\n",
    "            child = [parent1[i] if random.random() < 0.5 else parent2[i] for i in range(num_features)]\n",
    "            child = mutate(child, mutation_rate)\n",
    "            new_population.append(child)\n",
    "\n",
    "        population = new_population\n",
    "\n",
    "    best_features = max(scores, key=lambda x: x[1])[0]\n",
    "    return best_features\n",
    "\n",
    "def select_features_random_forest(X_train, y_train, num_features):\n",
    "    model = RandomForestClassifier(n_estimators=100, random_state=42)\n",
    "    model.fit(X_train, y_train)\n",
    "\n",
    "    feature_importances = model.feature_importances_\n",
    "    feature_indices = np.argsort(feature_importances)[::-1]  # Sort in descending order\n",
    "\n",
    "    selected_features = X_train.columns[feature_indices[:num_features]]\n",
    "    return selected_features\n",
    "\n",
    "\n",
    "def select_features_adaboost(X_train, y_train, num_features):\n",
    "    model = AdaBoostClassifier(n_estimators=100, random_state=42)\n",
    "    model.fit(X_train, y_train)\n",
    "\n",
    "    feature_weights = model.feature_importances_\n",
    "    feature_indices = np.argsort(feature_weights)[::-1]  # Sort in descending order\n",
    "\n",
    "    selected_features = X_train.columns[feature_indices[:num_features]]\n",
    "    return selected_features\n",
    "\n",
    "\n",
    "# Run the experiment\n",
    "def run_experiment(train_data, test_data, target_column_name, model_type, use_gen_alg=False, num_gener=10, popul_size=20, num_features=False, mutat_rate=0.1, hyp_optimize=True):\n",
    "    X_train = train_data.drop(columns=['ID', target_column_name])\n",
    "    y_train = train_data[target_column_name]\n",
    "\n",
    "    if (use_gen_alg or num_features) is False:\n",
    "        best_features = list(X_train.columns)  # Use all features\n",
    "    else:\n",
    "        if use_gen_alg and not num_features:\n",
    "            print(\"genetic algorithm selected\")\n",
    "            best_feature_indices = genetic_algorithm(X_train, y_train, model_type, num_gener, popul_size, mutat_rate)\n",
    "            best_features = [X_train.columns[i] for i, select in enumerate(best_feature_indices) if select == 1]\n",
    "        else:\n",
    "            print(\"built-in algorithm selected\")\n",
    "            if model_type == 'logistic_regression' and num_features:\n",
    "                # Use top N features based on coefficients if not optimizing hyperparameters\n",
    "                model = train_model(X_train, y_train, model_type)\n",
    "                coef_abs = np.abs(model.coef_[0])\n",
    "                best_features_idx = np.argsort(coef_abs)[-num_features:]\n",
    "                best_features = list(X_train.columns[best_features_idx])\n",
    "\n",
    "            elif model_type == 'random_forest' and num_features:\n",
    "                best_features = select_features_random_forest(X_train, y_train, num_features)\n",
    "\n",
    "            elif model_type == 'adaboost' and num_features:\n",
    "                best_features = select_features_adaboost(X_train, y_train, num_features)\n",
    "\n",
    "    print(\"Selected Features:\", best_features)\n",
    "\n",
    "    X_train_selected = X_train[best_features]\n",
    "    X_test_selected = test_data.drop(columns=['ID', target_column_name])[best_features]\n",
    "\n",
    "    if hyp_optimize:\n",
    "        best_hyperparameters = optimize_hyperparameters(X_train_selected, y_train, model_type)\n",
    "        print(\"Best Hyperparameters:\", best_hyperparameters)\n",
    "    else:\n",
    "        best_hyperparameters = None\n",
    "\n",
    "    model = train_model(X_train_selected, y_train, model_type, best_hyperparameters)\n",
    "\n",
    "    y_pred, f1, roc_auc = evaluate_model(model, X_test_selected, test_data[target_column_name])\n",
    "\n",
    "    y_pred = pd.DataFrame(y_pred)\n",
    "    y_pred.to_csv('./data_proc/y_pred_universal.csv')\n",
    "\n",
    "    print(\"Test Predictions:\", y_pred)\n",
    "    print(\"Test F1 Score:\", f1)\n",
    "    print(\"Test ROC AUC Score:\", roc_auc)\n",
    "\n",
    "print(\"column to input:\",train_data_copy.columns)\n",
    "run_experiment(train_data_copy, test_data_copy, 'MARKER', \"random_forest\", use_gen_alg=False, num_gener=5, popul_size=4,num_features= 10, mutat_rate=0.999, hyp_optimize=True)"
   ],
   "metadata": {
    "collapsed": false,
    "pycharm": {
     "name": "#%%\n"
    }
   }
  },
  {
   "cell_type": "code",
   "execution_count": 13,
   "outputs": [],
   "source": [
    "\n"
   ],
   "metadata": {
    "collapsed": false,
    "pycharm": {
     "name": "#%%\n"
    }
   }
  },
  {
   "cell_type": "code",
   "execution_count": 13,
   "outputs": [],
   "source": [],
   "metadata": {
    "collapsed": false,
    "pycharm": {
     "name": "#%%\n"
    }
   }
  },
  {
   "cell_type": "code",
   "execution_count": 13,
   "outputs": [],
   "source": [],
   "metadata": {
    "collapsed": false,
    "pycharm": {
     "name": "#%%\n"
    }
   }
  },
  {
   "cell_type": "code",
   "execution_count": 13,
   "outputs": [],
   "source": [],
   "metadata": {
    "collapsed": false,
    "pycharm": {
     "name": "#%%\n"
    }
   }
  },
  {
   "cell_type": "code",
   "execution_count": 13,
   "outputs": [],
   "source": [],
   "metadata": {
    "collapsed": false,
    "pycharm": {
     "name": "#%%\n"
    }
   }
  },
  {
   "cell_type": "code",
   "execution_count": 13,
   "outputs": [],
   "source": [],
   "metadata": {
    "collapsed": false,
    "pycharm": {
     "name": "#%%\n"
    }
   }
  },
  {
   "cell_type": "code",
   "execution_count": 13,
   "outputs": [],
   "source": [],
   "metadata": {
    "collapsed": false,
    "pycharm": {
     "name": "#%%\n"
    }
   }
  },
  {
   "cell_type": "code",
   "execution_count": 13,
   "outputs": [],
   "source": [],
   "metadata": {
    "collapsed": false,
    "pycharm": {
     "name": "#%%\n"
    }
   }
  },
  {
   "cell_type": "code",
   "execution_count": 13,
   "outputs": [],
   "source": [],
   "metadata": {
    "collapsed": false,
    "pycharm": {
     "name": "#%%\n"
    }
   }
  },
  {
   "cell_type": "code",
   "execution_count": 13,
   "outputs": [],
   "source": [],
   "metadata": {
    "collapsed": false,
    "pycharm": {
     "name": "#%%\n"
    }
   }
  },
  {
   "cell_type": "code",
   "execution_count": 13,
   "outputs": [],
   "source": [],
   "metadata": {
    "collapsed": false,
    "pycharm": {
     "name": "#%%\n"
    }
   }
  },
  {
   "cell_type": "code",
   "execution_count": 13,
   "outputs": [],
   "source": [],
   "metadata": {
    "collapsed": false,
    "pycharm": {
     "name": "#%%\n"
    }
   }
  },
  {
   "cell_type": "code",
   "execution_count": 13,
   "outputs": [],
   "source": [],
   "metadata": {
    "collapsed": false,
    "pycharm": {
     "name": "#%%\n"
    }
   }
  },
  {
   "cell_type": "code",
   "execution_count": 13,
   "outputs": [],
   "source": [],
   "metadata": {
    "collapsed": false,
    "pycharm": {
     "name": "#%%\n"
    }
   }
  },
  {
   "cell_type": "code",
   "execution_count": 13,
   "outputs": [],
   "source": [],
   "metadata": {
    "collapsed": false,
    "pycharm": {
     "name": "#%%\n"
    }
   }
  },
  {
   "cell_type": "code",
   "execution_count": 13,
   "outputs": [],
   "source": [],
   "metadata": {
    "collapsed": false,
    "pycharm": {
     "name": "#%%\n"
    }
   }
  },
  {
   "cell_type": "code",
   "execution_count": 13,
   "outputs": [],
   "source": [],
   "metadata": {
    "collapsed": false,
    "pycharm": {
     "name": "#%%\n"
    }
   }
  },
  {
   "cell_type": "code",
   "execution_count": 13,
   "outputs": [],
   "source": [],
   "metadata": {
    "collapsed": false,
    "pycharm": {
     "name": "#%%\n"
    }
   }
  },
  {
   "cell_type": "code",
   "execution_count": 13,
   "outputs": [],
   "source": [],
   "metadata": {
    "collapsed": false,
    "pycharm": {
     "name": "#%%\n"
    }
   }
  },
  {
   "cell_type": "code",
   "execution_count": 13,
   "outputs": [],
   "source": [],
   "metadata": {
    "collapsed": false,
    "pycharm": {
     "name": "#%%\n"
    }
   }
  },
  {
   "cell_type": "code",
   "execution_count": 13,
   "outputs": [],
   "source": [],
   "metadata": {
    "collapsed": false,
    "pycharm": {
     "name": "#%%\n"
    }
   }
  },
  {
   "cell_type": "code",
   "execution_count": 13,
   "outputs": [],
   "source": [],
   "metadata": {
    "collapsed": false,
    "pycharm": {
     "name": "#%%\n"
    }
   }
  },
  {
   "cell_type": "code",
   "execution_count": 13,
   "outputs": [],
   "source": [],
   "metadata": {
    "collapsed": false,
    "pycharm": {
     "name": "#%%\n"
    }
   }
  },
  {
   "cell_type": "code",
   "execution_count": 13,
   "outputs": [],
   "source": [],
   "metadata": {
    "collapsed": false,
    "pycharm": {
     "name": "#%%\n"
    }
   }
  },
  {
   "cell_type": "code",
   "execution_count": 13,
   "outputs": [],
   "source": [],
   "metadata": {
    "collapsed": false,
    "pycharm": {
     "name": "#%%\n"
    }
   }
  },
  {
   "cell_type": "code",
   "execution_count": 13,
   "outputs": [],
   "source": [],
   "metadata": {
    "collapsed": false,
    "pycharm": {
     "name": "#%%\n"
    }
   }
  },
  {
   "cell_type": "code",
   "execution_count": 13,
   "outputs": [],
   "source": [],
   "metadata": {
    "collapsed": false,
    "pycharm": {
     "name": "#%%\n"
    }
   }
  },
  {
   "cell_type": "code",
   "execution_count": 13,
   "outputs": [],
   "source": [],
   "metadata": {
    "collapsed": false,
    "pycharm": {
     "name": "#%%\n"
    }
   }
  },
  {
   "cell_type": "code",
   "execution_count": 13,
   "outputs": [],
   "source": [],
   "metadata": {
    "collapsed": false,
    "pycharm": {
     "name": "#%%\n"
    }
   }
  },
  {
   "cell_type": "code",
   "execution_count": 13,
   "outputs": [],
   "source": [],
   "metadata": {
    "collapsed": false,
    "pycharm": {
     "name": "#%%\n"
    }
   }
  },
  {
   "cell_type": "code",
   "execution_count": 13,
   "outputs": [],
   "source": [],
   "metadata": {
    "collapsed": false,
    "pycharm": {
     "name": "#%%\n"
    }
   }
  },
  {
   "cell_type": "code",
   "execution_count": 13,
   "outputs": [],
   "source": [],
   "metadata": {
    "collapsed": false,
    "pycharm": {
     "name": "#%%\n"
    }
   }
  },
  {
   "cell_type": "code",
   "execution_count": 13,
   "outputs": [],
   "source": [],
   "metadata": {
    "collapsed": false,
    "pycharm": {
     "name": "#%%\n"
    }
   }
  },
  {
   "cell_type": "code",
   "execution_count": 13,
   "outputs": [],
   "source": [],
   "metadata": {
    "collapsed": false,
    "pycharm": {
     "name": "#%%\n"
    }
   }
  },
  {
   "cell_type": "code",
   "execution_count": 13,
   "outputs": [],
   "source": [],
   "metadata": {
    "collapsed": false,
    "pycharm": {
     "name": "#%%\n"
    }
   }
  },
  {
   "cell_type": "code",
   "execution_count": 13,
   "outputs": [],
   "source": [],
   "metadata": {
    "collapsed": false,
    "pycharm": {
     "name": "#%%\n"
    }
   }
  },
  {
   "cell_type": "code",
   "execution_count": 13,
   "outputs": [],
   "source": [],
   "metadata": {
    "collapsed": false,
    "pycharm": {
     "name": "#%%\n"
    }
   }
  },
  {
   "cell_type": "code",
   "execution_count": 13,
   "outputs": [],
   "source": [],
   "metadata": {
    "collapsed": false,
    "pycharm": {
     "name": "#%%\n"
    }
   }
  },
  {
   "cell_type": "code",
   "execution_count": 13,
   "outputs": [],
   "source": [],
   "metadata": {
    "collapsed": false,
    "pycharm": {
     "name": "#%%\n"
    }
   }
  },
  {
   "cell_type": "code",
   "execution_count": 13,
   "outputs": [],
   "source": [],
   "metadata": {
    "collapsed": false,
    "pycharm": {
     "name": "#%%\n"
    }
   }
  },
  {
   "cell_type": "code",
   "execution_count": 13,
   "outputs": [],
   "source": [],
   "metadata": {
    "collapsed": false,
    "pycharm": {
     "name": "#%%\n"
    }
   }
  },
  {
   "cell_type": "code",
   "execution_count": 13,
   "outputs": [],
   "source": [],
   "metadata": {
    "collapsed": false,
    "pycharm": {
     "name": "#%%\n"
    }
   }
  },
  {
   "cell_type": "code",
   "execution_count": 13,
   "outputs": [],
   "source": [],
   "metadata": {
    "collapsed": false,
    "pycharm": {
     "name": "#%%\n"
    }
   }
  },
  {
   "cell_type": "code",
   "execution_count": 13,
   "outputs": [],
   "source": [],
   "metadata": {
    "collapsed": false,
    "pycharm": {
     "name": "#%%\n"
    }
   }
  },
  {
   "cell_type": "code",
   "execution_count": 13,
   "outputs": [],
   "source": [],
   "metadata": {
    "collapsed": false,
    "pycharm": {
     "name": "#%%\n"
    }
   }
  },
  {
   "cell_type": "code",
   "execution_count": 13,
   "outputs": [],
   "source": [],
   "metadata": {
    "collapsed": false,
    "pycharm": {
     "name": "#%%\n"
    }
   }
  },
  {
   "cell_type": "code",
   "execution_count": 13,
   "outputs": [],
   "source": [],
   "metadata": {
    "collapsed": false,
    "pycharm": {
     "name": "#%%\n"
    }
   }
  },
  {
   "cell_type": "code",
   "execution_count": 13,
   "outputs": [],
   "source": [],
   "metadata": {
    "collapsed": false,
    "pycharm": {
     "name": "#%%\n"
    }
   }
  },
  {
   "cell_type": "code",
   "execution_count": 13,
   "outputs": [],
   "source": [],
   "metadata": {
    "collapsed": false,
    "pycharm": {
     "name": "#%%\n"
    }
   }
  },
  {
   "cell_type": "code",
   "execution_count": 13,
   "outputs": [],
   "source": [],
   "metadata": {
    "collapsed": false,
    "pycharm": {
     "name": "#%%\n"
    }
   }
  },
  {
   "cell_type": "code",
   "execution_count": 13,
   "outputs": [],
   "source": [],
   "metadata": {
    "collapsed": false,
    "pycharm": {
     "name": "#%%\n"
    }
   }
  },
  {
   "cell_type": "code",
   "execution_count": 13,
   "outputs": [],
   "source": [],
   "metadata": {
    "collapsed": false,
    "pycharm": {
     "name": "#%%\n"
    }
   }
  },
  {
   "cell_type": "code",
   "execution_count": 13,
   "outputs": [],
   "source": [],
   "metadata": {
    "collapsed": false,
    "pycharm": {
     "name": "#%%\n"
    }
   }
  },
  {
   "cell_type": "code",
   "execution_count": 13,
   "outputs": [],
   "source": [],
   "metadata": {
    "collapsed": false,
    "pycharm": {
     "name": "#%%\n"
    }
   }
  },
  {
   "cell_type": "code",
   "execution_count": 13,
   "outputs": [],
   "source": [],
   "metadata": {
    "collapsed": false,
    "pycharm": {
     "name": "#%%\n"
    }
   }
  },
  {
   "cell_type": "code",
   "execution_count": 13,
   "outputs": [],
   "source": [],
   "metadata": {
    "collapsed": false,
    "pycharm": {
     "name": "#%%\n"
    }
   }
  },
  {
   "cell_type": "code",
   "execution_count": 13,
   "outputs": [],
   "source": [],
   "metadata": {
    "collapsed": false,
    "pycharm": {
     "name": "#%%\n"
    }
   }
  },
  {
   "cell_type": "code",
   "execution_count": 13,
   "outputs": [],
   "source": [],
   "metadata": {
    "collapsed": false,
    "pycharm": {
     "name": "#%%\n"
    }
   }
  },
  {
   "cell_type": "code",
   "execution_count": 13,
   "outputs": [],
   "source": [],
   "metadata": {
    "collapsed": false,
    "pycharm": {
     "name": "#%%\n"
    }
   }
  },
  {
   "cell_type": "code",
   "execution_count": 13,
   "outputs": [],
   "source": [],
   "metadata": {
    "collapsed": false,
    "pycharm": {
     "name": "#%%\n"
    }
   }
  },
  {
   "cell_type": "code",
   "execution_count": 13,
   "outputs": [],
   "source": [],
   "metadata": {
    "collapsed": false,
    "pycharm": {
     "name": "#%%\n"
    }
   }
  },
  {
   "cell_type": "code",
   "execution_count": 13,
   "outputs": [],
   "source": [],
   "metadata": {
    "collapsed": false,
    "pycharm": {
     "name": "#%%\n"
    }
   }
  },
  {
   "cell_type": "code",
   "execution_count": 13,
   "outputs": [],
   "source": [],
   "metadata": {
    "collapsed": false,
    "pycharm": {
     "name": "#%%\n"
    }
   }
  },
  {
   "cell_type": "code",
   "execution_count": 13,
   "outputs": [],
   "source": [],
   "metadata": {
    "collapsed": false,
    "pycharm": {
     "name": "#%%\n"
    }
   }
  },
  {
   "cell_type": "code",
   "execution_count": 13,
   "outputs": [],
   "source": [],
   "metadata": {
    "collapsed": false,
    "pycharm": {
     "name": "#%%\n"
    }
   }
  },
  {
   "cell_type": "code",
   "execution_count": 13,
   "outputs": [],
   "source": [],
   "metadata": {
    "collapsed": false,
    "pycharm": {
     "name": "#%%\n"
    }
   }
  },
  {
   "cell_type": "code",
   "execution_count": 13,
   "outputs": [],
   "source": [],
   "metadata": {
    "collapsed": false,
    "pycharm": {
     "name": "#%%\n"
    }
   }
  },
  {
   "cell_type": "code",
   "execution_count": 13,
   "outputs": [],
   "source": [],
   "metadata": {
    "collapsed": false,
    "pycharm": {
     "name": "#%%\n"
    }
   }
  },
  {
   "cell_type": "code",
   "execution_count": 13,
   "outputs": [],
   "source": [],
   "metadata": {
    "collapsed": false,
    "pycharm": {
     "name": "#%%\n"
    }
   }
  },
  {
   "cell_type": "code",
   "execution_count": 13,
   "outputs": [],
   "source": [],
   "metadata": {
    "collapsed": false,
    "pycharm": {
     "name": "#%%\n"
    }
   }
  },
  {
   "cell_type": "code",
   "execution_count": 13,
   "outputs": [],
   "source": [],
   "metadata": {
    "collapsed": false,
    "pycharm": {
     "name": "#%%\n"
    }
   }
  },
  {
   "cell_type": "code",
   "execution_count": 13,
   "outputs": [],
   "source": [],
   "metadata": {
    "collapsed": false,
    "pycharm": {
     "name": "#%%\n"
    }
   }
  },
  {
   "cell_type": "code",
   "execution_count": 13,
   "outputs": [],
   "source": [],
   "metadata": {
    "collapsed": false,
    "pycharm": {
     "name": "#%%\n"
    }
   }
  },
  {
   "cell_type": "code",
   "execution_count": 13,
   "outputs": [],
   "source": [],
   "metadata": {
    "collapsed": false,
    "pycharm": {
     "name": "#%%\n"
    }
   }
  },
  {
   "cell_type": "code",
   "execution_count": 13,
   "outputs": [],
   "source": [],
   "metadata": {
    "collapsed": false,
    "pycharm": {
     "name": "#%%\n"
    }
   }
  },
  {
   "cell_type": "code",
   "execution_count": 13,
   "outputs": [],
   "source": [],
   "metadata": {
    "collapsed": false,
    "pycharm": {
     "name": "#%%\n"
    }
   }
  },
  {
   "cell_type": "code",
   "execution_count": 13,
   "outputs": [],
   "source": [],
   "metadata": {
    "collapsed": false,
    "pycharm": {
     "name": "#%%\n"
    }
   }
  },
  {
   "cell_type": "code",
   "execution_count": 13,
   "outputs": [],
   "source": [],
   "metadata": {
    "collapsed": false,
    "pycharm": {
     "name": "#%%\n"
    }
   }
  },
  {
   "cell_type": "code",
   "execution_count": 13,
   "outputs": [],
   "source": [],
   "metadata": {
    "collapsed": false,
    "pycharm": {
     "name": "#%%\n"
    }
   }
  },
  {
   "cell_type": "code",
   "execution_count": 13,
   "outputs": [],
   "source": [],
   "metadata": {
    "collapsed": false,
    "pycharm": {
     "name": "#%%\n"
    }
   }
  },
  {
   "cell_type": "code",
   "execution_count": 13,
   "outputs": [],
   "source": [],
   "metadata": {
    "collapsed": false,
    "pycharm": {
     "name": "#%%\n"
    }
   }
  },
  {
   "cell_type": "code",
   "execution_count": 13,
   "outputs": [],
   "source": [],
   "metadata": {
    "collapsed": false,
    "pycharm": {
     "name": "#%%\n"
    }
   }
  },
  {
   "cell_type": "code",
   "execution_count": 13,
   "outputs": [],
   "source": [],
   "metadata": {
    "collapsed": false,
    "pycharm": {
     "name": "#%%\n"
    }
   }
  },
  {
   "cell_type": "code",
   "execution_count": 13,
   "outputs": [],
   "source": [],
   "metadata": {
    "collapsed": false,
    "pycharm": {
     "name": "#%%\n"
    }
   }
  },
  {
   "cell_type": "code",
   "execution_count": 13,
   "outputs": [],
   "source": [],
   "metadata": {
    "collapsed": false,
    "pycharm": {
     "name": "#%%\n"
    }
   }
  },
  {
   "cell_type": "code",
   "execution_count": 13,
   "outputs": [],
   "source": [],
   "metadata": {
    "collapsed": false,
    "pycharm": {
     "name": "#%%\n"
    }
   }
  },
  {
   "cell_type": "code",
   "execution_count": 13,
   "outputs": [],
   "source": [],
   "metadata": {
    "collapsed": false,
    "pycharm": {
     "name": "#%%\n"
    }
   }
  },
  {
   "cell_type": "code",
   "execution_count": 13,
   "outputs": [],
   "source": [],
   "metadata": {
    "collapsed": false,
    "pycharm": {
     "name": "#%%\n"
    }
   }
  },
  {
   "cell_type": "code",
   "execution_count": 13,
   "outputs": [],
   "source": [],
   "metadata": {
    "collapsed": false,
    "pycharm": {
     "name": "#%%\n"
    }
   }
  },
  {
   "cell_type": "code",
   "execution_count": 13,
   "outputs": [],
   "source": [],
   "metadata": {
    "collapsed": false,
    "pycharm": {
     "name": "#%%\n"
    }
   }
  },
  {
   "cell_type": "code",
   "execution_count": 13,
   "outputs": [],
   "source": [],
   "metadata": {
    "collapsed": false,
    "pycharm": {
     "name": "#%%\n"
    }
   }
  },
  {
   "cell_type": "code",
   "execution_count": 13,
   "outputs": [],
   "source": [],
   "metadata": {
    "collapsed": false,
    "pycharm": {
     "name": "#%%\n"
    }
   }
  },
  {
   "cell_type": "code",
   "execution_count": 13,
   "outputs": [],
   "source": [],
   "metadata": {
    "collapsed": false,
    "pycharm": {
     "name": "#%%\n"
    }
   }
  },
  {
   "cell_type": "code",
   "execution_count": 13,
   "outputs": [],
   "source": [],
   "metadata": {
    "collapsed": false,
    "pycharm": {
     "name": "#%%\n"
    }
   }
  },
  {
   "cell_type": "code",
   "execution_count": 13,
   "outputs": [],
   "source": [],
   "metadata": {
    "collapsed": false,
    "pycharm": {
     "name": "#%%\n"
    }
   }
  },
  {
   "cell_type": "code",
   "execution_count": 13,
   "outputs": [],
   "source": [],
   "metadata": {
    "collapsed": false,
    "pycharm": {
     "name": "#%%\n"
    }
   }
  },
  {
   "cell_type": "code",
   "execution_count": 13,
   "outputs": [],
   "source": [],
   "metadata": {
    "collapsed": false,
    "pycharm": {
     "name": "#%%\n"
    }
   }
  },
  {
   "cell_type": "code",
   "execution_count": 13,
   "outputs": [],
   "source": [],
   "metadata": {
    "collapsed": false,
    "pycharm": {
     "name": "#%%\n"
    }
   }
  },
  {
   "cell_type": "code",
   "execution_count": 13,
   "outputs": [],
   "source": [],
   "metadata": {
    "collapsed": false,
    "pycharm": {
     "name": "#%%\n"
    }
   }
  },
  {
   "cell_type": "code",
   "execution_count": 13,
   "outputs": [],
   "source": [],
   "metadata": {
    "collapsed": false,
    "pycharm": {
     "name": "#%%\n"
    }
   }
  },
  {
   "cell_type": "code",
   "execution_count": 13,
   "outputs": [],
   "source": [],
   "metadata": {
    "collapsed": false,
    "pycharm": {
     "name": "#%%\n"
    }
   }
  },
  {
   "cell_type": "code",
   "execution_count": 13,
   "outputs": [],
   "source": [],
   "metadata": {
    "collapsed": false,
    "pycharm": {
     "name": "#%%\n"
    }
   }
  },
  {
   "cell_type": "code",
   "execution_count": 13,
   "outputs": [],
   "source": [],
   "metadata": {
    "collapsed": false,
    "pycharm": {
     "name": "#%%\n"
    }
   }
  },
  {
   "cell_type": "code",
   "execution_count": 13,
   "outputs": [],
   "source": [],
   "metadata": {
    "collapsed": false,
    "pycharm": {
     "name": "#%%\n"
    }
   }
  },
  {
   "cell_type": "code",
   "execution_count": 13,
   "outputs": [],
   "source": [],
   "metadata": {
    "collapsed": false,
    "pycharm": {
     "name": "#%%\n"
    }
   }
  },
  {
   "cell_type": "code",
   "execution_count": 13,
   "outputs": [],
   "source": [],
   "metadata": {
    "collapsed": false,
    "pycharm": {
     "name": "#%%\n"
    }
   }
  },
  {
   "cell_type": "code",
   "execution_count": 13,
   "outputs": [],
   "source": [],
   "metadata": {
    "collapsed": false,
    "pycharm": {
     "name": "#%%\n"
    }
   }
  },
  {
   "cell_type": "code",
   "execution_count": 13,
   "outputs": [],
   "source": [],
   "metadata": {
    "collapsed": false,
    "pycharm": {
     "name": "#%%\n"
    }
   }
  },
  {
   "cell_type": "code",
   "execution_count": 13,
   "outputs": [],
   "source": [],
   "metadata": {
    "collapsed": false,
    "pycharm": {
     "name": "#%%\n"
    }
   }
  },
  {
   "cell_type": "code",
   "execution_count": 13,
   "outputs": [],
   "source": [],
   "metadata": {
    "collapsed": false,
    "pycharm": {
     "name": "#%%\n"
    }
   }
  },
  {
   "cell_type": "code",
   "execution_count": 13,
   "outputs": [],
   "source": [],
   "metadata": {
    "collapsed": false,
    "pycharm": {
     "name": "#%%\n"
    }
   }
  },
  {
   "cell_type": "code",
   "execution_count": 13,
   "outputs": [],
   "source": [],
   "metadata": {
    "collapsed": false,
    "pycharm": {
     "name": "#%%\n"
    }
   }
  },
  {
   "cell_type": "code",
   "execution_count": 13,
   "outputs": [],
   "source": [],
   "metadata": {
    "collapsed": false,
    "pycharm": {
     "name": "#%%\n"
    }
   }
  },
  {
   "cell_type": "code",
   "execution_count": 13,
   "outputs": [],
   "source": [],
   "metadata": {
    "collapsed": false,
    "pycharm": {
     "name": "#%%\n"
    }
   }
  },
  {
   "cell_type": "code",
   "execution_count": 13,
   "outputs": [],
   "source": [],
   "metadata": {
    "collapsed": false,
    "pycharm": {
     "name": "#%%\n"
    }
   }
  },
  {
   "cell_type": "code",
   "execution_count": 13,
   "outputs": [],
   "source": [],
   "metadata": {
    "collapsed": false,
    "pycharm": {
     "name": "#%%\n"
    }
   }
  },
  {
   "cell_type": "code",
   "execution_count": 13,
   "outputs": [],
   "source": [],
   "metadata": {
    "collapsed": false,
    "pycharm": {
     "name": "#%%\n"
    }
   }
  },
  {
   "cell_type": "code",
   "execution_count": 13,
   "outputs": [],
   "source": [],
   "metadata": {
    "collapsed": false,
    "pycharm": {
     "name": "#%%\n"
    }
   }
  },
  {
   "cell_type": "code",
   "execution_count": 13,
   "outputs": [],
   "source": [],
   "metadata": {
    "collapsed": false,
    "pycharm": {
     "name": "#%%\n"
    }
   }
  },
  {
   "cell_type": "code",
   "execution_count": 13,
   "outputs": [],
   "source": [],
   "metadata": {
    "collapsed": false,
    "pycharm": {
     "name": "#%%\n"
    }
   }
  },
  {
   "cell_type": "code",
   "execution_count": 13,
   "outputs": [],
   "source": [],
   "metadata": {
    "collapsed": false,
    "pycharm": {
     "name": "#%%\n"
    }
   }
  },
  {
   "cell_type": "code",
   "execution_count": 13,
   "outputs": [],
   "source": [],
   "metadata": {
    "collapsed": false,
    "pycharm": {
     "name": "#%%\n"
    }
   }
  },
  {
   "cell_type": "code",
   "execution_count": 13,
   "outputs": [],
   "source": [],
   "metadata": {
    "collapsed": false,
    "pycharm": {
     "name": "#%%\n"
    }
   }
  },
  {
   "cell_type": "code",
   "execution_count": 13,
   "outputs": [],
   "source": [],
   "metadata": {
    "collapsed": false,
    "pycharm": {
     "name": "#%%\n"
    }
   }
  },
  {
   "cell_type": "code",
   "execution_count": 13,
   "outputs": [],
   "source": [],
   "metadata": {
    "collapsed": false,
    "pycharm": {
     "name": "#%%\n"
    }
   }
  },
  {
   "cell_type": "code",
   "execution_count": 13,
   "outputs": [],
   "source": [],
   "metadata": {
    "collapsed": false,
    "pycharm": {
     "name": "#%%\n"
    }
   }
  },
  {
   "cell_type": "code",
   "execution_count": 13,
   "outputs": [],
   "source": [],
   "metadata": {
    "collapsed": false,
    "pycharm": {
     "name": "#%%\n"
    }
   }
  },
  {
   "cell_type": "code",
   "execution_count": 13,
   "outputs": [],
   "source": [],
   "metadata": {
    "collapsed": false,
    "pycharm": {
     "name": "#%%\n"
    }
   }
  },
  {
   "cell_type": "code",
   "execution_count": 13,
   "outputs": [],
   "source": [],
   "metadata": {
    "collapsed": false,
    "pycharm": {
     "name": "#%%\n"
    }
   }
  },
  {
   "cell_type": "code",
   "execution_count": 13,
   "outputs": [],
   "source": [],
   "metadata": {
    "collapsed": false,
    "pycharm": {
     "name": "#%%\n"
    }
   }
  },
  {
   "cell_type": "code",
   "execution_count": 13,
   "outputs": [],
   "source": [],
   "metadata": {
    "collapsed": false,
    "pycharm": {
     "name": "#%%\n"
    }
   }
  },
  {
   "cell_type": "code",
   "execution_count": 13,
   "outputs": [],
   "source": [],
   "metadata": {
    "collapsed": false,
    "pycharm": {
     "name": "#%%\n"
    }
   }
  },
  {
   "cell_type": "code",
   "execution_count": 13,
   "outputs": [],
   "source": [],
   "metadata": {
    "collapsed": false,
    "pycharm": {
     "name": "#%%\n"
    }
   }
  },
  {
   "cell_type": "code",
   "execution_count": 13,
   "outputs": [],
   "source": [],
   "metadata": {
    "collapsed": false,
    "pycharm": {
     "name": "#%%\n"
    }
   }
  },
  {
   "cell_type": "code",
   "execution_count": 13,
   "outputs": [],
   "source": [],
   "metadata": {
    "collapsed": false,
    "pycharm": {
     "name": "#%%\n"
    }
   }
  },
  {
   "cell_type": "code",
   "execution_count": 13,
   "outputs": [],
   "source": [],
   "metadata": {
    "collapsed": false,
    "pycharm": {
     "name": "#%%\n"
    }
   }
  },
  {
   "cell_type": "code",
   "execution_count": 13,
   "outputs": [],
   "source": [],
   "metadata": {
    "collapsed": false,
    "pycharm": {
     "name": "#%%\n"
    }
   }
  },
  {
   "cell_type": "code",
   "execution_count": 13,
   "outputs": [],
   "source": [],
   "metadata": {
    "collapsed": false,
    "pycharm": {
     "name": "#%%\n"
    }
   }
  },
  {
   "cell_type": "code",
   "execution_count": 13,
   "outputs": [],
   "source": [],
   "metadata": {
    "collapsed": false,
    "pycharm": {
     "name": "#%%\n"
    }
   }
  },
  {
   "cell_type": "code",
   "execution_count": 13,
   "outputs": [],
   "source": [],
   "metadata": {
    "collapsed": false,
    "pycharm": {
     "name": "#%%\n"
    }
   }
  },
  {
   "cell_type": "code",
   "execution_count": 13,
   "outputs": [],
   "source": [],
   "metadata": {
    "collapsed": false,
    "pycharm": {
     "name": "#%%\n"
    }
   }
  },
  {
   "cell_type": "code",
   "execution_count": 13,
   "outputs": [],
   "source": [],
   "metadata": {
    "collapsed": false,
    "pycharm": {
     "name": "#%%\n"
    }
   }
  },
  {
   "cell_type": "code",
   "execution_count": 13,
   "outputs": [],
   "source": [],
   "metadata": {
    "collapsed": false,
    "pycharm": {
     "name": "#%%\n"
    }
   }
  },
  {
   "cell_type": "code",
   "execution_count": 13,
   "outputs": [],
   "source": [],
   "metadata": {
    "collapsed": false,
    "pycharm": {
     "name": "#%%\n"
    }
   }
  },
  {
   "cell_type": "code",
   "execution_count": 13,
   "outputs": [],
   "source": [],
   "metadata": {
    "collapsed": false,
    "pycharm": {
     "name": "#%%\n"
    }
   }
  },
  {
   "cell_type": "code",
   "execution_count": 13,
   "outputs": [],
   "source": [],
   "metadata": {
    "collapsed": false,
    "pycharm": {
     "name": "#%%\n"
    }
   }
  },
  {
   "cell_type": "code",
   "execution_count": 13,
   "outputs": [],
   "source": [],
   "metadata": {
    "collapsed": false,
    "pycharm": {
     "name": "#%%\n"
    }
   }
  },
  {
   "cell_type": "code",
   "execution_count": 13,
   "outputs": [],
   "source": [],
   "metadata": {
    "collapsed": false,
    "pycharm": {
     "name": "#%%\n"
    }
   }
  },
  {
   "cell_type": "code",
   "execution_count": 13,
   "outputs": [],
   "source": [],
   "metadata": {
    "collapsed": false,
    "pycharm": {
     "name": "#%%\n"
    }
   }
  },
  {
   "cell_type": "code",
   "execution_count": 13,
   "outputs": [],
   "source": [],
   "metadata": {
    "collapsed": false,
    "pycharm": {
     "name": "#%%\n"
    }
   }
  },
  {
   "cell_type": "code",
   "execution_count": 13,
   "outputs": [],
   "source": [],
   "metadata": {
    "collapsed": false,
    "pycharm": {
     "name": "#%%\n"
    }
   }
  },
  {
   "cell_type": "code",
   "execution_count": 13,
   "outputs": [],
   "source": [],
   "metadata": {
    "collapsed": false,
    "pycharm": {
     "name": "#%%\n"
    }
   }
  },
  {
   "cell_type": "code",
   "execution_count": 13,
   "outputs": [],
   "source": [],
   "metadata": {
    "collapsed": false,
    "pycharm": {
     "name": "#%%\n"
    }
   }
  },
  {
   "cell_type": "code",
   "execution_count": 13,
   "outputs": [],
   "source": [],
   "metadata": {
    "collapsed": false,
    "pycharm": {
     "name": "#%%\n"
    }
   }
  },
  {
   "cell_type": "code",
   "execution_count": 13,
   "outputs": [],
   "source": [],
   "metadata": {
    "collapsed": false,
    "pycharm": {
     "name": "#%%\n"
    }
   }
  },
  {
   "cell_type": "code",
   "execution_count": 13,
   "outputs": [],
   "source": [],
   "metadata": {
    "collapsed": false,
    "pycharm": {
     "name": "#%%\n"
    }
   }
  },
  {
   "cell_type": "code",
   "execution_count": 13,
   "outputs": [],
   "source": [],
   "metadata": {
    "collapsed": false,
    "pycharm": {
     "name": "#%%\n"
    }
   }
  },
  {
   "cell_type": "code",
   "execution_count": 13,
   "outputs": [],
   "source": [],
   "metadata": {
    "collapsed": false,
    "pycharm": {
     "name": "#%%\n"
    }
   }
  },
  {
   "cell_type": "code",
   "execution_count": 13,
   "outputs": [],
   "source": [],
   "metadata": {
    "collapsed": false,
    "pycharm": {
     "name": "#%%\n"
    }
   }
  },
  {
   "cell_type": "code",
   "execution_count": 13,
   "outputs": [],
   "source": [],
   "metadata": {
    "collapsed": false,
    "pycharm": {
     "name": "#%%\n"
    }
   }
  },
  {
   "cell_type": "code",
   "execution_count": 13,
   "outputs": [],
   "source": [],
   "metadata": {
    "collapsed": false,
    "pycharm": {
     "name": "#%%\n"
    }
   }
  },
  {
   "cell_type": "code",
   "execution_count": 13,
   "outputs": [],
   "source": [],
   "metadata": {
    "collapsed": false,
    "pycharm": {
     "name": "#%%\n"
    }
   }
  },
  {
   "cell_type": "code",
   "execution_count": 13,
   "outputs": [],
   "source": [],
   "metadata": {
    "collapsed": false,
    "pycharm": {
     "name": "#%%\n"
    }
   }
  },
  {
   "cell_type": "code",
   "execution_count": 13,
   "outputs": [],
   "source": [],
   "metadata": {
    "collapsed": false,
    "pycharm": {
     "name": "#%%\n"
    }
   }
  },
  {
   "cell_type": "code",
   "execution_count": 13,
   "outputs": [],
   "source": [],
   "metadata": {
    "collapsed": false,
    "pycharm": {
     "name": "#%%\n"
    }
   }
  },
  {
   "cell_type": "code",
   "execution_count": 13,
   "outputs": [],
   "source": [],
   "metadata": {
    "collapsed": false,
    "pycharm": {
     "name": "#%%\n"
    }
   }
  },
  {
   "cell_type": "code",
   "execution_count": 13,
   "outputs": [],
   "source": [],
   "metadata": {
    "collapsed": false,
    "pycharm": {
     "name": "#%%\n"
    }
   }
  },
  {
   "cell_type": "code",
   "execution_count": 13,
   "outputs": [],
   "source": [],
   "metadata": {
    "collapsed": false,
    "pycharm": {
     "name": "#%%\n"
    }
   }
  },
  {
   "cell_type": "code",
   "execution_count": 13,
   "outputs": [],
   "source": [],
   "metadata": {
    "collapsed": false,
    "pycharm": {
     "name": "#%%\n"
    }
   }
  },
  {
   "cell_type": "code",
   "execution_count": 13,
   "outputs": [],
   "source": [],
   "metadata": {
    "collapsed": false,
    "pycharm": {
     "name": "#%%\n"
    }
   }
  },
  {
   "cell_type": "code",
   "execution_count": 13,
   "outputs": [],
   "source": [],
   "metadata": {
    "collapsed": false,
    "pycharm": {
     "name": "#%%\n"
    }
   }
  },
  {
   "cell_type": "code",
   "execution_count": 13,
   "outputs": [],
   "source": [],
   "metadata": {
    "collapsed": false,
    "pycharm": {
     "name": "#%%\n"
    }
   }
  },
  {
   "cell_type": "code",
   "execution_count": 13,
   "outputs": [],
   "source": [],
   "metadata": {
    "collapsed": false,
    "pycharm": {
     "name": "#%%\n"
    }
   }
  },
  {
   "cell_type": "code",
   "execution_count": 13,
   "outputs": [],
   "source": [],
   "metadata": {
    "collapsed": false,
    "pycharm": {
     "name": "#%%\n"
    }
   }
  },
  {
   "cell_type": "code",
   "execution_count": null,
   "outputs": [],
   "source": [],
   "metadata": {
    "collapsed": false,
    "pycharm": {
     "name": "#%%\n"
    }
   }
  }
 ],
 "metadata": {
  "kernelspec": {
   "display_name": "Python 3",
   "language": "python",
   "name": "python3"
  },
  "language_info": {
   "codemirror_mode": {
    "name": "ipython",
    "version": 2
   },
   "file_extension": ".py",
   "mimetype": "text/x-python",
   "name": "python",
   "nbconvert_exporter": "python",
   "pygments_lexer": "ipython2",
   "version": "2.7.6"
  }
 },
 "nbformat": 4,
 "nbformat_minor": 0
}